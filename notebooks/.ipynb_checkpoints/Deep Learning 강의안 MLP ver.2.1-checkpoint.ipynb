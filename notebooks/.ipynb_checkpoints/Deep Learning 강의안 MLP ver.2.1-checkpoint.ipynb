{
 "cells": [
  {
   "cell_type": "markdown",
   "metadata": {},
   "source": [
    "# Analysis 과정 - Deep Learning"
   ]
  },
  {
   "cell_type": "markdown",
   "metadata": {},
   "source": [
    "## 강의 개요\n",
    "\n",
    "\n",
    "* <font size='4'>왜 딥러닝인가?</font>  \n",
    "  - 통계, 머신러닝, 딥러닝의 차이\n",
    "  - 딥러닝으로 풀 수 있는 문제\n",
    "\n",
    "\n",
    "* <font size='4'>딥러닝의 원리</font>\n",
    "  - 학습이란?\n",
    "  - 어떻게 데이터를 학습하는가\n",
    "\n",
    "\n",
    "* <font size='4'>딥러닝의 구조</font>\n",
    "  - <b>입력 $\\rightarrow$ 모델 $\\rightarrow$ 출력</b>\n",
    "  - <b>Layer</b> : 모델의 구성단위\n",
    "  - <b>Activation</b> : 비선형 모델로 가는 길\n",
    "  - <b>Bias</b> : 영점조절\n",
    "\n",
    "\n",
    "\n",
    "* <font size='4'>학습으로 돌아와서</font>\n",
    "  - <b>Train Set</b> : 기출 문제은행\n",
    "  - <b>Batch</b> : 모의고사\n",
    "  - <b>Epoch</b> : 1회독\n",
    "  - <b>Step</b> : 모의고사 응시횟수\n",
    "  - <b>Loss</b> : 시험점수\n",
    "  - <b>Gradient</b> : 공부방향\n",
    "  - <b>Optimization</b> : 공부방법\n",
    "  - <b>Backpropagation</b> : 오답노트, 복습\n",
    "\n",
    "\n",
    "* <font size='4'>모델 평가</font>\n",
    "  - <b>Accuracy</b> : 문제은행\n",
    "  - <b>Batch</b> : 모의고사\n",
    "  - <b>Epoch</b> : 1회독\n",
    "  - <b>Step</b> : 모의고사 응시횟수\n",
    "\n",
    "\n",
    "* <font size='4'>딥러닝의 발전</font>\n",
    "  - <font size='3'><b>MLP</b></font> : 다 엮어보자! 죄다 연결된 신경망 (Fully Connected), 빡빡한 신경망 (Dense)\n",
    "  - <font size='3'><b>CNN</b></font> : Image를 부분으로 쪼개서 조금씩 보자!\n",
    "  - <font size='3'><b>RNN</b></font> : Data 순서에 의미가 있다면? 과거를 기억하자  \n",
    "    - <font size='2'><b>Advanced RNN</b></font> : 기억력 향상  \n"
   ]
  },
  {
   "cell_type": "markdown",
   "metadata": {},
   "source": [
    "### 강의 진행 과정\n",
    "\n",
    "* 기본\n",
    "  1. 실습 진행 ( Code Review & 작성 )\n",
    "    - `keras`\n",
    "  2. 개념 설명\n",
    "  3. 개념 이해 ( Code Review )\n",
    "    - `numpy`\n",
    "\n",
    "\n",
    "* 심화\n",
    "  1. 개념 반복\n",
    "  1. 실습 진행\n",
    "    - `tensorflow`\n"
   ]
  },
  {
   "cell_type": "markdown",
   "metadata": {},
   "source": [
    "---\n",
    "## 딥러닝 개요"
   ]
  },
  {
   "cell_type": "markdown",
   "metadata": {},
   "source": [
    "### 왜 딥러닝인가?\n",
    "\n",
    "<br>\n",
    "<font size='5'><center><i>\"기계학습, 사람이 판단하기 힘든 규칙들을 데이터 양으로 극복해 보자!\"</i></center></font>\n",
    "<br>\n",
    "\n",
    "---\n",
    "* <font size='3'>통계 기반 방법론</font>  \n",
    "  - 원리: 모수기반 접근법으로 데이터를 정규분포 또는 기타 검증된 특징을 갖는 분포로 설명.  \n",
    "  (대수의 법칙에 기반한 정규분포 가정, 중심극한정리를 기반한 표본평균의 정규분포 근사 가정 등)  \n",
    "  - 목적: 모형의 복잡성 보다는 단순성, 설명가능성에 무게를 두고 표본추출 과정에서의 가설검정이 주 목적.  \n",
    "  - 평가: p-value 등의 지표로 귀무가설 기각 여부로 평가.\n",
    "  <br>\n",
    "  <img src=\"images/normal_dist_example.png\" >\n",
    "\n",
    "\n",
    "---\n",
    "* <font size='3'>M/L 기반 방법론</font>  \n",
    "  - 원리: 선형근사와 정규분포 가정을 기반으로 데이터를 잘 설명하는 선형방정식을 만들어 새로운 Input에 대응하는 결과를 예측.\n",
    "  - 학습: OLS, GLS 등 최소제곱합 또는 최대가능도추정, 분산감소기법 등의 다소 학습이 빠른 기법들이 사용.\n",
    "  - 목적: 변수를 최대한 활용하여 다소 복잡하고 설명력이 떨어지더라도 좋은 예측력을 갖는 모델을 지향하며, 경우에 따라 주요 원인변수 선별도 가능.\n",
    "  - 평가: 오차의 크기, 정확도(Accuracy) 및 Precision/Recall 등 예측결과에 대한 지표들이 주로 사용.\n",
    "  <br>\n",
    "  <img src=\"images/regression_example.png\" style=\"width=100%;height=60%;\" >\n",
    "\n",
    "\n",
    "---\n",
    "* <font size='3'>D/L 기반 방법론</font>  \n",
    "  - 원리: 비선형모델을 기반으로 데이터를 잘 설명하는 고차원의 방정식을 만들거나 데이터 자체의 분포를 학습하여 새로운 Input에 대응하는 결과를 예측.\n",
    "  - 학습: 고차원 학습방법 중 Gradient Descent 기반의 귀납적 방법론을 사용.\n",
    "  - 목적: 높은 예측력을 갖는 모델을 목표로, 선형근사로는 설명하기 힘든 비정형 데이터 또는 복잡한 데이터 간의 관계 설명.\n",
    "  - 평가: 오차의 크기, 정확도(Accuracy) 및 Precision/Recall 등 예측결과에 대한 지표들이 주로 사용.\n",
    "  <br>\n",
    "  <img src=\"images/dl_prediction_example.png\" style=\"width=100%;height=60%;\" >\n",
    "\n",
    "<br>\n",
    "딥러닝은 사실 나온 지 30년이 넘었다.  \n",
    "왜 다시 딥러닝이 각광받는 것일까?\n",
    "\n",
    "<div class=\"alert alert-block alert-info\"  markdown=\"1\">\n",
    "<b>$\\divideontimes$ 딥러닝의 재조명: </b> \n",
    "<br>\n",
    "<br>\n",
    "\n",
    "&nbsp;<font size='3'><b><i>$\\cdot$ 과적합 문제 해결</i></b></font>  \n",
    "&nbsp;  &nbsp;  - Relu 등 Vanishing Gradient 문제를 커버하는 알고리즘과 효율적인 Optimizer의 등장으로 학습 성능 증가  \n",
    "&nbsp;  &nbsp; - Dropout 등 효율적인 과적합 방지 기법이 등장하며 기존 모델의 한계 극복  \n",
    "<br>\n",
    "\n",
    "<font size='3'><b><i>$\\cdot$ 하드웨어의 발전</i></b></font>  \n",
    "&nbsp;  &nbsp; - 딥러닝 알고리즘의 높은 연산 부하를 커버하는 Computing Power의 증대와 GPU를 활용한 병렬 연산 아키텍처 등장  \n",
    "<br>\n",
    "\n",
    "<font size='3'><b><i>$\\cdot$ 빅데이터 시대의 도래</i></b></font>  \n",
    "&nbsp;  &nbsp; - 기존 정형 데이터 규모의 확대 + 음성, 이미지, 텍스트 등 비정형 데이터 처리 기술의 발전  \n",
    "\n",
    "</center>\n",
    "<br>\n",
    "</div>"
   ]
  },
  {
   "cell_type": "markdown",
   "metadata": {},
   "source": [
    "### 딥러닝의 원리\n",
    "\n",
    "<br>\n",
    "우리가 무언가 배울 때를 상상해 보자.\n",
    "\n",
    "> * 첫 주식투자 -> 실패 -> 상상과 현실의 차이 확인   \n",
    "> * 뉴스를 보면서 매매 노하우 학습 -> 실패  \n",
    "> * 캔들차트도 보고, 추세선도 보면서 나름의 매매 노하우 업데이트 -> 실패  \n",
    "> * 재무제표 확인하며 회사의 가치를 매매 노하우에 반영 -> 실패\n",
    ">   ...  \n",
    "> * 점차 차이를 좁혀 나간다...\n",
    "\n",
    "$$y = f(x)$$\n",
    "<br>\n",
    "딥러닝도 기본 원리는 이 방식과 유사하다.  \n",
    "`Input`에 해당하는 $X$를 계산해서 나오는 예상 $\\hat Y$와 진짜 정답 $Y$를 비교해서, 조금씩 차이를 줄여나가게 된다.  \n",
    "다양한 Case를 경험할 수록 예상이 빗나갈 확률도 낮아진다.  \n",
    "<br>\n",
    "<font size='3'>딥러닝이란, <font color='#318CE7'> *__과거 패턴 속 규칙을 찾아 미래를 예측하는 방법이다.__*</font></font>\n",
    "\n",
    "<div class=\"alert alert-block alert-warning\">\n",
    "<b>$\\divideontimes$ 딥러닝의 원리: </b> 수많은 Case에서 규칙성을 발견하고 학습한다.\n",
    "<br>\n",
    "$\\space$\n",
    "$\\space$\n",
    "<font size='5'><center>$\\hat y = f(x)$ 일 때,</center>\n",
    "\n",
    "<center> $Real \\space y와 \\space 유사한 \\space \\hat y$를 찾는 것.</center></font>\n",
    "<br>\n",
    "</div>  \n"
   ]
  },
  {
   "cell_type": "markdown",
   "metadata": {},
   "source": [
    "### 딥러닝의 구조\n",
    "\n",
    "<br>\n",
    "<font size='5'><center><b><i>\"Layer라는 함수를 여러 개 쌓은(이어붙인) 형태\"</i></b></center></font>\n",
    "<br>\n",
    "\n",
    "\n",
    "<img src=\"images/dl_basic_structure.png\" style=\"width=100%;height=60%;\" >\n",
    "\n",
    "<div class=\"alert alert-block alert-warning\">\n",
    "<b>$\\divideontimes$ 딥러닝의 구조: </b> 여러 겹의 Layer로 구성된 Function과 같은 구조\n",
    "<br>\n",
    "$\\space$\n",
    "$\\space$\n",
    "<font size='4'><center><b>Input $\\rightarrow$ Layer(s) $\\rightarrow$ Output</b></center></font>\n",
    "\n",
    "<br>\n",
    "</div>  "
   ]
  },
  {
   "cell_type": "markdown",
   "metadata": {},
   "source": [
    "### 딥러닝의 학습\n",
    "\n",
    "<br>\n",
    "<font size='5'><center><b><i>\"반복학습을 통한 문제유형 익히기\"</i></b></center></font>\n",
    "\n",
    "> 1. 문제은행에서 문제를 골라서\n",
    "> 2. 나름의 방법으로 문제를 풀고\n",
    "> 3. 정답과 맞춰 보고\n",
    "> 4. 오답을 정리해서\n",
    "> 5. 다시 문제를 풀고...\n",
    "\n",
    "<img src=\"images/dl_training_process.png\" >\n",
    "\n",
    "<div class=\"alert alert-block alert-warning\">\n",
    "<b>$\\divideontimes$ 딥러닝의 학습 프로세스: </b> \n",
    "<br>\n",
    "$\\space$\n",
    "$\\space$\n",
    "<font size='4'><center><b>Training Data를 반복적으로 학습하면서 모델 가중치를 Update</b></center></font>\n",
    "\n",
    "<br>\n",
    "</div>  "
   ]
  },
  {
   "cell_type": "markdown",
   "metadata": {},
   "source": [
    "### 딥러닝의 평가\n",
    "\n",
    "<br>\n",
    "<font size='5'><center><b><i>\"시험 평균으로 성적 매기기\"</i></b></center></font>\n",
    "\n",
    "> 1. 정해진 횟수만큼 시험을 치르고\n",
    "> 2. 정답과 맞춰 보고\n",
    "> 3. 평균을 내서 최종 점수로 판정\n",
    "\n",
    "<img src=\"images/dl_testing_process.png\" >\n",
    "\n",
    "<div class=\"alert alert-block alert-warning\">\n",
    "<b>$\\divideontimes$ 딥러닝의 평가 프로세스: </b> \n",
    "<br>\n",
    "$\\space$\n",
    "$\\space$\n",
    "<font size='4'><center><b>Test Data의 예측 결과를 평균하여 성능 판정</b></center></font>\n",
    "\n",
    "<br>\n",
    "</div>  "
   ]
  },
  {
   "cell_type": "markdown",
   "metadata": {},
   "source": [
    "## Input"
   ]
  },
  {
   "cell_type": "code",
   "execution_count": null,
   "metadata": {
    "ExecuteTime": {
     "end_time": "2018-12-10T02:36:54.506476Z",
     "start_time": "2018-12-10T02:36:52.434850Z"
    }
   },
   "outputs": [],
   "source": [
    "import numpy as np\n",
    "import pandas as pd\n",
    "from pprint import pprint\n",
    "from unipy import aprint, lprint\n",
    "\n",
    "import matplotlib.pyplot as plt\n",
    "\n",
    "import importlib\n",
    "from src import examples\n",
    "from src.utils import lprint, qprint, keras_lossplot, keras_predict_plot\n",
    "from src.layers import sigmoid\n",
    "\n",
    "importlib.reload(examples)\n",
    "\n",
    "\n",
    "from src.load_data import column_range_scaler, load_data"
   ]
  },
  {
   "cell_type": "markdown",
   "metadata": {},
   "source": [
    "### Loading"
   ]
  },
  {
   "cell_type": "code",
   "execution_count": null,
   "metadata": {
    "ExecuteTime": {
     "end_time": "2018-12-10T02:36:54.564606Z",
     "start_time": "2018-12-10T02:36:54.510178Z"
    }
   },
   "outputs": [],
   "source": [
    "rawdata = pd.read_csv(\n",
    "    'data/data_10min.csv',\n",
    "    parse_dates=['EVT_DTM'],\n",
    "    dtype={\n",
    "        'VEND_ID': 'str',\n",
    "        'ENB_ID': 'str',\n",
    "        'CELL_ID': 'str',\n",
    "        'FREQ_TYP_CD': 'str',\n",
    "    }\n",
    ")\n",
    "\n",
    "kpi_list = ['CQI', 'UE_TX_POWER', 'DL_PRB_USAGE_RATE']\n",
    "\n",
    "rawdata.head(20)"
   ]
  },
  {
   "cell_type": "code",
   "execution_count": null,
   "metadata": {
    "ExecuteTime": {
     "end_time": "2018-12-10T02:36:55.290391Z",
     "start_time": "2018-12-10T02:36:54.567085Z"
    }
   },
   "outputs": [],
   "source": [
    "print(rawdata['CQI'][:500].plot(figsize=(20, 8)))"
   ]
  },
  {
   "cell_type": "code",
   "execution_count": null,
   "metadata": {
    "ExecuteTime": {
     "end_time": "2018-12-10T02:36:56.043649Z",
     "start_time": "2018-12-10T02:36:55.294710Z"
    }
   },
   "outputs": [],
   "source": [
    "print(rawdata[kpi_list][:500].plot(figsize=(20, 8)))"
   ]
  },
  {
   "cell_type": "markdown",
   "metadata": {},
   "source": [
    "### Scaling"
   ]
  },
  {
   "cell_type": "code",
   "execution_count": null,
   "metadata": {
    "ExecuteTime": {
     "end_time": "2018-12-10T02:36:56.061209Z",
     "start_time": "2018-12-10T02:36:56.048242Z"
    }
   },
   "outputs": [],
   "source": [
    "kpi_range_dict = {\n",
    "    'CQI': [0, 15],\n",
    "    'UE_TX_POWER': [-17, 23],\n",
    "    'DL_PRB_USAGE_RATE': [0, 100],\n",
    "}\n",
    "\n",
    "data_scaled, scaler_dict = column_range_scaler(\n",
    "    rawdata[kpi_list],\n",
    "    vendor_name='SS',\n",
    "    col_real_range_dict=kpi_range_dict,\n",
    "    feature_range=(0., 1.),\n",
    ")"
   ]
  },
  {
   "cell_type": "code",
   "execution_count": null,
   "metadata": {
    "ExecuteTime": {
     "end_time": "2018-12-10T02:36:56.827183Z",
     "start_time": "2018-12-10T02:36:56.063787Z"
    }
   },
   "outputs": [],
   "source": [
    "print(data_scaled[:500].plot(figsize=(20, 8)))"
   ]
  },
  {
   "cell_type": "code",
   "execution_count": null,
   "metadata": {
    "ExecuteTime": {
     "end_time": "2018-12-10T02:36:56.843838Z",
     "start_time": "2018-12-10T02:36:56.829899Z"
    }
   },
   "outputs": [],
   "source": [
    "data_scaled.head()"
   ]
  },
  {
   "cell_type": "markdown",
   "metadata": {},
   "source": [
    "### Sliding Window (`MLP`)"
   ]
  },
  {
   "cell_type": "markdown",
   "metadata": {},
   "source": [
    "우선 무슨 데이터를 어떻게 예측할 것인지 정해야 한다.\n",
    "\n",
    "`X`와 `Y`를 어떻게 정하면 좋을까?\n",
    "우리가 가진 데이터는 `Time` 축과, `KPI` 축이 있다.\n",
    "\n",
    "\n",
    "| Case | 기준 | `Time`수 | `KPI`수 | 내용 |\n",
    "| :--: | :------: | :------: | :----: | :-- |\n",
    "| 1 | Row | Multi | 1 | 여러 시점의 KPI로 다음 KPI 예측하기 (1 KPI) |\n",
    "| 2 | Column | 1 | Multi | 한 시점에 대한 KPI 여러 개로 다음 KPI 예측하기 |\n",
    "| 3 | Row & Column | Multi | Multi | 여러 시점의 KPI로 다음 KPI 예측하기 (3 KPI) |\n",
    "\n",
    "\n",
    "일단, 축별로 기준을 잡아 보자.\n",
    "\n",
    "\n",
    "<br>\n",
    "<font size='4'> <b> $\\cdot$ Case 1:</b> 여러 시점의 KPI로 다음 KPI 예측하기 (1 KPI)</font>\n",
    "<br>\n",
    "<br>\n",
    "<img src=\"images/mlp/mlp_graphset01.png\">\n",
    "\n",
    "\n",
    "<br>\n",
    "<font size='4'> <b> $\\cdot$ Case 2:</b> 한 시점의 KPI 여러 개로 다음 KPI 예측하기</font>\n",
    "<br>\n",
    "<br>\n",
    "<img src=\"images/mlp/mlp_graphset02.png\">\n",
    "\n",
    "<br>\n",
    "<br>\n",
    "이 중 Case 2에 대해 실습한다. (Case 1을 적용하는 경우, Case 2를 축만 바꾸면 쉽게 응용할 수 있다.)\n",
    "<br>\n",
    "\n",
    "<br>\n",
    "<font size='4'> <b> $\\cdot$ 데이터 구조</b></font>\n",
    "<br>\n",
    "\n",
    "<img src=\"images/sliding_windows_mlp.png\" >\n",
    "<img src=\"images/sliding_windows_mlp_reshaping.png\" >\n",
    "\n",
    "[Link to MLP Model](#(실습)-MLP-in-keras)"
   ]
  },
  {
   "cell_type": "markdown",
   "metadata": {},
   "source": [
    "#### Exercise 1 : Basic"
   ]
  },
  {
   "cell_type": "code",
   "execution_count": null,
   "metadata": {
    "ExecuteTime": {
     "end_time": "2018-12-10T02:36:56.851781Z",
     "start_time": "2018-12-10T02:36:56.846786Z"
    }
   },
   "outputs": [],
   "source": [
    "from ipywidgets import interact, interactive, fixed, interact_manual, interactive_output\n",
    "import ipywidgets as widgets\n",
    "from IPython.display import display\n",
    "from pprint import pprint"
   ]
  },
  {
   "cell_type": "code",
   "execution_count": null,
   "metadata": {
    "ExecuteTime": {
     "end_time": "2018-12-10T02:36:56.927415Z",
     "start_time": "2018-12-10T02:36:56.854416Z"
    }
   },
   "outputs": [],
   "source": [
    "#==== Essential ========================================================#\n",
    "\n",
    "case_x_list = []\n",
    "case_y_list = []\n",
    "for i in range(5):\n",
    "    case_x_list += [data_scaled.iloc[i:i+1, :3]]\n",
    "    case_y_list += [data_scaled.iloc[i+1:i+2, :2]]\n",
    "\n",
    "#=======================================================================#\n",
    "\n",
    "\n",
    "print('\\nX', '=' * 45)\n",
    "pprint(case_x_list)\n",
    "print('\\nY', '=' * 45)\n",
    "pprint(case_y_list)"
   ]
  },
  {
   "cell_type": "markdown",
   "metadata": {},
   "source": [
    "#### Exercise 2 : Sliding Window"
   ]
  },
  {
   "cell_type": "code",
   "execution_count": null,
   "metadata": {
    "ExecuteTime": {
     "end_time": "2018-12-10T02:36:57.013256Z",
     "start_time": "2018-12-10T02:36:56.930103Z"
    }
   },
   "outputs": [],
   "source": [
    "@interact(\n",
    "    case_num=widgets.IntSlider(min=1, max=10, step=1, value=2),\n",
    "    kpi_num=widgets.IntSlider(min=1, max=3, step=1, value=3),\n",
    ")\n",
    "def shape_print(case_num, kpi_num):\n",
    "\n",
    "    data_cnt = case_num\n",
    "    input_dim = kpi_num\n",
    "\n",
    "    print(\n",
    "        '=' * 40 +\n",
    "        '\\n (data_cnt, input_dim)  ' +\n",
    "        ':' +\n",
    "        f'  ({data_cnt}, {input_dim})\\n' +\n",
    "        '=' * 40 + \n",
    "        '\\n',\n",
    "    )\n",
    "\n",
    "    \n",
    "    #==== Essential ========================================================#\n",
    "    \n",
    "    case_list = []\n",
    "    for i in range(data_cnt):\n",
    "        case_list += [(\n",
    "            'X ' +  '=' * 40,\n",
    "            data_scaled.iloc[i:i+1, :input_dim],\n",
    "        )]\n",
    "\n",
    "    #=======================================================================#\n",
    "\n",
    "    \n",
    "    pprint(case_list)"
   ]
  },
  {
   "cell_type": "markdown",
   "metadata": {},
   "source": [
    "#### Exercise 3 : Sliding Window `(X & Y)`"
   ]
  },
  {
   "cell_type": "code",
   "execution_count": null,
   "metadata": {
    "ExecuteTime": {
     "end_time": "2018-12-10T02:36:57.182737Z",
     "start_time": "2018-12-10T02:36:57.015572Z"
    }
   },
   "outputs": [],
   "source": [
    "@interact(\n",
    "    case_num=widgets.IntSlider(min=1, max=10, step=1, value=5),\n",
    "    x_kpi_num=widgets.IntSlider(min=1, max=3, step=1, value=3),\n",
    "    y_kpi_num=widgets.IntSlider(min=1, max=3, step=1, value=2),\n",
    ")\n",
    "def shape_print(case_num, x_kpi_num, y_kpi_num):\n",
    "\n",
    "    data_cnt = case_num\n",
    "    input_dim = x_kpi_num\n",
    "    output_dim = y_kpi_num\n",
    "\n",
    "    print(\n",
    "        '=' * 45 +\n",
    "        '\\n [X]: (data_cnt, input_dim )  ' +\n",
    "        ':' +\n",
    "        f'  ({data_cnt}, {input_dim})' +\n",
    "        '\\n [Y]: (data_cnt, output_dim)  ' +\n",
    "        ':' +\n",
    "        f'  ({data_cnt}, {output_dim})\\n' +\n",
    "        '=' * 45 + \n",
    "        '\\n',\n",
    "    )\n",
    "    \n",
    "    \n",
    "    #==== Essential ========================================================#\n",
    "\n",
    "    case_list = []\n",
    "    for i in range(data_cnt):\n",
    "        case_list += [(\n",
    "            'X ' +  '=' * 40,\n",
    "            data_scaled.iloc[i:i+1, :input_dim],\n",
    "            'Y ' +  '-' * 40,\n",
    "            data_scaled.iloc[i+1:i+2, :output_dim],\n",
    "        )]\n",
    "    \n",
    "    #=======================================================================#\n",
    "    \n",
    " \n",
    "    pprint(case_list)"
   ]
  },
  {
   "cell_type": "code",
   "execution_count": null,
   "metadata": {
    "ExecuteTime": {
     "end_time": "2018-12-10T02:36:59.799822Z",
     "start_time": "2018-12-10T02:36:57.185146Z"
    }
   },
   "outputs": [],
   "source": [
    "def sliding_window_mlp(data, data_cnt, input_dim, output_dim):\n",
    "\n",
    "    case_x_list = []\n",
    "    case_y_list = []\n",
    "    \n",
    "    data_rownum = data.shape[0]\n",
    "    max_data_cnt = data_rownum - 1\n",
    "    \n",
    "    if data_cnt is None:\n",
    "        data_cnt = max_data_cnt\n",
    "    else:\n",
    "        data_cnt = min(data_cnt, max_data_cnt)\n",
    "    \n",
    "    \n",
    "    #==== Essential ========================================================#\n",
    "    \n",
    "    for i in range(data_cnt):\n",
    "        case_x_list += [data_scaled.iloc[i, :input_dim].values]\n",
    "        case_y_list += [data_scaled.iloc[i+1, :output_dim].values]\n",
    "\n",
    "    #=======================================================================#\n",
    "\n",
    "\n",
    "    print(\n",
    "        '=' * 45 +\n",
    "        '\\n [X]: (data_cnt, input_dim )  ' +\n",
    "        ':' +\n",
    "        f'  ({data_cnt}, {input_dim})' +\n",
    "        '\\n [Y]: (data_cnt, output_dim)  ' +\n",
    "        ':' +\n",
    "        f'  ({data_cnt}, {output_dim})\\n' +\n",
    "        '=' * 45 + \n",
    "        '\\n',\n",
    "    )\n",
    "        \n",
    "    return np.stack(case_x_list), np.stack(case_y_list)\n",
    "\n",
    "\n",
    "#==== Essential ========================================================#\n",
    "\n",
    "data_x_mlp, data_y_mlp = sliding_window_mlp(\n",
    "    data_scaled,\n",
    "    data_cnt=data_scaled.shape[0],\n",
    "    input_dim=3,\n",
    "    output_dim=2,\n",
    ")\n",
    "\n",
    "#=======================================================================#\n",
    "\n",
    "\n",
    "aprint(data_x_mlp[:5], data_y_mlp[:5], name_list=['data_x_mlp[:5]', 'data_y_mlp[:5]'])"
   ]
  },
  {
   "cell_type": "markdown",
   "metadata": {},
   "source": [
    "### Sliding Window (`RNN`)"
   ]
  },
  {
   "cell_type": "markdown",
   "metadata": {},
   "source": [
    "이번에는 `Time`축과 `KPI` 축을 모두 고려해 보자.\n",
    "\n",
    "<br>\n",
    "<font size='4'> <b> $\\cdot$ Case 3:</b> 여러 시점의 KPI로 다음 KPI 예측하기 (3 KPI)</font>\n",
    "<br>\n",
    "<br>\n",
    "\n",
    "<img src=\"images/rnn/rnn_graphset01.png\" >\n",
    "<br>\n",
    "\n",
    "<br>\n",
    "<font size='4'> <b> $\\cdot$ 데이터 구조</b></font>\n",
    "<br>\n",
    "\n",
    "<img src=\"images/sliding_windows_rnn.png\" >\n",
    "<img src=\"images/sliding_windows_rnn_reshaping.png\" >\n",
    "\n",
    "[Link to RNN Model](#(실습)-RNN-in-keras:-many-to-many)"
   ]
  },
  {
   "cell_type": "markdown",
   "metadata": {},
   "source": [
    "#### Exercise 1 : Basic"
   ]
  },
  {
   "cell_type": "code",
   "execution_count": null,
   "metadata": {
    "ExecuteTime": {
     "end_time": "2018-12-10T02:36:59.822868Z",
     "start_time": "2018-12-10T02:36:59.802746Z"
    },
    "scrolled": false
   },
   "outputs": [],
   "source": [
    "case_list = []\n",
    "for i in range(4):\n",
    "    case_list += [data_scaled[i:i+7]]\n",
    "\n",
    "case_list"
   ]
  },
  {
   "cell_type": "markdown",
   "metadata": {},
   "source": [
    "#### Exercise 2 : Sliding Window"
   ]
  },
  {
   "cell_type": "code",
   "execution_count": null,
   "metadata": {
    "ExecuteTime": {
     "end_time": "2018-12-10T02:36:59.831884Z",
     "start_time": "2018-12-10T02:36:59.825339Z"
    }
   },
   "outputs": [],
   "source": [
    "from ipywidgets import interact, interactive, fixed, interact_manual, interactive_output\n",
    "import ipywidgets as widgets\n",
    "from IPython.display import display\n",
    "from pprint import pprint"
   ]
  },
  {
   "cell_type": "code",
   "execution_count": null,
   "metadata": {
    "ExecuteTime": {
     "end_time": "2018-12-10T02:36:59.920901Z",
     "start_time": "2018-12-10T02:36:59.834363Z"
    }
   },
   "outputs": [],
   "source": [
    "@interact(\n",
    "    case_num=widgets.IntSlider(min=1, max=10, step=1, value=2),\n",
    "    window_size=widgets.IntSlider(min=2, max=10, step=1, value=7),\n",
    "    kpi_num=widgets.IntSlider(min=1, max=3, step=1, value=3),\n",
    ")\n",
    "def shape_print(case_num, window_size, kpi_num):\n",
    "\n",
    "    data_cnt = case_num\n",
    "    input_size = window_size\n",
    "    input_dim = kpi_num\n",
    "\n",
    "    print(\n",
    "        '=' * 51 +\n",
    "        '\\n (data_cnt, input_size, input_dim)  ' +\n",
    "        ':' +\n",
    "        f'  ({data_cnt}, {input_size}, {input_dim})\\n' +\n",
    "        '=' * 51 + \n",
    "        '\\n',\n",
    "    )\n",
    "\n",
    "    \n",
    "    #==== Essential ========================================================#\n",
    "\n",
    "    case_list = []\n",
    "    for i in range(data_cnt):\n",
    "        case_list += [(\n",
    "            'X ' +  '=' * 40,\n",
    "            data_scaled.iloc[i:i+input_size, :input_dim],\n",
    "        )]\n",
    "\n",
    "    #=======================================================================#\n",
    "\n",
    "\n",
    "    pprint(case_list)"
   ]
  },
  {
   "cell_type": "markdown",
   "metadata": {},
   "source": [
    "#### Exercise 3 : Sliding Window `(X & Y)`"
   ]
  },
  {
   "cell_type": "code",
   "execution_count": null,
   "metadata": {
    "ExecuteTime": {
     "end_time": "2018-12-10T02:37:00.053148Z",
     "start_time": "2018-12-10T02:36:59.923334Z"
    }
   },
   "outputs": [],
   "source": [
    "@interact(\n",
    "    case_num=widgets.IntSlider(min=1, max=10, step=1, value=2),\n",
    "    window_x=widgets.IntSlider(min=2, max=5, step=1, value=5),\n",
    "    window_y=widgets.IntSlider(min=1, max=5, step=1, value=2),\n",
    "    input_kpi_num=widgets.IntSlider(min=1, max=3, step=1, value=3),\n",
    "    output_kpi_num=widgets.IntSlider(min=1, max=3, step=1, value=3),\n",
    ")\n",
    "def shape_print(case_num, window_x, window_y, input_kpi_num, output_kpi_num):\n",
    "\n",
    "    data_cnt = case_num\n",
    "    input_size = window_x\n",
    "    output_size = window_y\n",
    "    window_size = input_size + output_size\n",
    "    input_dim = input_kpi_num\n",
    "    output_dim = output_kpi_num\n",
    "\n",
    "    print(\n",
    "        '=' * 60 +\n",
    "        '\\n [X]: (data_cnt, input_size,  input_dim )  ' +\n",
    "        ':' +\n",
    "        f'  ({data_cnt}, {input_size}, {input_dim})' +\n",
    "        '\\n [Y]: (data_cnt, output_size, output_dim)  ' +\n",
    "        ':' +\n",
    "        f'  ({data_cnt}, {output_size}, {output_dim})\\n' +\n",
    "        '=' * 60 + \n",
    "        '\\n',\n",
    "    )\n",
    "    \n",
    "    #==== Essential ========================================================#\n",
    "\n",
    "    case_list = []\n",
    "    for i in range(data_cnt):\n",
    "        case_list += [(\n",
    "            'X ' +  '=' * 40,\n",
    "            data_scaled.iloc[i:i+input_size, :input_dim],\n",
    "            'Y ' +  '-' * 40,\n",
    "            data_scaled.iloc[i+input_size:i+input_size+output_size, :output_dim],\n",
    "        )]\n",
    " \n",
    "    #=======================================================================#\n",
    "    \n",
    "\n",
    "    pprint(case_list)"
   ]
  },
  {
   "cell_type": "code",
   "execution_count": null,
   "metadata": {
    "ExecuteTime": {
     "end_time": "2018-12-10T02:37:03.301127Z",
     "start_time": "2018-12-10T02:37:00.055625Z"
    }
   },
   "outputs": [],
   "source": [
    "def sliding_window_rnn(data, data_cnt, input_size, output_size, input_dim, output_dim):\n",
    "\n",
    "    case_x_list = []\n",
    "    case_y_list = []\n",
    "    \n",
    "    data_rownum = data.shape[0]\n",
    "    max_data_cnt = data_rownum - (input_size + output_size) + 1\n",
    "    \n",
    "    if data_cnt is None:\n",
    "        data_cnt = max_data_cnt\n",
    "    else:\n",
    "        data_cnt = min(data_cnt, max_data_cnt)\n",
    "    \n",
    "    \n",
    "    #==== Essential ========================================================#\n",
    "    \n",
    "    for i in range(data_cnt):\n",
    "        case_x_list += [data_scaled.iloc[i:i+input_size, :input_dim].values]\n",
    "        case_y_list += [data_scaled.iloc[i+input_size:i+input_size+output_size, :output_dim].values]\n",
    "\n",
    "    #=======================================================================#\n",
    "\n",
    "\n",
    "    print(\n",
    "        '=' * 60 +\n",
    "        '\\n [X]: (data_cnt, input_size,  input_dim )  ' +\n",
    "        ':' +\n",
    "        f'  ({data_cnt}, {input_size}, {input_dim})' +\n",
    "        '\\n [Y]: (data_cnt, output_size, output_dim)  ' +\n",
    "        ':' +\n",
    "        f'  ({data_cnt}, {output_size}, {output_dim})\\n' +\n",
    "        '=' * 60 + \n",
    "        '\\n',\n",
    "    )\n",
    "        \n",
    "    return np.stack(case_x_list), np.stack(case_y_list)\n",
    "\n",
    "\n",
    "#==== Essential ========================================================#\n",
    "\n",
    "data_x_rnn, data_y_rnn = sliding_window_rnn(\n",
    "    data_scaled,\n",
    "    data_cnt=data_scaled.shape[0],\n",
    "    input_size=5,\n",
    "    output_size=2,\n",
    "    input_dim=3,\n",
    "    output_dim=2,\n",
    ")\n",
    "\n",
    "#=======================================================================#\n",
    "\n",
    "\n",
    "aprint(data_x_rnn[:5], data_y_rnn[:5], name_list=['data_x_rnn[:5]', 'data_y_rnn[:5]'])"
   ]
  },
  {
   "cell_type": "markdown",
   "metadata": {},
   "source": [
    "### Splitting data : Train & Test"
   ]
  },
  {
   "cell_type": "code",
   "execution_count": null,
   "metadata": {
    "ExecuteTime": {
     "end_time": "2018-12-10T02:37:03.313736Z",
     "start_time": "2018-12-10T02:37:03.308506Z"
    }
   },
   "outputs": [],
   "source": [
    "train_x_mlp, test_x_mlp = data_x_mlp[:4000], data_x_mlp[4000:]\n",
    "train_y_mlp, test_y_mlp = data_y_mlp[:4000], data_y_mlp[4000:]\n",
    "\n",
    "\n",
    "train_x_rnn, test_x_rnn = data_x_rnn[:4000], data_x_rnn[4000:]\n",
    "train_y_rnn, test_y_rnn = data_y_rnn[:4000], data_y_rnn[4000:]"
   ]
  },
  {
   "cell_type": "markdown",
   "metadata": {},
   "source": [
    "* Saving the data"
   ]
  },
  {
   "cell_type": "code",
   "execution_count": null,
   "metadata": {
    "ExecuteTime": {
     "end_time": "2018-12-10T02:37:03.339902Z",
     "start_time": "2018-12-10T02:37:03.320269Z"
    }
   },
   "outputs": [],
   "source": [
    "data_list = [\n",
    "    train_x_mlp,\n",
    "    train_y_mlp,\n",
    "    train_x_rnn,\n",
    "    train_y_rnn,\n",
    "    test_x_mlp,\n",
    "    test_y_mlp,\n",
    "    test_x_rnn,\n",
    "    test_y_rnn,\n",
    "]\n",
    "\n",
    "\n",
    "data_str_list = [\n",
    "    'train_x_mlp',\n",
    "    'train_y_mlp',\n",
    "    'train_x_rnn',\n",
    "    'train_y_rnn',\n",
    "    'test_x_mlp',\n",
    "    'test_y_mlp',\n",
    "    'test_x_rnn',\n",
    "    'test_y_rnn',\n",
    "]\n",
    "\n",
    "\n",
    "for _, __ in zip(data_list, data_str_list):\n",
    "    _tmp = _.astype(np.float32)\n",
    "    print(f'{__:10} : {_tmp.shape}')\n",
    "    np.save(f'data/{__}.npy', _tmp)"
   ]
  },
  {
   "cell_type": "markdown",
   "metadata": {},
   "source": [
    "* Loading the data"
   ]
  },
  {
   "cell_type": "code",
   "execution_count": null,
   "metadata": {
    "ExecuteTime": {
     "end_time": "2018-12-10T02:37:03.354717Z",
     "start_time": "2018-12-10T02:37:03.342335Z"
    }
   },
   "outputs": [],
   "source": [
    "data_dict = load_data()\n",
    "\n",
    "train_x_mlp = data_dict['train_x_mlp']\n",
    "train_y_mlp = data_dict['train_y_mlp']\n",
    "test_x_mlp = data_dict['test_x_mlp']\n",
    "test_y_mlp = data_dict['test_y_mlp']"
   ]
  },
  {
   "cell_type": "code",
   "execution_count": null,
   "metadata": {
    "ExecuteTime": {
     "end_time": "2018-12-10T02:37:03.361939Z",
     "start_time": "2018-12-10T02:37:03.357133Z"
    }
   },
   "outputs": [],
   "source": [
    "load_data"
   ]
  },
  {
   "cell_type": "markdown",
   "metadata": {},
   "source": [
    "## (실습) MLP in `keras`"
   ]
  },
  {
   "cell_type": "markdown",
   "metadata": {},
   "source": [
    "<br>\n",
    "<font size='4'> <b> $\\cdot$ Case 2:</b> 한 시점의 KPI 여러 개로 다음 KPI 예측하기</font>\n",
    "<br>\n",
    "<br>\n",
    "<img src=\"images/mlp/mlp_graphset02.png\">\n",
    "\n",
    "<br>\n",
    "<font size='4'> <b> $\\cdot$ 계산 흐름 : MLP</b></font>\n",
    "<img src='images/mlp/mlp_compute_flow.gif' width='100%'>\n",
    "\n",
    "<br>\n",
    "<font size='4'> <b> $\\cdot$ 코드 리뷰 : MLP</b></font>\n",
    "<br><img src=\"images/mlp/mlp_keras.png\" >\n",
    "\n",
    "[Link to MLP Input](#Sliding-Window-(MLP))"
   ]
  },
  {
   "cell_type": "markdown",
   "metadata": {},
   "source": [
    "<div class=\"alert alert-block alert-info\">\n",
    "<b>$\\divideontimes$ Unit_num 이란 : </b> \n",
    "\n",
    "딥러닝 Framework에서 흔히 볼 수 있는 `unit_num`은 `output_shape`를 말한다.\n",
    "\n",
    "\n",
    "뇌와 뉴런(뇌신경)을 생각해 보자.  \n",
    "우리가 영화를 볼 때, 뇌에서 어떤 뉴런은 영상 이미지를, 어떤 뉴런은 소리를 받아들인다.  \n",
    "하나의 화면은 수많은 뉴런들을 통해 각각의 결과를 내놓게 되고  \n",
    "최종적으로는 이 결과들을 종합하여 영화가 재미있는지 판단한다.  \n",
    "\n",
    "`unit_num`은 입력을 처리하는 뉴런의 개수이며  \n",
    "한 화면에 대해 뉴런의 개수만큼 결과가 나오는 것 처럼,  \n",
    "Input을 바라보는 `unit`의 개수만큼 Hidden Dimension의 크기도 커지게 된다.  \n",
    "\n",
    "\n",
    "<br>\n",
    "<br>\n",
    "<font size='5'><center><b><i>\"`unit_num`으로 다음 번 `Hidden Dimension`의 크기를 결정한다.\"</i></b></center></font>\n",
    "<br>\n",
    "<br>\n",
    "<br>\n",
    "$\\cdot$ <font size='3'>Input Dimension : $m = 3$</font><br>\n",
    "\n",
    "$\\cdot$ <font size='3'>Output Dimension : $l = 4$</font>  \n",
    "\n",
    "\n",
    "<font size='4'>\n",
    "\\begin{equation}\n",
    "\\begin{bmatrix} n\\times m \\end{bmatrix}\n",
    "\\overbrace{ \\begin{bmatrix} m\\times l \\end{bmatrix} }^{Layer} \n",
    "= \\begin{bmatrix} n\\times l \\end{bmatrix}\n",
    "\\end{equation}\n",
    "</font>\n",
    "\n",
    "$\\space$\n",
    "$\\space$\n",
    "\n",
    "<font size='4'>\n",
    "\\begin{equation}\n",
    "\\overbrace{\n",
    "\\left({\\begin{array}{cc}\n",
    "\\color{red}a & \\color{red}b & \\color{red}c \\\\\n",
    "\\color{red}d & \\color{red}e & \\color{red}f \n",
    "\\end{array}}\\right)\n",
    "}^{input \\_ dim \\space = \\space 3}\n",
    "\\overbrace{\n",
    "\\left( \\begin{array}{cc}\n",
    "    \\color{blue}  A & \\color{blue} D & \\color{blue} G & \\color{blue} J \\\\\n",
    "    \\color{blue} B & \\color{blue} E & \\color{blue} H & \\color{blue} K \\\\\n",
    "    \\color{blue} C & \\color{blue} F & \\color{blue} I & \\color{blue} L \\\\\n",
    "\\end{array} \\right) }^{unit \\_ num \\space = \\space 4}\n",
    "= \\overbrace{\n",
    "\\left(\\begin{array}{cc} \n",
    "    \\color{red}a \\color{blue}A + \\color{red}b \\color{blue}B + \\color{red}c \\color{blue}C & \n",
    "    \\color{red}a \\color{blue}D + \\color{red}b \\color{blue}E + \\color{red}c \\color{blue}F &\n",
    "    \\color{red}a \\color{blue}G + \\color{red}b \\color{blue}H + \\color{red}c \\color{blue}I &\n",
    "    \\color{red}a \\color{blue}J + \\color{red}b \\color{blue}K + \\color{red}c \\color{blue}L\n",
    "    \\\\\n",
    "    \\color{red}d \\color{blue}A + \\color{red}e \\color{blue}B + \\color{red}f \\color{blue}C & \n",
    "    \\color{red}d \\color{blue}D + \\color{red}e \\color{blue}E + \\color{red}f \\color{blue}F & \n",
    "    \\color{red}d \\color{blue}G + \\color{red}e \\color{blue}H + \\color{red}f \\color{blue}I &\n",
    "    \\color{red}d \\color{blue}J + \\color{red}e \\color{blue}K + \\color{red}f \\color{blue}L\n",
    "    \\\\\n",
    "\\end{array}\\right)\n",
    "}^{output \\_ dim \\space = \\space unit \\_ num \\space = \\space 4}\n",
    "\\end{equation}\n",
    "</font>\n",
    "\n",
    "</div>\n",
    "<br>"
   ]
  },
  {
   "cell_type": "code",
   "execution_count": null,
   "metadata": {
    "ExecuteTime": {
     "end_time": "2018-12-10T02:37:05.304487Z",
     "start_time": "2018-12-10T02:37:03.364349Z"
    }
   },
   "outputs": [],
   "source": [
    "import keras\n",
    "import keras.backend as K\n",
    "from keras import Model, Sequential\n",
    "from keras.layers import Input, Dense, SimpleRNN, LSTM, GRU, TimeDistributed"
   ]
  },
  {
   "cell_type": "markdown",
   "metadata": {},
   "source": [
    "### MLP Modeling"
   ]
  },
  {
   "cell_type": "code",
   "execution_count": null,
   "metadata": {
    "ExecuteTime": {
     "end_time": "2018-12-10T02:37:05.371584Z",
     "start_time": "2018-12-10T02:37:05.307224Z"
    }
   },
   "outputs": [],
   "source": [
    "input_layer = Input(shape=(3, ))\n",
    "layer1 = Dense(4, input_dim=3, activation='sigmoid')\n",
    "layer2 = Dense(2, input_dim=4, activation='sigmoid')\n",
    "\n",
    "hidden_layer1 = layer1(input_layer)\n",
    "output_layer = layer2(hidden_layer1)\n",
    "\n",
    "model = Model(inputs=[input_layer], outputs=[output_layer])\n",
    "\n",
    "model.summary()"
   ]
  },
  {
   "cell_type": "markdown",
   "metadata": {},
   "source": [
    "### MLP Building\n",
    "\n",
    "* `optimizer` : 복습 노하우\n",
    "* `loss` : 모의고사 때 사용할 점수계산법 (`총점`, `평균`)\n",
    "* `metrics` : 실전에서 사용할 점수계산법 (`1 ~ 7등급`, `A ~ F`, `수우미양가`)"
   ]
  },
  {
   "cell_type": "code",
   "execution_count": null,
   "metadata": {
    "ExecuteTime": {
     "end_time": "2018-12-10T02:37:05.423972Z",
     "start_time": "2018-12-10T02:37:05.374180Z"
    }
   },
   "outputs": [],
   "source": [
    "model.compile(optimizer='adam', loss='mean_squared_error', metrics=['mae'])"
   ]
  },
  {
   "cell_type": "markdown",
   "metadata": {},
   "source": [
    "### MLP Training"
   ]
  },
  {
   "cell_type": "markdown",
   "metadata": {
    "ExecuteTime": {
     "end_time": "2018-11-27T11:58:30.226603Z",
     "start_time": "2018-11-27T11:58:30.189094Z"
    },
    "scrolled": false
   },
   "source": [
    "<div class=\"alert alert-block alert-success\">\n",
    "<b>Q.</b> 모델을 학습시켜 보자.\n",
    "<n>\n",
    "\n",
    "<b><i>`batch_size`</i></b>와 <b><i>`epoch`</i></b>를 조절해 보고,\n",
    "`loss` 값이 줄어들고 있는 지 Plot으로 확인해 보자.\n",
    "</div>"
   ]
  },
  {
   "cell_type": "code",
   "execution_count": null,
   "metadata": {
    "ExecuteTime": {
     "end_time": "2018-12-10T02:37:07.371977Z",
     "start_time": "2018-12-10T02:37:05.426509Z"
    },
    "scrolled": true
   },
   "outputs": [],
   "source": [
    "fitted = model.fit(\n",
    "    train_x_mlp,\n",
    "    train_y_mlp,\n",
    "    batch_size=256,\n",
    "    epochs=50,\n",
    "    validation_split=.2,\n",
    "    verbose=1,            # [verbose] 1: progress bar, 2: one line per epoch\n",
    "    shuffle=True,\n",
    ")"
   ]
  },
  {
   "cell_type": "code",
   "execution_count": null,
   "metadata": {
    "ExecuteTime": {
     "end_time": "2018-12-10T02:37:07.803826Z",
     "start_time": "2018-12-10T02:37:07.374479Z"
    },
    "scrolled": false
   },
   "outputs": [],
   "source": [
    "keras_lossplot(model)"
   ]
  },
  {
   "cell_type": "markdown",
   "metadata": {},
   "source": [
    "<div class=\"alert alert-block alert-danger\">\n",
    "<b>Tip:</b>  \n",
    "<n>\n",
    "\n",
    "`batch_size`가 너무 커도 학습이 잘 되지 않으며, 무작정 `epoch` 수로 반복을 많이 시켜도 학습성능에 큰 도움이 되지 않는다.\n",
    "<n>\n",
    "\n",
    "`batch_size`를 작게 하면 어떨까?\n",
    "</div>\n",
    "\n",
    "<br>우리가 한국사 시험을 본다고 가정하자.\n",
    "\n",
    "<img src=\"images/dl_training_process.png\" >\n",
    "\n",
    "\n",
    "* `batch_size` : 모의고사 1회분 출제 범위(8=고조선~삼국시대, 256=고조선~근현대사)\n",
    "* `epoch` : 모의고사 응시 횟수\n",
    "* `shuffle` : 문항/보기 섞기\n",
    "* 모델의 깊이(`layer`의 개수, `hidden space`의 크기) : 학업수준, IQ\n",
    "\n",
    "\n",
    "학생의 학업수준에 따라 각 항목들을 적절히 배분해야 실력이 쑥쑥 늘듯이,   \n",
    "<font size='4'><font color='#318CE7'><b><i>모델의 구조를 고려하여 적절한 Parameter 값을 지정해 주어야 한다.</i></b></font></font>\n",
    "\n",
    "<br>\n",
    "</div>  "
   ]
  },
  {
   "cell_type": "markdown",
   "metadata": {},
   "source": [
    "### MLP Evaluation"
   ]
  },
  {
   "cell_type": "markdown",
   "metadata": {},
   "source": [
    "위에서는 모의고사 점수로 학습의 진행상황만을 확인할 수 있었다.  \n",
    "이제 실전으로 그동안의 노력에 대한 결과를 평가해 보자.\n",
    "\n",
    "<br>\n",
    "<br>\n",
    "<font size='5'><center><b><i>\"Training set으로 학습한 모델을 Test set으로 평가한다.\"</i></b></center></font>\n",
    "<br><n>\n",
    "\n",
    "`model.compile`에서 설정한 `loss`와 `metrics` 값이 각각 출력된다.\n",
    "\n",
    "\n",
    "\n",
    "|  항목      |  내용                   |  예시        |\n",
    "|:----------|-----------------------:|:------------|\n",
    "|  `loss`   | 학습할 때 사용한 점수계산법   | 수능점수(총점) |\n",
    "| `metrics` | 평가할 때 사용하는 점수계산법 |  수능 등급제   |\n",
    "<br>\n",
    "\n",
    "Result: \n",
    "```\n",
    "<finished>/<total test num> [====== <progress bar> ========] - <elapsed time>/step\n",
    "[<loss>, <metrics>]\n",
    "```"
   ]
  },
  {
   "cell_type": "code",
   "execution_count": null,
   "metadata": {
    "ExecuteTime": {
     "end_time": "2018-12-10T02:37:07.821026Z",
     "start_time": "2018-12-10T02:37:07.806525Z"
    }
   },
   "outputs": [],
   "source": [
    "model.evaluate(test_x_mlp, test_y_mlp)"
   ]
  },
  {
   "cell_type": "markdown",
   "metadata": {},
   "source": [
    "### MLP Prediction\n",
    "\n",
    "이제 학습도 했고, 실전평가도 치뤘다.  \n",
    "하지만 수능을 잘 푸는 것과 일을 잘 하는 건 다른 이야기이다. 진정한 의미의 실전에 투입해 보자.\n",
    "\n",
    "*__X__* Case 1개를 골라 *__Y__*값을 예측해 보자."
   ]
  },
  {
   "cell_type": "markdown",
   "metadata": {},
   "source": [
    "<div class=\"alert alert-block alert-danger\">\n",
    "<b>Tip:</b>  \n",
    "<n>\n",
    "\n",
    "\n",
    "```py\n",
    "model.predict(test_x_mlp[0])\n",
    "```\n",
    "\n",
    "위의 코드는 돌아가지 않는다. 왜일까?\n",
    "<n>\n",
    "\n",
    "```\n",
    "ValueError: Error when checking input: expected input_2 to have shape (3,) but got array with shape (1,)\n",
    "```\n",
    "\n",
    "그동안 사용했던 Input은 `(N, 3)` 형태의 2차원 array였다.  \n",
    "1개만 선택해 버리니 `N`에 해당하는 차원을 생략하고 `3`만 남은 것이다.  \n",
    "2차원을 유지하면서 1개만 선택하려면 어떻게 넣어야 할까?\n",
    "\n",
    "</div>"
   ]
  },
  {
   "cell_type": "code",
   "execution_count": null,
   "metadata": {
    "ExecuteTime": {
     "end_time": "2018-12-10T02:37:07.846917Z",
     "start_time": "2018-12-10T02:37:07.823252Z"
    }
   },
   "outputs": [],
   "source": [
    "model.predict(test_x_mlp[:1])"
   ]
  },
  {
   "cell_type": "markdown",
   "metadata": {},
   "source": [
    "실제 나와야 하는 값은:"
   ]
  },
  {
   "cell_type": "code",
   "execution_count": null,
   "metadata": {
    "ExecuteTime": {
     "end_time": "2018-12-10T02:37:07.854860Z",
     "start_time": "2018-12-10T02:37:07.849285Z"
    }
   },
   "outputs": [],
   "source": [
    "test_y_mlp[:1]"
   ]
  },
  {
   "cell_type": "code",
   "execution_count": null,
   "metadata": {
    "ExecuteTime": {
     "end_time": "2018-12-10T02:37:08.678181Z",
     "start_time": "2018-12-10T02:37:07.857365Z"
    }
   },
   "outputs": [],
   "source": [
    "keras_predict_plot(model, test_x_mlp, test_y_mlp, method='mlp')"
   ]
  },
  {
   "cell_type": "markdown",
   "metadata": {},
   "source": [
    "## (개념) MLP: Multi Layer Perceptron\n",
    "\n",
    "<br>\n",
    "이제 Layer를 행렬로 표현해 보자.  \n",
    "<img src=\"images/mlp/mlp_vector.png\" width='80%'>\n",
    "$\\space$\n",
    "<center><font size='4'><b>복잡해 보여도 단지 행렬연산의 응용일 뿐!</b></font></center>\n",
    "    \n",
    "$\\space$\n",
    "\\begin{equation}\n",
    "\\overbrace{ \\begin{bmatrix} \\color{red}3 \\end{bmatrix} }^{INPUT}\n",
    "\\overbrace{ \\begin{bmatrix} \\color{red}3 \\times \\color{blue}4 \\end{bmatrix} }^{1st \\space Layer} \n",
    "\\overbrace{ \\begin{bmatrix} \\color{blue}4 \\times 2 \\end{bmatrix} }^{2nd \\space Layer} \n",
    "= \\begin{bmatrix} 2 \\end{bmatrix}\n",
    "\\end{equation}\n",
    "$\\space$\n",
    "\n",
    "\\begin{equation}\n",
    "\\overbrace{ \\begin{bmatrix} Batch \\times \\color{red}3 \\end{bmatrix} }^{INPUT}\n",
    "\\overbrace{ \\begin{bmatrix} \\color{red}3 \\times \\color{blue}4 \\end{bmatrix} }^{1st \\space Layer} \n",
    "\\overbrace{ \\begin{bmatrix} \\color{blue}4 \\times 2 \\end{bmatrix} }^{2nd \\space Layer} \n",
    "= \\begin{bmatrix} Batch \\times 2 \\end{bmatrix}\n",
    "\\end{equation}  \n",
    "$\\space$\n",
    "<div class=\"alert alert-block alert-warning\">\n",
    "<b>$\\divideontimes$ 행렬과 사상: </b> $[m \\times n]$은 $n$ 차원 공간에서 $m$ 차원 공간으로의 mapping ( $L:N \\rightarrow M$ )    \n",
    "$\\space$\n",
    "$\\space$\n",
    "<font size='5'>$$\\underbrace{Y}_{ [m] } = \\underbrace{A}_{ [m \\times n] } \\underbrace{X}_{ [n] }$$  </font>\n",
    "</div>  \n",
    "\n",
    "$m$ 차원에서 $n$ 차원으로의 사상은,\n",
    "<font size='5'>$$\\underbrace{Y}_{ [n] } = \\underbrace{X}_{ [m] } \\underbrace{A}_{ [m \\times n] }$$  </font>\n",
    "\n",
    "<div align=\"right\"><font color='red'><b>* $y=ax$의 순서와 다른 점에 주의.</b></font></div>\n"
   ]
  },
  {
   "cell_type": "markdown",
   "metadata": {},
   "source": [
    "### Input\n",
    "\n",
    "<br>\n",
    "$m$ 차원에서 $n$ 차원으로의 사상 = 행렬 = Layer의 의미를 알았으니, \n",
    "이제는 `Input` $m$ 과 `Output` $n$ 에 대해 알아보자.\n",
    "<br>\n",
    "<br>\n",
    "우리의 첫 Layer <b>$A$</b> 는 한 번에 $\\color{red}3$차원의 Data $X$를 소화하는 행렬이다.  \n",
    "하지만, $[2 \\times \\color{red}3]$ 처럼 <font color='#318CE7'><b><i>행렬의 형태로 한 번에 병렬처리 할 수도 있다.</i></b></font></font>\n",
    "\n",
    "이 때의 Data 개수는 `Output` 까지 유지된다.\n",
    "\n",
    "$\\space$\n",
    "\\begin{equation}\n",
    "\\overbrace{ \\begin{bmatrix} Batch \\times \\color{red}3 \\end{bmatrix} }^{INPUT}\n",
    "\\begin{bmatrix} \\color{red}3 \\times \\color{blue}4 \\end{bmatrix}\n",
    "\\begin{bmatrix} \\color{blue}4 \\times 2 \\end{bmatrix}\n",
    "= \\overbrace{ \\begin{bmatrix} Batch \\times 2 \\end{bmatrix} }^{OUTPUT}\n",
    "\\end{equation}  \n",
    "$\\space$\n",
    "\n",
    "\n",
    "<font size='5'>$$\\underbrace{Y}_{ [B \\times \\color{blue}n] } = \\underbrace{X}_{ [B \\times \\color{red}m] } \\underbrace{A}_{ [\\color{red}m \\times \\color{blue}n] }$$  </font>\n",
    "\n",
    "<br>\n",
    "<font size='3'>이제 우리는 열벡터 1개씩을 처리하는 것이 아니라, <font color='#318CE7'><b><i>Batch로 여러 Input을 한 번에 처리할 수 있다</i></b></font></font>\n",
    "\n",
    "<div class=\"alert alert-block alert-warning\">\n",
    "<b>$\\divideontimes$ Input의 형태: </b> $[2 \\times 3]$은 $3$차원으로 이루어진 데이터 $2$개를 의미한다.\n",
    "<br>\n",
    "<br>\n",
    "<font size='5'>$$[2 \\times 3]=[Data \\space 개수, Data \\space 차원]$$  </font>\n",
    "\n",
    "</div>  "
   ]
  },
  {
   "cell_type": "code",
   "execution_count": null,
   "metadata": {
    "ExecuteTime": {
     "end_time": "2018-12-10T02:37:08.687523Z",
     "start_time": "2018-12-10T02:37:08.680619Z"
    }
   },
   "outputs": [],
   "source": [
    "arr_x = train_x_mlp[:2].round(2)\n",
    "arr_x1 = train_x_mlp[:1].round(2)\n",
    "\n",
    "aprint(arr_x, arr_x1, name_list=['arr_x', 'arr_x_one'])"
   ]
  },
  {
   "cell_type": "markdown",
   "metadata": {},
   "source": [
    "### Output"
   ]
  },
  {
   "cell_type": "code",
   "execution_count": null,
   "metadata": {
    "ExecuteTime": {
     "end_time": "2018-12-10T02:37:08.701808Z",
     "start_time": "2018-12-10T02:37:08.690000Z"
    }
   },
   "outputs": [],
   "source": [
    "arr_y = train_y_mlp[:2].round(2)\n",
    "arr_y1 = train_y_mlp[:1].round(2)\n",
    "\n",
    "aprint(arr_y, arr_y1, name_list=['arr_y', 'arr_y_one'])"
   ]
  },
  {
   "cell_type": "markdown",
   "metadata": {},
   "source": [
    "### Layers\n",
    "\n",
    "<br>\n",
    "이제 Data도 행렬로 표현해 보자.  \n",
    "<img src=\"images/mlp/mlp_batch.png\" style=\"width:80%;\">\n",
    "첫째 Layer는 $\\color{red}3$차원의 Data $X$를 $\\color{blue}4$차원으로 확장하고,  \n",
    "둘째 Layer는 $\\color{blue}4$차원을 $\\color{black}2$차원으로 축소하게 된다.\n",
    "\n",
    "$\\space$\n",
    "\\begin{equation}\n",
    "\\begin{bmatrix} Batch \\times \\color{red}3 \\end{bmatrix}\n",
    "\\overbrace{ \\begin{bmatrix} \\color{red}3 \\times \\color{blue}4 \\end{bmatrix} }^{1st \\space Layer}\n",
    "\\overbrace{ \\begin{bmatrix} \\color{blue}4 \\times 2 \\end{bmatrix} }^{2nd \\space Layer}\n",
    "= \\begin{bmatrix} Batch \\times 2 \\end{bmatrix}\n",
    "\\end{equation}  \n",
    "$\\space$\n",
    "\n",
    "<font size='5'>$$\\underbrace{Y}_{ [B \\times \\color{blue}n] } = \\underbrace{X}_{ [B \\times \\color{red}m] } \\underbrace{A}_{ [\\color{red}m \\times \\color{blue}n] }$$  </font>\n",
    "\n",
    "<br>\n",
    "이 기본 Layer의 형태를 `Fully Connected Layer` 또는 `Dense Layer`라고 부른다.  \n",
    "<b>Layer를 구성하기 위해서는 $\\color{red}m$과 $\\color{blue}n$을 정해 주어야 한다.</b>  \n",
    "값을 정하고 나면, 임의의 초기값으로 행렬을 만들어 Layer를 처음 구성하게 된다.\n",
    "\n",
    "이 때, $\\color{blue}n$에 해당하는 $ \\color{blue}4$차원을 Hidden Layer의 차원이라고 한다.  \n",
    "즉 Layer는 <b>$m$ 차원 Input으로 $n$ 차원 Output을 만들어 내는 행렬이라고 할 수 있다.</b>\n",
    "<font size='3'>이제 우리는, <font color='#318CE7'> <b><i> 점이 아닌 선을 Layer로 볼 수 있다.</i></b></font></font>\n",
    "\n",
    "<div class=\"alert alert-block alert-warning\">\n",
    "<b>$\\divideontimes$ Layer의 형태: </b> <b>$m$ 차원 Input으로 $n$ 차원 Output을 만들어 내는 행렬</b>\n",
    "\n",
    "<br>\n",
    "<br>\n",
    "<font size='5'>$$[3 \\times 4]=[Input \\space Data \\space 차원, Hidden \\space 차원]$$  </font>\n",
    "\n",
    "</div>  "
   ]
  },
  {
   "cell_type": "markdown",
   "metadata": {},
   "source": [
    "기본 Layer는 `Fully Connected Layer` 또는 `Dense Layer`이며,\n",
    "`input`과 `output shape`를 변수로 받아 생성.\n",
    "\n",
    "* <font size='3'>Input Shape : $m$</font>\n",
    "* <font size='3'>Output Shape : $l$</font>\n",
    "\n",
    "\n",
    "<font size='4'>\n",
    "\\begin{equation}\n",
    "\\begin{bmatrix} n\\times m \\end{bmatrix}\n",
    "\\overbrace{ \\begin{bmatrix} m\\times l \\end{bmatrix} }^{Layer} \n",
    "= \\begin{bmatrix} n\\times l \\end{bmatrix}\n",
    "\\end{equation}\n",
    "</font>\n",
    "\n",
    "$\\space$\n",
    "$\\space$\n",
    "\n",
    "<font size='4'>\n",
    "\\begin{equation}\n",
    "\\left({\\begin{array}{cc} \\color{red}a & \\color{red}b & \\color{red}c\\\\\\color{red}d & \\color{red}e & \\color{red}f \\end{array}}\\right)\n",
    "\\overbrace{ \\left( \\begin{array}{cc} \\color{blue}  A & \\color{blue} D & \\color{blue} G\\\\ \\color{blue} B & \\color{blue} E & \\color{blue} H \\\\ \\color{blue} C & \\color{blue} F & \\color{blue} I \\end{array} \\right) }^{Layer}\n",
    "= \\left(\\begin{array}{cc} \n",
    "\\color{red}a \\color{blue}A + \\color{red}b \\color{blue}B + \\color{red}c \\color{blue}C & \n",
    "\\color{red}a \\color{blue}D + \\color{red}b \\color{blue}E + \\color{red}c \\color{blue}F &\n",
    "\\color{red}a \\color{blue}G + \\color{red}b \\color{blue}H + \\color{red}c \\color{blue}I\n",
    "\\\\\n",
    "\\color{red}d \\color{blue}A + \\color{red}e \\color{blue}B + \\color{red}f \\color{blue}C & \n",
    "\\color{red}d \\color{blue}D + \\color{red}e \\color{blue}E + \\color{red}f \\color{blue}F & \n",
    "\\color{red}d \\color{blue}G + \\color{red}e \\color{blue}H + \\color{red}f \\color{blue}I\n",
    "\\\\\n",
    "\\end{array}\\right)\n",
    "\\end{equation}\n",
    "</font>"
   ]
  },
  {
   "cell_type": "markdown",
   "metadata": {},
   "source": [
    "#### Dense Layer (Fully Connected Layer)"
   ]
  },
  {
   "cell_type": "code",
   "execution_count": null,
   "metadata": {
    "ExecuteTime": {
     "end_time": "2018-12-10T02:37:08.711628Z",
     "start_time": "2018-12-10T02:37:08.704208Z"
    }
   },
   "outputs": [],
   "source": [
    "def dense_layer(\n",
    "    input_x,\n",
    "    output_dim=None,\n",
    "    name=None,\n",
    "    seed=1,\n",
    "    ):\n",
    "    input_dim = input_x.shape[-1]\n",
    "    np.random.seed(seed)\n",
    "    \n",
    "    \n",
    "    #==== Essential ========================================================#\n",
    "\n",
    "    weight = np.random.random((input_dim, output_dim)).round(2)\n",
    "\n",
    "    output = input_x @ weight\n",
    "    \n",
    "    #=======================================================================#\n",
    "    \n",
    "    \n",
    "    print(name)\n",
    "    aprint(input_x, weight, output, name_list=['Input', 'Weight', 'Output'])\n",
    "\n",
    "    return output, weight"
   ]
  },
  {
   "cell_type": "code",
   "execution_count": null,
   "metadata": {
    "ExecuteTime": {
     "end_time": "2018-12-10T02:37:08.722865Z",
     "start_time": "2018-12-10T02:37:08.714078Z"
    }
   },
   "outputs": [],
   "source": [
    "dense_layer(arr_x, output_dim=4)"
   ]
  },
  {
   "cell_type": "markdown",
   "metadata": {},
   "source": [
    "#### Initialization"
   ]
  },
  {
   "cell_type": "markdown",
   "metadata": {},
   "source": [
    "Layer를 생성한다는 것은 행렬을 생성한다는 것과 같다.  \n",
    "이 때 임의의 값을 이용해 행렬을 생성하여야 하는데, 이 초기값을 부여하는 과정을 `Initialization` 이라고 함."
   ]
  },
  {
   "cell_type": "code",
   "execution_count": null,
   "metadata": {
    "ExecuteTime": {
     "end_time": "2018-12-10T02:37:08.733387Z",
     "start_time": "2018-12-10T02:37:08.725106Z"
    }
   },
   "outputs": [],
   "source": [
    "np.random.seed(1)\n",
    "np.random.random((3, 4)).round(2)"
   ]
  },
  {
   "cell_type": "markdown",
   "metadata": {},
   "source": [
    "### Activation Function"
   ]
  },
  {
   "cell_type": "markdown",
   "metadata": {},
   "source": [
    "Layer 간의 선형 결합은 선형 함수(1차 함수)의 형태로만 존재한다.\n",
    "\n",
    "\\begin{equation}\n",
    "y = f(x) = ax,\\\\  \n",
    "z = g(y) = by,\\\\\n",
    " \\\\\n",
    "z = g(f(x)) = b(ax) = abx\n",
    "\\end{equation}\n",
    "\n",
    "$c = ab$ 라고 하면\n",
    "<font size='4'>$$z = h(x) = cx$$</font>\n",
    "\n",
    "가 되어 사실상 2개를 겹친 효과가 없어진다.  \n",
    "그러므로, Layer 사이에 비선형 함수를 끼워 넣어 \n",
    "$y=f(x)$ 를 비선형 관계로 만들게 된다.  \n",
    "\n",
    "또한, Output 값의 범위를 $[0, 1]$ 사이로 제한하는 효과도 있다. (`sigmoid`)"
   ]
  },
  {
   "cell_type": "markdown",
   "metadata": {},
   "source": [
    "#### Activations & Its Derivatives"
   ]
  },
  {
   "cell_type": "code",
   "execution_count": null,
   "metadata": {
    "ExecuteTime": {
     "end_time": "2018-12-10T02:37:09.596166Z",
     "start_time": "2018-12-10T02:37:08.736187Z"
    },
    "scrolled": true
   },
   "outputs": [],
   "source": [
    "examples.activation_plot()"
   ]
  },
  {
   "cell_type": "markdown",
   "metadata": {},
   "source": [
    "`sigmoid` 함수는 `tanh`에 비해 기울기가 작다.  \n",
    "미분값의 최대치가 0.25이며, 미분값이 1인 `tanh` 함수에 비해 $\\frac {1}{4}$ 수준이다.\n",
    "\n",
    "<font color='#318CE7'> <b><i> 이 기울기는 $x$값의 차이에 비해 $y$값의 차이가 작다는 말이며, 학습 진도가 느린 원인이 된다.  </i></b></font>\n",
    "\n",
    "때문에, 미분값이 커서 학습 Impact가 큰 `tanh`나 `relu`가 등장하게 된다."
   ]
  },
  {
   "cell_type": "code",
   "execution_count": null,
   "metadata": {
    "ExecuteTime": {
     "end_time": "2018-12-10T02:37:10.457357Z",
     "start_time": "2018-12-10T02:37:09.598815Z"
    }
   },
   "outputs": [],
   "source": [
    "examples.d_activation_plot()"
   ]
  },
  {
   "cell_type": "markdown",
   "metadata": {},
   "source": [
    "#### Biases\n",
    "\n",
    "<div class=\"alert alert-block alert-success\">\n",
    "<b>$\\divideontimes$ `bias`가 갖는 의미 </b>  \n",
    "<n></n>  \n",
    "\n",
    "`weight`가 $x$ 간의 관계를 설명한다면, `bias`는 영점조절이라고 할 수 있다.  \n",
    "`bias`가 없으면, $x$의 차원에 관계없이 모든 함수는 원점 <font color=\"black\">$(0, 0)$</font> 을 지나게 되어 데이터 학습에 지장을 초래할 수 있다.\n",
    "</div>\n",
    "\n",
    "![mifeel_gunfeel](images/bias_1.png)"
   ]
  },
  {
   "cell_type": "markdown",
   "metadata": {},
   "source": [
    "---\n",
    "* $y = 2x$"
   ]
  },
  {
   "cell_type": "code",
   "execution_count": null,
   "metadata": {
    "ExecuteTime": {
     "end_time": "2018-12-10T02:37:10.696323Z",
     "start_time": "2018-12-10T02:37:10.460184Z"
    }
   },
   "outputs": [],
   "source": [
    "examples.draw_without_bias()"
   ]
  },
  {
   "cell_type": "markdown",
   "metadata": {},
   "source": [
    "---\n",
    "* $y=2x-4$"
   ]
  },
  {
   "cell_type": "code",
   "execution_count": null,
   "metadata": {
    "ExecuteTime": {
     "end_time": "2018-12-10T02:37:10.923424Z",
     "start_time": "2018-12-10T02:37:10.698956Z"
    }
   },
   "outputs": [],
   "source": [
    "examples.draw_with_bias()"
   ]
  },
  {
   "cell_type": "markdown",
   "metadata": {},
   "source": [
    "### Complete Network"
   ]
  },
  {
   "cell_type": "markdown",
   "metadata": {},
   "source": [
    "`Input`과 `Layer`, `Activation`을 활용하여 간단한 `Multi Layer Perceptron` 모델을 생성해 보자.\n",
    "\n",
    "<img src=\"images/mlp/mlp_base.png\" style=\"width:400px;height:400px;align:left;\">"
   ]
  },
  {
   "cell_type": "code",
   "execution_count": null,
   "metadata": {
    "ExecuteTime": {
     "end_time": "2018-12-10T02:37:10.943938Z",
     "start_time": "2018-12-10T02:37:10.926073Z"
    }
   },
   "outputs": [],
   "source": [
    "# Input Layer\n",
    "input_layer = arr_x1\n",
    "\n",
    "\n",
    "# Hidden Layer\n",
    "hidden_layer_1, w1 = dense_layer(\n",
    "    input_layer,\n",
    "    output_dim=4,\n",
    "    seed=4,\n",
    "    name='fc1_layer',\n",
    ")\n",
    "activated_1 = sigmoid(hidden_layer_1)\n",
    "\n",
    "\n",
    "# Output Layer\n",
    "hidden_layer_2, w2 = dense_layer(\n",
    "    hidden_layer_1,\n",
    "    output_dim=2,\n",
    "    seed=3,\n",
    "    name='fc2_layer',\n",
    ")\n",
    "activated_2 = sigmoid(hidden_layer_2)"
   ]
  },
  {
   "cell_type": "code",
   "execution_count": null,
   "metadata": {
    "ExecuteTime": {
     "end_time": "2018-12-10T02:37:10.951813Z",
     "start_time": "2018-12-10T02:37:10.946524Z"
    }
   },
   "outputs": [],
   "source": [
    "hidden_layer_2"
   ]
  },
  {
   "cell_type": "code",
   "execution_count": null,
   "metadata": {
    "ExecuteTime": {
     "end_time": "2018-12-10T02:37:10.959603Z",
     "start_time": "2018-12-10T02:37:10.954385Z"
    }
   },
   "outputs": [],
   "source": [
    "activated_2"
   ]
  },
  {
   "cell_type": "markdown",
   "metadata": {},
   "source": [
    "### Batch\n",
    "\n",
    "<br>\n",
    "이제 Batch에 대해 알아보자.\n",
    "<img src=\"images/mlp/mlp_batch_full.png\" style=\"width:80%\">\n",
    "<br>\n",
    "<font size=\"3\">Batch는 한번 학습에 이용하는 샘플 단위를 말한다.</font><br>\n",
    "<br>\n",
    "전체 Input의 개수가 10이고 `batch_size`가 2일 경우, $\\space\\space$<font size='4'><b> $\\leftarrow$ input_size: 10, batch_size: 2</b></font><br>\n",
    "부분집합인 2개씩을 꺼내어 1번 학습에 활용하게 되고 $\\space\\space$<font size='4'><b> $\\leftarrow$ step_num: 1 (누적학습횟수)</b></font><br> \n",
    "총 5번 학습하면 전체 Input을 다 학습하게 된다. $\\space\\space$<font size='4'><b> $\\leftarrow$ batch_nu: 5 (학습횟수)</b></font><br>\n",
    "이렇게 Input을 한번 다 보는 경우를 1 epoch이라 하며, $\\space\\space$<font size='4'><b> $\\leftarrow$ epoch_num: 1</b></font><br>\n",
    "<br>\n",
    "\n",
    "<font size=\"3\">10 epoch로 학습하는 경우  \n",
    "`batch_num`은 5, `step_num`은 50이 된다.</font>\n",
    "\n",
    "<br>\n",
    "<br>\n",
    "$\\space$\n",
    "$\\space 1 \\space Epoch,$\n",
    "\\begin{equation}\n",
    "\\begin{bmatrix} 1st \\space Batch \\times \\color{red}3 \\end{bmatrix}\n",
    "\\overbrace{ \\begin{bmatrix} \\color{red}3 \\times \\color{blue}4 \\end{bmatrix} }^{1st Layer}\n",
    "\\overbrace{ \\begin{bmatrix} \\color{blue}4 \\times 2 \\end{bmatrix} }^{2nd Layer}\n",
    "= \\begin{bmatrix} 1st \\space Batch \\times 2 \\end{bmatrix}\n",
    "\\Rightarrow 1st \\space Backpropagation\n",
    "\\end{equation}  \n",
    "\\begin{equation}\n",
    "\\begin{bmatrix} 2nd \\space Batch \\times \\color{red}3 \\end{bmatrix}\n",
    "\\overbrace{ \\begin{bmatrix} \\color{red}3 \\times \\color{blue}4 \\end{bmatrix} }^{1st Layer}\n",
    "\\overbrace{ \\begin{bmatrix} \\color{blue}4 \\times 2 \\end{bmatrix} }^{2nd Layer}\n",
    "= \\begin{bmatrix} 2nd \\space Batch \\times 2 \\end{bmatrix}\n",
    "\\Rightarrow 2nd \\space Backpropagation\n",
    "\\end{equation}  \n",
    "$$\\vdots$$\n",
    "\\begin{equation}\n",
    "\\begin{bmatrix} 5th \\space Batch \\times \\color{red}3 \\end{bmatrix}\n",
    "\\overbrace{ \\begin{bmatrix} \\color{red}3 \\times \\color{blue}4 \\end{bmatrix} }^{1st Layer}\n",
    "\\overbrace{ \\begin{bmatrix} \\color{blue}4 \\times 2 \\end{bmatrix} }^{2nd Layer}\n",
    "= \\begin{bmatrix} 5th \\space Batch \\times 2 \\end{bmatrix}\n",
    "\\Rightarrow 5th \\space Backpropagation\n",
    "\\end{equation} \n",
    "$\\space$\n",
    "\n",
    "<br>\n",
    "<br>\n",
    "\n",
    "학습할 때는 주어진 `input_size`에 대해 `batch_size`와 `epoch_num`을 지정한다.<br>\n",
    "<font size='3'>이제, <font color='#318CE7'> <b><i> 딥러닝 모델이 Input을 어떻게 읽어들이는 지 알 수 있다.</i></b></font></font>\n",
    "<br>\n",
    "\n",
    "<div class=\"alert alert-block alert-warning\">\n",
    "<b>$\\divideontimes$ Batch란:  </b> <b>1번 학습에 활용하는 Input의 부분집합 단위</b>\n",
    "\n",
    "<br>\n",
    "<br>\n",
    "$$Batch \\space num = \\frac {Input \\space size}{Batch \\space size}$$  \n",
    "\n",
    "$$1 \\space Epoch = Batch \\space size \\times Batch \\space num$$  \n",
    "\n",
    "$$ Step \\space num = Epoch \\space num \\times Batch \\space num$$  \n",
    "<br>\n",
    "</div>  "
   ]
  },
  {
   "cell_type": "code",
   "execution_count": null,
   "metadata": {
    "ExecuteTime": {
     "end_time": "2018-12-10T02:37:10.979236Z",
     "start_time": "2018-12-10T02:37:10.962394Z"
    }
   },
   "outputs": [],
   "source": [
    "# Input Layer\n",
    "input_layer = arr_x1\n",
    "\n",
    "\n",
    "# Hidden Layer\n",
    "hidden_layer_1, w1 = dense_layer(\n",
    "    input_layer,\n",
    "    output_dim=4,\n",
    "    seed=4,\n",
    "    name='fc1_layer',\n",
    ")\n",
    "activated_1 = sigmoid(hidden_layer_1)\n",
    "\n",
    "\n",
    "# Output Layer\n",
    "hidden_layer_2, w2 = dense_layer(\n",
    "    hidden_layer_1,\n",
    "    output_dim=2,\n",
    "    seed=3,\n",
    "    name='fc2_layer',\n",
    ")\n",
    "activated_2 = sigmoid(hidden_layer_2)"
   ]
  },
  {
   "cell_type": "markdown",
   "metadata": {},
   "source": [
    "### Loss Function"
   ]
  },
  {
   "cell_type": "markdown",
   "metadata": {},
   "source": [
    "`Cost Function` 혹은 `Objective Function`으로도 불린다.  \n",
    "예측값과 실제값의 차이를 `Error` 또는 `Cost`라고 부르는데 이 `Error`의 측정방법이 곧 `Loss Function`이다.  \n",
    "'모델이 학습한다'는 의미는, <font color='#318CE7'> <b><i>이 값을 최소화 하는 방향으로 $w$ 와 $b$ 를 업데이트 한다는 뜻이다. </i></b></font>  \n",
    "<br>\n",
    "<div align=\"right\"><font color='red'><b>* `accuracy`를 목적함수로 사용할 경우, 업데이트함에 따라 값이 불연속적으로 변하기 때문에 부적합.</b></font></div>"
   ]
  },
  {
   "cell_type": "markdown",
   "metadata": {},
   "source": [
    "#### Mean Square Error"
   ]
  },
  {
   "cell_type": "markdown",
   "metadata": {},
   "source": [
    "제일 기본적인 `Loss Function`이며,  \n",
    "값의 차이를 제곱하여 그 크기 값의 평균을 계산한다.\n",
    "\n",
    "<br>\n",
    "<font size='4'>$$loss = \\mathcal{L}(\\hat{y}, y) = (\\hat y^{(i)} - y^{(i)})^2$$</font>\n",
    "<br>\n",
    "<font size='4'>$$MSE = \\frac {1}{m} \\sum_{i=1}^{m}(\\hat y_{i} - y_{i})^2 $$</font>\n"
   ]
  },
  {
   "cell_type": "code",
   "execution_count": null,
   "metadata": {
    "ExecuteTime": {
     "end_time": "2018-12-10T02:37:10.986229Z",
     "start_time": "2018-12-10T02:37:10.982210Z"
    }
   },
   "outputs": [],
   "source": [
    "def mean_squared_error(logits, real):\n",
    "    \n",
    "    \n",
    "    #==== Essential ========================================================#\n",
    "    \n",
    "    err = ((logits - real) ** 2).mean()\n",
    "    \n",
    "    #=======================================================================#\n",
    "\n",
    "\n",
    "    return err"
   ]
  },
  {
   "cell_type": "code",
   "execution_count": null,
   "metadata": {
    "ExecuteTime": {
     "end_time": "2018-12-10T02:37:10.994108Z",
     "start_time": "2018-12-10T02:37:10.988686Z"
    }
   },
   "outputs": [],
   "source": [
    "mean_squared_error(activated_2, arr_y1)"
   ]
  },
  {
   "cell_type": "markdown",
   "metadata": {},
   "source": [
    "### Training\n",
    "\n",
    "<img src='images/mlp/mlp_full_propagation.png' width='80%' align='center'>"
   ]
  },
  {
   "cell_type": "markdown",
   "metadata": {},
   "source": [
    "#### Gradient Descent\n",
    "\n",
    "`Gradient`는 '경사도' 라는 뜻이며, `Gradient Descent`를 산을 내려가는 과정에 비유할 수 있다.\n",
    "\n",
    "산 속에서 길을 잃었다고 생각해 보자.  \n",
    "\n",
    "1. <font size='3'><b>길찾기</b></font>  \n",
    "  산을 빠져나오기 위해서는 산의 경사와 반대 방향으로 내려와야 한다.  \n",
    "  <font size='3'>이렇게 길을 찾는 방법이 <font color='#318CE7'> <b><i> 'Gradient Descent'</i></b></font> 이다.</font>\n",
    "\n",
    "\n",
    "2. <font size='3'><b>중간 골짜기</b></font>  \n",
    "  시야가 좁거나 지도가 조금밖에 없을 경우,  \n",
    "  경사에 의존해서 내려갈 수는 있지만 이대로 가면 목적지가 나올 지 확신할 수 없다.  \n",
    "  귀퉁이 골짜기에 도착해서 영원히 헤맬 수도 있다.  \n",
    "  <font size='3'>이 때 우리는 <font color='#318CE7'> <b><i> '국소 최적해(Local Minima)'</i></b></font>를 찾았다고 한다.</font>\n",
    "\n",
    "\n",
    "3. <font size='3'><b>최종 목적지</b></font>  \n",
    "  시야가 넓거나 산길에 대한 정보를 잘 알고 있는 경우, 또는 운이 좋으면  \n",
    "  가야할 곳을 잘 알고 때로는 다시 봉우리를 오르기도 하면서 목적지에 도착할 수 있다.  \n",
    "  <font size='3'>이 때 우리는 <font color='#318CE7'> <b><i> '전역 최적해(Global Minimum)'</i></b></font>를 찾았다고 한다.</font>\n",
    "\n",
    "\n",
    "4. <font size='3'><b>보폭</b></font>  \n",
    "  보폭이 넓으면, 성큼성큼 갈 수는 있겠지만 너무 빨라서 길을 지나칠 수 있다.  \n",
    "  보폭이 좁으면, 목적지를 잘 알아도 너무 느려서 가다 지칠 수 있다.  \n",
    "  가야할 곳을 잘 알고 때로는 다시 봉우리를 오르기도 하면서 목적지에 도착할 수 있다.  \n",
    "  <font size='3'>이 보폭이 <font color='#318CE7'> <b><i> '학습률(Learning Rate)'</i></b></font>이다.</font>\n",
    "\n",
    "\n",
    "\n",
    "<img src='images/gradient_minima.png' width='100%' align='center'>\n",
    "\n"
   ]
  },
  {
   "cell_type": "code",
   "execution_count": null,
   "metadata": {
    "ExecuteTime": {
     "end_time": "2018-12-10T02:37:13.723349Z",
     "start_time": "2018-12-10T02:37:10.996530Z"
    },
    "scrolled": false
   },
   "outputs": [],
   "source": [
    "examples.gradient_plot_a()\n",
    "examples.gradient_plot_b()"
   ]
  },
  {
   "cell_type": "markdown",
   "metadata": {},
   "source": [
    "#### Forward-propagation\n",
    "\n",
    "<img src='images/mlp/mlp_forward.png' width='80%'>"
   ]
  },
  {
   "cell_type": "markdown",
   "metadata": {},
   "source": [
    "* Dense Layer"
   ]
  },
  {
   "cell_type": "markdown",
   "metadata": {},
   "source": [
    "* Activation Layer"
   ]
  },
  {
   "cell_type": "markdown",
   "metadata": {},
   "source": [
    "##### Forward-propagation"
   ]
  },
  {
   "cell_type": "code",
   "execution_count": null,
   "metadata": {
    "ExecuteTime": {
     "end_time": "2018-12-10T02:37:13.739966Z",
     "start_time": "2018-12-10T02:37:13.726052Z"
    }
   },
   "outputs": [],
   "source": [
    "from src.layers import dense_layer, sigmoid, tanh\n",
    "\n",
    "\n",
    "def forward_propagation(\n",
    "    input_x,\n",
    "    weight_dict=None,\n",
    "    print_ok=True,\n",
    "    ):\n",
    "\n",
    "    if weight_dict is None:\n",
    "        weight_dict = {\n",
    "            'w1': None,\n",
    "            'b1': None,\n",
    "            'w2': None,\n",
    "            'b2': None,\n",
    "        }\n",
    "    \n",
    "    w1 = weight_dict['w1']\n",
    "    b1 = weight_dict['b1']\n",
    "    w2 = weight_dict['w2']\n",
    "    b2 = weight_dict['b2']\n",
    "\n",
    "    \n",
    "    #==== Essential ========================================================#\n",
    "\n",
    "    ##### LAYER (Forward-propagation) #####\n",
    "\n",
    "    # Input Layer\n",
    "    input_layer = input_x\n",
    "\n",
    "    # Hidden Layer\n",
    "    hidden_layer_1, w1, b1 = dense_layer(\n",
    "        input_layer,\n",
    "        output_dim=4,\n",
    "        weight=w1,\n",
    "        bias=b1,\n",
    "        seed=4,\n",
    "        name='fc1_layer',\n",
    "        print_ok=print_ok,\n",
    "    )\n",
    "    activated_1 = sigmoid(hidden_layer_1, print_ok=print_ok)\n",
    "\n",
    "    # Output Layer\n",
    "    hidden_layer_2, w2, b2 = dense_layer(\n",
    "        hidden_layer_1,\n",
    "        output_dim=2,\n",
    "        weight=w2,\n",
    "        bias=b2,\n",
    "        seed=3,\n",
    "        name='fc2_layer',\n",
    "        print_ok=print_ok,\n",
    "    )\n",
    "    activated_2 = sigmoid(hidden_layer_2, print_ok=print_ok)\n",
    "    \n",
    "    #=======================================================================#\n",
    "    \n",
    "    \n",
    "    if print_ok:\n",
    "        print(f'\\n= Input =\\n{input_layer}')\n",
    "        print(f'\\n= 1 Layer =\\n{hidden_layer_1}\\n{activated_1}')\n",
    "        print(f'\\n= 2 Layer =\\n{hidden_layer_2}')\n",
    "        print(f'\\n= Output =\\n{activated_2}')\n",
    "\n",
    "\n",
    "    weight_dict['w1'] = w1\n",
    "    weight_dict['b1'] = b1\n",
    "    weight_dict['l1'] = hidden_layer_1\n",
    "    weight_dict['a1'] = activated_1\n",
    "    \n",
    "    \n",
    "    weight_dict['w2'] = w2\n",
    "    weight_dict['b2'] = b2\n",
    "    weight_dict['l2'] = hidden_layer_2\n",
    "    weight_dict['a2'] = activated_2\n",
    "\n",
    "    return activated_2, weight_dict"
   ]
  },
  {
   "cell_type": "code",
   "execution_count": null,
   "metadata": {
    "ExecuteTime": {
     "end_time": "2018-12-10T02:37:13.771183Z",
     "start_time": "2018-12-10T02:37:13.742357Z"
    },
    "scrolled": false
   },
   "outputs": [],
   "source": [
    "output, w_dict = forward_propagation(arr_x1)"
   ]
  },
  {
   "cell_type": "markdown",
   "metadata": {},
   "source": [
    "#### Backpropagation\n",
    "\n",
    "<img src='images/mlp/mlp_backward.png' width='80%'>\n",
    "\n",
    "<br>\n",
    "<div class=\"alert alert-block alert-warning\">\n",
    "<b>$\\divideontimes$ 역전파(Backpropagation): </b> \n",
    "\n",
    "<br>\n",
    "<br>\n",
    "<font size='3'><center>마지막 Output과 실제 값과의 차이( $Loss$ )로 배운 경험을  \n",
    "내부 $Weight$에 골고루 Feedback하는 과정.</center></font>\n",
    "<br>\n",
    "</div>  \n",
    "\n",
    "<br>\n",
    "\n",
    "<div class=\"alert alert-block alert-success\">\n",
    "<b>$\\divideontimes$ Chain Rule: </b> 합성함수의 도함수에 대한 공식이다.\n",
    "$$\n",
    "z = g(f((x)) \\space 일 \\space 때 \\\\\n",
    "\\space \\\\\n",
    "\\frac{\\partial z}{\\partial x} = \\frac{\\partial z}{\\partial y}\\frac{\\partial y}{\\partial x}\n",
    "$$\n",
    "\n",
    "모델은 Layer들 간의 합성으로 이루어져 있다.  \n",
    "즉, 모델 전체를 미분한 값은 Layer 각각 미분값의 곱과 같다.\n",
    "\n",
    "$$\n",
    "\\frac{\\partial z}{\\partial w} = \\frac{\\partial z}{\\partial y}\\frac{\\partial y}{\\partial x}\\frac{\\partial x}{\\partial w}\n",
    "$$\n",
    "<br>\n",
    "\n",
    "</div>\n",
    "\n",
    "<br>\n",
    "\n",
    "<br>\n",
    "<font size='3'>$$ \\frac{\\partial J}{\\partial \\theta} = \\lim_{\\varepsilon \\to 0} \\frac{J(\\theta + \\varepsilon) - J(\\theta - \\varepsilon)}{2 \\varepsilon}$$</font>\n",
    "\n",
    "$J$는 $Error$를, $\\theta$는 $Weight$를 의미한다.  \n",
    "즉,  <font size='3'>$\\frac{\\partial J}{\\partial \\theta}$</font>는 $Weight$ 변화량 대비 $Error$ 값의 변화량을 의미한다.\n",
    "\n",
    "<font size='3'>\n",
    "$$\n",
    "J = MSE = \\frac{1}{m}\\sum\\limits_{i=1}^m {(\\hat{y} - y)^2}\n",
    "$$\n",
    "\n",
    "<br>\n",
    "\n",
    "<img src=\"images/backprop.png\" style=\";align:left;\">"
   ]
  },
  {
   "cell_type": "markdown",
   "metadata": {},
   "source": [
    "<div class=\"alert alert-block alert-success\">\n",
    "<b>$\\divideontimes$ Derivative of Sigmoid </b>\n",
    "<br>\n",
    "<br>\n",
    "비선형함수로 <b><i>'sigmoid'</i></b>가 자주 쓰이는 이유 중 하나는 도함수가 간단하기 때문이다.\n",
    "\n",
    "<br>\n",
    "<br>\n",
    "\\begin{array}{ll} \\hline\n",
    "Name\n",
    "&\n",
    "Formula\n",
    "&\n",
    "Derivative\n",
    "\\\\ \\hline\n",
    "sigmoid\n",
    "&\n",
    "\\sigma(x) = \\dfrac{1}{1+e^{-x}}\n",
    "&\n",
    "\\sigma(x)(1 - \\sigma(x))\n",
    "\\\\ \\hline\n",
    "tanh\n",
    "&\n",
    "2\\sigma(2x) - 1\n",
    "&\n",
    "1-\\tanh(x)^2\n",
    "\\\\ \\hline\n",
    "\\end{array}\n"
   ]
  },
  {
   "cell_type": "code",
   "execution_count": null,
   "metadata": {
    "ExecuteTime": {
     "end_time": "2018-12-10T02:37:13.776983Z",
     "start_time": "2018-12-10T02:37:13.773633Z"
    }
   },
   "outputs": [],
   "source": [
    "def d_sigmoid(y):\n",
    "    return y * (1 - y)"
   ]
  },
  {
   "cell_type": "markdown",
   "metadata": {},
   "source": [
    "##### Backpropagation (Scratch)"
   ]
  },
  {
   "cell_type": "code",
   "execution_count": null,
   "metadata": {
    "ExecuteTime": {
     "end_time": "2018-12-10T02:37:13.797815Z",
     "start_time": "2018-12-10T02:37:13.779445Z"
    }
   },
   "outputs": [],
   "source": [
    "from src.layers import d_sigmoid, d_tanh\n",
    "\n",
    "\n",
    "def backward_propagation_scratch(\n",
    "    input_x,\n",
    "    input_y,\n",
    "    weight_dict=None,\n",
    "    learning_rate=5e-2,\n",
    "    print_ok=True,\n",
    "    ):\n",
    "    \n",
    "    m = input_dim = input_x.shape[-1]\n",
    "\n",
    "    w1 = weight_dict['w1']\n",
    "    b1 = weight_dict['b1']\n",
    "    l1 = weight_dict['l1']\n",
    "    a1 = weight_dict['a1']\n",
    "    \n",
    "    w2 = weight_dict['w2']\n",
    "    b2 = weight_dict['b2']\n",
    "    l2 = weight_dict['l2']\n",
    "    a2 = weight_dict['a2']\n",
    "    \n",
    "    \n",
    "    #==== Essential ========================================================#\n",
    "\n",
    "    ##### LAYER (Back-propagation) #####\n",
    "\n",
    "    # Calculate Gradients\n",
    "    err = a2 - input_y\n",
    "    d_a2 = err / d_sigmoid(a2)\n",
    "    d_l2 = a2 - input_y\n",
    "    d_b2 = 1./m * np.sum(d_l2.T, axis=1, keepdims=False)\n",
    "    d_o2 = d_l2\n",
    "\n",
    "    d_w2 = 1./m * (a1.T @ d_o2)\n",
    "    d_a1 = d_o2 @ w2.T\n",
    "    d_l1 = d_sigmoid(a1)\n",
    "    d_b1 = 1./m * np.sum(d_l1.T, axis=1, keepdims=False)\n",
    "    d_o1 = d_l1\n",
    "    d_w1 = 1./m * (input_x.T @ d_o1)\n",
    "\n",
    "    \n",
    "    # Update\n",
    "    new_w1 = w1 - (learning_rate * d_w1)\n",
    "    new_b1 = b1 - (learning_rate * d_b1)\n",
    "    new_w2 = w2 - (learning_rate * d_w2)\n",
    "    new_b2 = b2 - (learning_rate * d_b2)\n",
    "\n",
    "    #=======================================================================#\n",
    "\n",
    "    \n",
    "    if print_ok:\n",
    "        print('\\n\\nResult: Backpropagation')\n",
    "        aprint(w2, new_w2, name_list=['w2', 'new_w2'])\n",
    "        aprint(b2, new_b2, name_list=['b2', 'new_b2'])\n",
    "        aprint(w1, new_w1, name_list=['w1', 'new_w1'])\n",
    "        aprint(b1, new_b1, name_list=['b1', 'new_b1'])\n",
    "\n",
    "    w1 = new_w1\n",
    "    b1 = new_b1\n",
    "    w2 = new_w2\n",
    "    b2 = new_b2\n",
    "\n",
    "\n",
    "    gradient_dict = {\n",
    "        'd_w1': d_w1,\n",
    "        'd_b1': d_b1,\n",
    "        'd_l1': d_l1,\n",
    "        'd_a1': d_a1,\n",
    "        \n",
    "        'd_w2': d_w2,\n",
    "        'd_b2': d_b2,\n",
    "        'd_l2': d_l2,\n",
    "        'd_a2': d_a2,\n",
    "    }\n",
    "\n",
    "    weight_dict['w1'] = new_w1\n",
    "    weight_dict['b1'] = new_b1\n",
    "    \n",
    "    weight_dict['w2'] = new_w2\n",
    "    weight_dict['b2'] = new_b2\n",
    "    \n",
    "    return gradient_dict, weight_dict"
   ]
  },
  {
   "cell_type": "code",
   "execution_count": null,
   "metadata": {
    "ExecuteTime": {
     "end_time": "2018-12-10T02:37:13.821643Z",
     "start_time": "2018-12-10T02:37:13.800266Z"
    },
    "scrolled": false
   },
   "outputs": [],
   "source": [
    "output, w_dict = forward_propagation(arr_x1)\n",
    "grad_dict, new_w_dict = backward_propagation_scratch(arr_x1, arr_y1, weight_dict=w_dict)"
   ]
  },
  {
   "cell_type": "markdown",
   "metadata": {},
   "source": [
    "#### Optimization\n",
    "\n",
    "<br>\n",
    "<div class=\"alert alert-block alert-warning\">\n",
    "<b>$\\divideontimes$ Optimizer: </b> <b>지름길을 잘 찾는 방법 </b>\n",
    "<br>\n",
    "<br>\n",
    "<font size='3'><center><b> 눈앞의 이득(Local Minima)에 빠지지 않고, 최적의 답(Global Minima)을 잘 찾아야 한다!</b></center></font>\n",
    "\n",
    "</div>\n",
    "<br>\n",
    "<br>\n",
    "\n",
    "함수의 극대값 또는 극소값을 구하기 위해 현재 위치에서 함수값의 변화가 가장 큰 방향으로 이동한다.  \n",
    "함수값의 변화가 가장 큰 방향을 구할 수만 있다면 다양한 문제에 똑같은 개념을 적용할 수 있다.\n",
    "\n",
    "<img src=\"images/gradient_descent_algorithm.gif\" style=\";align:left;\">\n",
    "<img src=\"images/gradient_descent_algorithm2.gif\" style=\";align:left;\">"
   ]
  },
  {
   "cell_type": "markdown",
   "metadata": {},
   "source": [
    "#### Exercise : Backprop + Optimizer\n",
    "\n",
    "이제 다양한 Optimizer를 적용해서 Backpropagation을 수행해 보자."
   ]
  },
  {
   "cell_type": "code",
   "execution_count": null,
   "metadata": {
    "ExecuteTime": {
     "end_time": "2018-12-10T02:37:13.846202Z",
     "start_time": "2018-12-10T02:37:13.824094Z"
    }
   },
   "outputs": [],
   "source": [
    "from src.optimizer import sgd, sgd_momentum, adagrad, rmsprop, adam\n",
    "\n",
    "\n",
    "def backward_propagation(\n",
    "    input_x,\n",
    "    input_y,\n",
    "    weight_dict=None,\n",
    "    param_dict=None,\n",
    "    loss_func=mean_squared_error,\n",
    "    optimizer=sgd,\n",
    "    print_ok=True,\n",
    "    ):\n",
    "\n",
    "    if param_dict is None:\n",
    "        param_dict = {}\n",
    "    learning_rate = param_dict['learning_rate']\n",
    "    step_num = param_dict['step_num']\n",
    "    \n",
    "    m = input_dim = input_x.shape[-1]\n",
    "\n",
    "    w1 = weight_dict['w1']\n",
    "    b1 = weight_dict['b1']\n",
    "    l1 = weight_dict['l1']\n",
    "    a1 = weight_dict['a1']\n",
    "    \n",
    "    w2 = weight_dict['w2']\n",
    "    b2 = weight_dict['b2']\n",
    "    l2 = weight_dict['l2']\n",
    "    a2 = weight_dict['a2']\n",
    "    \n",
    "    #==== Essential 1 ======================================================#\n",
    "\n",
    "    ##### LAYER (Back-propagation) #####\n",
    "\n",
    "    # Calculate Gradients\n",
    "    err = loss_func(a2, input_y)\n",
    "    d_a2 = err / d_sigmoid(a2)\n",
    "    d_l2 = a2 - input_y\n",
    "    d_b2 = 1./m * np.sum(d_l2.T, axis=1, keepdims=False)\n",
    "    d_o2 = d_l2\n",
    "\n",
    "    d_w2 = 1./m * (a1.T @ d_o2)\n",
    "    d_a1 = d_o2 @ w2.T\n",
    "    d_l1 = d_sigmoid(a1)\n",
    "    d_b1 = 1./m * np.sum(d_l1.T, axis=1, keepdims=False)\n",
    "    d_o1 = d_l1\n",
    "    d_w1 = 1./m * (input_x.T @ d_o1)\n",
    "\n",
    "    #=======================================================================#\n",
    "\n",
    "    delta_dict = {\n",
    "        'w2': d_w2,\n",
    "        'b2': d_b2,\n",
    "        'w1': d_w1,\n",
    "        'b1': d_b1,\n",
    "    }\n",
    "\n",
    "    step_num += 1\n",
    "\n",
    "    for w_name in delta_dict:\n",
    "        param_dict[w_name] = {}\n",
    "        param_dict[w_name]['learning_rate'] = learning_rate\n",
    "        param_dict[w_name]['step_num'] = step_num\n",
    "\n",
    "\n",
    "    #==== Essential 2 ======================================================#\n",
    "\n",
    "    # Update\n",
    "    new_w_list = []\n",
    "    for w_name in delta_dict:\n",
    "        w, dw = w_dict[w_name], delta_dict[w_name]\n",
    "\n",
    "        new_w, param_dict[w_name] = optimizer(w, dw, param_dict=param_dict[w_name])\n",
    "        new_w_list += [new_w]\n",
    "\n",
    "    new_w2, new_b2, new_w1, new_b1 = new_w_list\n",
    "\n",
    "    #=======================================================================#\n",
    "    \n",
    "    \n",
    "    if print_ok:\n",
    "        print(f\"\\n\\nResult: Backpropagation {step_num}, Optimizer = '{optimizer.__name__}'\")\n",
    "        aprint(w2, new_w2, name_list=['w2', 'new_w2'])\n",
    "        aprint(b2, new_b2, name_list=['b2', 'new_b2'])\n",
    "        aprint(w1, new_w1, name_list=['w1', 'new_w1'])\n",
    "        aprint(b1, new_b1, name_list=['b1', 'new_b1'])\n",
    "\n",
    "    weight_dict['w1'] = new_w1\n",
    "    weight_dict['b1'] = new_b1\n",
    "    \n",
    "    weight_dict['w2'] = new_w2\n",
    "    weight_dict['b2'] = new_b2\n",
    "    \n",
    "    param_dict['step_num'] = step_num\n",
    "    param_dict['learning_rate'] = learning_rate\n",
    "    \n",
    "\n",
    "    return weight_dict, param_dict"
   ]
  },
  {
   "cell_type": "markdown",
   "metadata": {},
   "source": [
    "#### Exercise : Training"
   ]
  },
  {
   "cell_type": "code",
   "execution_count": null,
   "metadata": {
    "ExecuteTime": {
     "end_time": "2018-12-10T02:37:13.876084Z",
     "start_time": "2018-12-10T02:37:13.848676Z"
    },
    "scrolled": false
   },
   "outputs": [],
   "source": [
    "#--------------------#\n",
    "\n",
    "\"\"\"Parameter Setting.\n",
    "\"\"\"\n",
    "\n",
    "# OPTIMIZER = sgd\n",
    "# OPTIMIZER = sgd_momentum\n",
    "OPTIMIZER = adagrad\n",
    "# OPTIMIZER = rmsprop\n",
    "# OPTIMIZER = adam\n",
    "\n",
    "MAX_STEP = 30\n",
    "LEARNING_RATE = 0.005\n",
    "\n",
    "#--------------------#\n",
    "\n",
    "\n",
    "print_ok = False\n",
    "p_dict = {}\n",
    "p_dict['learning_rate'] = LEARNING_RATE\n",
    "p_dict['step_num'] = 0\n",
    "w_dict = None\n",
    "output_list = []\n",
    "\n",
    "\n",
    "#==== Essential ========================================================#\n",
    "\n",
    "for _ in range(MAX_STEP):\n",
    "    output, w_dict = forward_propagation(\n",
    "        arr_x1,\n",
    "        weight_dict=w_dict,\n",
    "        print_ok=print_ok,\n",
    "    )\n",
    "    w_dict, p_dict = backward_propagation(\n",
    "        arr_x1,\n",
    "        arr_y1,\n",
    "        loss_func=mean_squared_error,\n",
    "        weight_dict=w_dict,\n",
    "        param_dict=p_dict,\n",
    "        optimizer=OPTIMIZER,\n",
    "        print_ok=print_ok,\n",
    "    )\n",
    "    output_list += [output]\n",
    "    \n",
    "#=======================================================================#\n",
    "\n",
    "\n",
    "    if _ % (MAX_STEP // 10) >= 9:\n",
    "        print('Step_num :', p_dict['step_num'])\n",
    "        aprint(\n",
    "            output_list[0],\n",
    "            output,\n",
    "            arr_y1,\n",
    "            name_list=['1st OUTPUT', 'LAST OUTPUT', 'GROUND TRUTH'],\n",
    "            decimals=3,\n",
    "        )\n",
    "        print('')\n",
    "\n",
    "last_output, _ = forward_propagation(\n",
    "    arr_x1,\n",
    "    weight_dict=w_dict,\n",
    "    print_ok=False,\n",
    ")"
   ]
  },
  {
   "cell_type": "markdown",
   "metadata": {},
   "source": [
    "### MLP Summary\n",
    "\n",
    "\n",
    "RNN으로 넘어가기 전에, MLP 작동 프로세스를 한번 더 확인해 보자.\n",
    "<br>\n",
    "\n",
    "<font size='4'> <b> $\\cdot$ 계산 흐름 : MLP</b></font>\n",
    "<img src='images/mlp/mlp_compute_flow.gif' width='100%'>"
   ]
  },
  {
   "cell_type": "markdown",
   "metadata": {},
   "source": [
    "# References\n",
    "\n",
    "https://wiseodd.github.io/techblog/2016/06/22/nn-optimization/  \n",
    "https://towardsdatascience.com/illustrated-guide-to-lstms-and-gru-s-a-step-by-step-explanation-44e9eb85bf21"
   ]
  }
 ],
 "metadata": {
  "kernelspec": {
   "display_name": "Tensorflow Python3.6 (conda env)",
   "language": "python",
   "name": "tf-py36"
  },
  "language_info": {
   "codemirror_mode": {
    "name": "ipython",
    "version": 3
   },
   "file_extension": ".py",
   "mimetype": "text/x-python",
   "name": "python",
   "nbconvert_exporter": "python",
   "pygments_lexer": "ipython3",
   "version": "3.6.7"
  },
  "latex_envs": {
   "LaTeX_envs_menu_present": true,
   "autoclose": false,
   "autocomplete": true,
   "bibliofile": "biblio.bib",
   "cite_by": "apalike",
   "current_citInitial": 1,
   "eqLabelWithNumbers": true,
   "eqNumInitial": 1,
   "hotkeys": {
    "equation": "Ctrl-E",
    "itemize": "Ctrl-I"
   },
   "labels_anchors": false,
   "latex_user_defs": false,
   "report_style_numbering": false,
   "user_envs_cfg": false
  },
  "toc": {
   "base_numbering": 1,
   "nav_menu": {
    "height": "638px",
    "width": "488px"
   },
   "number_sections": true,
   "sideBar": true,
   "skip_h1_title": false,
   "title_cell": "Table of Contents",
   "title_sidebar": "Contents",
   "toc_cell": false,
   "toc_position": {
    "height": "1169px",
    "left": "40px",
    "top": "110px",
    "width": "386.266px"
   },
   "toc_section_display": true,
   "toc_window_display": true
  },
  "varInspector": {
   "cols": {
    "lenName": 16,
    "lenType": 16,
    "lenVar": 40
   },
   "kernels_config": {
    "python": {
     "delete_cmd_postfix": "",
     "delete_cmd_prefix": "del ",
     "library": "var_list.py",
     "varRefreshCmd": "print(var_dic_list())"
    },
    "r": {
     "delete_cmd_postfix": ") ",
     "delete_cmd_prefix": "rm(",
     "library": "var_list.r",
     "varRefreshCmd": "cat(var_dic_list()) "
    }
   },
   "position": {
    "height": "420.969px",
    "left": "2041.66px",
    "right": "20px",
    "top": "114.969px",
    "width": "484.766px"
   },
   "types_to_exclude": [
    "module",
    "function",
    "builtin_function_or_method",
    "instance",
    "_Feature"
   ],
   "window_display": true
  }
 },
 "nbformat": 4,
 "nbformat_minor": 2
}
