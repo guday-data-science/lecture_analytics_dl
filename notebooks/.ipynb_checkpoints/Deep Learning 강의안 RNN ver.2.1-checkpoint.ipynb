{
 "cells": [
  {
   "cell_type": "markdown",
   "metadata": {},
   "source": [
    "# Analysis 과정 - Deep Learning"
   ]
  },
  {
   "cell_type": "markdown",
   "metadata": {},
   "source": [
    "## 강의 개요\n",
    "\n",
    "\n",
    "* <font size='4'>왜 딥러닝인가?</font>  \n",
    "  - 통계, 머신러닝, 딥러닝의 차이\n",
    "  - 딥러닝으로 풀 수 있는 문제\n",
    "\n",
    "\n",
    "* <font size='4'>딥러닝의 원리</font>\n",
    "  - 학습이란?\n",
    "  - 어떻게 데이터를 학습하는가\n",
    "\n",
    "\n",
    "* <font size='4'>딥러닝의 구조</font>\n",
    "  - <b>입력 $\\rightarrow$ 모델 $\\rightarrow$ 출력</b>\n",
    "  - <b>Layer</b> : 모델의 구성단위\n",
    "  - <b>Activation</b> : 비선형 모델로 가는 길\n",
    "  - <b>Bias</b> : 영점조절\n",
    "\n",
    "\n",
    "\n",
    "* <font size='4'>학습으로 돌아와서</font>\n",
    "  - <b>Train Set</b> : 기출 문제은행\n",
    "  - <b>Batch</b> : 모의고사\n",
    "  - <b>Epoch</b> : 1회독\n",
    "  - <b>Step</b> : 모의고사 응시횟수\n",
    "  - <b>Loss</b> : 시험점수\n",
    "  - <b>Gradient</b> : 공부방향\n",
    "  - <b>Optimization</b> : 공부방법\n",
    "  - <b>Backpropagation</b> : 오답노트, 복습\n",
    "\n",
    "\n",
    "* <font size='4'>모델 평가</font>\n",
    "  - <b>Accuracy</b> : 문제은행\n",
    "  - <b>Batch</b> : 모의고사\n",
    "  - <b>Epoch</b> : 1회독\n",
    "  - <b>Step</b> : 모의고사 응시횟수\n",
    "\n",
    "\n",
    "* <font size='4'>딥러닝의 발전</font>\n",
    "  - <font size='3'><b>MLP</b></font> : 다 엮어보자! 죄다 연결된 신경망 (Fully Connected), 빡빡한 신경망 (Dense)\n",
    "  - <font size='3'><b>CNN</b></font> : Image를 부분으로 쪼개서 조금씩 보자!\n",
    "  - <font size='3'><b>RNN</b></font> : Data 순서에 의미가 있다면? 과거를 기억하자  \n",
    "    - <font size='2'><b>Advanced RNN</b></font> : 기억력 향상  \n"
   ]
  },
  {
   "cell_type": "markdown",
   "metadata": {},
   "source": [
    "### 강의 진행 과정\n",
    "\n",
    "* 기본\n",
    "  1. 실습 진행 ( Code Review & 작성 )\n",
    "    - `keras`\n",
    "  2. 개념 설명\n",
    "  3. 개념 이해 ( Code Review )\n",
    "    - `numpy`\n",
    "\n",
    "\n",
    "* 심화\n",
    "  1. 개념 반복\n",
    "  1. 실습 진행\n",
    "    - `tensorflow`\n"
   ]
  },
  {
   "cell_type": "markdown",
   "metadata": {},
   "source": [
    "## Input"
   ]
  },
  {
   "cell_type": "code",
   "execution_count": null,
   "metadata": {
    "ExecuteTime": {
     "end_time": "2018-12-10T02:37:56.706199Z",
     "start_time": "2018-12-10T02:37:54.674042Z"
    }
   },
   "outputs": [],
   "source": [
    "import numpy as np\n",
    "import pandas as pd\n",
    "from pprint import pprint\n",
    "from unipy import aprint, lprint\n",
    "\n",
    "import matplotlib.pyplot as plt\n",
    "\n",
    "import importlib\n",
    "from src import examples\n",
    "from src.utils import lprint, qprint, keras_lossplot, keras_predict_plot\n",
    "from src.layers import sigmoid\n",
    "\n",
    "importlib.reload(examples)\n",
    "\n",
    "\n",
    "from src.load_data import column_range_scaler, load_data"
   ]
  },
  {
   "cell_type": "markdown",
   "metadata": {},
   "source": [
    "### Loading"
   ]
  },
  {
   "cell_type": "code",
   "execution_count": null,
   "metadata": {
    "ExecuteTime": {
     "end_time": "2018-12-10T02:37:56.766053Z",
     "start_time": "2018-12-10T02:37:56.710590Z"
    }
   },
   "outputs": [],
   "source": [
    "rawdata = pd.read_csv(\n",
    "    'data/data_10min.csv',\n",
    "    parse_dates=['EVT_DTM'],\n",
    "    dtype={\n",
    "        'VEND_ID': 'str',\n",
    "        'ENB_ID': 'str',\n",
    "        'CELL_ID': 'str',\n",
    "        'FREQ_TYP_CD': 'str',\n",
    "    }\n",
    ")\n",
    "\n",
    "kpi_list = ['CQI', 'UE_TX_POWER', 'DL_PRB_USAGE_RATE']\n",
    "\n",
    "rawdata.head(20)"
   ]
  },
  {
   "cell_type": "code",
   "execution_count": null,
   "metadata": {
    "ExecuteTime": {
     "end_time": "2018-12-10T02:37:57.486782Z",
     "start_time": "2018-12-10T02:37:56.768754Z"
    }
   },
   "outputs": [],
   "source": [
    "print(rawdata['CQI'][:500].plot(figsize=(20, 8)))"
   ]
  },
  {
   "cell_type": "code",
   "execution_count": null,
   "metadata": {
    "ExecuteTime": {
     "end_time": "2018-12-10T02:37:58.237903Z",
     "start_time": "2018-12-10T02:37:57.491125Z"
    }
   },
   "outputs": [],
   "source": [
    "print(rawdata[kpi_list][:500].plot(figsize=(20, 8)))"
   ]
  },
  {
   "cell_type": "markdown",
   "metadata": {},
   "source": [
    "### Scaling"
   ]
  },
  {
   "cell_type": "code",
   "execution_count": null,
   "metadata": {
    "ExecuteTime": {
     "end_time": "2018-12-10T02:37:58.255827Z",
     "start_time": "2018-12-10T02:37:58.242550Z"
    }
   },
   "outputs": [],
   "source": [
    "kpi_range_dict = {\n",
    "    'CQI': [0, 15],\n",
    "    'UE_TX_POWER': [-17, 23],\n",
    "    'DL_PRB_USAGE_RATE': [0, 100],\n",
    "}\n",
    "\n",
    "data_scaled, scaler_dict = column_range_scaler(\n",
    "    rawdata[kpi_list],\n",
    "    vendor_name='SS',\n",
    "    col_real_range_dict=kpi_range_dict,\n",
    "    feature_range=(0., 1.),\n",
    ")"
   ]
  },
  {
   "cell_type": "code",
   "execution_count": null,
   "metadata": {
    "ExecuteTime": {
     "end_time": "2018-12-10T02:37:59.019082Z",
     "start_time": "2018-12-10T02:37:58.258537Z"
    }
   },
   "outputs": [],
   "source": [
    "print(data_scaled[:500].plot(figsize=(20, 8)))"
   ]
  },
  {
   "cell_type": "code",
   "execution_count": null,
   "metadata": {
    "ExecuteTime": {
     "end_time": "2018-12-10T02:37:59.035470Z",
     "start_time": "2018-12-10T02:37:59.021681Z"
    }
   },
   "outputs": [],
   "source": [
    "data_scaled.head()"
   ]
  },
  {
   "cell_type": "markdown",
   "metadata": {},
   "source": [
    "### Sliding Window (`RNN`)"
   ]
  },
  {
   "cell_type": "markdown",
   "metadata": {},
   "source": [
    "이번에는 `Time`축과 `KPI` 축을 모두 고려해 보자.\n",
    "\n",
    "<br>\n",
    "<font size='4'> <b> $\\cdot$ Case 3:</b> 여러 시점의 KPI로 다음 KPI 예측하기 (3 KPI)</font>\n",
    "<br>\n",
    "<br>\n",
    "\n",
    "<img src=\"images/rnn/rnn_graphset01.png\" >\n",
    "<br>\n",
    "\n",
    "<br>\n",
    "<font size='4'> <b> $\\cdot$ 데이터 구조</b></font>\n",
    "<br>\n",
    "\n",
    "<img src=\"images/sliding_windows_rnn.png\" >\n",
    "<img src=\"images/sliding_windows_rnn_reshaping.png\" >\n",
    "\n",
    "[Link to RNN Model](#(실습)-RNN-in-keras:-many-to-many)"
   ]
  },
  {
   "cell_type": "markdown",
   "metadata": {},
   "source": [
    "#### Exercise 1 : Basic"
   ]
  },
  {
   "cell_type": "code",
   "execution_count": null,
   "metadata": {
    "ExecuteTime": {
     "end_time": "2018-12-10T02:37:59.067079Z",
     "start_time": "2018-12-10T02:37:59.037981Z"
    },
    "scrolled": false
   },
   "outputs": [],
   "source": [
    "case_list = []\n",
    "for i in range(4):\n",
    "    case_list += [data_scaled[i:i+7]]\n",
    "\n",
    "case_list"
   ]
  },
  {
   "cell_type": "markdown",
   "metadata": {},
   "source": [
    "#### Exercise 2 : Sliding Window"
   ]
  },
  {
   "cell_type": "code",
   "execution_count": null,
   "metadata": {
    "ExecuteTime": {
     "end_time": "2018-12-10T02:37:59.073862Z",
     "start_time": "2018-12-10T02:37:59.069769Z"
    }
   },
   "outputs": [],
   "source": [
    "from ipywidgets import interact, interactive, fixed, interact_manual, interactive_output\n",
    "import ipywidgets as widgets\n",
    "from IPython.display import display\n",
    "from pprint import pprint"
   ]
  },
  {
   "cell_type": "code",
   "execution_count": null,
   "metadata": {
    "ExecuteTime": {
     "end_time": "2018-12-10T02:37:59.168131Z",
     "start_time": "2018-12-10T02:37:59.076078Z"
    }
   },
   "outputs": [],
   "source": [
    "@interact(\n",
    "    case_num=widgets.IntSlider(min=1, max=10, step=1, value=2),\n",
    "    window_size=widgets.IntSlider(min=2, max=10, step=1, value=7),\n",
    "    kpi_num=widgets.IntSlider(min=1, max=3, step=1, value=3),\n",
    ")\n",
    "def shape_print(case_num, window_size, kpi_num):\n",
    "\n",
    "    data_cnt = case_num\n",
    "    input_size = window_size\n",
    "    input_dim = kpi_num\n",
    "\n",
    "    print(\n",
    "        '=' * 51 +\n",
    "        '\\n (data_cnt, input_size, input_dim)  ' +\n",
    "        ':' +\n",
    "        f'  ({data_cnt}, {input_size}, {input_dim})\\n' +\n",
    "        '=' * 51 + \n",
    "        '\\n',\n",
    "    )\n",
    "\n",
    "    \n",
    "    #==== Essential ========================================================#\n",
    "\n",
    "    case_list = []\n",
    "    for i in range(data_cnt):\n",
    "        case_list += [(\n",
    "            'X ' +  '=' * 40,\n",
    "            data_scaled.iloc[i:i+input_size, :input_dim],\n",
    "        )]\n",
    "\n",
    "    #=======================================================================#\n",
    "\n",
    "\n",
    "    pprint(case_list)"
   ]
  },
  {
   "cell_type": "markdown",
   "metadata": {},
   "source": [
    "#### Exercise 3 : Sliding Window `(X & Y)`"
   ]
  },
  {
   "cell_type": "code",
   "execution_count": null,
   "metadata": {
    "ExecuteTime": {
     "end_time": "2018-12-10T02:37:59.307634Z",
     "start_time": "2018-12-10T02:37:59.171232Z"
    }
   },
   "outputs": [],
   "source": [
    "@interact(\n",
    "    case_num=widgets.IntSlider(min=1, max=10, step=1, value=2),\n",
    "    window_x=widgets.IntSlider(min=2, max=5, step=1, value=5),\n",
    "    window_y=widgets.IntSlider(min=1, max=5, step=1, value=2),\n",
    "    input_kpi_num=widgets.IntSlider(min=1, max=3, step=1, value=3),\n",
    "    output_kpi_num=widgets.IntSlider(min=1, max=3, step=1, value=3),\n",
    ")\n",
    "def shape_print(case_num, window_x, window_y, input_kpi_num, output_kpi_num):\n",
    "\n",
    "    data_cnt = case_num\n",
    "    input_size = window_x\n",
    "    output_size = window_y\n",
    "    window_size = input_size + output_size\n",
    "    input_dim = input_kpi_num\n",
    "    output_dim = output_kpi_num\n",
    "\n",
    "    print(\n",
    "        '=' * 60 +\n",
    "        '\\n [X]: (data_cnt, input_size,  input_dim )  ' +\n",
    "        ':' +\n",
    "        f'  ({data_cnt}, {input_size}, {input_dim})' +\n",
    "        '\\n [Y]: (data_cnt, output_size, output_dim)  ' +\n",
    "        ':' +\n",
    "        f'  ({data_cnt}, {output_size}, {output_dim})\\n' +\n",
    "        '=' * 60 + \n",
    "        '\\n',\n",
    "    )\n",
    "    \n",
    "    #==== Essential ========================================================#\n",
    "\n",
    "    case_list = []\n",
    "    for i in range(data_cnt):\n",
    "        case_list += [(\n",
    "            'X ' +  '=' * 40,\n",
    "            data_scaled.iloc[i:i+input_size, :input_dim],\n",
    "            'Y ' +  '-' * 40,\n",
    "            data_scaled.iloc[i+input_size:i+input_size+output_size, :output_dim],\n",
    "        )]\n",
    " \n",
    "    #=======================================================================#\n",
    "    \n",
    "\n",
    "    pprint(case_list)"
   ]
  },
  {
   "cell_type": "code",
   "execution_count": null,
   "metadata": {
    "ExecuteTime": {
     "end_time": "2018-12-10T02:38:02.472311Z",
     "start_time": "2018-12-10T02:37:59.310253Z"
    }
   },
   "outputs": [],
   "source": [
    "def sliding_window_rnn(data, data_cnt, input_size, output_size, input_dim, output_dim):\n",
    "\n",
    "    case_x_list = []\n",
    "    case_y_list = []\n",
    "    \n",
    "    data_rownum = data.shape[0]\n",
    "    max_data_cnt = data_rownum - (input_size + output_size) + 1\n",
    "    \n",
    "    if data_cnt is None:\n",
    "        data_cnt = max_data_cnt\n",
    "    else:\n",
    "        data_cnt = min(data_cnt, max_data_cnt)\n",
    "    \n",
    "    \n",
    "    #==== Essential ========================================================#\n",
    "    \n",
    "    for i in range(data_cnt):\n",
    "        case_x_list += [data_scaled.iloc[i:i+input_size, :input_dim].values]\n",
    "        case_y_list += [data_scaled.iloc[i+input_size:i+input_size+output_size, :output_dim].values]\n",
    "\n",
    "    #=======================================================================#\n",
    "\n",
    "\n",
    "    print(\n",
    "        '=' * 60 +\n",
    "        '\\n [X]: (data_cnt, input_size,  input_dim )  ' +\n",
    "        ':' +\n",
    "        f'  ({data_cnt}, {input_size}, {input_dim})' +\n",
    "        '\\n [Y]: (data_cnt, output_size, output_dim)  ' +\n",
    "        ':' +\n",
    "        f'  ({data_cnt}, {output_size}, {output_dim})\\n' +\n",
    "        '=' * 60 + \n",
    "        '\\n',\n",
    "    )\n",
    "        \n",
    "    return np.stack(case_x_list), np.stack(case_y_list)\n",
    "\n",
    "\n",
    "#==== Essential ========================================================#\n",
    "\n",
    "data_x_rnn, data_y_rnn = sliding_window_rnn(\n",
    "    data_scaled,\n",
    "    data_cnt=data_scaled.shape[0],\n",
    "    input_size=5,\n",
    "    output_size=2,\n",
    "    input_dim=3,\n",
    "    output_dim=2,\n",
    ")\n",
    "\n",
    "#=======================================================================#\n",
    "\n",
    "\n",
    "aprint(data_x_rnn[:5], data_y_rnn[:5], name_list=['data_x_rnn[:5]', 'data_y_rnn[:5]'])"
   ]
  },
  {
   "cell_type": "markdown",
   "metadata": {},
   "source": [
    "### Splitting data : Train & Test"
   ]
  },
  {
   "cell_type": "code",
   "execution_count": null,
   "metadata": {
    "ExecuteTime": {
     "end_time": "2018-12-10T02:38:02.482752Z",
     "start_time": "2018-12-10T02:38:02.475729Z"
    }
   },
   "outputs": [],
   "source": [
    "# train_x_mlp, test_x_mlp = data_x_mlp[:4000], data_x_mlp[4000:]\n",
    "# train_y_mlp, test_y_mlp = data_y_mlp[:4000], data_y_mlp[4000:]\n",
    "\n",
    "\n",
    "train_x_rnn, test_x_rnn = data_x_rnn[:4000], data_x_rnn[4000:]\n",
    "train_y_rnn, test_y_rnn = data_y_rnn[:4000], data_y_rnn[4000:]"
   ]
  },
  {
   "cell_type": "code",
   "execution_count": null,
   "metadata": {
    "ExecuteTime": {
     "end_time": "2018-12-10T02:38:02.503023Z",
     "start_time": "2018-12-10T02:38:02.485077Z"
    }
   },
   "outputs": [],
   "source": [
    "data_dict = load_data()\n",
    "\n",
    "train_x_rnn = data_dict['train_x_rnn']\n",
    "train_y_rnn = data_dict['train_y_rnn']\n",
    "test_x_rnn = data_dict['test_x_rnn']\n",
    "test_y_rnn = data_dict['test_y_rnn']"
   ]
  },
  {
   "cell_type": "markdown",
   "metadata": {},
   "source": [
    "## (실습) RNN in `keras`"
   ]
  },
  {
   "cell_type": "markdown",
   "metadata": {},
   "source": [
    "이번에는 `Time`축과 `KPI` 축을 모두 고려해 보자.\n",
    "\n",
    "<br>\n",
    "<font size='4'> <b> $\\cdot$ Case 3:</b> 여러 시점의 KPI로 다음 KPI 예측하기 (3 KPI)</font>\n",
    "<br>\n",
    "<br>\n",
    "\n",
    "<img src=\"images/rnn/rnn_graphset01.png\" >\n",
    "<br>\n",
    "\n",
    "<br>\n",
    "<font size='4'> <b> $\\cdot$ 데이터 구조</b></font>\n",
    "<br>\n",
    "\n",
    "<img src=\"images/sliding_windows_rnn.png\" >\n",
    "<img src=\"images/sliding_windows_rnn_reshaping.png\" >\n",
    "\n",
    "[Link to RNN Input](#Sliding-Window-(RNN))"
   ]
  },
  {
   "cell_type": "markdown",
   "metadata": {},
   "source": [
    "<br>\n",
    "<br>\n",
    "<font size='4'> <b> $\\cdot$ 계산 흐름 : RNN</b></font>\n",
    "<img src=\"images/rnn/rnn_compute_flow.gif\" >\n",
    "<br>\n",
    "\n",
    "<font size='4'> <b> $\\cdot$ 코드 리뷰 : RNN</b></font>\n",
    "<img src=\"images/rnn/rnn_keras_without_projection.png\" >\n",
    "\n",
    "[Link to RNN Input](#Sliding-Window-(RNN))"
   ]
  },
  {
   "cell_type": "markdown",
   "metadata": {},
   "source": [
    "<div class=\"alert alert-block alert-info\">\n",
    "<b>$\\divideontimes$ State 란 : </b> \n",
    "\n",
    "RNN Framework에서 사용하는 `state`는 상태라는 뜻이며, 입력값의 순서를 기억하는 메모리를 의미한다.\n",
    "\n",
    "<br>\n",
    "\n",
    "3개의 값이 입력된다고 했을 때,  \n",
    "MLP 모델은 <b>1회 입력(3개) $\\rightarrow$ 1회 출력</b> 방식이라면  \n",
    "RNN 모델은 <b>3회 입력(1개씩) $\\rightarrow$ 3회 출력</b> 구조로 이루어져 있다.\n",
    "\n",
    "코드로 차이를 확인해 보자.\n",
    "* MLP\n",
    "\n",
    "```py\n",
    "Y = []\n",
    "Y = f(X)\n",
    "\n",
    "return Y\n",
    "```\n",
    "\n",
    "* RNN\n",
    "\n",
    "```py\n",
    "memory = 0\n",
    "Y = []\n",
    "\n",
    "for x in X:\n",
    "    y, memory = f(x, memory)\n",
    "    Y.append(y)\n",
    "\n",
    "return Y\n",
    "```\n",
    "\n",
    "`X`값과 같이 입력되고, `Y`값과 함께 출력되며 갱신된다.\n",
    "\n",
    "<b>이렇게 메모리로 현재 상태에 대한 정보(기억)를 업데이트하는 특징</b>이\n",
    "RNN이 'Recursive'가 아닌 'Recurrent'인 이유이다.\n",
    "\n",
    "<br>\n",
    "<br>\n",
    "<br>\n",
    "<font size='5'><center><b><i>\"`state`로 과거를 기억해서 새로운 Input과 조합한다.\"</i></b></center></font>\n",
    "<br>\n",
    "<br>\n",
    "</div>\n",
    "<br>"
   ]
  },
  {
   "cell_type": "code",
   "execution_count": null,
   "metadata": {
    "ExecuteTime": {
     "end_time": "2018-12-10T02:38:04.299547Z",
     "start_time": "2018-12-10T02:38:02.505458Z"
    }
   },
   "outputs": [],
   "source": [
    "import keras.backend as K\n",
    "from keras import Model, Sequential\n",
    "from keras.layers import (Input, Dense, Activation, Lambda,\n",
    "                          SimpleRNNCell, SimpleRNN, RNN, TimeDistributed)\n",
    "\n",
    "from keras.losses import mean_squared_error"
   ]
  },
  {
   "cell_type": "markdown",
   "metadata": {},
   "source": [
    "### RNN Model"
   ]
  },
  {
   "cell_type": "code",
   "execution_count": null,
   "metadata": {
    "ExecuteTime": {
     "end_time": "2018-12-10T02:38:04.309111Z",
     "start_time": "2018-12-10T02:38:04.302513Z"
    }
   },
   "outputs": [],
   "source": [
    "train_x_rnn.shape"
   ]
  },
  {
   "cell_type": "code",
   "execution_count": null,
   "metadata": {
    "ExecuteTime": {
     "end_time": "2018-12-10T02:38:04.481810Z",
     "start_time": "2018-12-10T02:38:04.311310Z"
    }
   },
   "outputs": [],
   "source": [
    "input_layer = Input(shape=(5, 3))\n",
    "rnn_cell = SimpleRNNCell(2, activation=None)\n",
    "rnn_layer = RNN(rnn_cell, return_sequences=True, return_state=True)\n",
    "subset_layer = Lambda(lambda x: x[:, -2:, :])\n",
    "\n",
    "rnn_outputs, rnn_hidden_state = rnn_layer(input_layer)\n",
    "output = subset_layer(rnn_outputs)\n",
    "\n",
    "model = Model(inputs=[input_layer], outputs=[output])\n",
    "model.summary()"
   ]
  },
  {
   "cell_type": "markdown",
   "metadata": {},
   "source": [
    "### RNN Building"
   ]
  },
  {
   "cell_type": "code",
   "execution_count": null,
   "metadata": {
    "ExecuteTime": {
     "end_time": "2018-12-10T02:38:04.649037Z",
     "start_time": "2018-12-10T02:38:04.491196Z"
    }
   },
   "outputs": [],
   "source": [
    "model.compile(loss='mean_squared_error', optimizer='adam', metrics=['mae'])"
   ]
  },
  {
   "cell_type": "markdown",
   "metadata": {},
   "source": [
    "### RNN Training"
   ]
  },
  {
   "cell_type": "code",
   "execution_count": null,
   "metadata": {
    "ExecuteTime": {
     "end_time": "2018-12-10T02:38:08.642337Z",
     "start_time": "2018-12-10T02:38:04.656935Z"
    },
    "scrolled": true
   },
   "outputs": [],
   "source": [
    "fitted = model.fit(\n",
    "    train_x_rnn,\n",
    "    train_y_rnn[:, :, :2],\n",
    "    batch_size=32,\n",
    "    epochs=10,\n",
    "    validation_split=.2,\n",
    "    verbose=1,            # [verbose] 1: progress bar, 2: one line per epoch\n",
    "    shuffle=True,\n",
    ")"
   ]
  },
  {
   "cell_type": "markdown",
   "metadata": {},
   "source": [
    "### RNN Evaluation"
   ]
  },
  {
   "cell_type": "code",
   "execution_count": null,
   "metadata": {
    "ExecuteTime": {
     "end_time": "2018-12-10T02:38:09.068144Z",
     "start_time": "2018-12-10T02:38:08.645265Z"
    }
   },
   "outputs": [],
   "source": [
    "keras_lossplot(model)"
   ]
  },
  {
   "cell_type": "code",
   "execution_count": null,
   "metadata": {
    "ExecuteTime": {
     "end_time": "2018-12-10T02:38:09.087758Z",
     "start_time": "2018-12-10T02:38:09.070713Z"
    }
   },
   "outputs": [],
   "source": [
    "model.evaluate(test_x_rnn, test_y_rnn)"
   ]
  },
  {
   "cell_type": "markdown",
   "metadata": {},
   "source": [
    "### RNN Prediction (Inference)"
   ]
  },
  {
   "cell_type": "code",
   "execution_count": null,
   "metadata": {
    "ExecuteTime": {
     "end_time": "2018-12-10T02:38:09.096577Z",
     "start_time": "2018-12-10T02:38:09.090211Z"
    },
    "scrolled": true
   },
   "outputs": [],
   "source": [
    "test_x_rnn[:1]"
   ]
  },
  {
   "cell_type": "code",
   "execution_count": null,
   "metadata": {
    "ExecuteTime": {
     "end_time": "2018-12-10T02:38:09.153106Z",
     "start_time": "2018-12-10T02:38:09.099283Z"
    }
   },
   "outputs": [],
   "source": [
    "model.predict(test_x_rnn[:1])"
   ]
  },
  {
   "cell_type": "code",
   "execution_count": null,
   "metadata": {
    "ExecuteTime": {
     "end_time": "2018-12-10T02:38:09.161628Z",
     "start_time": "2018-12-10T02:38:09.155314Z"
    },
    "scrolled": true
   },
   "outputs": [],
   "source": [
    "test_y_rnn[:1]"
   ]
  },
  {
   "cell_type": "code",
   "execution_count": null,
   "metadata": {
    "ExecuteTime": {
     "end_time": "2018-12-10T02:38:10.016580Z",
     "start_time": "2018-12-10T02:38:09.163952Z"
    }
   },
   "outputs": [],
   "source": [
    "keras_predict_plot(model, test_x_rnn, test_y_rnn, method='rnn')"
   ]
  },
  {
   "cell_type": "markdown",
   "metadata": {},
   "source": [
    "## (개념) RNN: Recurrent Neural Networks"
   ]
  },
  {
   "cell_type": "markdown",
   "metadata": {},
   "source": [
    "우선, 데이터를 보면서 이야기해 보자.\n",
    "\n",
    "<br>\n",
    "\n",
    "<img src=\"images/rnn/rnn_graphset01.png\" >\n",
    "<br>\n"
   ]
  },
  {
   "cell_type": "markdown",
   "metadata": {},
   "source": [
    "`MLP`, `CNN` 등 다른 딥러닝 구조는 한 시점의 데이터 Snapshot을 Input으로 활용한다.  \n",
    "즉, 시간 $t$ 에 따른 상태 변화를 반영하지는 못한다.  \n",
    "Time에 해당하는 Row를 길게 가져가더라도, 값을 한번에 확인해 버린다.  \n",
    "값의 순서를 따져서 기억하고 다음 순서에 반영하는 부분이 없다.\n",
    "<br>\n",
    "<font size='3'><font color='#00000'><b><i>이 때의 패턴은 생김새, 형태에 가깝다.</i></b></font></font>\n",
    "\n",
    "\n",
    "이에 반해 `RNN`에서는 Input을 하나씩 차례대로 받아들인다.  \n",
    "값의 순서와 변화를 기억해서, 나중 값을 받아 들일 때 기억을 반영해 판단한다.\n",
    "<br>\n",
    "그래서 <font size='3'><font color='#318CE7'><b><i>RNN에서의 패턴은 순서를 의미하게 된다.</i></b></font></font>\n",
    "\n",
    "<div class=\"alert alert-block alert-warning\">\n",
    "<b>$\\divideontimes$ RNN의 특징: </b> 데이터를 차례대로 확인하며 순서를 기억한다.\n",
    "<br>\n",
    "<br>\n",
    "<font size='5'>$$[2 \\times 3]=[Data \\space 개수, Data \\space 차원]$$  </font>\n",
    "\n",
    "</div>  "
   ]
  },
  {
   "cell_type": "markdown",
   "metadata": {},
   "source": [
    "<br>\n",
    "<font size='5'><center><b><i>\"데이터 순서를 기억해 보자\"</i></b></center></font>\n",
    "\n",
    "<img src='images/rnn/rnn_compute_flow.gif' width='100%'>\n",
    "\n",
    "\n",
    "<div class=\"alert alert-block alert-warning\">\n",
    "<b>$\\cdot$ RNN Input Flow : </b> \n",
    "\n",
    "\n",
    "입력받은 Data를 한 번에 처리하지 않고, $t$의 변화에 따라 Sequential하게 받아들임.  \n",
    "이전 시점 $t-1$의 State($h_{t-1}$)를 입력받아  \n",
    "현재 시점 $t$에 Input($x_{t}$)과 State($h_{t-1}$)을 이용하여 Output($\\hat y_{t}$)을 출력하고,  \n",
    "다음 시점 $t+1$에 State($h_{t}$)를 전달하게 됨.\n",
    "\n",
    "<br>\n",
    "<font size='4'>$$ \\hat y_{t}, h_{t} = f(x_{t}, h_{t-1})$$</font>\n",
    "\n",
    "<br>\n",
    "$$h_{\\langle t \\rangle} = \\tanh(W^{a} h_{\\langle t-1 \\rangle} + W^{b} x_{\\langle t \\rangle} + b^a)\\tag{RNN Cell}$$\n",
    "<br>\n",
    "<img src=\"images/rnn/rnn_input_flow.gif\" >\n",
    "<br>\n",
    "\n",
    "</div>\n",
    "\n"
   ]
  },
  {
   "cell_type": "markdown",
   "metadata": {},
   "source": [
    "\n",
    "<img src='images/rnn/rnn_unsymbolized_flow.png' width='75%'>\n",
    "\n",
    "<img src='images/rnn/rnn_symbolized_flow.png' width='75%'>"
   ]
  },
  {
   "cell_type": "markdown",
   "metadata": {},
   "source": [
    "<div class=\"alert alert-block alert-success\">\n",
    "<b>$\\cdot$ RNN에서 <i>'tanh'</i>의 역할 :</b>\n",
    "\n",
    "- without `tanh` : 이전 $t-1$ 상태가 normalize되지 못하고 그대로 반영되어 $t$ 시점의 `input`값의 크기와 관계없는 결과값 출력.\n",
    "  <img src=\"images/rnn/rnn_without_tanh_output.gif\">  \n",
    "- with `tanh`: 출력값의 범위를 제한(regularize)하여 $t$ 시점의 `state`와 `input`을 골고루 반영. \n",
    "  <img src=\"images/rnn/rnn_with_tanh_output.gif\">  \n",
    "\n",
    "<br>\n",
    "\n",
    "</div>\n"
   ]
  },
  {
   "cell_type": "markdown",
   "metadata": {},
   "source": [
    "<font size='4'>아래와 같은 RNN 모델을 짜 보자.</font>\n",
    "<br>\n",
    "<br>\n",
    "\n",
    "<img src='images/rnn/rnn_unsymbolized_flow_batch.png'>"
   ]
  },
  {
   "cell_type": "markdown",
   "metadata": {},
   "source": [
    "### Input"
   ]
  },
  {
   "cell_type": "code",
   "execution_count": null,
   "metadata": {
    "ExecuteTime": {
     "end_time": "2018-12-10T02:38:10.027344Z",
     "start_time": "2018-12-10T02:38:10.019212Z"
    }
   },
   "outputs": [],
   "source": [
    "arr_x = train_x_rnn[:2].round(2)\n",
    "arr_x1 = train_x_rnn[0].round(2)\n",
    "\n",
    "aprint(arr_x, arr_x1, name_list=['arr_x', 'arr_x1'])"
   ]
  },
  {
   "cell_type": "markdown",
   "metadata": {},
   "source": [
    "### Output"
   ]
  },
  {
   "cell_type": "code",
   "execution_count": null,
   "metadata": {
    "ExecuteTime": {
     "end_time": "2018-12-10T02:38:10.040331Z",
     "start_time": "2018-12-10T02:38:10.029642Z"
    }
   },
   "outputs": [],
   "source": [
    "arr_y = train_y_rnn[:2].round(2)\n",
    "arr_y1 = train_y_rnn[0].round(2)\n",
    "\n",
    "aprint(arr_y, arr_y1, name_list=['arr_y', 'arr_y1'])"
   ]
  },
  {
   "cell_type": "markdown",
   "metadata": {},
   "source": [
    "### Layers\n",
    "\n",
    "<br>\n",
    "<br>\n",
    "<font size='4'> <b> $\\cdot$ 계산 흐름 : RNN</b></font>\n",
    "<img src=\"images/rnn/rnn_compute_flow.gif\" >\n",
    "<br>\n",
    "\n",
    "<font size='4'> <b> $\\cdot$ 코드 리뷰 : RNN</b></font>\n",
    "<img src=\"images/rnn/rnn_keras_without_projection.png\" >\n",
    "\n",
    "[Link to RNN Input](#Sliding-Window-(RNN))"
   ]
  },
  {
   "cell_type": "markdown",
   "metadata": {},
   "source": [
    "#### RNN Cell"
   ]
  },
  {
   "cell_type": "code",
   "execution_count": null,
   "metadata": {
    "ExecuteTime": {
     "end_time": "2018-12-10T02:38:10.054188Z",
     "start_time": "2018-12-10T02:38:10.042598Z"
    }
   },
   "outputs": [],
   "source": [
    "from src.layers import dense_layer, sigmoid, tanh\n",
    "\n",
    "\n",
    "def rnn_cell(\n",
    "    input_x,\n",
    "    unit_num=2,\n",
    "    initial_state=None,\n",
    "    activation=tanh,\n",
    "    seed=1,\n",
    "    ):\n",
    "    \n",
    "    input_dim = input_x.shape[-1]\n",
    "    output_dim = unit_num\n",
    "\n",
    "    np.random.seed(seed)\n",
    "\n",
    "\n",
    "    input_w = np.random.random((input_dim, output_dim)).round(2)\n",
    "    state_w = np.random.random((output_dim, output_dim)).round(2)\n",
    "    \n",
    "    input_b = np.random.random((output_dim, )).round(2)\n",
    "    \n",
    "    if initial_state is None:\n",
    "        initial_state = np.random.random((output_dim,)).round(2)\n",
    "\n",
    "    \n",
    "    #==== Essential ========================================================#\n",
    "\n",
    "    ht_0 = initial_state\n",
    "    xt = input_x\n",
    "    \n",
    "    ht = (xt @ input_w) + input_b\n",
    "    \n",
    "    output = ht + (ht_0 @ state_w)\n",
    "\n",
    "    if activation:\n",
    "        output = activation(output)\n",
    "\n",
    "    #=======================================================================#\n",
    "\n",
    "    \n",
    "    return output, output"
   ]
  },
  {
   "cell_type": "code",
   "execution_count": null,
   "metadata": {
    "ExecuteTime": {
     "end_time": "2018-12-10T02:38:10.069125Z",
     "start_time": "2018-12-10T02:38:10.056351Z"
    },
    "scrolled": true
   },
   "outputs": [],
   "source": [
    "output, ht = rnn_cell(arr_x1[0])\n",
    "\n",
    "aprint(arr_x1, arr_x1[0], name_list=['arr_x1', '1st time'])\n",
    "aprint(output, ht, name_list=['1st output', 'hidden_state'])"
   ]
  },
  {
   "cell_type": "markdown",
   "metadata": {},
   "source": [
    "#### RNN Flow"
   ]
  },
  {
   "cell_type": "code",
   "execution_count": null,
   "metadata": {
    "ExecuteTime": {
     "end_time": "2018-12-10T02:38:10.084375Z",
     "start_time": "2018-12-10T02:38:10.071479Z"
    }
   },
   "outputs": [],
   "source": [
    "def rnn_flow(\n",
    "    rnn_cell,\n",
    "    input_x,\n",
    "    unit_num=1,\n",
    "    initial_state=None,\n",
    "    activation=tanh,\n",
    "    seed=1,\n",
    "    ):\n",
    "    \n",
    "    output_dim = unit_num\n",
    "    np.random.seed(seed)\n",
    "    hidden_state = np.random.random((output_dim,)).round(2)\n",
    "    \n",
    "    print(f'\\n=== {0} Timestep ===')\n",
    "    aprint(input_x, hidden_state,\n",
    "        name_list=['xt', 'initial_hidden_state'],\n",
    "        maxlen=20,\n",
    "    )\n",
    "\n",
    "    \n",
    "    output_list = []\n",
    "\n",
    "    #==== Essential ========================================================#\n",
    "\n",
    "    for i, xt in enumerate(input_x):\n",
    "        output_t, hidden_state = rnn_cell(\n",
    "            xt,\n",
    "            unit_num=unit_num,\n",
    "            initial_state=hidden_state,\n",
    "            activation=tanh,\n",
    "            seed=seed,\n",
    "        )\n",
    "        output_list += [output_t]\n",
    "        outputs = np.stack(output_list)\n",
    "\n",
    "        #===================================================================#\n",
    "        \n",
    "        print(f'\\n=== {i+1} Timestep ===')\n",
    "        aprint(xt, output_t, hidden_state,\n",
    "            name_list=['xt', 'output_t', 'hidden_state'],\n",
    "            #maxlen=15,\n",
    "            decimals=3,\n",
    "        )\n",
    "\n",
    "    print(f'\\n=== Final Output ===')\n",
    "    aprint(input_x, outputs, output_t, hidden_state,\n",
    "        name_list=['full_inputs', 'full_outputs', 'output_t', 'hidden_state'],\n",
    "        #maxlen=15,\n",
    "        decimals=3,\n",
    "    )\n",
    "    \n",
    "    return outputs, hidden_state"
   ]
  },
  {
   "cell_type": "code",
   "execution_count": null,
   "metadata": {
    "ExecuteTime": {
     "end_time": "2018-12-10T02:38:10.107220Z",
     "start_time": "2018-12-10T02:38:10.086598Z"
    },
    "scrolled": false
   },
   "outputs": [],
   "source": [
    "(full_output,  last_hidden_state) = rnn_flow(\n",
    "    rnn_cell,\n",
    "    arr_x1,\n",
    "    unit_num=2,\n",
    ")"
   ]
  },
  {
   "cell_type": "markdown",
   "metadata": {},
   "source": [
    "### RNN Batch"
   ]
  },
  {
   "cell_type": "code",
   "execution_count": null,
   "metadata": {
    "ExecuteTime": {
     "end_time": "2018-12-10T02:38:10.124898Z",
     "start_time": "2018-12-10T02:38:10.109464Z"
    }
   },
   "outputs": [],
   "source": [
    "def rnn_flow_batch(\n",
    "    rnn_cell,\n",
    "    input_x,\n",
    "    unit_num=1,\n",
    "    initial_state=None,\n",
    "    activation=np.tanh,\n",
    "    seed=1,\n",
    "    time_major=False,\n",
    "    ):\n",
    "    \n",
    "    output_dim = unit_num\n",
    "    \n",
    "    np.random.seed(seed)\n",
    "    hidden_state = np.random.random((output_dim,)).round(2)\n",
    "    output_list = []\n",
    "\n",
    "    if time_major:\n",
    "        input_x_time_major = input_x\n",
    "        aprint(input_x, hidden_state,\n",
    "            name_list=['input_x', 'initial_hidden_state'],\n",
    "            decimals=3,\n",
    "        )\n",
    "\n",
    "    else:\n",
    "        input_x_time_major = np.swapaxes(input_x, 0, 1)\n",
    "        aprint(input_x, input_x_time_major, hidden_state,\n",
    "            name_list=['input_x', 'time_major_x', 'initial_hidden_state'],\n",
    "            decimals=3,\n",
    "        )\n",
    "\n",
    "\n",
    "    #==== Essential ========================================================#\n",
    "\n",
    "    for i, xt in enumerate(input_x_time_major):\n",
    "        output_t, hidden_state = rnn_cell(\n",
    "            xt,\n",
    "            unit_num=unit_num,\n",
    "            initial_state=hidden_state,\n",
    "            activation=activation,\n",
    "            seed=seed,\n",
    "        )\n",
    "        output_list += [output_t]\n",
    "        outputs_time_major = np.stack(output_list)\n",
    "\n",
    "\n",
    "    #=======================================================================#\n",
    "\n",
    "        print(f'\\n=== {i+1} Timestep ===')\n",
    "        aprint(xt, output_t, hidden_state,\n",
    "            name_list=['xt', 'output_t', 'hidden_state'],\n",
    "            decimals=3,\n",
    "        )\n",
    "\n",
    "\n",
    "    if time_major:\n",
    "        outputs = outputs_time_major\n",
    "    else:\n",
    "        outputs = np.swapaxes(outputs_time_major, 1, 0)\n",
    "    \n",
    "    \n",
    "    print(f'\\n=== Final Output (TIME_MAJOR={time_major})===')\n",
    "    aprint(input_x, outputs, output_t, hidden_state,\n",
    "        name_list=['full_inputs', 'full_outputs', 'output_t', 'hidden_state'],\n",
    "        decimals=3,\n",
    "    )\n",
    "    \n",
    "    return outputs, hidden_state"
   ]
  },
  {
   "cell_type": "code",
   "execution_count": null,
   "metadata": {
    "ExecuteTime": {
     "end_time": "2018-12-10T02:38:10.150200Z",
     "start_time": "2018-12-10T02:38:10.127221Z"
    },
    "scrolled": false
   },
   "outputs": [],
   "source": [
    "full_output, last_hidden_state = rnn_flow_batch(\n",
    "    rnn_cell,\n",
    "    arr_x,\n",
    "    unit_num=2,\n",
    "    time_major=False,\n",
    ")"
   ]
  },
  {
   "cell_type": "markdown",
   "metadata": {},
   "source": [
    "## Advanced RNN\n",
    "\n",
    "- <font size='5'><b> Vanishing Gradient Problem</b> </font>\n",
    "\n",
    "RNN의 입력 데이터는 Sequential한 형태로 구성된다. (<font color='green'>$sequence \\space length$</font>, <font color='brown'>$input \\space dimension$</font>)\n",
    "의 차원을 가지며,  \n",
    "각각 (<font color='green'>$데이터 \\space 길이$</font>, <font color='brown'>$데이터 \\space 크기$</font>)로서 의미를 갖는다.\n",
    "\n",
    " * <font color='green'>seq_length: $t$</font>\n",
    " * <font color='brown'>input_dim : $d$</font>\n",
    "\n",
    "라고 할 때,\n",
    "\n",
    "*__$t$ 가 커질 수록 (입력 데이터의 길이가 길어질 수록)__*, RNN은 __<font color='red'><i>예전 정보를 망각하고</i></font>__ 최근 정보의 영향을 많이 받게 된다.  \n",
    "<br>\n",
    "<img src=\"images/rnn/rnn_vanishing_grad_thru_time.gif\" width='45%' align='left'>  <img src=\"images/rnn/rnn_vanishing_grad_thru_time.png\" width='45%' align='right'>  "
   ]
  },
  {
   "cell_type": "markdown",
   "metadata": {},
   "source": [
    "### Bi-directional RNN\n",
    "\n",
    "<br>\n",
    "\n",
    "먼 과거의 정보를 잊어버리는 현상을 막기 위해,  \n",
    "`순방향`과 `역방향`으로 데이터를 탐색하여 <font size='3' color='#318CE7'><b><i>과거의 정보를 보존하는 효과를 얻는다.</i></b></font>  \n",
    "\n",
    "<img src=\"images/rnn/rnn_bidirectional_flow.gif\" width='45%' align='left'>  <img src=\"images/rnn/rnn_bidirectional_flow.png\" width='45%' align='right'>  "
   ]
  },
  {
   "cell_type": "markdown",
   "metadata": {},
   "source": [
    "## (실습) Bidirectional in `keras`"
   ]
  },
  {
   "cell_type": "code",
   "execution_count": null,
   "metadata": {
    "ExecuteTime": {
     "end_time": "2018-12-10T02:38:10.156200Z",
     "start_time": "2018-12-10T02:38:10.152290Z"
    }
   },
   "outputs": [],
   "source": [
    "from keras.layers.wrappers import Bidirectional"
   ]
  },
  {
   "cell_type": "markdown",
   "metadata": {},
   "source": [
    "### Bi-RNN Model"
   ]
  },
  {
   "cell_type": "code",
   "execution_count": null,
   "metadata": {
    "ExecuteTime": {
     "end_time": "2018-12-10T02:38:10.166522Z",
     "start_time": "2018-12-10T02:38:10.158284Z"
    }
   },
   "outputs": [],
   "source": [
    "train_x_rnn.shape"
   ]
  },
  {
   "cell_type": "code",
   "execution_count": null,
   "metadata": {
    "ExecuteTime": {
     "end_time": "2018-12-10T02:38:10.446188Z",
     "start_time": "2018-12-10T02:38:10.168617Z"
    },
    "scrolled": true
   },
   "outputs": [],
   "source": [
    "input_layer = Input(shape=(5, 3))\n",
    "rnn_cell = SimpleRNNCell(2, activation=None)\n",
    "rnn_layer = RNN(rnn_cell, return_sequences=True, return_state=True)\n",
    "bi_rnn_layer = Bidirectional(rnn_layer, merge_mode='sum')\n",
    "subset_layer = Lambda(lambda x: x[:, -2:, :])\n",
    "\n",
    "rnn_outputs, rnn_hidden_state_forward, rnn_hidden_state_backward = bi_rnn_layer(input_layer)\n",
    "output = subset_layer(rnn_outputs)\n",
    "\n",
    "model = Model(inputs=[input_layer], outputs=[output])\n",
    "model.summary()"
   ]
  },
  {
   "cell_type": "markdown",
   "metadata": {},
   "source": [
    "### Bi-RNN Building"
   ]
  },
  {
   "cell_type": "code",
   "execution_count": null,
   "metadata": {
    "ExecuteTime": {
     "end_time": "2018-12-10T02:38:10.502629Z",
     "start_time": "2018-12-10T02:38:10.448400Z"
    }
   },
   "outputs": [],
   "source": [
    "model.compile(loss='mean_squared_error', optimizer='adam', metrics=['mae'])"
   ]
  },
  {
   "cell_type": "markdown",
   "metadata": {},
   "source": [
    "### Bi-RNN Training"
   ]
  },
  {
   "cell_type": "code",
   "execution_count": null,
   "metadata": {
    "ExecuteTime": {
     "end_time": "2018-12-10T02:38:15.652045Z",
     "start_time": "2018-12-10T02:38:10.505124Z"
    },
    "scrolled": true
   },
   "outputs": [],
   "source": [
    "fitted = model.fit(\n",
    "    train_x_rnn,\n",
    "    train_y_rnn[:, :, :2],\n",
    "    batch_size=32,\n",
    "    epochs=10,\n",
    "    validation_split=.2,\n",
    "    verbose=1,            # [verbose] 1: progress bar, 2: one line per epoch\n",
    "    shuffle=True,\n",
    ")"
   ]
  },
  {
   "cell_type": "markdown",
   "metadata": {},
   "source": [
    "### Bi-RNN Evaluation"
   ]
  },
  {
   "cell_type": "code",
   "execution_count": null,
   "metadata": {
    "ExecuteTime": {
     "end_time": "2018-12-10T02:38:16.081798Z",
     "start_time": "2018-12-10T02:38:15.654401Z"
    },
    "scrolled": false
   },
   "outputs": [],
   "source": [
    "keras_lossplot(model)"
   ]
  },
  {
   "cell_type": "code",
   "execution_count": null,
   "metadata": {
    "ExecuteTime": {
     "end_time": "2018-12-10T02:38:16.107769Z",
     "start_time": "2018-12-10T02:38:16.084402Z"
    }
   },
   "outputs": [],
   "source": [
    "model.evaluate(test_x_rnn, test_y_rnn)"
   ]
  },
  {
   "cell_type": "markdown",
   "metadata": {},
   "source": [
    "### Bi-RNN Prediction (Inference)"
   ]
  },
  {
   "cell_type": "code",
   "execution_count": null,
   "metadata": {
    "ExecuteTime": {
     "end_time": "2018-12-10T02:38:16.115839Z",
     "start_time": "2018-12-10T02:38:16.110174Z"
    }
   },
   "outputs": [],
   "source": [
    "test_x_rnn[:1]"
   ]
  },
  {
   "cell_type": "code",
   "execution_count": null,
   "metadata": {
    "ExecuteTime": {
     "end_time": "2018-12-10T02:38:16.222067Z",
     "start_time": "2018-12-10T02:38:16.118099Z"
    }
   },
   "outputs": [],
   "source": [
    "model.predict(test_x_rnn[:1])"
   ]
  },
  {
   "cell_type": "code",
   "execution_count": null,
   "metadata": {
    "ExecuteTime": {
     "end_time": "2018-12-10T02:38:16.230712Z",
     "start_time": "2018-12-10T02:38:16.224576Z"
    },
    "scrolled": true
   },
   "outputs": [],
   "source": [
    "test_y_rnn[:1]"
   ]
  },
  {
   "cell_type": "code",
   "execution_count": null,
   "metadata": {
    "ExecuteTime": {
     "end_time": "2018-12-10T02:38:17.104267Z",
     "start_time": "2018-12-10T02:38:16.233290Z"
    }
   },
   "outputs": [],
   "source": [
    "keras_predict_plot(model, test_x_rnn, test_y_rnn, method='rnn')"
   ]
  },
  {
   "cell_type": "markdown",
   "metadata": {},
   "source": [
    "# References\n",
    "\n",
    "https://wiseodd.github.io/techblog/2016/06/22/nn-optimization/  \n",
    "https://towardsdatascience.com/illustrated-guide-to-lstms-and-gru-s-a-step-by-step-explanation-44e9eb85bf21"
   ]
  }
 ],
 "metadata": {
  "kernelspec": {
   "display_name": "Tensorflow Python3.6 (conda env)",
   "language": "python",
   "name": "tf-py36"
  },
  "language_info": {
   "codemirror_mode": {
    "name": "ipython",
    "version": 3
   },
   "file_extension": ".py",
   "mimetype": "text/x-python",
   "name": "python",
   "nbconvert_exporter": "python",
   "pygments_lexer": "ipython3",
   "version": "3.6.7"
  },
  "latex_envs": {
   "LaTeX_envs_menu_present": true,
   "autoclose": false,
   "autocomplete": true,
   "bibliofile": "biblio.bib",
   "cite_by": "apalike",
   "current_citInitial": 1,
   "eqLabelWithNumbers": true,
   "eqNumInitial": 1,
   "hotkeys": {
    "equation": "Ctrl-E",
    "itemize": "Ctrl-I"
   },
   "labels_anchors": false,
   "latex_user_defs": false,
   "report_style_numbering": false,
   "user_envs_cfg": false
  },
  "toc": {
   "base_numbering": 1,
   "nav_menu": {
    "height": "638px",
    "width": "488px"
   },
   "number_sections": true,
   "sideBar": true,
   "skip_h1_title": false,
   "title_cell": "Table of Contents",
   "title_sidebar": "Contents",
   "toc_cell": false,
   "toc_position": {
    "height": "1169px",
    "left": "40px",
    "top": "110px",
    "width": "386.266px"
   },
   "toc_section_display": true,
   "toc_window_display": true
  },
  "varInspector": {
   "cols": {
    "lenName": 16,
    "lenType": 16,
    "lenVar": 40
   },
   "kernels_config": {
    "python": {
     "delete_cmd_postfix": "",
     "delete_cmd_prefix": "del ",
     "library": "var_list.py",
     "varRefreshCmd": "print(var_dic_list())"
    },
    "r": {
     "delete_cmd_postfix": ") ",
     "delete_cmd_prefix": "rm(",
     "library": "var_list.r",
     "varRefreshCmd": "cat(var_dic_list()) "
    }
   },
   "position": {
    "height": "420.969px",
    "left": "2041.66px",
    "right": "20px",
    "top": "114.969px",
    "width": "484.766px"
   },
   "types_to_exclude": [
    "module",
    "function",
    "builtin_function_or_method",
    "instance",
    "_Feature"
   ],
   "window_display": true
  }
 },
 "nbformat": 4,
 "nbformat_minor": 2
}
