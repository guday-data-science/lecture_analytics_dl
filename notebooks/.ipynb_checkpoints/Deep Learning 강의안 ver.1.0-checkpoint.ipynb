{
 "cells": [
  {
   "cell_type": "markdown",
   "metadata": {},
   "source": [
    "# Analysis 과정 - Deep Learning"
   ]
  },
  {
   "cell_type": "markdown",
   "metadata": {},
   "source": [
    "<div class=\"alert alert-block alert-info\">\n",
    "<b>Tip:</b> Use blue boxes (alert-info) for tips and notes. \n",
    "If it’s a note, you don’t have to include the word “Note”.\n",
    "</div>\n",
    "\n",
    "<div class=\"alert alert-block alert-warning\">\n",
    "<b>Example:</b> Use yellow boxes for examples that are not \n",
    "inside code cells, or use for mathematical formulas if needed.\n",
    "</div>\n",
    "\n",
    "\n",
    "<div class=\"alert alert-block alert-success\">\n",
    "<b>Up to you:</b> Use green boxes sparingly, and only for some specific \n",
    "purpose that the other boxes can't cover. For example, if you have a lot \n",
    "of related content to link to, maybe you decide to use green boxes for \n",
    "related links from each section of a notebook.\n",
    "</div>\n",
    "\n",
    "<div class=\"alert alert-block alert-danger\">\n",
    "<b>Just don't:</b> In general, avoid the red boxes. These should only be\n",
    "used for actions that might cause data loss or another major issue.\n",
    "</div>"
   ]
  },
  {
   "cell_type": "markdown",
   "metadata": {},
   "source": [
    "## 강의 개요\n",
    "\n",
    "\n",
    "* <font size='4'>왜 딥러닝인가?</font>  \n",
    "  - 통계, 머신러닝, 딥러닝의 차이\n",
    "  - 딥러닝으로 풀 수 있는 문제\n",
    "\n",
    "\n",
    "* <font size='4'>딥러닝의 원리</font>\n",
    "  - 학습이란?\n",
    "  - 어떻게 데이터를 학습하는가\n",
    "\n",
    "\n",
    "* <font size='4'>딥러닝의 구조</font>\n",
    "  - <b>입력 $\\rightarrow$ 모델 $\\rightarrow$ 출력</b>\n",
    "  - <b>Layer</b> : 모델의 구성단위\n",
    "  - <b>Activation</b> : 비선형 모델로 가는 길\n",
    "  - <b>Bias</b> : 영점조절\n",
    "\n",
    "\n",
    "\n",
    "* <font size='4'>학습으로 돌아와서</font>\n",
    "  - <b>Train Set</b> : 기출 문제은행\n",
    "  - <b>Batch</b> : 모의고사\n",
    "  - <b>Epoch</b> : 1회독\n",
    "  - <b>Step</b> : 모의고사 응시횟수\n",
    "  - <b>Loss</b> : 시험점수\n",
    "  - <b>Gradient</b> : 공부방향\n",
    "  - <b>Optimization</b> : 공부방법\n",
    "  - <b>Backpropagation</b> : 오답노트, 복습\n",
    "\n",
    "\n",
    "* <font size='4'>모델 평가</font>\n",
    "  - <b>Accuracy</b> : 문제은행\n",
    "  - <b>Batch</b> : 모의고사\n",
    "  - <b>Epoch</b> : 1회독\n",
    "  - <b>Step</b> : 모의고사 응시횟수\n",
    "\n",
    "\n",
    "* <font size='4'>딥러닝의 발전</font>\n",
    "  - <font size='3'><b>MLP</b></font> : 다 엮어보자! 죄다 연결된 신경망 (Fully Connected), 빡빡한 신경망 (Dense)\n",
    "  - <font size='3'><b>CNN</b></font> : Image를 부분으로 쪼개서 조금씩 보자!\n",
    "  - <font size='3'><b>RNN</b></font> : Data 순서에 의미가 있다면? 과거를 기억하자  \n",
    "    - <font size='2'><b>Advanced RNN</b></font> : 기억력 향상  \n"
   ]
  },
  {
   "cell_type": "markdown",
   "metadata": {},
   "source": [
    "### 강의 진행 과정\n",
    "\n",
    "1. 개념 설명\n",
    "2. 개념 이해 ( Code Review )\n",
    "  - `numpy`\n",
    "\n",
    "3. 실습 진행 ( Code Review & 작성 )\n",
    "  - `keras`\n",
    "\n",
    "4. 복습\n",
    "  - `tensorflow`\n"
   ]
  },
  {
   "cell_type": "markdown",
   "metadata": {},
   "source": [
    "---\n",
    "## 딥러닝 개요"
   ]
  },
  {
   "cell_type": "markdown",
   "metadata": {},
   "source": [
    "### 왜 딥러닝인가?\n",
    "\n",
    "<br>\n",
    "<font size='5'><center><i>\"기계학습, 사람이 판단하기 힘든 규칙들을 데이터 양으로 극복해 보자!\"</i></center></font>\n",
    "<br>\n",
    "\n",
    "---\n",
    "* <font size='3'>통계 기반 방법론</font>  \n",
    "  - 원리: 모수기반 접근법으로 데이터를 정규분포 또는 기타 검증된 특징을 갖는 분포로 설명.  \n",
    "  (대수의 법칙에 기반한 정규분포 가정, 중심극한정리를 기반한 표본평균의 정규분포 근사 가정 등)  \n",
    "  - 목적: 모형의 복잡성 보다는 단순성, 설명가능성에 무게를 두고 표본추출 과정에서의 가설검정이 주 목적.  \n",
    "  - 평가: p-value 등의 지표로 귀무가설 기각 여부로 평가.\n",
    "  <br>\n",
    "  <img src=\"images/normal_dist_example.png\" >\n",
    "\n",
    "\n",
    "---\n",
    "* <font size='3'>M/L 기반 방법론</font>  \n",
    "  - 원리: 선형근사와 정규분포 가정을 기반으로 데이터를 잘 설명하는 선형방정식을 만들어 새로운 Input에 대응하는 결과를 예측.\n",
    "  - 학습: OLS, GLS 등 최소제곱합 또는 최대가능도추정, 분산감소기법 등의 다소 학습이 빠른 기법들이 사용.\n",
    "  - 목적: 변수를 최대한 활용하여 다소 복잡하고 설명력이 떨어지더라도 좋은 예측력을 갖는 모델을 지향하며, 경우에 따라 주요 원인변수 선별도 가능.\n",
    "  - 평가: 오차의 크기, 정확도(Accuracy) 및 Precision/Recall 등 예측결과에 대한 지표들이 주로 사용.\n",
    "  <br>\n",
    "  <img src=\"images/regression_example.png\" style=\"width=100%;height=60%;\" >\n",
    "\n",
    "\n",
    "---\n",
    "* <font size='3'>D/L 기반 방법론</font>  \n",
    "  - 원리: 비선형모델을 기반으로 데이터를 잘 설명하는 고차원의 방정식을 만들거나 데이터 자체의 분포를 학습하여 새로운 Input에 대응하는 결과를 예측.\n",
    "  - 학습: 고차원 학습방법 중 Gradient Descent 기반의 귀납적 방법론을 사용.\n",
    "  - 목적: 높은 예측력을 갖는 모델을 목표로, 선형근사로는 설명하기 힘든 비정형 데이터 또는 복잡한 데이터 간의 관계 설명.\n",
    "  - 평가: 오차의 크기, 정확도(Accuracy) 및 Precision/Recall 등 예측결과에 대한 지표들이 주로 사용.\n",
    "  <br>\n",
    "  <img src=\"images/dl_prediction_example.png\" style=\"width=100%;height=60%;\" >\n",
    "\n",
    "<br>\n",
    "딥러닝은 사실 나온 지 30년이 넘었다.  \n",
    "왜 다시 딥러닝이 각광받는 것일까?\n",
    "\n",
    "<div class=\"alert alert-block alert-info\"  markdown=\"1\">\n",
    "<b>$\\divideontimes$ 딥러닝의 재조명: </b> \n",
    "<br>\n",
    "<br>\n",
    "\n",
    "&nbsp;<font size='3'><b><i>$\\cdot$ 과적합 문제 해결</i></b></font>  \n",
    "&nbsp;  &nbsp;  - Relu 등 Vanishing Gradient 문제를 커버하는 알고리즘과 효율적인 Optimizer의 등장으로 학습 성능 증가  \n",
    "&nbsp;  &nbsp; - Dropout 등 효율적인 과적합 방지 기법이 등장하며 기존 모델의 한계 극복  \n",
    "<br>\n",
    "\n",
    "<font size='3'><b><i>$\\cdot$ 하드웨어의 발전</i></b></font>  \n",
    "&nbsp;  &nbsp; - 딥러닝 알고리즘의 높은 연산 부하를 커버하는 Computing Power의 증대와 GPU를 활용한 병렬 연산 아키텍처 등장  \n",
    "<br>\n",
    "\n",
    "<font size='3'><b><i>$\\cdot$ 빅데이터 시대의 도래</i></b></font>  \n",
    "&nbsp;  &nbsp; - 기존 정형 데이터 규모의 확대 + 음성, 이미지, 텍스트 등 비정형 데이터 처리 기술의 발전  \n",
    "\n",
    "</center>\n",
    "<br>\n",
    "</div>"
   ]
  },
  {
   "cell_type": "markdown",
   "metadata": {},
   "source": [
    "### 딥러닝의 원리\n",
    "\n",
    "<br>\n",
    "우리가 무언가 배울 때를 상상해 보자.\n",
    "\n",
    "> * 첫 주식투자 -> 실패 -> 상상과 현실의 차이 확인   \n",
    "> * 뉴스를 보면서 매매 노하우 학습 -> 실패  \n",
    "> * 캔들차트도 보고, 추세선도 보면서 나름의 매매 노하우 업데이트 -> 실패  \n",
    "> * 재무제표 확인하며 회사의 가치를 매매 노하우에 반영 -> 실패\n",
    ">   ...  \n",
    "> * 점차 차이를 좁혀 나간다...\n",
    "\n",
    "$$y = f(x)$$\n",
    "<br>\n",
    "딥러닝도 기본 원리는 이 방식과 유사하다.  \n",
    "`Input`에 해당하는 $X$를 계산해서 나오는 예상 $\\hat Y$와 진짜 정답 $Y$를 비교해서, 조금씩 차이를 줄여나가게 된다.  \n",
    "다양한 Case를 경험할 수록 예상이 빗나갈 확률도 낮아진다.  \n",
    "<br>\n",
    "<font size='3'>딥러닝이란, <font color='#318CE7'> *__과거 패턴 속 규칙을 찾아 미래를 예측하는 방법이다.__*</font></font>\n",
    "\n",
    "<div class=\"alert alert-block alert-warning\">\n",
    "<b>$\\divideontimes$ 딥러닝의 원리: </b> 수많은 Case에서 규칙성을 발견하고 학습한다.\n",
    "<br>\n",
    "$\\space$\n",
    "$\\space$\n",
    "<font size='5'><center>$\\hat y = f(x)$ 일 때,</center>\n",
    "\n",
    "<center> $Real \\space y와 \\space 유사한 \\space \\hat y$를 찾는 것.</center></font>\n",
    "<br>\n",
    "</div>  \n"
   ]
  },
  {
   "cell_type": "markdown",
   "metadata": {},
   "source": [
    "### 딥러닝의 구조\n",
    "\n",
    "<br>\n",
    "<font size='5'><center><b><i>\"Layer라는 함수를 여러 개 쌓은(이어붙인) 형태\"</i></b></center></font>\n",
    "<br>\n",
    "\n",
    "\n",
    "<img src=\"images/dl_basic_structure.png\" style=\"width=100%;height=60%;\" >\n",
    "\n",
    "<div class=\"alert alert-block alert-warning\">\n",
    "<b>$\\divideontimes$ 딥러닝의 구조: </b> 여러 겹의 Layer로 구성된 Function과 같은 구조\n",
    "<br>\n",
    "$\\space$\n",
    "$\\space$\n",
    "<font size='4'><center><b>Input $\\rightarrow$ Layer(s) $\\rightarrow$ Output</b></center></font>\n",
    "\n",
    "<br>\n",
    "</div>  "
   ]
  },
  {
   "cell_type": "markdown",
   "metadata": {},
   "source": [
    "### 딥러닝의 학습\n",
    "\n",
    "<br>\n",
    "<font size='5'><center><b><i>\"반복학습을 통한 문제유형 익히기\"</i></b></center></font>\n",
    "\n",
    "> 1. 문제은행에서 문제를 골라서\n",
    "> 2. 나름의 방법으로 문제를 풀고\n",
    "> 3. 정답과 맞춰 보고\n",
    "> 4. 오답을 정리해서\n",
    "> 5. 다시 문제를 풀고...\n",
    "\n",
    "<img src=\"images/dl_training_process.png\" >\n",
    "\n",
    "<div class=\"alert alert-block alert-warning\">\n",
    "<b>$\\divideontimes$ 딥러닝의 학습 프로세스: </b> \n",
    "<br>\n",
    "$\\space$\n",
    "$\\space$\n",
    "<font size='4'><center><b>Training Data를 반복적으로 학습하면서 모델 가중치를 Update</b></center></font>\n",
    "\n",
    "<br>\n",
    "</div>  "
   ]
  },
  {
   "cell_type": "markdown",
   "metadata": {},
   "source": [
    "### 딥러닝의 평가\n",
    "\n",
    "<br>\n",
    "<font size='5'><center><b><i>\"시험 평균으로 성적 매기기\"</i></b></center></font>\n",
    "\n",
    "> 1. 정해진 횟수만큼 시험을 치르고\n",
    "> 2. 정답과 맞춰 보고\n",
    "> 3. 평균을 내서 최종 점수로 판정\n",
    "\n",
    "<img src=\"images/dl_testing_process.png\" >\n",
    "\n",
    "<div class=\"alert alert-block alert-warning\">\n",
    "<b>$\\divideontimes$ 딥러닝의 평가 프로세스: </b> \n",
    "<br>\n",
    "$\\space$\n",
    "$\\space$\n",
    "<font size='4'><center><b>Test Data의 예측 결과를 평균하여 성능 판정</b></center></font>\n",
    "\n",
    "<br>\n",
    "</div>  "
   ]
  },
  {
   "cell_type": "markdown",
   "metadata": {},
   "source": [
    "## (개념) MLP: Multi Layer Perceptron\n",
    "\n",
    "<br>\n",
    "이제 Layer를 행렬로 표현해 보자.  \n",
    "<img src=\"images/vector_nn3.png\" >\n",
    "$\\space$\n",
    "<center><font size='4'><b>복잡해 보여도 단지 행렬연산의 응용일 뿐!</b></font></center>\n",
    "    \n",
    "$\\space$\n",
    "\\begin{equation}\n",
    "\\overbrace{ \\begin{bmatrix} \\color{red}3 \\end{bmatrix} }^{INPUT}\n",
    "\\overbrace{ \\begin{bmatrix} \\color{red}3 \\times \\color{blue}4 \\end{bmatrix} }^{1st \\space Layer} \n",
    "\\overbrace{ \\begin{bmatrix} \\color{blue}4 \\times 2 \\end{bmatrix} }^{2nd \\space Layer} \n",
    "= \\begin{bmatrix} 2 \\end{bmatrix}\n",
    "\\end{equation}\n",
    "$\\space$\n",
    "\n",
    "\\begin{equation}\n",
    "\\overbrace{ \\begin{bmatrix} Batch \\times \\color{red}3 \\end{bmatrix} }^{INPUT}\n",
    "\\overbrace{ \\begin{bmatrix} \\color{red}3 \\times \\color{blue}4 \\end{bmatrix} }^{1st \\space Layer} \n",
    "\\overbrace{ \\begin{bmatrix} \\color{blue}4 \\times 2 \\end{bmatrix} }^{2nd \\space Layer} \n",
    "= \\begin{bmatrix} Batch \\times 2 \\end{bmatrix}\n",
    "\\end{equation}  \n",
    "$\\space$\n",
    "<div class=\"alert alert-block alert-warning\">\n",
    "<b>$\\divideontimes$ 행렬과 사상: </b> $[m \\times n]$은 $n$ 차원 공간에서 $m$ 차원 공간으로의 mapping ( $L:N \\rightarrow M$ )    \n",
    "$\\space$\n",
    "$\\space$\n",
    "<font size='5'>$$\\underbrace{Y}_{ [m] } = \\underbrace{A}_{ [m \\times n] } \\underbrace{X}_{ [n] }$$  </font>\n",
    "</div>  \n",
    "\n",
    "$m$ 차원에서 $n$ 차원으로의 사상은,\n",
    "<font size='5'>$$\\underbrace{Y}_{ [n] } = \\underbrace{X}_{ [m] } \\underbrace{A}_{ [m \\times n] }$$  </font>\n",
    "\n",
    "<div align=\"right\"><font color='red'><b>* $y=ax$의 순서와 다른 점에 주의.</b></font></div>\n"
   ]
  },
  {
   "cell_type": "markdown",
   "metadata": {},
   "source": [
    "### Input\n",
    "\n",
    "<br>\n",
    "$m$ 차원에서 $n$ 차원으로의 사상 = 행렬 = Layer의 의미를 알았으니, \n",
    "이제는 `Input` $m$ 과 `Output` $n$ 에 대해 알아보자.\n",
    "<br>\n",
    "<br>\n",
    "우리의 첫 Layer <b>$A$</b> 는 한 번에 $\\color{red}3$차원의 Data $X$를 소화하는 행렬이다.  \n",
    "하지만, $[2 \\times \\color{red}3]$ 처럼 <font color='#318CE7'>*__행렬의 형태로 한 번에 병렬처리 할 수도 있다.__*</font>\n",
    "이 때의 Data 개수는 `Output` 까지 유지된다.\n",
    "\n",
    "$\\space$\n",
    "\\begin{equation}\n",
    "\\overbrace{ \\begin{bmatrix} Batch \\times \\color{red}3 \\end{bmatrix} }^{INPUT}\n",
    "\\begin{bmatrix} \\color{red}3 \\times \\color{blue}4 \\end{bmatrix}\n",
    "\\begin{bmatrix} \\color{blue}4 \\times 2 \\end{bmatrix}\n",
    "= \\overbrace{ \\begin{bmatrix} Batch \\times 2 \\end{bmatrix} }^{OUTPUT}\n",
    "\\end{equation}  \n",
    "$\\space$\n",
    "\n",
    "\n",
    "<font size='5'>$$\\underbrace{Y}_{ [B \\times \\color{blue}n] } = \\underbrace{X}_{ [B \\times \\color{red}m] } \\underbrace{A}_{ [\\color{red}m \\times \\color{blue}n] }$$  </font>\n",
    "\n",
    "<br>\n",
    "<font size='3'>이제 우리는 열벡터 1개씩을 처리하는 것이 아니라, <font color='#318CE7'> *__Batch로 여러 Input을 한 번에 처리할 수 있다.__*</font></font>\n",
    "\n",
    "<div class=\"alert alert-block alert-warning\">\n",
    "<b>$\\divideontimes$ Input의 형태: </b> $[2 \\times 3]$은 $3$차원으로 이루어진 데이터 $2$개를 의미한다.\n",
    "<br>\n",
    "<br>\n",
    "<font size='5'>$$[2 \\times 3]=[Data \\space 개수, Data \\space 차원]$$  </font>\n",
    "\n",
    "</div>  "
   ]
  },
  {
   "cell_type": "code",
   "execution_count": 64,
   "metadata": {
    "ExecuteTime": {
     "end_time": "2018-11-21T05:49:32.838259Z",
     "start_time": "2018-11-21T05:49:32.830884Z"
    }
   },
   "outputs": [],
   "source": [
    "import numpy as np\n",
    "from pprint import pprint\n",
    "from unipy import aprint, lprint\n",
    "\n",
    "from sympy import symbols\n",
    "from sympy.plotting import plot\n",
    "\n",
    "import importlib\n",
    "from src import examples\n",
    "\n",
    "importlib.reload(examples)\n",
    "\n",
    "\n",
    "def qprint(arr_like):\n",
    "    print(arr_like.shape)\n",
    "    pprint(arr_like)\n",
    "\n",
    "def lprint(input_x, output, name=None):\n",
    "    print(f'{str(name)}:\\t{input_x.shape} -> {output.shape}')"
   ]
  },
  {
   "cell_type": "code",
   "execution_count": 2,
   "metadata": {
    "ExecuteTime": {
     "end_time": "2018-11-20T11:13:09.704228Z",
     "start_time": "2018-11-20T11:13:09.699907Z"
    },
    "scrolled": true
   },
   "outputs": [
    {
     "name": "stdout",
     "output_type": "stream",
     "text": [
      "=============================================\n",
      "|  arr_x             |    arr_x_nonbatch    |\n",
      "|  (2, 3)            |    (1, 3)            |\n",
      "=============================================\n",
      "|  [[0.6 0.5 0.1]    |    [[0.6 0.5 0.1]]   |\n",
      "|   [0.4 0.2 0.8]]   |                      |\n",
      "=============================================\n"
     ]
    }
   ],
   "source": [
    "#==== Essential ========================================================#\n",
    "\n",
    "arr_x = np.array([\n",
    "    [.6, .5, .1],\n",
    "    [.4, .2, .8],\n",
    "])\n",
    "\n",
    "#=======================================================================#\n",
    "\n",
    "\n",
    "arr_x_nonbatch = arr_x[:1]\n",
    "aprint(arr_x, arr_x_nonbatch, name_list=['arr_x', 'arr_x_nonbatch'])"
   ]
  },
  {
   "cell_type": "markdown",
   "metadata": {},
   "source": [
    "### Output"
   ]
  },
  {
   "cell_type": "code",
   "execution_count": 3,
   "metadata": {
    "ExecuteTime": {
     "end_time": "2018-11-20T11:13:09.720443Z",
     "start_time": "2018-11-20T11:13:09.705822Z"
    },
    "scrolled": false
   },
   "outputs": [
    {
     "name": "stdout",
     "output_type": "stream",
     "text": [
      "=============================================\n",
      "|  arr_y             |    arr_y_nonbatch    |\n",
      "|  (2, 2)            |    (1, 2)            |\n",
      "=============================================\n",
      "|  [[0.4 0.6]        |    [[0.4 0.6]]       |\n",
      "|   [0.7 0.3]]       |                      |\n",
      "=============================================\n"
     ]
    }
   ],
   "source": [
    "#==== Essential ========================================================#\n",
    "\n",
    "arr_y = np.array([\n",
    "    [.4, .6],\n",
    "    [.7, .3,],\n",
    "])\n",
    "\n",
    "#=======================================================================#\n",
    "\n",
    "\n",
    "arr_y_nonbatch = arr_y[:1]\n",
    "aprint(arr_y, arr_y_nonbatch, name_list=['arr_y', 'arr_y_nonbatch'], maxlen=15)"
   ]
  },
  {
   "cell_type": "markdown",
   "metadata": {},
   "source": [
    "### Layers\n",
    "\n",
    "<br>\n",
    "이제 Data도 행렬로 표현해 보자.  \n",
    "<img src=\"images/batch_nn3.png\" style=\"width:100%;height:500px;\">\n",
    "첫째 Layer는 $\\color{red}3$차원의 Data $X$를 $\\color{blue}4$차원으로 확장하고,  \n",
    "둘째 Layer는 $\\color{blue}4$차원을 $\\color{black}2$차원으로 축소하게 된다.\n",
    "\n",
    "$\\space$\n",
    "\\begin{equation}\n",
    "\\begin{bmatrix} Batch \\times \\color{red}3 \\end{bmatrix}\n",
    "\\overbrace{ \\begin{bmatrix} \\color{red}3 \\times \\color{blue}4 \\end{bmatrix} }^{1st \\space Layer}\n",
    "\\overbrace{ \\begin{bmatrix} \\color{blue}4 \\times 2 \\end{bmatrix} }^{2nd \\space Layer}\n",
    "= \\begin{bmatrix} Batch \\times 2 \\end{bmatrix}\n",
    "\\end{equation}  \n",
    "$\\space$\n",
    "\n",
    "<font size='5'>$$\\underbrace{Y}_{ [B \\times \\color{blue}n] } = \\underbrace{X}_{ [B \\times \\color{red}m] } \\underbrace{A}_{ [\\color{red}m \\times \\color{blue}n] }$$  </font>\n",
    "\n",
    "<br>\n",
    "이 기본 Layer의 형태를 `Fully Connected Layer` 또는 `Dense Layer`라고 부른다.  \n",
    "<b>Layer를 구성하기 위해서는 $\\color{red}m$과 $\\color{blue}n$을 정해 주어야 한다.</b>  \n",
    "값을 정하고 나면, 임의의 초기값으로 행렬을 만들어 Layer를 처음 구성하게 된다.\n",
    "\n",
    "이 때, $\\color{blue}n$에 해당하는 $ \\color{blue}4$차원을 Hidden Layer의 차원이라고 한다.  \n",
    "즉 Layer는 <b>$m$ 차원 Input으로 $n$ 차원 Output을 만들어 내는 행렬이라고 할 수 있다.</b>\n",
    "<font size='3'>이제 우리는, <font color='#318CE7'> <b><i> 점이 아닌 선을 Layer로 볼 수 있다.</i></b></font></font>\n",
    "\n",
    "<div class=\"alert alert-block alert-warning\">\n",
    "<b>$\\divideontimes$ Layer의 형태: </b> <b>$m$ 차원 Input으로 $n$ 차원 Output을 만들어 내는 행렬</b>\n",
    "\n",
    "<br>\n",
    "<br>\n",
    "<font size='5'>$$[3 \\times 4]=[Input \\space Data \\space 차원, Hidden \\space 차원]$$  </font>\n",
    "\n",
    "</div>  "
   ]
  },
  {
   "cell_type": "markdown",
   "metadata": {},
   "source": [
    "기본 Layer는 `Fully Connected Layer` 또는 `Dense Layer`이며,\n",
    "`input`과 `output shape`를 변수로 받아 생성.\n",
    "\n",
    "* <font size='3'>Input Shape : $m$</font>\n",
    "* <font size='3'>Output Shape : $l$</font>\n",
    "\n",
    "\n",
    "<font size='4'>\n",
    "\\begin{equation}\n",
    "\\begin{bmatrix} n\\times m \\end{bmatrix}\n",
    "\\overbrace{ \\begin{bmatrix} m\\times l \\end{bmatrix} }^{Layer} \n",
    "= \\begin{bmatrix} n\\times l \\end{bmatrix}\n",
    "\\end{equation}\n",
    "</font>\n",
    "\n",
    "$\\space$\n",
    "$\\space$\n",
    "\n",
    "<font size='4'>\n",
    "\\begin{equation}\n",
    "\\left({\\begin{array}{cc} \\color{red}a & \\color{red}b & \\color{red}c\\\\\\color{red}d & \\color{red}e & \\color{red}f \\end{array}}\\right)\n",
    "\\overbrace{ \\left( \\begin{array}{cc} \\color{blue}  A & \\color{blue} D & \\color{blue} G\\\\ \\color{blue} B & \\color{blue} E & \\color{blue} H \\\\ \\color{blue} C & \\color{blue} F & \\color{blue} I \\end{array} \\right) }^{Layer}\n",
    "= \\left(\\begin{array}{cc} \n",
    "\\color{red}a \\color{blue}A + \\color{red}b \\color{blue}B + \\color{red}c \\color{blue}C & \n",
    "\\color{red}a \\color{blue}D + \\color{red}b \\color{blue}E + \\color{red}c \\color{blue}F &\n",
    "\\color{red}a \\color{blue}G + \\color{red}b \\color{blue}H + \\color{red}c \\color{blue}I\n",
    "\\\\\n",
    "\\color{red}d \\color{blue}A + \\color{red}e \\color{blue}B + \\color{red}f \\color{blue}C & \n",
    "\\color{red}d \\color{blue}D + \\color{red}e \\color{blue}E + \\color{red}f \\color{blue}F & \n",
    "\\color{red}d \\color{blue}G + \\color{red}e \\color{blue}H + \\color{red}f \\color{blue}I\n",
    "\\\\\n",
    "\\end{array}\\right)\n",
    "\\end{equation}\n",
    "</font>"
   ]
  },
  {
   "cell_type": "markdown",
   "metadata": {},
   "source": [
    "#### Fully Connected Layer"
   ]
  },
  {
   "cell_type": "code",
   "execution_count": 67,
   "metadata": {
    "ExecuteTime": {
     "end_time": "2018-11-21T06:30:56.931306Z",
     "start_time": "2018-11-21T06:30:56.925851Z"
    }
   },
   "outputs": [],
   "source": [
    "def fully_connected_layer(\n",
    "    input_x,\n",
    "    output_dim=None,\n",
    "    name=None,\n",
    "    seed=1,\n",
    "    ):\n",
    "    input_dim = input_x.shape[-1]\n",
    "    np.random.seed(seed)\n",
    "    \n",
    "    \n",
    "    #==== Essential ========================================================#\n",
    "\n",
    "    weight = np.random.random((input_dim, output_dim)).round(2)\n",
    "\n",
    "    output = input_x @ weight\n",
    "    \n",
    "    #=======================================================================#\n",
    "    \n",
    "    \n",
    "    print(name)\n",
    "    aprint(input_x, weight, output, name_list=['Input', 'Weight', 'Output'])\n",
    "\n",
    "    return output, weight"
   ]
  },
  {
   "cell_type": "code",
   "execution_count": 5,
   "metadata": {
    "ExecuteTime": {
     "end_time": "2018-11-20T11:13:09.914404Z",
     "start_time": "2018-11-20T11:13:09.894396Z"
    }
   },
   "outputs": [
    {
     "name": "stdout",
     "output_type": "stream",
     "text": [
      "None\n",
      "========================================================================================\n",
      "|  Input             |    Weight                    |    Output                        |\n",
      "|  (1, 3)            |    (3, 4)                    |    (1, 4)                        |\n",
      "========================================================================================\n",
      "|  [[0.6 0.5 0.1]]   |    [[0.42 0.72 0.   0.3 ]    |    [[0.367 0.531 0.137 0.424]]   |\n",
      "|                    |     [0.15 0.09 0.19 0.35]    |                                  |\n",
      "|                    |     [0.4  0.54 0.42 0.69]]   |                                  |\n",
      "========================================================================================\n"
     ]
    },
    {
     "data": {
      "text/plain": [
       "(array([[0.367, 0.531, 0.137, 0.424]]), array([[0.42, 0.72, 0.  , 0.3 ],\n",
       "        [0.15, 0.09, 0.19, 0.35],\n",
       "        [0.4 , 0.54, 0.42, 0.69]]))"
      ]
     },
     "execution_count": 5,
     "metadata": {},
     "output_type": "execute_result"
    }
   ],
   "source": [
    "fully_connected_layer(arr_x_nonbatch, output_dim=4)"
   ]
  },
  {
   "cell_type": "markdown",
   "metadata": {},
   "source": [
    "#### Initialization"
   ]
  },
  {
   "cell_type": "markdown",
   "metadata": {},
   "source": [
    "Layer를 생성한다는 것은 행렬을 생성한다는 것과 같다.  \n",
    "이 때 임의의 값을 이용해 행렬을 생성하여야 하는데, 이 초기값을 부여하는 과정을 `Initialization` 이라고 함."
   ]
  },
  {
   "cell_type": "code",
   "execution_count": 6,
   "metadata": {
    "ExecuteTime": {
     "end_time": "2018-11-20T11:13:10.208218Z",
     "start_time": "2018-11-20T11:13:10.202456Z"
    }
   },
   "outputs": [
    {
     "data": {
      "text/plain": [
       "array([[0.42, 0.72, 0.  , 0.3 ],\n",
       "       [0.15, 0.09, 0.19, 0.35],\n",
       "       [0.4 , 0.54, 0.42, 0.69]])"
      ]
     },
     "execution_count": 6,
     "metadata": {},
     "output_type": "execute_result"
    }
   ],
   "source": [
    "np.random.seed(1)\n",
    "np.random.random((3, 4)).round(2)"
   ]
  },
  {
   "cell_type": "markdown",
   "metadata": {},
   "source": [
    "### Activation Function"
   ]
  },
  {
   "cell_type": "markdown",
   "metadata": {},
   "source": [
    "Layer 간의 선형 결합은 선형 함수(1차 함수)의 형태로만 존재한다.\n",
    "\n",
    "\\begin{equation}\n",
    "y = f(x) = ax,\\\\  \n",
    "z = g(y) = by,\\\\\n",
    " \\\\\n",
    "z = g(f(x)) = b(ax) = abx\n",
    "\\end{equation}\n",
    "\n",
    "$c = ab$ 라고 하면\n",
    "<font size='4'>$$z = h(x) = cx$$</font>\n",
    "\n",
    "가 되어 사실상 2개를 겹친 효과가 없어진다.  \n",
    "그러므로, Layer 사이에 비선형 함수를 끼워 넣어 \n",
    "$y=f(x)$ 를 비선형 관계로 만들게 된다.  \n",
    "\n",
    "또한, Output 값의 범위를 $[0, 1]$ 사이로 제한하는 효과도 있다. (`sigmoid`)"
   ]
  },
  {
   "cell_type": "markdown",
   "metadata": {},
   "source": [
    "#### Activations & Its Derivatives"
   ]
  },
  {
   "cell_type": "code",
   "execution_count": 65,
   "metadata": {
    "ExecuteTime": {
     "end_time": "2018-11-21T05:49:37.777540Z",
     "start_time": "2018-11-21T05:49:37.328325Z"
    },
    "scrolled": true
   },
   "outputs": [
    {
     "data": {
      "image/png": "[encoded data removed]",
      "text/plain": [
       "<Figure size 1296x360 with 3 Axes>"
      ]
     },
     "metadata": {},
     "output_type": "display_data"
    }
   ],
   "source": [
    "examples.activation_plot()"
   ]
  },
  {
   "cell_type": "markdown",
   "metadata": {},
   "source": [
    "`sigmoid` 함수는 `tanh`에 비해 기울기가 작다.  \n",
    "미분값의 최대치가 0.25이며, 미분값이 1인 `tanh` 함수에 비해 $\\frac {1}{4}$ 수준이다.\n",
    "\n",
    "<font color='#318CE7'> <b><i> 이 기울기는 $x$값의 차이에 비해 $y$값의 차이가 작다는 말이며, 학습 진도가 느린 원인이 된다.  </i></b></font>\n",
    "\n",
    "때문에, 미분값이 커서 학습 Impact가 큰 `tanh`나 `relu`가 등장하게 된다."
   ]
  },
  {
   "cell_type": "code",
   "execution_count": 66,
   "metadata": {
    "ExecuteTime": {
     "end_time": "2018-11-21T05:49:39.095713Z",
     "start_time": "2018-11-21T05:49:38.620114Z"
    }
   },
   "outputs": [
    {
     "data": {
      "image/png": "[encoded data removed]",
      "text/plain": [
       "<Figure size 1296x360 with 3 Axes>"
      ]
     },
     "metadata": {},
     "output_type": "display_data"
    }
   ],
   "source": [
    "examples.d_activation_plot()"
   ]
  },
  {
   "cell_type": "code",
   "execution_count": 72,
   "metadata": {
    "ExecuteTime": {
     "end_time": "2018-11-20T11:54:22.423568Z",
     "start_time": "2018-11-20T11:54:22.420639Z"
    }
   },
   "outputs": [],
   "source": [
    "def sigmoid(x):\n",
    "    res = 1 / (1 + np.exp(-x))\n",
    "\n",
    "    print('sigmoid')\n",
    "    aprint(x, res, name_list=['Raw', 'Activated'])\n",
    "    return res"
   ]
  },
  {
   "cell_type": "code",
   "execution_count": 73,
   "metadata": {
    "ExecuteTime": {
     "end_time": "2018-11-20T11:54:22.961035Z",
     "start_time": "2018-11-20T11:54:22.943017Z"
    }
   },
   "outputs": [
    {
     "name": "stdout",
     "output_type": "stream",
     "text": [
      "sigmoid\n",
      "==================================================================\n",
      "|  Raw               |    Activated                              |\n",
      "|  (1, 3)            |    (1, 3)                                 |\n",
      "==================================================================\n",
      "|  [[0.6 0.5 0.1]]   |    [[0.64565631 0.62245933 0.52497919]]   |\n",
      "==================================================================\n"
     ]
    },
    {
     "data": {
      "text/plain": [
       "array([[0.64565631, 0.62245933, 0.52497919]])"
      ]
     },
     "execution_count": 73,
     "metadata": {},
     "output_type": "execute_result"
    }
   ],
   "source": [
    "sigmoid(arr_x_nonbatch)"
   ]
  },
  {
   "cell_type": "markdown",
   "metadata": {},
   "source": [
    "#### Biases\n",
    "\n",
    "<div class=\"alert alert-block alert-success\">\n",
    "<b>$\\divideontimes$ `bias`가 갖는 의미 </b>  \n",
    "<n></n>  \n",
    "\n",
    "`weight`가 $x$ 간의 관계를 설명한다면, `bias`는 영점조절이라고 할 수 있다.  \n",
    "`bias`가 없으면, $x$의 차원에 관계없이 모든 함수는 원점 <font color=\"black\">$(0, 0)$</font> 을 지나게 되어 데이터 학습에 지장을 초래할 수 있다.\n",
    "</div>\n",
    "\n",
    "![mifeel_gunfeel](images/bias_1.png)"
   ]
  },
  {
   "cell_type": "code",
   "execution_count": 9,
   "metadata": {
    "ExecuteTime": {
     "end_time": "2018-11-19T11:04:53.178285Z",
     "start_time": "2018-11-19T11:04:53.172738Z"
    }
   },
   "outputs": [],
   "source": [
    "x = symbols('x')"
   ]
  },
  {
   "cell_type": "markdown",
   "metadata": {},
   "source": [
    "---\n",
    "* $y = 3x^2$\n",
    "* $y = 2x$"
   ]
  },
  {
   "cell_type": "code",
   "execution_count": 10,
   "metadata": {
    "ExecuteTime": {
     "end_time": "2018-11-19T11:04:53.573224Z",
     "start_time": "2018-11-19T11:04:53.343107Z"
    }
   },
   "outputs": [
    {
     "data": {
      "image/png": "[encoded data removed]",
      "text/plain": [
       "<Figure size 432x288 with 1 Axes>"
      ]
     },
     "metadata": {},
     "output_type": "display_data"
    },
    {
     "data": {
      "image/png": "[encoded data removed]",
      "text/plain": [
       "<Figure size 432x288 with 1 Axes>"
      ]
     },
     "metadata": {},
     "output_type": "display_data"
    },
    {
     "data": {
      "text/plain": [
       "<sympy.plotting.plot.Plot at 0x7f0e1f0c0710>"
      ]
     },
     "execution_count": 10,
     "metadata": {},
     "output_type": "execute_result"
    }
   ],
   "source": [
    "plot((3 * (x**2)), (x, -3, 3), ylim=(0, 10))\n",
    "plot((2 * x), (x, -5, 5), ylim=(-10, 10))"
   ]
  },
  {
   "cell_type": "markdown",
   "metadata": {},
   "source": [
    "---\n",
    "* $y = 3x^2 + 2$\n",
    "* $y=2x-4$"
   ]
  },
  {
   "cell_type": "code",
   "execution_count": 11,
   "metadata": {
    "ExecuteTime": {
     "end_time": "2018-11-19T11:04:53.787661Z",
     "start_time": "2018-11-19T11:04:53.574313Z"
    }
   },
   "outputs": [
    {
     "data": {
      "image/png": "[encoded data removed]",
      "text/plain": [
       "<Figure size 432x288 with 1 Axes>"
      ]
     },
     "metadata": {},
     "output_type": "display_data"
    },
    {
     "data": {
      "image/png": "[encoded data removed]",
      "text/plain": [
       "<Figure size 432x288 with 1 Axes>"
      ]
     },
     "metadata": {},
     "output_type": "display_data"
    },
    {
     "data": {
      "text/plain": [
       "<sympy.plotting.plot.Plot at 0x7f0e1f051320>"
      ]
     },
     "execution_count": 11,
     "metadata": {},
     "output_type": "execute_result"
    }
   ],
   "source": [
    "plot((3 * (x**2) + 2), (x, -3, 3), ylim=(0, 10))\n",
    "plot(2*x - 4, (x, -5, 5), ylim=(-10, 10))"
   ]
  },
  {
   "cell_type": "markdown",
   "metadata": {},
   "source": [
    "---\n",
    "* $y=2x-4$"
   ]
  },
  {
   "cell_type": "code",
   "execution_count": 12,
   "metadata": {
    "ExecuteTime": {
     "end_time": "2018-11-19T11:04:53.898538Z",
     "start_time": "2018-11-19T11:04:53.788870Z"
    },
    "scrolled": true
   },
   "outputs": [
    {
     "data": {
      "image/png": "[encoded data removed]",
      "text/plain": [
       "<Figure size 432x288 with 1 Axes>"
      ]
     },
     "metadata": {},
     "output_type": "display_data"
    },
    {
     "data": {
      "text/plain": [
       "<sympy.plotting.plot.Plot at 0x7f0e209e1f28>"
      ]
     },
     "execution_count": 12,
     "metadata": {},
     "output_type": "execute_result"
    }
   ],
   "source": [
    "plot(2*x - 4, (x, -5, 5), ylim=(-10, 10))"
   ]
  },
  {
   "cell_type": "markdown",
   "metadata": {},
   "source": [
    "### Complete Network"
   ]
  },
  {
   "cell_type": "markdown",
   "metadata": {},
   "source": [
    "`Input`과 `Layer`, `Activation`을 활용하여 간단한 `Multi Layer Perceptron` 모델을 생성해 보자.\n",
    "\n",
    "<img src=\"images/nn3layer.png\" style=\"width:400px;height:400px;align:left;\">"
   ]
  },
  {
   "cell_type": "code",
   "execution_count": 74,
   "metadata": {
    "ExecuteTime": {
     "end_time": "2018-11-20T11:54:27.329566Z",
     "start_time": "2018-11-20T11:54:27.323859Z"
    }
   },
   "outputs": [
    {
     "name": "stdout",
     "output_type": "stream",
     "text": [
      "fc1_layer\n",
      "========================================================================================\n",
      "|  Input             |    Weight                    |    Output                        |\n",
      "|  (1, 3)            |    (3, 4)                    |    (1, 4)                        |\n",
      "========================================================================================\n",
      "|  [[0.6 0.5 0.1]]   |    [[0.97 0.55 0.97 0.71]    |    [[0.957 0.483 1.15  0.451]]   |\n",
      "|                    |     [0.7  0.22 0.98 0.01]    |                                  |\n",
      "|                    |     [0.25 0.43 0.78 0.2 ]]   |                                  |\n",
      "========================================================================================\n",
      "sigmoid\n",
      "=========================================================================================\n",
      "|  Raw                           |    Activated                                         |\n",
      "|  (1, 4)                        |    (1, 4)                                            |\n",
      "=========================================================================================\n",
      "|  [[0.957 0.483 1.15  0.451]]   |    [[0.72252075 0.61845603 0.75951092 0.61087697]]   |\n",
      "=========================================================================================\n",
      "fc2_layer\n",
      "==================================================================================\n",
      "|  Input                         |    Weight          |    Output                |\n",
      "|  (1, 4)                        |    (4, 2)          |    (1, 2)                |\n",
      "==================================================================================\n",
      "|  [[0.957 0.483 1.15  0.451]]   |    [[0.55 0.71]    |    [[1.74855 2.05551]]   |\n",
      "|                                |     [0.29 0.51]    |                          |\n",
      "|                                |     [0.89 0.9 ]    |                          |\n",
      "|                                |     [0.13 0.21]]   |                          |\n",
      "==================================================================================\n",
      "sigmoid\n",
      "===========================================================\n",
      "|  Raw                   |    Activated                   |\n",
      "|  (1, 2)                |    (1, 2)                      |\n",
      "===========================================================\n",
      "|  [[1.74855 2.05551]]   |    [[0.85176982 0.88650319]]   |\n",
      "===========================================================\n"
     ]
    }
   ],
   "source": [
    "# Input Layer\n",
    "input_layer = arr_x_nonbatch\n",
    "\n",
    "\n",
    "# Hidden Layer\n",
    "hidden_layer_1, w1 = fully_connected_layer(\n",
    "    input_layer,\n",
    "    output_dim=4,\n",
    "    seed=4,\n",
    "    name='fc1_layer',\n",
    ")\n",
    "activated_1 = sigmoid(hidden_layer_1)\n",
    "\n",
    "\n",
    "# Output Layer\n",
    "hidden_layer_2, w2 = fully_connected_layer(\n",
    "    hidden_layer_1,\n",
    "    output_dim=2,\n",
    "    seed=3,\n",
    "    name='fc2_layer',\n",
    ")\n",
    "activated_2 = sigmoid(hidden_layer_2)"
   ]
  },
  {
   "cell_type": "code",
   "execution_count": 75,
   "metadata": {
    "ExecuteTime": {
     "end_time": "2018-11-20T11:54:52.612554Z",
     "start_time": "2018-11-20T11:54:52.609100Z"
    }
   },
   "outputs": [
    {
     "data": {
      "text/plain": [
       "array([[1.74855, 2.05551]])"
      ]
     },
     "execution_count": 75,
     "metadata": {},
     "output_type": "execute_result"
    }
   ],
   "source": [
    "hidden_layer_2"
   ]
  },
  {
   "cell_type": "code",
   "execution_count": 76,
   "metadata": {
    "ExecuteTime": {
     "end_time": "2018-11-20T11:54:53.046947Z",
     "start_time": "2018-11-20T11:54:53.035382Z"
    }
   },
   "outputs": [
    {
     "data": {
      "text/plain": [
       "array([[0.85176982, 0.88650319]])"
      ]
     },
     "execution_count": 76,
     "metadata": {},
     "output_type": "execute_result"
    }
   ],
   "source": [
    "activated_2"
   ]
  },
  {
   "cell_type": "markdown",
   "metadata": {},
   "source": [
    "### Batch\n",
    "\n",
    "<br>\n",
    "이제 Batch에 대해 알아보자.\n",
    "<img src=\"images/full_batch_nn3.png\" style=\"width:100%;height:500px;\">\n",
    "<br>\n",
    "<font size=\"3\">Batch는 한번 학습에 이용하는 샘플 단위를 말한다.</font><br>\n",
    "<br>\n",
    "전체 Input의 개수가 10이고 `batch_size`가 2일 경우, $\\space\\space$<font size='4'><b> $\\leftarrow$ `input_size`: 10, `batch_size`: 2</b></font><br>\n",
    "부분집합인 2개씩을 꺼내어 1번 학습에 활용하게 되고 $\\space\\space$<font size='4'><b> $\\leftarrow$ `step_num`: 1 (누적학습횟수)</b></font><br> \n",
    "총 5번 학습하면 전체 Input을 다 학습하게 된다. $\\space\\space$<font size='4'><b> $\\leftarrow$ `batch_num`: 5 (학습횟수)</b></font><br>\n",
    "이렇게 Input을 한번 다 보는 경우를 1 epoch이라 하며, $\\space\\space$<font size='4'><b> $\\leftarrow$ `epoch_num`: 1</b></font><br>\n",
    "<br>\n",
    "<font size=\"3\">10 epoch로 학습하는 경우  \n",
    "`batch_num`은 5, `step_num`은 50이 된다.</font>\n",
    "<br>\n",
    "<br>\n",
    "$\\space$\n",
    "$In \\space 1 \\space Epoch,$\n",
    "\\begin{equation}\n",
    "\\begin{bmatrix} 1st \\space Batch \\times \\color{red}3 \\end{bmatrix}\n",
    "\\overbrace{ \\begin{bmatrix} \\color{red}3 \\times \\color{blue}4 \\end{bmatrix} }^{1st Layer}\n",
    "\\overbrace{ \\begin{bmatrix} \\color{blue}4 \\times 2 \\end{bmatrix} }^{2nd Layer}\n",
    "= \\begin{bmatrix} 1st \\space Batch \\times 2 \\end{bmatrix}\n",
    "\\Rightarrow 1st \\space Backpropagation\n",
    "\\end{equation}  \n",
    "\\begin{equation}\n",
    "\\begin{bmatrix} 2nd \\space Batch \\times \\color{red}3 \\end{bmatrix}\n",
    "\\overbrace{ \\begin{bmatrix} \\color{red}3 \\times \\color{blue}4 \\end{bmatrix} }^{1st Layer}\n",
    "\\overbrace{ \\begin{bmatrix} \\color{blue}4 \\times 2 \\end{bmatrix} }^{2nd Layer}\n",
    "= \\begin{bmatrix} 2nd \\space Batch \\times 2 \\end{bmatrix}\n",
    "\\Rightarrow 2nd \\space Backpropagation\n",
    "\\end{equation}  \n",
    "$$\\vdots$$\n",
    "\\begin{equation}\n",
    "\\begin{bmatrix} 5th \\space Batch \\times \\color{red}3 \\end{bmatrix}\n",
    "\\overbrace{ \\begin{bmatrix} \\color{red}3 \\times \\color{blue}4 \\end{bmatrix} }^{1st Layer}\n",
    "\\overbrace{ \\begin{bmatrix} \\color{blue}4 \\times 2 \\end{bmatrix} }^{2nd Layer}\n",
    "= \\begin{bmatrix} 5th \\space Batch \\times 2 \\end{bmatrix}\n",
    "\\Rightarrow 5th \\space Backpropagation\n",
    "\\end{equation} \n",
    "$\\space$\n",
    "\n",
    "<br>\n",
    "<br>\n",
    "학습할 때는 주어진 `input_size`에 대해 `batch_size`와 `epoch_num`을 지정한다.  \n",
    "<font size='3'>이제, <font color='#318CE7'> <b><i> 딥러닝 모델이 Input을 어떻게 읽어들이는 지 알 수 있다.</i></b></font></font>\n",
    "<br>\n",
    "\n",
    "<div class=\"alert alert-block alert-warning\">\n",
    "<b>$\\divideontimes$ Batch란:  </b> <b>1번 학습에 활용하는 Input의 부분집합 단위</b>\n",
    "\n",
    "<br>\n",
    "<br>\n",
    "$$Batch \\space num = \\frac {Input \\space size}{Batch \\space size}$$  \n",
    "$$1 \\space Epoch = Batch \\space size \\times Batch \\space num$$  \n",
    "$$ Step \\space num = Epoch \\space num \\times Batch \\space num$$  \n",
    "<br>\n",
    "</div>  "
   ]
  },
  {
   "cell_type": "code",
   "execution_count": 78,
   "metadata": {
    "ExecuteTime": {
     "end_time": "2018-11-20T11:55:12.210372Z",
     "start_time": "2018-11-20T11:55:12.203711Z"
    }
   },
   "outputs": [
    {
     "name": "stdout",
     "output_type": "stream",
     "text": [
      "fc1_layer\n",
      "========================================================================================\n",
      "|  Input             |    Weight                    |    Output                        |\n",
      "|  (2, 3)            |    (3, 4)                    |    (2, 4)                        |\n",
      "========================================================================================\n",
      "|  [[0.6 0.5 0.1]    |    [[0.97 0.55 0.97 0.71]    |    [[0.957 0.483 1.15  0.451]    |\n",
      "|   [0.4 0.2 0.8]]   |     [0.7  0.22 0.98 0.01]    |     [0.728 0.608 1.208 0.446]]   |\n",
      "|                    |     [0.25 0.43 0.78 0.2 ]]   |                                  |\n",
      "========================================================================================\n",
      "sigmoid\n",
      "=========================================================================================\n",
      "|  Raw                           |    Activated                                         |\n",
      "|  (2, 4)                        |    (2, 4)                                            |\n",
      "=========================================================================================\n",
      "|  [[0.957 0.483 1.15  0.451]    |    [[0.72252075 0.61845603 0.75951092 0.61087697]    |\n",
      "|   [0.728 0.608 1.208 0.446]]   |     [0.67436623 0.64748444 0.76994488 0.60968778]]   |\n",
      "=========================================================================================\n",
      "fc2_layer\n",
      "==================================================================================\n",
      "|  Input                         |    Weight          |    Output                |\n",
      "|  (2, 4)                        |    (4, 2)          |    (2, 2)                |\n",
      "==================================================================================\n",
      "|  [[0.957 0.483 1.15  0.451]    |    [[0.55 0.71]    |    [[1.74855 2.05551]    |\n",
      "|   [0.728 0.608 1.208 0.446]]   |     [0.29 0.51]    |     [1.70982 2.00782]]   |\n",
      "|                                |     [0.89 0.9 ]    |                          |\n",
      "|                                |     [0.13 0.21]]   |                          |\n",
      "==================================================================================\n",
      "sigmoid\n",
      "===========================================================\n",
      "|  Raw                   |    Activated                   |\n",
      "|  (2, 2)                |    (2, 2)                      |\n",
      "===========================================================\n",
      "|  [[1.74855 2.05551]    |    [[0.85176982 0.88650319]    |\n",
      "|   [1.70982 2.00782]]   |     [0.84681294 0.88161569]]   |\n",
      "===========================================================\n"
     ]
    }
   ],
   "source": [
    "# Input Layer\n",
    "input_layer = arr_x\n",
    "\n",
    "\n",
    "# Hidden Layer\n",
    "hidden_layer_1, w1 = fully_connected_layer(\n",
    "    input_layer,\n",
    "    output_dim=4,\n",
    "    seed=4,\n",
    "    name='fc1_layer',\n",
    ")\n",
    "activated_1 = sigmoid(hidden_layer_1)\n",
    "\n",
    "\n",
    "# Output Layer\n",
    "hidden_layer_2, w2 = fully_connected_layer(\n",
    "    hidden_layer_1,\n",
    "    output_dim=2,\n",
    "    seed=3,\n",
    "    name='fc2_layer',\n",
    ")\n",
    "activated_2 = sigmoid(hidden_layer_2)"
   ]
  },
  {
   "cell_type": "markdown",
   "metadata": {},
   "source": [
    "### Loss Function"
   ]
  },
  {
   "cell_type": "markdown",
   "metadata": {},
   "source": [
    "`Cost Function` 혹은 `Objective Function`으로도 불린다.  \n",
    "예측값과 실제값의 차이를 `Error` 또는 `Cost`라고 부르는데 이 `Error`의 측정방법이 곧 `Loss Function`이다.  \n",
    "'모델이 학습한다'는 의미는, <font color='#318CE7'> <b><i>이 값을 최소화 하는 방향으로 $w$ 와 $b$ 를 업데이트 한다는 뜻이다. </i></b></font>  \n",
    "<br>\n",
    "<div align=\"right\"><font color='red'><b>* `accuracy`를 목적함수로 사용할 경우, 업데이트함에 따라 값이 불연속적으로 변하기 때문에 부적합.</b></font></div>"
   ]
  },
  {
   "cell_type": "markdown",
   "metadata": {},
   "source": [
    "#### Mean Square Error"
   ]
  },
  {
   "cell_type": "markdown",
   "metadata": {},
   "source": [
    "제일 기본적인 `Loss Function`이며,  \n",
    "값의 차이를 제곱하여 그 크기 값의 평균을 계산한다.\n",
    "\n",
    "<br>\n",
    "<font size='4'>$$loss = \\mathcal{L}(\\hat{y}, y) = (\\hat y^{(i)} - y^{(i)})^2$$</font>\n",
    "<br>\n",
    "<font size='4'>$$MSE = \\frac {1}{m} \\sum_{i=1}^{m}(\\hat y_{i} - y_{i})^2 $$</font>\n"
   ]
  },
  {
   "cell_type": "code",
   "execution_count": 79,
   "metadata": {
    "ExecuteTime": {
     "end_time": "2018-11-20T11:59:35.408453Z",
     "start_time": "2018-11-20T11:59:35.406275Z"
    }
   },
   "outputs": [],
   "source": [
    "def mean_square_error(logits, real):\n",
    "    err = ((logits - real) ** 2).mean()\n",
    "    return err"
   ]
  },
  {
   "cell_type": "code",
   "execution_count": 80,
   "metadata": {
    "ExecuteTime": {
     "end_time": "2018-11-20T11:59:36.105241Z",
     "start_time": "2018-11-20T11:59:36.102142Z"
    }
   },
   "outputs": [
    {
     "data": {
      "text/plain": [
       "0.16150272349663602"
      ]
     },
     "execution_count": 80,
     "metadata": {},
     "output_type": "execute_result"
    }
   ],
   "source": [
    "mean_square_error(activated_2, arr_y)"
   ]
  },
  {
   "cell_type": "markdown",
   "metadata": {},
   "source": [
    "#### Cross Entropy\n",
    "\n",
    "<br>\n",
    "Classification의 `Loss Function`으로 활용한다.  \n",
    "$\\hat y$와 $y$의 분포 간 차이를 줄이기 위해 KL-Divergence를 최소화하는 방향으로 학습을 진행하게 된다.\n",
    "\n",
    "* *__Entropy__*: 정보이론에서 정보 Source를 손실없이 최적으로 인코딩 또는 압축하기 위해 필요한 bit 크기\n",
    "\n",
    "`빨주노초파람보` 7개 색을 bit로 인코딩할 때,\n",
    "\n",
    "| Row | 색상 | bit   |\n",
    "|:---:|:- --|:------|\n",
    "|  1  | 빨강 | `000` |\n",
    "|  2  | 주황 | `001` |\n",
    "|  3  | 노랑 | `010` |\n",
    "|  4  | 초록 | `011` |\n",
    "|  5  | 파랑 | `100` |\n",
    "|  6  | 군청 | `101` |\n",
    "|  7  | 보라 | `110` |\n",
    "\n",
    "\n",
    "필요한 bit 수: $3 = log_2{8}$\n",
    "\n",
    "\n",
    "> $n$ 개의 정보를 인코딩하는 데 필요한 bit 수: $log_2{n}$\n",
    "\n",
    "**하지만, 확률이 높은 정보의 bit 수를 줄인다면?**\n",
    "\n",
    "\n",
    "7개 색을 포함한 100개 색상 별 확률이 다를 경우,\n",
    "__6 bit__ ( $5.64=log_2{50}$ )\n",
    "\n",
    "| Row | 색상 | 확률 |\n",
    "|:---:|:- --| :-: |\n",
    "|  1  | 빨강 | 13% |\n",
    "|  2  | 주황 | 13% |\n",
    "|  3  | 노랑 | 14% |\n",
    "|  4  | 초록 | 12% |\n",
    "|  5  | 파랑 | 13% |\n",
    "|  6  | 군청 | 13% |\n",
    "|  7  | 보라 | 13% |\n",
    "| ... | ... | ... |\n",
    "| 49  | 흰색 |0.2% |\n",
    "| 50  | 회색 |0.1% |\n",
    "\n",
    "무지개색 그룹이 91%, 기타 색상인 경우 9%\n",
    "\n",
    "무지개색 그룹인지 확인: __1bit__\n",
    "  * YES: 무지개색 중 7개 구분: __3 bit__ ( $2.81=log_2{7}$ )\n",
    "  * NO : 나머지 43개 구분: __6 bit__ ( $5.43=log_2{43}$ )\n",
    "\n",
    "1. 무지개색 그룹일 경우: __4 bit__  ( $1+3$ )\n",
    "2. 기타 색상인 경우: __7 bit__  ( $1+6$ )\n",
    "\n",
    "필요한 bit 수: __5 bit__  ( $4.64 = 0.91 \\times 4 + 0.09 \\times 7 $ )\n",
    "\n",
    "\n",
    "\n",
    "$$P[data|model] := y_1^{k_1}y_2^{k_2}\\dots y_n^{k_n}$$\n",
    "\n",
    "$$-\\log P[data|model] = -k_1\\log y_1 -k_2\\log y_2 - \\dots -k_n\\log y_n = -\\sum_i k_i \\log y_i$$\n",
    "\n",
    "$$-\\frac{1}{N} \\log P[data|model] = -\\frac{1}{N}\\sum_i k_i \\log y_i = -\\sum_i y_i'\\log y_i =: H(y', y)$$\n",
    "\n",
    "$$-\\sum_i y_i'\\log_2 y_i,$$\n",
    "\n",
    "\n",
    "\n",
    "\n",
    "\n",
    "<div class=\"alert alert-block alert-info\">\n",
    "<b>$\\divideontimes$ Entropy: </b> 각 Label 들의 확률분포를 구하는 함수\n",
    "\n",
    "$$H(y) = \\sum_{i} {y_i \\log \\frac {1}{y_i}} = - \\sum_{i} {y_i \\log {y_i}}$$\n",
    "</div>\n",
    "\n",
    "\n"
   ]
  },
  {
   "cell_type": "markdown",
   "metadata": {},
   "source": [
    "\n",
    "$$- \\frac{1}{m} \\sum_{i = 1}^m \\large ( \\small y^{(i)} \\log \\sigma(z^{[2](i)}) + (1-y^{(i)})\\log (1-\\sigma(z^{[2](i)})\\large )\\small\\tag{2}$$\n",
    "\n",
    "$$- \\frac{1}{m} \\sum_{i = 1}^m \\large ( \\small y_{(i)} \\log \\sigma(z_{[2](i)}) + (1-y_{(i)})\\log (1-\\sigma(z_{[2](i)})\\large )\\small\\tag{2}$$\n",
    "\n",
    "$H_{y'}(y) := - \\sum_{i} ({y_i' \\log(y_i) + (1-y_i') \\log (1-y_i)})$"
   ]
  },
  {
   "cell_type": "markdown",
   "metadata": {},
   "source": [
    "#### Softmax"
   ]
  },
  {
   "cell_type": "markdown",
   "metadata": {},
   "source": [
    "$-\\sum_i y_i'\\log_2 y_i,$\n",
    "\n",
    "${ p }_{ i }=\\frac { exp\\left( { a }_{ i } \\right)  }{ \\sum _{ k }^{  }{ exp\\left( { a }_{ k } \\right)  }  }$\n",
    "\n",
    "$L = Loss(\\hat y, y)=-\\sum _{ j }^{  }{ { y }_{ j }\\log { { p }_{ j } }  }$"
   ]
  },
  {
   "cell_type": "code",
   "execution_count": 19,
   "metadata": {
    "ExecuteTime": {
     "end_time": "2018-11-19T11:04:56.298264Z",
     "start_time": "2018-11-19T11:04:56.293823Z"
    }
   },
   "outputs": [],
   "source": [
    "def softmax(x):\n",
    "    \n",
    "    \n",
    "    e_x = np.exp(x - np.max(x))\n",
    "    \n",
    "    \n",
    "    lprint(x, e_x, name='softmax')\n",
    "    return e_x / e_x.sum()"
   ]
  },
  {
   "cell_type": "code",
   "execution_count": 20,
   "metadata": {
    "ExecuteTime": {
     "end_time": "2018-11-19T11:04:56.309174Z",
     "start_time": "2018-11-19T11:04:56.301200Z"
    }
   },
   "outputs": [
    {
     "name": "stdout",
     "output_type": "stream",
     "text": [
      "softmax:\t(1, 3) -> (1, 3)\n"
     ]
    },
    {
     "data": {
      "text/plain": [
       "array([[0.39818934, 0.36029662, 0.24151404]])"
      ]
     },
     "execution_count": 20,
     "metadata": {},
     "output_type": "execute_result"
    }
   ],
   "source": [
    "softmax(arr_x_nonbatch)"
   ]
  },
  {
   "cell_type": "markdown",
   "metadata": {},
   "source": [
    "### Optimization\n",
    "\n",
    "<br>\n",
    "<font size='5'>$$ \\frac{\\partial J}{\\partial \\theta} = \\lim_{\\varepsilon \\to 0} \\frac{J(\\theta + \\varepsilon) - J(\\theta - \\varepsilon)}{2 \\varepsilon} \\tag{1}$$</font>\n",
    "\n",
    "$J$는 $Error$를, $\\theta$는 $Weight$를 의미한다.  \n",
    "즉,  <font size='4'>$\\frac{\\partial J}{\\partial \\theta}$</font>는 $Weight$ 변화량 대비 $Error$ 값의 변화량을 의미한다.\n",
    "\n",
    "<font size='4'>\n",
    "$$\n",
    "J = MSE = \\frac{1}{m}\\sum\\limits_{i=1}^m {(\\hat{y} - y)^2}\n",
    "$$\n",
    "<br>\n",
    "$$\n",
    "\\frac{\\partial z}{\\partial w} = \\frac{\\partial z}{\\partial y}\\frac{\\partial y}{\\partial x}\\frac{\\partial x}{\\partial w}\n",
    "$$\n",
    "<br>\n",
    "$$\n",
    "\\frac{\\partial z}{\\partial w} = \\frac{\\partial z}{\\partial y}\\frac{\\partial y}{\\partial x}\\frac{\\partial x}{\\partial w}\n",
    "$$"
   ]
  },
  {
   "cell_type": "markdown",
   "metadata": {},
   "source": [
    "#### Gradient"
   ]
  },
  {
   "cell_type": "code",
   "execution_count": 14,
   "metadata": {
    "ExecuteTime": {
     "end_time": "2018-11-21T00:30:32.957371Z",
     "start_time": "2018-11-21T00:30:31.802230Z"
    }
   },
   "outputs": [
    {
     "data": {
      "image/png": "[encoded data removed]",
      "text/plain": [
       "<Figure size 864x504 with 2 Axes>"
      ]
     },
     "metadata": {},
     "output_type": "display_data"
    },
    {
     "data": {
      "image/png": "[encoded data removed]",
      "text/plain": [
       "<Figure size 864x504 with 2 Axes>"
      ]
     },
     "metadata": {},
     "output_type": "display_data"
    }
   ],
   "source": [
    "examples.gradient_plot_a()\n",
    "examples.gradient_plot_b()"
   ]
  },
  {
   "cell_type": "code",
   "execution_count": 23,
   "metadata": {
    "ExecuteTime": {
     "end_time": "2018-11-19T11:05:29.453850Z",
     "start_time": "2018-11-19T11:05:29.389886Z"
    }
   },
   "outputs": [
    {
     "data": {
      "application/javascript": [
       "/* Put everything inside the global mpl namespace */\n",
       "window.mpl = {};\n",
       "\n",
       "\n",
       "mpl.get_websocket_type = function() {\n",
       "    if (typeof(WebSocket) !== 'undefined') {\n",
       "        return WebSocket;\n",
       "    } else if (typeof(MozWebSocket) !== 'undefined') {\n",
       "        return MozWebSocket;\n",
       "    } else {\n",
       "        alert('Your browser does not have WebSocket support.' +\n",
       "              'Please try Chrome, Safari or Firefox ≥ 6. ' +\n",
       "              'Firefox 4 and 5 are also supported but you ' +\n",
       "              'have to enable WebSockets in about:config.');\n",
       "    };\n",
       "}\n",
       "\n",
       "mpl.figure = function(figure_id, websocket, ondownload, parent_element) {\n",
       "    this.id = figure_id;\n",
       "\n",
       "    this.ws = websocket;\n",
       "\n",
       "    this.supports_binary = (this.ws.binaryType != undefined);\n",
       "\n",
       "    if (!this.supports_binary) {\n",
       "        var warnings = document.getElementById(\"mpl-warnings\");\n",
       "        if (warnings) {\n",
       "            warnings.style.display = 'block';\n",
       "            warnings.textContent = (\n",
       "                \"This browser does not support binary websocket messages. \" +\n",
       "                    \"Performance may be slow.\");\n",
       "        }\n",
       "    }\n",
       "\n",
       "    this.imageObj = new Image();\n",
       "\n",
       "    this.context = undefined;\n",
       "    this.message = undefined;\n",
       "    this.canvas = undefined;\n",
       "    this.rubberband_canvas = undefined;\n",
       "    this.rubberband_context = undefined;\n",
       "    this.format_dropdown = undefined;\n",
       "\n",
       "    this.image_mode = 'full';\n",
       "\n",
       "    this.root = $('<div/>');\n",
       "    this._root_extra_style(this.root)\n",
       "    this.root.attr('style', 'display: inline-block');\n",
       "\n",
       "    $(parent_element).append(this.root);\n",
       "\n",
       "    this._init_header(this);\n",
       "    this._init_canvas(this);\n",
       "    this._init_toolbar(this);\n",
       "\n",
       "    var fig = this;\n",
       "\n",
       "    this.waiting = false;\n",
       "\n",
       "    this.ws.onopen =  function () {\n",
       "            fig.send_message(\"supports_binary\", {value: fig.supports_binary});\n",
       "            fig.send_message(\"send_image_mode\", {});\n",
       "            if (mpl.ratio != 1) {\n",
       "                fig.send_message(\"set_dpi_ratio\", {'dpi_ratio': mpl.ratio});\n",
       "            }\n",
       "            fig.send_message(\"refresh\", {});\n",
       "        }\n",
       "\n",
       "    this.imageObj.onload = function() {\n",
       "            if (fig.image_mode == 'full') {\n",
       "                // Full images could contain transparency (where diff images\n",
       "                // almost always do), so we need to clear the canvas so that\n",
       "                // there is no ghosting.\n",
       "                fig.context.clearRect(0, 0, fig.canvas.width, fig.canvas.height);\n",
       "            }\n",
       "            fig.context.drawImage(fig.imageObj, 0, 0);\n",
       "        };\n",
       "\n",
       "    this.imageObj.onunload = function() {\n",
       "        fig.ws.close();\n",
       "    }\n",
       "\n",
       "    this.ws.onmessage = this._make_on_message_function(this);\n",
       "\n",
       "    this.ondownload = ondownload;\n",
       "}\n",
       "\n",
       "mpl.figure.prototype._init_header = function() {\n",
       "    var titlebar = $(\n",
       "        '<div class=\"ui-dialog-titlebar ui-widget-header ui-corner-all ' +\n",
       "        'ui-helper-clearfix\"/>');\n",
       "    var titletext = $(\n",
       "        '<div class=\"ui-dialog-title\" style=\"width: 100%; ' +\n",
       "        'text-align: center; padding: 3px;\"/>');\n",
       "    titlebar.append(titletext)\n",
       "    this.root.append(titlebar);\n",
       "    this.header = titletext[0];\n",
       "}\n",
       "\n",
       "\n",
       "\n",
       "mpl.figure.prototype._canvas_extra_style = function(canvas_div) {\n",
       "\n",
       "}\n",
       "\n",
       "\n",
       "mpl.figure.prototype._root_extra_style = function(canvas_div) {\n",
       "\n",
       "}\n",
       "\n",
       "mpl.figure.prototype._init_canvas = function() {\n",
       "    var fig = this;\n",
       "\n",
       "    var canvas_div = $('<div/>');\n",
       "\n",
       "    canvas_div.attr('style', 'position: relative; clear: both; outline: 0');\n",
       "\n",
       "    function canvas_keyboard_event(event) {\n",
       "        return fig.key_event(event, event['data']);\n",
       "    }\n",
       "\n",
       "    canvas_div.keydown('key_press', canvas_keyboard_event);\n",
       "    canvas_div.keyup('key_release', canvas_keyboard_event);\n",
       "    this.canvas_div = canvas_div\n",
       "    this._canvas_extra_style(canvas_div)\n",
       "    this.root.append(canvas_div);\n",
       "\n",
       "    var canvas = $('<canvas/>');\n",
       "    canvas.addClass('mpl-canvas');\n",
       "    canvas.attr('style', \"left: 0; top: 0; z-index: 0; outline: 0\")\n",
       "\n",
       "    this.canvas = canvas[0];\n",
       "    this.context = canvas[0].getContext(\"2d\");\n",
       "\n",
       "    var backingStore = this.context.backingStorePixelRatio ||\n",
       "\tthis.context.webkitBackingStorePixelRatio ||\n",
       "\tthis.context.mozBackingStorePixelRatio ||\n",
       "\tthis.context.msBackingStorePixelRatio ||\n",
       "\tthis.context.oBackingStorePixelRatio ||\n",
       "\tthis.context.backingStorePixelRatio || 1;\n",
       "\n",
       "    mpl.ratio = (window.devicePixelRatio || 1) / backingStore;\n",
       "\n",
       "    var rubberband = $('<canvas/>');\n",
       "    rubberband.attr('style', \"position: absolute; left: 0; top: 0; z-index: 1;\")\n",
       "\n",
       "    var pass_mouse_events = true;\n",
       "\n",
       "    canvas_div.resizable({\n",
       "        start: function(event, ui) {\n",
       "            pass_mouse_events = false;\n",
       "        },\n",
       "        resize: function(event, ui) {\n",
       "            fig.request_resize(ui.size.width, ui.size.height);\n",
       "        },\n",
       "        stop: function(event, ui) {\n",
       "            pass_mouse_events = true;\n",
       "            fig.request_resize(ui.size.width, ui.size.height);\n",
       "        },\n",
       "    });\n",
       "\n",
       "    function mouse_event_fn(event) {\n",
       "        if (pass_mouse_events)\n",
       "            return fig.mouse_event(event, event['data']);\n",
       "    }\n",
       "\n",
       "    rubberband.mousedown('button_press', mouse_event_fn);\n",
       "    rubberband.mouseup('button_release', mouse_event_fn);\n",
       "    // Throttle sequential mouse events to 1 every 20ms.\n",
       "    rubberband.mousemove('motion_notify', mouse_event_fn);\n",
       "\n",
       "    rubberband.mouseenter('figure_enter', mouse_event_fn);\n",
       "    rubberband.mouseleave('figure_leave', mouse_event_fn);\n",
       "\n",
       "    canvas_div.on(\"wheel\", function (event) {\n",
       "        event = event.originalEvent;\n",
       "        event['data'] = 'scroll'\n",
       "        if (event.deltaY < 0) {\n",
       "            event.step = 1;\n",
       "        } else {\n",
       "            event.step = -1;\n",
       "        }\n",
       "        mouse_event_fn(event);\n",
       "    });\n",
       "\n",
       "    canvas_div.append(canvas);\n",
       "    canvas_div.append(rubberband);\n",
       "\n",
       "    this.rubberband = rubberband;\n",
       "    this.rubberband_canvas = rubberband[0];\n",
       "    this.rubberband_context = rubberband[0].getContext(\"2d\");\n",
       "    this.rubberband_context.strokeStyle = \"#000000\";\n",
       "\n",
       "    this._resize_canvas = function(width, height) {\n",
       "        // Keep the size of the canvas, canvas container, and rubber band\n",
       "        // canvas in synch.\n",
       "        canvas_div.css('width', width)\n",
       "        canvas_div.css('height', height)\n",
       "\n",
       "        canvas.attr('width', width * mpl.ratio);\n",
       "        canvas.attr('height', height * mpl.ratio);\n",
       "        canvas.attr('style', 'width: ' + width + 'px; height: ' + height + 'px;');\n",
       "\n",
       "        rubberband.attr('width', width);\n",
       "        rubberband.attr('height', height);\n",
       "    }\n",
       "\n",
       "    // Set the figure to an initial 600x600px, this will subsequently be updated\n",
       "    // upon first draw.\n",
       "    this._resize_canvas(600, 600);\n",
       "\n",
       "    // Disable right mouse context menu.\n",
       "    $(this.rubberband_canvas).bind(\"contextmenu\",function(e){\n",
       "        return false;\n",
       "    });\n",
       "\n",
       "    function set_focus () {\n",
       "        canvas.focus();\n",
       "        canvas_div.focus();\n",
       "    }\n",
       "\n",
       "    window.setTimeout(set_focus, 100);\n",
       "}\n",
       "\n",
       "mpl.figure.prototype._init_toolbar = function() {\n",
       "    var fig = this;\n",
       "\n",
       "    var nav_element = $('<div/>')\n",
       "    nav_element.attr('style', 'width: 100%');\n",
       "    this.root.append(nav_element);\n",
       "\n",
       "    // Define a callback function for later on.\n",
       "    function toolbar_event(event) {\n",
       "        return fig.toolbar_button_onclick(event['data']);\n",
       "    }\n",
       "    function toolbar_mouse_event(event) {\n",
       "        return fig.toolbar_button_onmouseover(event['data']);\n",
       "    }\n",
       "\n",
       "    for(var toolbar_ind in mpl.toolbar_items) {\n",
       "        var name = mpl.toolbar_items[toolbar_ind][0];\n",
       "        var tooltip = mpl.toolbar_items[toolbar_ind][1];\n",
       "        var image = mpl.toolbar_items[toolbar_ind][2];\n",
       "        var method_name = mpl.toolbar_items[toolbar_ind][3];\n",
       "\n",
       "        if (!name) {\n",
       "            // put a spacer in here.\n",
       "            continue;\n",
       "        }\n",
       "        var button = $('<button/>');\n",
       "        button.addClass('ui-button ui-widget ui-state-default ui-corner-all ' +\n",
       "                        'ui-button-icon-only');\n",
       "        button.attr('role', 'button');\n",
       "        button.attr('aria-disabled', 'false');\n",
       "        button.click(method_name, toolbar_event);\n",
       "        button.mouseover(tooltip, toolbar_mouse_event);\n",
       "\n",
       "        var icon_img = $('<span/>');\n",
       "        icon_img.addClass('ui-button-icon-primary ui-icon');\n",
       "        icon_img.addClass(image);\n",
       "        icon_img.addClass('ui-corner-all');\n",
       "\n",
       "        var tooltip_span = $('<span/>');\n",
       "        tooltip_span.addClass('ui-button-text');\n",
       "        tooltip_span.html(tooltip);\n",
       "\n",
       "        button.append(icon_img);\n",
       "        button.append(tooltip_span);\n",
       "\n",
       "        nav_element.append(button);\n",
       "    }\n",
       "\n",
       "    var fmt_picker_span = $('<span/>');\n",
       "\n",
       "    var fmt_picker = $('<select/>');\n",
       "    fmt_picker.addClass('mpl-toolbar-option ui-widget ui-widget-content');\n",
       "    fmt_picker_span.append(fmt_picker);\n",
       "    nav_element.append(fmt_picker_span);\n",
       "    this.format_dropdown = fmt_picker[0];\n",
       "\n",
       "    for (var ind in mpl.extensions) {\n",
       "        var fmt = mpl.extensions[ind];\n",
       "        var option = $(\n",
       "            '<option/>', {selected: fmt === mpl.default_extension}).html(fmt);\n",
       "        fmt_picker.append(option)\n",
       "    }\n",
       "\n",
       "    // Add hover states to the ui-buttons\n",
       "    $( \".ui-button\" ).hover(\n",
       "        function() { $(this).addClass(\"ui-state-hover\");},\n",
       "        function() { $(this).removeClass(\"ui-state-hover\");}\n",
       "    );\n",
       "\n",
       "    var status_bar = $('<span class=\"mpl-message\"/>');\n",
       "    nav_element.append(status_bar);\n",
       "    this.message = status_bar[0];\n",
       "}\n",
       "\n",
       "mpl.figure.prototype.request_resize = function(x_pixels, y_pixels) {\n",
       "    // Request matplotlib to resize the figure. Matplotlib will then trigger a resize in the client,\n",
       "    // which will in turn request a refresh of the image.\n",
       "    this.send_message('resize', {'width': x_pixels, 'height': y_pixels});\n",
       "}\n",
       "\n",
       "mpl.figure.prototype.send_message = function(type, properties) {\n",
       "    properties['type'] = type;\n",
       "    properties['figure_id'] = this.id;\n",
       "    this.ws.send(JSON.stringify(properties));\n",
       "}\n",
       "\n",
       "mpl.figure.prototype.send_draw_message = function() {\n",
       "    if (!this.waiting) {\n",
       "        this.waiting = true;\n",
       "        this.ws.send(JSON.stringify({type: \"draw\", figure_id: this.id}));\n",
       "    }\n",
       "}\n",
       "\n",
       "\n",
       "mpl.figure.prototype.handle_save = function(fig, msg) {\n",
       "    var format_dropdown = fig.format_dropdown;\n",
       "    var format = format_dropdown.options[format_dropdown.selectedIndex].value;\n",
       "    fig.ondownload(fig, format);\n",
       "}\n",
       "\n",
       "\n",
       "mpl.figure.prototype.handle_resize = function(fig, msg) {\n",
       "    var size = msg['size'];\n",
       "    if (size[0] != fig.canvas.width || size[1] != fig.canvas.height) {\n",
       "        fig._resize_canvas(size[0], size[1]);\n",
       "        fig.send_message(\"refresh\", {});\n",
       "    };\n",
       "}\n",
       "\n",
       "mpl.figure.prototype.handle_rubberband = function(fig, msg) {\n",
       "    var x0 = msg['x0'] / mpl.ratio;\n",
       "    var y0 = (fig.canvas.height - msg['y0']) / mpl.ratio;\n",
       "    var x1 = msg['x1'] / mpl.ratio;\n",
       "    var y1 = (fig.canvas.height - msg['y1']) / mpl.ratio;\n",
       "    x0 = Math.floor(x0) + 0.5;\n",
       "    y0 = Math.floor(y0) + 0.5;\n",
       "    x1 = Math.floor(x1) + 0.5;\n",
       "    y1 = Math.floor(y1) + 0.5;\n",
       "    var min_x = Math.min(x0, x1);\n",
       "    var min_y = Math.min(y0, y1);\n",
       "    var width = Math.abs(x1 - x0);\n",
       "    var height = Math.abs(y1 - y0);\n",
       "\n",
       "    fig.rubberband_context.clearRect(\n",
       "        0, 0, fig.canvas.width, fig.canvas.height);\n",
       "\n",
       "    fig.rubberband_context.strokeRect(min_x, min_y, width, height);\n",
       "}\n",
       "\n",
       "mpl.figure.prototype.handle_figure_label = function(fig, msg) {\n",
       "    // Updates the figure title.\n",
       "    fig.header.textContent = msg['label'];\n",
       "}\n",
       "\n",
       "mpl.figure.prototype.handle_cursor = function(fig, msg) {\n",
       "    var cursor = msg['cursor'];\n",
       "    switch(cursor)\n",
       "    {\n",
       "    case 0:\n",
       "        cursor = 'pointer';\n",
       "        break;\n",
       "    case 1:\n",
       "        cursor = 'default';\n",
       "        break;\n",
       "    case 2:\n",
       "        cursor = 'crosshair';\n",
       "        break;\n",
       "    case 3:\n",
       "        cursor = 'move';\n",
       "        break;\n",
       "    }\n",
       "    fig.rubberband_canvas.style.cursor = cursor;\n",
       "}\n",
       "\n",
       "mpl.figure.prototype.handle_message = function(fig, msg) {\n",
       "    fig.message.textContent = msg['message'];\n",
       "}\n",
       "\n",
       "mpl.figure.prototype.handle_draw = function(fig, msg) {\n",
       "    // Request the server to send over a new figure.\n",
       "    fig.send_draw_message();\n",
       "}\n",
       "\n",
       "mpl.figure.prototype.handle_image_mode = function(fig, msg) {\n",
       "    fig.image_mode = msg['mode'];\n",
       "}\n",
       "\n",
       "mpl.figure.prototype.updated_canvas_event = function() {\n",
       "    // Called whenever the canvas gets updated.\n",
       "    this.send_message(\"ack\", {});\n",
       "}\n",
       "\n",
       "// A function to construct a web socket function for onmessage handling.\n",
       "// Called in the figure constructor.\n",
       "mpl.figure.prototype._make_on_message_function = function(fig) {\n",
       "    return function socket_on_message(evt) {\n",
       "        if (evt.data instanceof Blob) {\n",
       "            /* FIXME: We get \"Resource interpreted as Image but\n",
       "             * transferred with MIME type text/plain:\" errors on\n",
       "             * Chrome.  But how to set the MIME type?  It doesn't seem\n",
       "             * to be part of the websocket stream */\n",
       "            evt.data.type = \"image/png\";\n",
       "\n",
       "            /* Free the memory for the previous frames */\n",
       "            if (fig.imageObj.src) {\n",
       "                (window.URL || window.webkitURL).revokeObjectURL(\n",
       "                    fig.imageObj.src);\n",
       "            }\n",
       "\n",
       "            fig.imageObj.src = (window.URL || window.webkitURL).createObjectURL(\n",
       "                evt.data);\n",
       "            fig.updated_canvas_event();\n",
       "            fig.waiting = false;\n",
       "            return;\n",
       "        }\n",
       "        else if (typeof evt.data === 'string' && evt.data.slice(0, 21) == \"data:image/png;base64\") {\n",
       "            fig.imageObj.src = evt.data;\n",
       "            fig.updated_canvas_event();\n",
       "            fig.waiting = false;\n",
       "            return;\n",
       "        }\n",
       "\n",
       "        var msg = JSON.parse(evt.data);\n",
       "        var msg_type = msg['type'];\n",
       "\n",
       "        // Call the  \"handle_{type}\" callback, which takes\n",
       "        // the figure and JSON message as its only arguments.\n",
       "        try {\n",
       "            var callback = fig[\"handle_\" + msg_type];\n",
       "        } catch (e) {\n",
       "            console.log(\"No handler for the '\" + msg_type + \"' message type: \", msg);\n",
       "            return;\n",
       "        }\n",
       "\n",
       "        if (callback) {\n",
       "            try {\n",
       "                // console.log(\"Handling '\" + msg_type + \"' message: \", msg);\n",
       "                callback(fig, msg);\n",
       "            } catch (e) {\n",
       "                console.log(\"Exception inside the 'handler_\" + msg_type + \"' callback:\", e, e.stack, msg);\n",
       "            }\n",
       "        }\n",
       "    };\n",
       "}\n",
       "\n",
       "// from http://stackoverflow.com/questions/1114465/getting-mouse-location-in-canvas\n",
       "mpl.findpos = function(e) {\n",
       "    //this section is from http://www.quirksmode.org/js/events_properties.html\n",
       "    var targ;\n",
       "    if (!e)\n",
       "        e = window.event;\n",
       "    if (e.target)\n",
       "        targ = e.target;\n",
       "    else if (e.srcElement)\n",
       "        targ = e.srcElement;\n",
       "    if (targ.nodeType == 3) // defeat Safari bug\n",
       "        targ = targ.parentNode;\n",
       "\n",
       "    // jQuery normalizes the pageX and pageY\n",
       "    // pageX,Y are the mouse positions relative to the document\n",
       "    // offset() returns the position of the element relative to the document\n",
       "    var x = e.pageX - $(targ).offset().left;\n",
       "    var y = e.pageY - $(targ).offset().top;\n",
       "\n",
       "    return {\"x\": x, \"y\": y};\n",
       "};\n",
       "\n",
       "/*\n",
       " * return a copy of an object with only non-object keys\n",
       " * we need this to avoid circular references\n",
       " * http://stackoverflow.com/a/24161582/3208463\n",
       " */\n",
       "function simpleKeys (original) {\n",
       "  return Object.keys(original).reduce(function (obj, key) {\n",
       "    if (typeof original[key] !== 'object')\n",
       "        obj[key] = original[key]\n",
       "    return obj;\n",
       "  }, {});\n",
       "}\n",
       "\n",
       "mpl.figure.prototype.mouse_event = function(event, name) {\n",
       "    var canvas_pos = mpl.findpos(event)\n",
       "\n",
       "    if (name === 'button_press')\n",
       "    {\n",
       "        this.canvas.focus();\n",
       "        this.canvas_div.focus();\n",
       "    }\n",
       "\n",
       "    var x = canvas_pos.x * mpl.ratio;\n",
       "    var y = canvas_pos.y * mpl.ratio;\n",
       "\n",
       "    this.send_message(name, {x: x, y: y, button: event.button,\n",
       "                             step: event.step,\n",
       "                             guiEvent: simpleKeys(event)});\n",
       "\n",
       "    /* This prevents the web browser from automatically changing to\n",
       "     * the text insertion cursor when the button is pressed.  We want\n",
       "     * to control all of the cursor setting manually through the\n",
       "     * 'cursor' event from matplotlib */\n",
       "    event.preventDefault();\n",
       "    return false;\n",
       "}\n",
       "\n",
       "mpl.figure.prototype._key_event_extra = function(event, name) {\n",
       "    // Handle any extra behaviour associated with a key event\n",
       "}\n",
       "\n",
       "mpl.figure.prototype.key_event = function(event, name) {\n",
       "\n",
       "    // Prevent repeat events\n",
       "    if (name == 'key_press')\n",
       "    {\n",
       "        if (event.which === this._key)\n",
       "            return;\n",
       "        else\n",
       "            this._key = event.which;\n",
       "    }\n",
       "    if (name == 'key_release')\n",
       "        this._key = null;\n",
       "\n",
       "    var value = '';\n",
       "    if (event.ctrlKey && event.which != 17)\n",
       "        value += \"ctrl+\";\n",
       "    if (event.altKey && event.which != 18)\n",
       "        value += \"alt+\";\n",
       "    if (event.shiftKey && event.which != 16)\n",
       "        value += \"shift+\";\n",
       "\n",
       "    value += 'k';\n",
       "    value += event.which.toString();\n",
       "\n",
       "    this._key_event_extra(event, name);\n",
       "\n",
       "    this.send_message(name, {key: value,\n",
       "                             guiEvent: simpleKeys(event)});\n",
       "    return false;\n",
       "}\n",
       "\n",
       "mpl.figure.prototype.toolbar_button_onclick = function(name) {\n",
       "    if (name == 'download') {\n",
       "        this.handle_save(this, null);\n",
       "    } else {\n",
       "        this.send_message(\"toolbar_button\", {name: name});\n",
       "    }\n",
       "};\n",
       "\n",
       "mpl.figure.prototype.toolbar_button_onmouseover = function(tooltip) {\n",
       "    this.message.textContent = tooltip;\n",
       "};\n",
       "mpl.toolbar_items = [[\"Home\", \"Reset original view\", \"fa fa-home icon-home\", \"home\"], [\"Back\", \"Back to previous view\", \"fa fa-arrow-left icon-arrow-left\", \"back\"], [\"Forward\", \"Forward to next view\", \"fa fa-arrow-right icon-arrow-right\", \"forward\"], [\"\", \"\", \"\", \"\"], [\"Pan\", \"Pan axes with left mouse, zoom with right\", \"fa fa-arrows icon-move\", \"pan\"], [\"Zoom\", \"Zoom to rectangle\", \"fa fa-square-o icon-check-empty\", \"zoom\"], [\"\", \"\", \"\", \"\"], [\"Download\", \"Download plot\", \"fa fa-floppy-o icon-save\", \"download\"]];\n",
       "\n",
       "mpl.extensions = [\"eps\", \"jpeg\", \"pdf\", \"png\", \"ps\", \"raw\", \"svg\", \"tif\"];\n",
       "\n",
       "mpl.default_extension = \"png\";var comm_websocket_adapter = function(comm) {\n",
       "    // Create a \"websocket\"-like object which calls the given IPython comm\n",
       "    // object with the appropriate methods. Currently this is a non binary\n",
       "    // socket, so there is still some room for performance tuning.\n",
       "    var ws = {};\n",
       "\n",
       "    ws.close = function() {\n",
       "        comm.close()\n",
       "    };\n",
       "    ws.send = function(m) {\n",
       "        //console.log('sending', m);\n",
       "        comm.send(m);\n",
       "    };\n",
       "    // Register the callback with on_msg.\n",
       "    comm.on_msg(function(msg) {\n",
       "        //console.log('receiving', msg['content']['data'], msg);\n",
       "        // Pass the mpl event to the overridden (by mpl) onmessage function.\n",
       "        ws.onmessage(msg['content']['data'])\n",
       "    });\n",
       "    return ws;\n",
       "}\n",
       "\n",
       "mpl.mpl_figure_comm = function(comm, msg) {\n",
       "    // This is the function which gets called when the mpl process\n",
       "    // starts-up an IPython Comm through the \"matplotlib\" channel.\n",
       "\n",
       "    var id = msg.content.data.id;\n",
       "    // Get hold of the div created by the display call when the Comm\n",
       "    // socket was opened in Python.\n",
       "    var element = $(\"#\" + id);\n",
       "    var ws_proxy = comm_websocket_adapter(comm)\n",
       "\n",
       "    function ondownload(figure, format) {\n",
       "        window.open(figure.imageObj.src);\n",
       "    }\n",
       "\n",
       "    var fig = new mpl.figure(id, ws_proxy,\n",
       "                           ondownload,\n",
       "                           element.get(0));\n",
       "\n",
       "    // Call onopen now - mpl needs it, as it is assuming we've passed it a real\n",
       "    // web socket which is closed, not our websocket->open comm proxy.\n",
       "    ws_proxy.onopen();\n",
       "\n",
       "    fig.parent_element = element.get(0);\n",
       "    fig.cell_info = mpl.find_output_cell(\"<div id='\" + id + \"'></div>\");\n",
       "    if (!fig.cell_info) {\n",
       "        console.error(\"Failed to find cell for figure\", id, fig);\n",
       "        return;\n",
       "    }\n",
       "\n",
       "    var output_index = fig.cell_info[2]\n",
       "    var cell = fig.cell_info[0];\n",
       "\n",
       "};\n",
       "\n",
       "mpl.figure.prototype.handle_close = function(fig, msg) {\n",
       "    var width = fig.canvas.width/mpl.ratio\n",
       "    fig.root.unbind('remove')\n",
       "\n",
       "    // Update the output cell to use the data from the current canvas.\n",
       "    fig.push_to_output();\n",
       "    var dataURL = fig.canvas.toDataURL();\n",
       "    // Re-enable the keyboard manager in IPython - without this line, in FF,\n",
       "    // the notebook keyboard shortcuts fail.\n",
       "    IPython.keyboard_manager.enable()\n",
       "    $(fig.parent_element).html('<img src=\"' + dataURL + '\" width=\"' + width + '\">');\n",
       "    fig.close_ws(fig, msg);\n",
       "}\n",
       "\n",
       "mpl.figure.prototype.close_ws = function(fig, msg){\n",
       "    fig.send_message('closing', msg);\n",
       "    // fig.ws.close()\n",
       "}\n",
       "\n",
       "mpl.figure.prototype.push_to_output = function(remove_interactive) {\n",
       "    // Turn the data on the canvas into data in the output cell.\n",
       "    var width = this.canvas.width/mpl.ratio\n",
       "    var dataURL = this.canvas.toDataURL();\n",
       "    this.cell_info[1]['text/html'] = '<img src=\"' + dataURL + '\" width=\"' + width + '\">';\n",
       "}\n",
       "\n",
       "mpl.figure.prototype.updated_canvas_event = function() {\n",
       "    // Tell IPython that the notebook contents must change.\n",
       "    IPython.notebook.set_dirty(true);\n",
       "    this.send_message(\"ack\", {});\n",
       "    var fig = this;\n",
       "    // Wait a second, then push the new image to the DOM so\n",
       "    // that it is saved nicely (might be nice to debounce this).\n",
       "    setTimeout(function () { fig.push_to_output() }, 1000);\n",
       "}\n",
       "\n",
       "mpl.figure.prototype._init_toolbar = function() {\n",
       "    var fig = this;\n",
       "\n",
       "    var nav_element = $('<div/>')\n",
       "    nav_element.attr('style', 'width: 100%');\n",
       "    this.root.append(nav_element);\n",
       "\n",
       "    // Define a callback function for later on.\n",
       "    function toolbar_event(event) {\n",
       "        return fig.toolbar_button_onclick(event['data']);\n",
       "    }\n",
       "    function toolbar_mouse_event(event) {\n",
       "        return fig.toolbar_button_onmouseover(event['data']);\n",
       "    }\n",
       "\n",
       "    for(var toolbar_ind in mpl.toolbar_items){\n",
       "        var name = mpl.toolbar_items[toolbar_ind][0];\n",
       "        var tooltip = mpl.toolbar_items[toolbar_ind][1];\n",
       "        var image = mpl.toolbar_items[toolbar_ind][2];\n",
       "        var method_name = mpl.toolbar_items[toolbar_ind][3];\n",
       "\n",
       "        if (!name) { continue; };\n",
       "\n",
       "        var button = $('<button class=\"btn btn-default\" href=\"#\" title=\"' + name + '\"><i class=\"fa ' + image + ' fa-lg\"></i></button>');\n",
       "        button.click(method_name, toolbar_event);\n",
       "        button.mouseover(tooltip, toolbar_mouse_event);\n",
       "        nav_element.append(button);\n",
       "    }\n",
       "\n",
       "    // Add the status bar.\n",
       "    var status_bar = $('<span class=\"mpl-message\" style=\"text-align:right; float: right;\"/>');\n",
       "    nav_element.append(status_bar);\n",
       "    this.message = status_bar[0];\n",
       "\n",
       "    // Add the close button to the window.\n",
       "    var buttongrp = $('<div class=\"btn-group inline pull-right\"></div>');\n",
       "    var button = $('<button class=\"btn btn-mini btn-primary\" href=\"#\" title=\"Stop Interaction\"><i class=\"fa fa-power-off icon-remove icon-large\"></i></button>');\n",
       "    button.click(function (evt) { fig.handle_close(fig, {}); } );\n",
       "    button.mouseover('Stop Interaction', toolbar_mouse_event);\n",
       "    buttongrp.append(button);\n",
       "    var titlebar = this.root.find($('.ui-dialog-titlebar'));\n",
       "    titlebar.prepend(buttongrp);\n",
       "}\n",
       "\n",
       "mpl.figure.prototype._root_extra_style = function(el){\n",
       "    var fig = this\n",
       "    el.on(\"remove\", function(){\n",
       "\tfig.close_ws(fig, {});\n",
       "    });\n",
       "}\n",
       "\n",
       "mpl.figure.prototype._canvas_extra_style = function(el){\n",
       "    // this is important to make the div 'focusable\n",
       "    el.attr('tabindex', 0)\n",
       "    // reach out to IPython and tell the keyboard manager to turn it's self\n",
       "    // off when our div gets focus\n",
       "\n",
       "    // location in version 3\n",
       "    if (IPython.notebook.keyboard_manager) {\n",
       "        IPython.notebook.keyboard_manager.register_events(el);\n",
       "    }\n",
       "    else {\n",
       "        // location in version 2\n",
       "        IPython.keyboard_manager.register_events(el);\n",
       "    }\n",
       "\n",
       "}\n",
       "\n",
       "mpl.figure.prototype._key_event_extra = function(event, name) {\n",
       "    var manager = IPython.notebook.keyboard_manager;\n",
       "    if (!manager)\n",
       "        manager = IPython.keyboard_manager;\n",
       "\n",
       "    // Check for shift+enter\n",
       "    if (event.shiftKey && event.which == 13) {\n",
       "        this.canvas_div.blur();\n",
       "        event.shiftKey = false;\n",
       "        // Send a \"J\" for go to next cell\n",
       "        event.which = 74;\n",
       "        event.keyCode = 74;\n",
       "        manager.command_mode();\n",
       "        manager.handle_keydown(event);\n",
       "    }\n",
       "}\n",
       "\n",
       "mpl.figure.prototype.handle_save = function(fig, msg) {\n",
       "    fig.ondownload(fig, null);\n",
       "}\n",
       "\n",
       "\n",
       "mpl.find_output_cell = function(html_output) {\n",
       "    // Return the cell and output element which can be found *uniquely* in the notebook.\n",
       "    // Note - this is a bit hacky, but it is done because the \"notebook_saving.Notebook\"\n",
       "    // IPython event is triggered only after the cells have been serialised, which for\n",
       "    // our purposes (turning an active figure into a static one), is too late.\n",
       "    var cells = IPython.notebook.get_cells();\n",
       "    var ncells = cells.length;\n",
       "    for (var i=0; i<ncells; i++) {\n",
       "        var cell = cells[i];\n",
       "        if (cell.cell_type === 'code'){\n",
       "            for (var j=0; j<cell.output_area.outputs.length; j++) {\n",
       "                var data = cell.output_area.outputs[j];\n",
       "                if (data.data) {\n",
       "                    // IPython >= 3 moved mimebundle to data attribute of output\n",
       "                    data = data.data;\n",
       "                }\n",
       "                if (data['text/html'] == html_output) {\n",
       "                    return [cell, data, j];\n",
       "                }\n",
       "            }\n",
       "        }\n",
       "    }\n",
       "}\n",
       "\n",
       "// Register the function which deals with the matplotlib target/channel.\n",
       "// The kernel may be null if the page has been refreshed.\n",
       "if (IPython.notebook.kernel != null) {\n",
       "    IPython.notebook.kernel.comm_manager.register_target('matplotlib', mpl.mpl_figure_comm);\n",
       "}\n"
      ],
      "text/plain": [
       "<IPython.core.display.Javascript object>"
      ]
     },
     "metadata": {},
     "output_type": "display_data"
    },
    {
     "data": {
      "text/html": [
       "<img src=\"data:image/png;base64,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\" width=\"500\">"
      ],
      "text/plain": [
       "<IPython.core.display.HTML object>"
      ]
     },
     "metadata": {},
     "output_type": "display_data"
    }
   ],
   "source": [
    "import numpy as np\n",
    "import matplotlib.pyplot as plt\n",
    "from matplotlib.animation import FuncAnimation\n",
    "# plt.style.use('ggplot')\n",
    "\n",
    "fig, ax = plt.subplots(figsize=(5, 3))\n",
    "ax.set(xlim=(-3, 3), ylim=(-1, 1))\n",
    "x = np.linspace(-3, 3, 91)\n",
    "t = np.linspace(1, 25, 30)\n",
    "X2, T2 = np.meshgrid(x, t)\n",
    " \n",
    "sinT2 = np.sin(2*np.pi*T2/T2.max())\n",
    "F = 0.9*sinT2*np.sinc(X2*(1 + sinT2))\n",
    "\n",
    "line = ax.plot(x, F[0, :], color='k', lw=2)[0]\n",
    "def animate(i):\n",
    "    line.set_ydata(F[i, :])\n",
    "\n",
    "anim = FuncAnimation(\n",
    "    fig, animate, interval=100, frames=len(t)-1)\n",
    " \n",
    "plt.draw()\n",
    "plt.show()"
   ]
  },
  {
   "cell_type": "code",
   "execution_count": 24,
   "metadata": {
    "ExecuteTime": {
     "end_time": "2018-11-19T11:05:42.357750Z",
     "start_time": "2018-11-19T11:05:42.338569Z"
    }
   },
   "outputs": [
    {
     "data": {
      "application/javascript": [
       "/* Put everything inside the global mpl namespace */\n",
       "window.mpl = {};\n",
       "\n",
       "\n",
       "mpl.get_websocket_type = function() {\n",
       "    if (typeof(WebSocket) !== 'undefined') {\n",
       "        return WebSocket;\n",
       "    } else if (typeof(MozWebSocket) !== 'undefined') {\n",
       "        return MozWebSocket;\n",
       "    } else {\n",
       "        alert('Your browser does not have WebSocket support.' +\n",
       "              'Please try Chrome, Safari or Firefox ≥ 6. ' +\n",
       "              'Firefox 4 and 5 are also supported but you ' +\n",
       "              'have to enable WebSockets in about:config.');\n",
       "    };\n",
       "}\n",
       "\n",
       "mpl.figure = function(figure_id, websocket, ondownload, parent_element) {\n",
       "    this.id = figure_id;\n",
       "\n",
       "    this.ws = websocket;\n",
       "\n",
       "    this.supports_binary = (this.ws.binaryType != undefined);\n",
       "\n",
       "    if (!this.supports_binary) {\n",
       "        var warnings = document.getElementById(\"mpl-warnings\");\n",
       "        if (warnings) {\n",
       "            warnings.style.display = 'block';\n",
       "            warnings.textContent = (\n",
       "                \"This browser does not support binary websocket messages. \" +\n",
       "                    \"Performance may be slow.\");\n",
       "        }\n",
       "    }\n",
       "\n",
       "    this.imageObj = new Image();\n",
       "\n",
       "    this.context = undefined;\n",
       "    this.message = undefined;\n",
       "    this.canvas = undefined;\n",
       "    this.rubberband_canvas = undefined;\n",
       "    this.rubberband_context = undefined;\n",
       "    this.format_dropdown = undefined;\n",
       "\n",
       "    this.image_mode = 'full';\n",
       "\n",
       "    this.root = $('<div/>');\n",
       "    this._root_extra_style(this.root)\n",
       "    this.root.attr('style', 'display: inline-block');\n",
       "\n",
       "    $(parent_element).append(this.root);\n",
       "\n",
       "    this._init_header(this);\n",
       "    this._init_canvas(this);\n",
       "    this._init_toolbar(this);\n",
       "\n",
       "    var fig = this;\n",
       "\n",
       "    this.waiting = false;\n",
       "\n",
       "    this.ws.onopen =  function () {\n",
       "            fig.send_message(\"supports_binary\", {value: fig.supports_binary});\n",
       "            fig.send_message(\"send_image_mode\", {});\n",
       "            if (mpl.ratio != 1) {\n",
       "                fig.send_message(\"set_dpi_ratio\", {'dpi_ratio': mpl.ratio});\n",
       "            }\n",
       "            fig.send_message(\"refresh\", {});\n",
       "        }\n",
       "\n",
       "    this.imageObj.onload = function() {\n",
       "            if (fig.image_mode == 'full') {\n",
       "                // Full images could contain transparency (where diff images\n",
       "                // almost always do), so we need to clear the canvas so that\n",
       "                // there is no ghosting.\n",
       "                fig.context.clearRect(0, 0, fig.canvas.width, fig.canvas.height);\n",
       "            }\n",
       "            fig.context.drawImage(fig.imageObj, 0, 0);\n",
       "        };\n",
       "\n",
       "    this.imageObj.onunload = function() {\n",
       "        fig.ws.close();\n",
       "    }\n",
       "\n",
       "    this.ws.onmessage = this._make_on_message_function(this);\n",
       "\n",
       "    this.ondownload = ondownload;\n",
       "}\n",
       "\n",
       "mpl.figure.prototype._init_header = function() {\n",
       "    var titlebar = $(\n",
       "        '<div class=\"ui-dialog-titlebar ui-widget-header ui-corner-all ' +\n",
       "        'ui-helper-clearfix\"/>');\n",
       "    var titletext = $(\n",
       "        '<div class=\"ui-dialog-title\" style=\"width: 100%; ' +\n",
       "        'text-align: center; padding: 3px;\"/>');\n",
       "    titlebar.append(titletext)\n",
       "    this.root.append(titlebar);\n",
       "    this.header = titletext[0];\n",
       "}\n",
       "\n",
       "\n",
       "\n",
       "mpl.figure.prototype._canvas_extra_style = function(canvas_div) {\n",
       "\n",
       "}\n",
       "\n",
       "\n",
       "mpl.figure.prototype._root_extra_style = function(canvas_div) {\n",
       "\n",
       "}\n",
       "\n",
       "mpl.figure.prototype._init_canvas = function() {\n",
       "    var fig = this;\n",
       "\n",
       "    var canvas_div = $('<div/>');\n",
       "\n",
       "    canvas_div.attr('style', 'position: relative; clear: both; outline: 0');\n",
       "\n",
       "    function canvas_keyboard_event(event) {\n",
       "        return fig.key_event(event, event['data']);\n",
       "    }\n",
       "\n",
       "    canvas_div.keydown('key_press', canvas_keyboard_event);\n",
       "    canvas_div.keyup('key_release', canvas_keyboard_event);\n",
       "    this.canvas_div = canvas_div\n",
       "    this._canvas_extra_style(canvas_div)\n",
       "    this.root.append(canvas_div);\n",
       "\n",
       "    var canvas = $('<canvas/>');\n",
       "    canvas.addClass('mpl-canvas');\n",
       "    canvas.attr('style', \"left: 0; top: 0; z-index: 0; outline: 0\")\n",
       "\n",
       "    this.canvas = canvas[0];\n",
       "    this.context = canvas[0].getContext(\"2d\");\n",
       "\n",
       "    var backingStore = this.context.backingStorePixelRatio ||\n",
       "\tthis.context.webkitBackingStorePixelRatio ||\n",
       "\tthis.context.mozBackingStorePixelRatio ||\n",
       "\tthis.context.msBackingStorePixelRatio ||\n",
       "\tthis.context.oBackingStorePixelRatio ||\n",
       "\tthis.context.backingStorePixelRatio || 1;\n",
       "\n",
       "    mpl.ratio = (window.devicePixelRatio || 1) / backingStore;\n",
       "\n",
       "    var rubberband = $('<canvas/>');\n",
       "    rubberband.attr('style', \"position: absolute; left: 0; top: 0; z-index: 1;\")\n",
       "\n",
       "    var pass_mouse_events = true;\n",
       "\n",
       "    canvas_div.resizable({\n",
       "        start: function(event, ui) {\n",
       "            pass_mouse_events = false;\n",
       "        },\n",
       "        resize: function(event, ui) {\n",
       "            fig.request_resize(ui.size.width, ui.size.height);\n",
       "        },\n",
       "        stop: function(event, ui) {\n",
       "            pass_mouse_events = true;\n",
       "            fig.request_resize(ui.size.width, ui.size.height);\n",
       "        },\n",
       "    });\n",
       "\n",
       "    function mouse_event_fn(event) {\n",
       "        if (pass_mouse_events)\n",
       "            return fig.mouse_event(event, event['data']);\n",
       "    }\n",
       "\n",
       "    rubberband.mousedown('button_press', mouse_event_fn);\n",
       "    rubberband.mouseup('button_release', mouse_event_fn);\n",
       "    // Throttle sequential mouse events to 1 every 20ms.\n",
       "    rubberband.mousemove('motion_notify', mouse_event_fn);\n",
       "\n",
       "    rubberband.mouseenter('figure_enter', mouse_event_fn);\n",
       "    rubberband.mouseleave('figure_leave', mouse_event_fn);\n",
       "\n",
       "    canvas_div.on(\"wheel\", function (event) {\n",
       "        event = event.originalEvent;\n",
       "        event['data'] = 'scroll'\n",
       "        if (event.deltaY < 0) {\n",
       "            event.step = 1;\n",
       "        } else {\n",
       "            event.step = -1;\n",
       "        }\n",
       "        mouse_event_fn(event);\n",
       "    });\n",
       "\n",
       "    canvas_div.append(canvas);\n",
       "    canvas_div.append(rubberband);\n",
       "\n",
       "    this.rubberband = rubberband;\n",
       "    this.rubberband_canvas = rubberband[0];\n",
       "    this.rubberband_context = rubberband[0].getContext(\"2d\");\n",
       "    this.rubberband_context.strokeStyle = \"#000000\";\n",
       "\n",
       "    this._resize_canvas = function(width, height) {\n",
       "        // Keep the size of the canvas, canvas container, and rubber band\n",
       "        // canvas in synch.\n",
       "        canvas_div.css('width', width)\n",
       "        canvas_div.css('height', height)\n",
       "\n",
       "        canvas.attr('width', width * mpl.ratio);\n",
       "        canvas.attr('height', height * mpl.ratio);\n",
       "        canvas.attr('style', 'width: ' + width + 'px; height: ' + height + 'px;');\n",
       "\n",
       "        rubberband.attr('width', width);\n",
       "        rubberband.attr('height', height);\n",
       "    }\n",
       "\n",
       "    // Set the figure to an initial 600x600px, this will subsequently be updated\n",
       "    // upon first draw.\n",
       "    this._resize_canvas(600, 600);\n",
       "\n",
       "    // Disable right mouse context menu.\n",
       "    $(this.rubberband_canvas).bind(\"contextmenu\",function(e){\n",
       "        return false;\n",
       "    });\n",
       "\n",
       "    function set_focus () {\n",
       "        canvas.focus();\n",
       "        canvas_div.focus();\n",
       "    }\n",
       "\n",
       "    window.setTimeout(set_focus, 100);\n",
       "}\n",
       "\n",
       "mpl.figure.prototype._init_toolbar = function() {\n",
       "    var fig = this;\n",
       "\n",
       "    var nav_element = $('<div/>')\n",
       "    nav_element.attr('style', 'width: 100%');\n",
       "    this.root.append(nav_element);\n",
       "\n",
       "    // Define a callback function for later on.\n",
       "    function toolbar_event(event) {\n",
       "        return fig.toolbar_button_onclick(event['data']);\n",
       "    }\n",
       "    function toolbar_mouse_event(event) {\n",
       "        return fig.toolbar_button_onmouseover(event['data']);\n",
       "    }\n",
       "\n",
       "    for(var toolbar_ind in mpl.toolbar_items) {\n",
       "        var name = mpl.toolbar_items[toolbar_ind][0];\n",
       "        var tooltip = mpl.toolbar_items[toolbar_ind][1];\n",
       "        var image = mpl.toolbar_items[toolbar_ind][2];\n",
       "        var method_name = mpl.toolbar_items[toolbar_ind][3];\n",
       "\n",
       "        if (!name) {\n",
       "            // put a spacer in here.\n",
       "            continue;\n",
       "        }\n",
       "        var button = $('<button/>');\n",
       "        button.addClass('ui-button ui-widget ui-state-default ui-corner-all ' +\n",
       "                        'ui-button-icon-only');\n",
       "        button.attr('role', 'button');\n",
       "        button.attr('aria-disabled', 'false');\n",
       "        button.click(method_name, toolbar_event);\n",
       "        button.mouseover(tooltip, toolbar_mouse_event);\n",
       "\n",
       "        var icon_img = $('<span/>');\n",
       "        icon_img.addClass('ui-button-icon-primary ui-icon');\n",
       "        icon_img.addClass(image);\n",
       "        icon_img.addClass('ui-corner-all');\n",
       "\n",
       "        var tooltip_span = $('<span/>');\n",
       "        tooltip_span.addClass('ui-button-text');\n",
       "        tooltip_span.html(tooltip);\n",
       "\n",
       "        button.append(icon_img);\n",
       "        button.append(tooltip_span);\n",
       "\n",
       "        nav_element.append(button);\n",
       "    }\n",
       "\n",
       "    var fmt_picker_span = $('<span/>');\n",
       "\n",
       "    var fmt_picker = $('<select/>');\n",
       "    fmt_picker.addClass('mpl-toolbar-option ui-widget ui-widget-content');\n",
       "    fmt_picker_span.append(fmt_picker);\n",
       "    nav_element.append(fmt_picker_span);\n",
       "    this.format_dropdown = fmt_picker[0];\n",
       "\n",
       "    for (var ind in mpl.extensions) {\n",
       "        var fmt = mpl.extensions[ind];\n",
       "        var option = $(\n",
       "            '<option/>', {selected: fmt === mpl.default_extension}).html(fmt);\n",
       "        fmt_picker.append(option)\n",
       "    }\n",
       "\n",
       "    // Add hover states to the ui-buttons\n",
       "    $( \".ui-button\" ).hover(\n",
       "        function() { $(this).addClass(\"ui-state-hover\");},\n",
       "        function() { $(this).removeClass(\"ui-state-hover\");}\n",
       "    );\n",
       "\n",
       "    var status_bar = $('<span class=\"mpl-message\"/>');\n",
       "    nav_element.append(status_bar);\n",
       "    this.message = status_bar[0];\n",
       "}\n",
       "\n",
       "mpl.figure.prototype.request_resize = function(x_pixels, y_pixels) {\n",
       "    // Request matplotlib to resize the figure. Matplotlib will then trigger a resize in the client,\n",
       "    // which will in turn request a refresh of the image.\n",
       "    this.send_message('resize', {'width': x_pixels, 'height': y_pixels});\n",
       "}\n",
       "\n",
       "mpl.figure.prototype.send_message = function(type, properties) {\n",
       "    properties['type'] = type;\n",
       "    properties['figure_id'] = this.id;\n",
       "    this.ws.send(JSON.stringify(properties));\n",
       "}\n",
       "\n",
       "mpl.figure.prototype.send_draw_message = function() {\n",
       "    if (!this.waiting) {\n",
       "        this.waiting = true;\n",
       "        this.ws.send(JSON.stringify({type: \"draw\", figure_id: this.id}));\n",
       "    }\n",
       "}\n",
       "\n",
       "\n",
       "mpl.figure.prototype.handle_save = function(fig, msg) {\n",
       "    var format_dropdown = fig.format_dropdown;\n",
       "    var format = format_dropdown.options[format_dropdown.selectedIndex].value;\n",
       "    fig.ondownload(fig, format);\n",
       "}\n",
       "\n",
       "\n",
       "mpl.figure.prototype.handle_resize = function(fig, msg) {\n",
       "    var size = msg['size'];\n",
       "    if (size[0] != fig.canvas.width || size[1] != fig.canvas.height) {\n",
       "        fig._resize_canvas(size[0], size[1]);\n",
       "        fig.send_message(\"refresh\", {});\n",
       "    };\n",
       "}\n",
       "\n",
       "mpl.figure.prototype.handle_rubberband = function(fig, msg) {\n",
       "    var x0 = msg['x0'] / mpl.ratio;\n",
       "    var y0 = (fig.canvas.height - msg['y0']) / mpl.ratio;\n",
       "    var x1 = msg['x1'] / mpl.ratio;\n",
       "    var y1 = (fig.canvas.height - msg['y1']) / mpl.ratio;\n",
       "    x0 = Math.floor(x0) + 0.5;\n",
       "    y0 = Math.floor(y0) + 0.5;\n",
       "    x1 = Math.floor(x1) + 0.5;\n",
       "    y1 = Math.floor(y1) + 0.5;\n",
       "    var min_x = Math.min(x0, x1);\n",
       "    var min_y = Math.min(y0, y1);\n",
       "    var width = Math.abs(x1 - x0);\n",
       "    var height = Math.abs(y1 - y0);\n",
       "\n",
       "    fig.rubberband_context.clearRect(\n",
       "        0, 0, fig.canvas.width, fig.canvas.height);\n",
       "\n",
       "    fig.rubberband_context.strokeRect(min_x, min_y, width, height);\n",
       "}\n",
       "\n",
       "mpl.figure.prototype.handle_figure_label = function(fig, msg) {\n",
       "    // Updates the figure title.\n",
       "    fig.header.textContent = msg['label'];\n",
       "}\n",
       "\n",
       "mpl.figure.prototype.handle_cursor = function(fig, msg) {\n",
       "    var cursor = msg['cursor'];\n",
       "    switch(cursor)\n",
       "    {\n",
       "    case 0:\n",
       "        cursor = 'pointer';\n",
       "        break;\n",
       "    case 1:\n",
       "        cursor = 'default';\n",
       "        break;\n",
       "    case 2:\n",
       "        cursor = 'crosshair';\n",
       "        break;\n",
       "    case 3:\n",
       "        cursor = 'move';\n",
       "        break;\n",
       "    }\n",
       "    fig.rubberband_canvas.style.cursor = cursor;\n",
       "}\n",
       "\n",
       "mpl.figure.prototype.handle_message = function(fig, msg) {\n",
       "    fig.message.textContent = msg['message'];\n",
       "}\n",
       "\n",
       "mpl.figure.prototype.handle_draw = function(fig, msg) {\n",
       "    // Request the server to send over a new figure.\n",
       "    fig.send_draw_message();\n",
       "}\n",
       "\n",
       "mpl.figure.prototype.handle_image_mode = function(fig, msg) {\n",
       "    fig.image_mode = msg['mode'];\n",
       "}\n",
       "\n",
       "mpl.figure.prototype.updated_canvas_event = function() {\n",
       "    // Called whenever the canvas gets updated.\n",
       "    this.send_message(\"ack\", {});\n",
       "}\n",
       "\n",
       "// A function to construct a web socket function for onmessage handling.\n",
       "// Called in the figure constructor.\n",
       "mpl.figure.prototype._make_on_message_function = function(fig) {\n",
       "    return function socket_on_message(evt) {\n",
       "        if (evt.data instanceof Blob) {\n",
       "            /* FIXME: We get \"Resource interpreted as Image but\n",
       "             * transferred with MIME type text/plain:\" errors on\n",
       "             * Chrome.  But how to set the MIME type?  It doesn't seem\n",
       "             * to be part of the websocket stream */\n",
       "            evt.data.type = \"image/png\";\n",
       "\n",
       "            /* Free the memory for the previous frames */\n",
       "            if (fig.imageObj.src) {\n",
       "                (window.URL || window.webkitURL).revokeObjectURL(\n",
       "                    fig.imageObj.src);\n",
       "            }\n",
       "\n",
       "            fig.imageObj.src = (window.URL || window.webkitURL).createObjectURL(\n",
       "                evt.data);\n",
       "            fig.updated_canvas_event();\n",
       "            fig.waiting = false;\n",
       "            return;\n",
       "        }\n",
       "        else if (typeof evt.data === 'string' && evt.data.slice(0, 21) == \"data:image/png;base64\") {\n",
       "            fig.imageObj.src = evt.data;\n",
       "            fig.updated_canvas_event();\n",
       "            fig.waiting = false;\n",
       "            return;\n",
       "        }\n",
       "\n",
       "        var msg = JSON.parse(evt.data);\n",
       "        var msg_type = msg['type'];\n",
       "\n",
       "        // Call the  \"handle_{type}\" callback, which takes\n",
       "        // the figure and JSON message as its only arguments.\n",
       "        try {\n",
       "            var callback = fig[\"handle_\" + msg_type];\n",
       "        } catch (e) {\n",
       "            console.log(\"No handler for the '\" + msg_type + \"' message type: \", msg);\n",
       "            return;\n",
       "        }\n",
       "\n",
       "        if (callback) {\n",
       "            try {\n",
       "                // console.log(\"Handling '\" + msg_type + \"' message: \", msg);\n",
       "                callback(fig, msg);\n",
       "            } catch (e) {\n",
       "                console.log(\"Exception inside the 'handler_\" + msg_type + \"' callback:\", e, e.stack, msg);\n",
       "            }\n",
       "        }\n",
       "    };\n",
       "}\n",
       "\n",
       "// from http://stackoverflow.com/questions/1114465/getting-mouse-location-in-canvas\n",
       "mpl.findpos = function(e) {\n",
       "    //this section is from http://www.quirksmode.org/js/events_properties.html\n",
       "    var targ;\n",
       "    if (!e)\n",
       "        e = window.event;\n",
       "    if (e.target)\n",
       "        targ = e.target;\n",
       "    else if (e.srcElement)\n",
       "        targ = e.srcElement;\n",
       "    if (targ.nodeType == 3) // defeat Safari bug\n",
       "        targ = targ.parentNode;\n",
       "\n",
       "    // jQuery normalizes the pageX and pageY\n",
       "    // pageX,Y are the mouse positions relative to the document\n",
       "    // offset() returns the position of the element relative to the document\n",
       "    var x = e.pageX - $(targ).offset().left;\n",
       "    var y = e.pageY - $(targ).offset().top;\n",
       "\n",
       "    return {\"x\": x, \"y\": y};\n",
       "};\n",
       "\n",
       "/*\n",
       " * return a copy of an object with only non-object keys\n",
       " * we need this to avoid circular references\n",
       " * http://stackoverflow.com/a/24161582/3208463\n",
       " */\n",
       "function simpleKeys (original) {\n",
       "  return Object.keys(original).reduce(function (obj, key) {\n",
       "    if (typeof original[key] !== 'object')\n",
       "        obj[key] = original[key]\n",
       "    return obj;\n",
       "  }, {});\n",
       "}\n",
       "\n",
       "mpl.figure.prototype.mouse_event = function(event, name) {\n",
       "    var canvas_pos = mpl.findpos(event)\n",
       "\n",
       "    if (name === 'button_press')\n",
       "    {\n",
       "        this.canvas.focus();\n",
       "        this.canvas_div.focus();\n",
       "    }\n",
       "\n",
       "    var x = canvas_pos.x * mpl.ratio;\n",
       "    var y = canvas_pos.y * mpl.ratio;\n",
       "\n",
       "    this.send_message(name, {x: x, y: y, button: event.button,\n",
       "                             step: event.step,\n",
       "                             guiEvent: simpleKeys(event)});\n",
       "\n",
       "    /* This prevents the web browser from automatically changing to\n",
       "     * the text insertion cursor when the button is pressed.  We want\n",
       "     * to control all of the cursor setting manually through the\n",
       "     * 'cursor' event from matplotlib */\n",
       "    event.preventDefault();\n",
       "    return false;\n",
       "}\n",
       "\n",
       "mpl.figure.prototype._key_event_extra = function(event, name) {\n",
       "    // Handle any extra behaviour associated with a key event\n",
       "}\n",
       "\n",
       "mpl.figure.prototype.key_event = function(event, name) {\n",
       "\n",
       "    // Prevent repeat events\n",
       "    if (name == 'key_press')\n",
       "    {\n",
       "        if (event.which === this._key)\n",
       "            return;\n",
       "        else\n",
       "            this._key = event.which;\n",
       "    }\n",
       "    if (name == 'key_release')\n",
       "        this._key = null;\n",
       "\n",
       "    var value = '';\n",
       "    if (event.ctrlKey && event.which != 17)\n",
       "        value += \"ctrl+\";\n",
       "    if (event.altKey && event.which != 18)\n",
       "        value += \"alt+\";\n",
       "    if (event.shiftKey && event.which != 16)\n",
       "        value += \"shift+\";\n",
       "\n",
       "    value += 'k';\n",
       "    value += event.which.toString();\n",
       "\n",
       "    this._key_event_extra(event, name);\n",
       "\n",
       "    this.send_message(name, {key: value,\n",
       "                             guiEvent: simpleKeys(event)});\n",
       "    return false;\n",
       "}\n",
       "\n",
       "mpl.figure.prototype.toolbar_button_onclick = function(name) {\n",
       "    if (name == 'download') {\n",
       "        this.handle_save(this, null);\n",
       "    } else {\n",
       "        this.send_message(\"toolbar_button\", {name: name});\n",
       "    }\n",
       "};\n",
       "\n",
       "mpl.figure.prototype.toolbar_button_onmouseover = function(tooltip) {\n",
       "    this.message.textContent = tooltip;\n",
       "};\n",
       "mpl.toolbar_items = [[\"Home\", \"Reset original view\", \"fa fa-home icon-home\", \"home\"], [\"Back\", \"Back to previous view\", \"fa fa-arrow-left icon-arrow-left\", \"back\"], [\"Forward\", \"Forward to next view\", \"fa fa-arrow-right icon-arrow-right\", \"forward\"], [\"\", \"\", \"\", \"\"], [\"Pan\", \"Pan axes with left mouse, zoom with right\", \"fa fa-arrows icon-move\", \"pan\"], [\"Zoom\", \"Zoom to rectangle\", \"fa fa-square-o icon-check-empty\", \"zoom\"], [\"\", \"\", \"\", \"\"], [\"Download\", \"Download plot\", \"fa fa-floppy-o icon-save\", \"download\"]];\n",
       "\n",
       "mpl.extensions = [\"eps\", \"jpeg\", \"pdf\", \"png\", \"ps\", \"raw\", \"svg\", \"tif\"];\n",
       "\n",
       "mpl.default_extension = \"png\";var comm_websocket_adapter = function(comm) {\n",
       "    // Create a \"websocket\"-like object which calls the given IPython comm\n",
       "    // object with the appropriate methods. Currently this is a non binary\n",
       "    // socket, so there is still some room for performance tuning.\n",
       "    var ws = {};\n",
       "\n",
       "    ws.close = function() {\n",
       "        comm.close()\n",
       "    };\n",
       "    ws.send = function(m) {\n",
       "        //console.log('sending', m);\n",
       "        comm.send(m);\n",
       "    };\n",
       "    // Register the callback with on_msg.\n",
       "    comm.on_msg(function(msg) {\n",
       "        //console.log('receiving', msg['content']['data'], msg);\n",
       "        // Pass the mpl event to the overridden (by mpl) onmessage function.\n",
       "        ws.onmessage(msg['content']['data'])\n",
       "    });\n",
       "    return ws;\n",
       "}\n",
       "\n",
       "mpl.mpl_figure_comm = function(comm, msg) {\n",
       "    // This is the function which gets called when the mpl process\n",
       "    // starts-up an IPython Comm through the \"matplotlib\" channel.\n",
       "\n",
       "    var id = msg.content.data.id;\n",
       "    // Get hold of the div created by the display call when the Comm\n",
       "    // socket was opened in Python.\n",
       "    var element = $(\"#\" + id);\n",
       "    var ws_proxy = comm_websocket_adapter(comm)\n",
       "\n",
       "    function ondownload(figure, format) {\n",
       "        window.open(figure.imageObj.src);\n",
       "    }\n",
       "\n",
       "    var fig = new mpl.figure(id, ws_proxy,\n",
       "                           ondownload,\n",
       "                           element.get(0));\n",
       "\n",
       "    // Call onopen now - mpl needs it, as it is assuming we've passed it a real\n",
       "    // web socket which is closed, not our websocket->open comm proxy.\n",
       "    ws_proxy.onopen();\n",
       "\n",
       "    fig.parent_element = element.get(0);\n",
       "    fig.cell_info = mpl.find_output_cell(\"<div id='\" + id + \"'></div>\");\n",
       "    if (!fig.cell_info) {\n",
       "        console.error(\"Failed to find cell for figure\", id, fig);\n",
       "        return;\n",
       "    }\n",
       "\n",
       "    var output_index = fig.cell_info[2]\n",
       "    var cell = fig.cell_info[0];\n",
       "\n",
       "};\n",
       "\n",
       "mpl.figure.prototype.handle_close = function(fig, msg) {\n",
       "    var width = fig.canvas.width/mpl.ratio\n",
       "    fig.root.unbind('remove')\n",
       "\n",
       "    // Update the output cell to use the data from the current canvas.\n",
       "    fig.push_to_output();\n",
       "    var dataURL = fig.canvas.toDataURL();\n",
       "    // Re-enable the keyboard manager in IPython - without this line, in FF,\n",
       "    // the notebook keyboard shortcuts fail.\n",
       "    IPython.keyboard_manager.enable()\n",
       "    $(fig.parent_element).html('<img src=\"' + dataURL + '\" width=\"' + width + '\">');\n",
       "    fig.close_ws(fig, msg);\n",
       "}\n",
       "\n",
       "mpl.figure.prototype.close_ws = function(fig, msg){\n",
       "    fig.send_message('closing', msg);\n",
       "    // fig.ws.close()\n",
       "}\n",
       "\n",
       "mpl.figure.prototype.push_to_output = function(remove_interactive) {\n",
       "    // Turn the data on the canvas into data in the output cell.\n",
       "    var width = this.canvas.width/mpl.ratio\n",
       "    var dataURL = this.canvas.toDataURL();\n",
       "    this.cell_info[1]['text/html'] = '<img src=\"' + dataURL + '\" width=\"' + width + '\">';\n",
       "}\n",
       "\n",
       "mpl.figure.prototype.updated_canvas_event = function() {\n",
       "    // Tell IPython that the notebook contents must change.\n",
       "    IPython.notebook.set_dirty(true);\n",
       "    this.send_message(\"ack\", {});\n",
       "    var fig = this;\n",
       "    // Wait a second, then push the new image to the DOM so\n",
       "    // that it is saved nicely (might be nice to debounce this).\n",
       "    setTimeout(function () { fig.push_to_output() }, 1000);\n",
       "}\n",
       "\n",
       "mpl.figure.prototype._init_toolbar = function() {\n",
       "    var fig = this;\n",
       "\n",
       "    var nav_element = $('<div/>')\n",
       "    nav_element.attr('style', 'width: 100%');\n",
       "    this.root.append(nav_element);\n",
       "\n",
       "    // Define a callback function for later on.\n",
       "    function toolbar_event(event) {\n",
       "        return fig.toolbar_button_onclick(event['data']);\n",
       "    }\n",
       "    function toolbar_mouse_event(event) {\n",
       "        return fig.toolbar_button_onmouseover(event['data']);\n",
       "    }\n",
       "\n",
       "    for(var toolbar_ind in mpl.toolbar_items){\n",
       "        var name = mpl.toolbar_items[toolbar_ind][0];\n",
       "        var tooltip = mpl.toolbar_items[toolbar_ind][1];\n",
       "        var image = mpl.toolbar_items[toolbar_ind][2];\n",
       "        var method_name = mpl.toolbar_items[toolbar_ind][3];\n",
       "\n",
       "        if (!name) { continue; };\n",
       "\n",
       "        var button = $('<button class=\"btn btn-default\" href=\"#\" title=\"' + name + '\"><i class=\"fa ' + image + ' fa-lg\"></i></button>');\n",
       "        button.click(method_name, toolbar_event);\n",
       "        button.mouseover(tooltip, toolbar_mouse_event);\n",
       "        nav_element.append(button);\n",
       "    }\n",
       "\n",
       "    // Add the status bar.\n",
       "    var status_bar = $('<span class=\"mpl-message\" style=\"text-align:right; float: right;\"/>');\n",
       "    nav_element.append(status_bar);\n",
       "    this.message = status_bar[0];\n",
       "\n",
       "    // Add the close button to the window.\n",
       "    var buttongrp = $('<div class=\"btn-group inline pull-right\"></div>');\n",
       "    var button = $('<button class=\"btn btn-mini btn-primary\" href=\"#\" title=\"Stop Interaction\"><i class=\"fa fa-power-off icon-remove icon-large\"></i></button>');\n",
       "    button.click(function (evt) { fig.handle_close(fig, {}); } );\n",
       "    button.mouseover('Stop Interaction', toolbar_mouse_event);\n",
       "    buttongrp.append(button);\n",
       "    var titlebar = this.root.find($('.ui-dialog-titlebar'));\n",
       "    titlebar.prepend(buttongrp);\n",
       "}\n",
       "\n",
       "mpl.figure.prototype._root_extra_style = function(el){\n",
       "    var fig = this\n",
       "    el.on(\"remove\", function(){\n",
       "\tfig.close_ws(fig, {});\n",
       "    });\n",
       "}\n",
       "\n",
       "mpl.figure.prototype._canvas_extra_style = function(el){\n",
       "    // this is important to make the div 'focusable\n",
       "    el.attr('tabindex', 0)\n",
       "    // reach out to IPython and tell the keyboard manager to turn it's self\n",
       "    // off when our div gets focus\n",
       "\n",
       "    // location in version 3\n",
       "    if (IPython.notebook.keyboard_manager) {\n",
       "        IPython.notebook.keyboard_manager.register_events(el);\n",
       "    }\n",
       "    else {\n",
       "        // location in version 2\n",
       "        IPython.keyboard_manager.register_events(el);\n",
       "    }\n",
       "\n",
       "}\n",
       "\n",
       "mpl.figure.prototype._key_event_extra = function(event, name) {\n",
       "    var manager = IPython.notebook.keyboard_manager;\n",
       "    if (!manager)\n",
       "        manager = IPython.keyboard_manager;\n",
       "\n",
       "    // Check for shift+enter\n",
       "    if (event.shiftKey && event.which == 13) {\n",
       "        this.canvas_div.blur();\n",
       "        event.shiftKey = false;\n",
       "        // Send a \"J\" for go to next cell\n",
       "        event.which = 74;\n",
       "        event.keyCode = 74;\n",
       "        manager.command_mode();\n",
       "        manager.handle_keydown(event);\n",
       "    }\n",
       "}\n",
       "\n",
       "mpl.figure.prototype.handle_save = function(fig, msg) {\n",
       "    fig.ondownload(fig, null);\n",
       "}\n",
       "\n",
       "\n",
       "mpl.find_output_cell = function(html_output) {\n",
       "    // Return the cell and output element which can be found *uniquely* in the notebook.\n",
       "    // Note - this is a bit hacky, but it is done because the \"notebook_saving.Notebook\"\n",
       "    // IPython event is triggered only after the cells have been serialised, which for\n",
       "    // our purposes (turning an active figure into a static one), is too late.\n",
       "    var cells = IPython.notebook.get_cells();\n",
       "    var ncells = cells.length;\n",
       "    for (var i=0; i<ncells; i++) {\n",
       "        var cell = cells[i];\n",
       "        if (cell.cell_type === 'code'){\n",
       "            for (var j=0; j<cell.output_area.outputs.length; j++) {\n",
       "                var data = cell.output_area.outputs[j];\n",
       "                if (data.data) {\n",
       "                    // IPython >= 3 moved mimebundle to data attribute of output\n",
       "                    data = data.data;\n",
       "                }\n",
       "                if (data['text/html'] == html_output) {\n",
       "                    return [cell, data, j];\n",
       "                }\n",
       "            }\n",
       "        }\n",
       "    }\n",
       "}\n",
       "\n",
       "// Register the function which deals with the matplotlib target/channel.\n",
       "// The kernel may be null if the page has been refreshed.\n",
       "if (IPython.notebook.kernel != null) {\n",
       "    IPython.notebook.kernel.comm_manager.register_target('matplotlib', mpl.mpl_figure_comm);\n",
       "}\n"
      ],
      "text/plain": [
       "<IPython.core.display.Javascript object>"
      ]
     },
     "metadata": {},
     "output_type": "display_data"
    },
    {
     "data": {
      "text/html": [
       "<img src=\"data:image/png;base64,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\" width=\"500\">"
      ],
      "text/plain": [
       "<IPython.core.display.HTML object>"
      ]
     },
     "metadata": {},
     "output_type": "display_data"
    }
   ],
   "source": [
    "fig, ax = plt.subplots(figsize=(5, 3))\n",
    "ax.set(xlim=(-3, 3), ylim=(-1, 1))\n",
    "scat = ax.scatter(x[::3], F[0, ::3])\n",
    " \n",
    "def animate(i):\n",
    "    y_i = F[i, ::3]\n",
    "    scat.set_offsets(np.c_[x[::3], y_i])\n",
    "    \n",
    "\n",
    "anim = FuncAnimation(\n",
    "    fig, animate, interval=100, frames=len(t)-1)\n",
    " \n",
    "plt.draw()\n",
    "plt.show()\n",
    "plt.rcParams['animation.html'] = 'html5'"
   ]
  },
  {
   "cell_type": "markdown",
   "metadata": {},
   "source": [
    "#### Backpropagation\n",
    "\n",
    "<br>\n",
    "<div class=\"alert alert-block alert-warning\">\n",
    "<b>$\\divideontimes$ 역전파(Backpropagation): </b> \n",
    "\n",
    "<br>\n",
    "<br>\n",
    "<font size='3'><center>마지막 Output과 실제 값과의 차이( $Loss$ )로 배운 경험을  \n",
    "내부 $Weight$에 골고루 Feedback하는 과정.</center></font>\n",
    "<br>\n",
    "</div>  \n",
    "\n",
    "<br>\n",
    "\n",
    "<img src=\"images/backprop.png\" style=\";align:left;\">"
   ]
  },
  {
   "cell_type": "code",
   "execution_count": 84,
   "metadata": {
    "ExecuteTime": {
     "end_time": "2018-11-20T12:10:27.628616Z",
     "start_time": "2018-11-20T12:10:27.622492Z"
    }
   },
   "outputs": [],
   "source": [
    "def fully_connected_layer(\n",
    "    input_x,\n",
    "    output_dim=None,\n",
    "    weight=None,\n",
    "    bias=None,\n",
    "    name=None,\n",
    "    seed=1,\n",
    "    print_ok=True,\n",
    "    ):\n",
    "    \n",
    "    input_dim = input_x.shape[-1]\n",
    "\n",
    "    \n",
    "    #==== Essential ========================================================#\n",
    "\n",
    "    if weight is None:\n",
    "        np.random.seed(seed)\n",
    "        weight = np.random.random((input_dim, output_dim)).round(2)\n",
    "        bias = np.random.random((output_dim,)).round(2)\n",
    "\n",
    "    output = (input_x @ weight) + bias\n",
    "\n",
    "    #=======================================================================#\n",
    "\n",
    "    \n",
    "    if print_ok:\n",
    "        lprint(input_x, output, name=name)\n",
    "\n",
    "    return output, weight, bias"
   ]
  },
  {
   "cell_type": "code",
   "execution_count": 85,
   "metadata": {
    "ExecuteTime": {
     "end_time": "2018-11-20T12:10:28.164586Z",
     "start_time": "2018-11-20T12:10:28.159729Z"
    }
   },
   "outputs": [],
   "source": [
    "def sigmoid(x, print_ok=True):\n",
    "    res = 1 / (1 + np.exp(-x))\n",
    "\n",
    "    if print_ok:\n",
    "        print('sigmoid')\n",
    "        aprint(x, res, name_list=['Raw', 'Activated'])\n",
    "    return res"
   ]
  },
  {
   "cell_type": "code",
   "execution_count": 103,
   "metadata": {
    "ExecuteTime": {
     "end_time": "2018-11-20T23:46:28.615139Z",
     "start_time": "2018-11-20T23:46:28.606605Z"
    }
   },
   "outputs": [],
   "source": [
    "def forward_propagation(\n",
    "    input_x,\n",
    "    weight_dict=None,\n",
    "    print_ok=True,\n",
    "    ):\n",
    "\n",
    "    if weight_dict is None:\n",
    "        weight_dict = {\n",
    "            'w1': None,\n",
    "            'b1': None,\n",
    "            'w2': None,\n",
    "            'b2': None,\n",
    "        }\n",
    "    \n",
    "    w1 = weight_dict['w1']\n",
    "    b1 = weight_dict['b1']\n",
    "    w2 = weight_dict['w2']\n",
    "    b2 = weight_dict['b2']\n",
    "\n",
    "    \n",
    "    #==== Essential ========================================================#\n",
    "\n",
    "    ##### LAYER (Forward-propagation) #####\n",
    "\n",
    "    # Input Layer\n",
    "    input_layer = input_x\n",
    "\n",
    "    # Hidden Layer\n",
    "    hidden_layer_1, w1, b1 = fully_connected_layer(\n",
    "        input_layer,\n",
    "        output_dim=4,\n",
    "        weight=w1,\n",
    "        bias=b1,\n",
    "        seed=4,\n",
    "        name='fc1_layer',\n",
    "        print_ok=print_ok,\n",
    "    )\n",
    "    activated_1 = sigmoid(hidden_layer_1, print_ok=print_ok)\n",
    "\n",
    "    # Output Layer\n",
    "    hidden_layer_2, w2, b2 = fully_connected_layer(\n",
    "        hidden_layer_1,\n",
    "        output_dim=2,\n",
    "        weight=w2,\n",
    "        bias=b2,\n",
    "        seed=3,\n",
    "        name='fc2_layer',\n",
    "        print_ok=print_ok,\n",
    "    )\n",
    "    activated_2 = sigmoid(hidden_layer_2, print_ok=print_ok)\n",
    "    \n",
    "    #=======================================================================#\n",
    "    \n",
    "    \n",
    "    if print_ok:\n",
    "        print(f'\\n= Input =\\n{input_layer}')\n",
    "        print(f'\\n= 1 Layer =\\n{hidden_layer_1}\\n{activated_1}')\n",
    "        print(f'\\n= 2 Layer =\\n{hidden_layer_2}')\n",
    "        print(f'\\n= Output =\\n{activated_2}')\n",
    "\n",
    "\n",
    "    weight_dict['w1'] = w1\n",
    "    weight_dict['b1'] = b1\n",
    "    weight_dict['l1'] = hidden_layer_1\n",
    "    weight_dict['a1'] = activated_1\n",
    "    \n",
    "    \n",
    "    weight_dict['w2'] = w2\n",
    "    weight_dict['b2'] = b2\n",
    "    weight_dict['l2'] = hidden_layer_2\n",
    "    weight_dict['a2'] = activated_2\n",
    "\n",
    "    return activated_2, weight_dict"
   ]
  },
  {
   "cell_type": "code",
   "execution_count": 87,
   "metadata": {
    "ExecuteTime": {
     "end_time": "2018-11-20T12:10:29.580078Z",
     "start_time": "2018-11-20T12:10:29.573467Z"
    },
    "scrolled": false
   },
   "outputs": [
    {
     "name": "stdout",
     "output_type": "stream",
     "text": [
      "fc1_layer:\t(1, 3) -> (1, 4)\n",
      "sigmoid\n",
      "=========================================================================================\n",
      "|  Raw                           |    Activated                                         |\n",
      "|  (1, 4)                        |    (1, 4)                                            |\n",
      "=========================================================================================\n",
      "|  [[1.817 1.463 1.31  1.051]]   |    [[0.86020576 0.81199109 0.78751316 0.74096688]]   |\n",
      "=========================================================================================\n",
      "fc2_layer:\t(1, 4) -> (1, 2)\n",
      "sigmoid\n",
      "===========================================================\n",
      "|  Raw                   |    Activated                   |\n",
      "|  (1, 2)                |    (1, 2)                      |\n",
      "===========================================================\n",
      "|  [[2.77615 3.87591]]   |    [[0.94137333 0.97968576]]   |\n",
      "===========================================================\n",
      "\n",
      "= Input =\n",
      "[[0.6 0.5 0.1]]\n",
      "\n",
      "= 1 Layer =\n",
      "[[1.817 1.463 1.31  1.051]]\n",
      "[[0.86020576 0.81199109 0.78751316 0.74096688]]\n",
      "\n",
      "= 2 Layer =\n",
      "[[2.77615 3.87591]]\n",
      "\n",
      "= Output =\n",
      "[[0.94137333 0.97968576]]\n"
     ]
    }
   ],
   "source": [
    "output, w_dict = forward_propagation(arr_x_nonbatch)"
   ]
  },
  {
   "cell_type": "markdown",
   "metadata": {},
   "source": [
    "##### Derivative of Sigmoid\n",
    "\n",
    "\\begin{align}\n",
    "\\dfrac{d}{dx} \\sigma(x) &= \\dfrac{d}{dx} \\left[ \\dfrac{1}{1 + e^{-x}} \\right] \\\\\n",
    "&= \\dfrac{d}{dx} \\left( 1 + \\mathrm{e}^{-x} \\right)^{-1} \\\\\n",
    "&= -(1 + e^{-x})^{-2}(-e^{-x}) \\\\\n",
    "&= \\dfrac{e^{-x}}{\\left(1 + e^{-x}\\right)^2} \\\\\n",
    "&= \\dfrac{1}{1 + e^{-x}\\ } \\cdot \\dfrac{e^{-x}}{1 + e^{-x}}  \\\\\n",
    "&= \\dfrac{1}{1 + e^{-x}\\ } \\cdot \\dfrac{(1 + e^{-x}) - 1}{1 + e^{-x}}  \\\\\n",
    "&= \\dfrac{1}{1 + e^{-x}\\ } \\cdot \\left( \\dfrac{1 + e^{-x}}{1 + e^{-x}} - \\dfrac{1}{1 + e^{-x}} \\right) \\\\\n",
    "&= \\dfrac{1}{1 + e^{-x}\\ } \\cdot \\left( 1 - \\dfrac{1}{1 + e^{-x}} \\right) \\\\\n",
    "&= \\sigma(x) \\cdot (1 - \\sigma(x))\n",
    "\\end{align}"
   ]
  },
  {
   "cell_type": "code",
   "execution_count": 89,
   "metadata": {
    "ExecuteTime": {
     "end_time": "2018-11-20T12:10:33.462832Z",
     "start_time": "2018-11-20T12:10:33.458596Z"
    }
   },
   "outputs": [],
   "source": [
    "def d_sigmoid(x):\n",
    "    return x * (1 - x)"
   ]
  },
  {
   "cell_type": "code",
   "execution_count": 93,
   "metadata": {
    "ExecuteTime": {
     "end_time": "2018-11-20T12:13:36.774425Z",
     "start_time": "2018-11-20T12:13:36.765752Z"
    }
   },
   "outputs": [],
   "source": [
    "def backward_propagation_nonchain(\n",
    "    input_x,\n",
    "    input_y,\n",
    "    weight_dict=None,\n",
    "    learning_rate=5e-2,\n",
    "    print_ok=True,\n",
    "    ):\n",
    "    \n",
    "    m = input_dim = input_x.shape[-1]\n",
    "\n",
    "    w1 = weight_dict['w1']\n",
    "    b1 = weight_dict['b1']\n",
    "    l1 = weight_dict['l1']\n",
    "    a1 = weight_dict['a1']\n",
    "    \n",
    "    w2 = weight_dict['w2']\n",
    "    b2 = weight_dict['b2']\n",
    "    l2 = weight_dict['l2']\n",
    "    a2 = weight_dict['a2']\n",
    "    \n",
    "    \n",
    "    #==== Essential ========================================================#\n",
    "\n",
    "    ##### LAYER (Back-propagation) #####\n",
    "\n",
    "    # Calculate Gradients\n",
    "    err = a2 - input_y\n",
    "    d_a2 = err / d_sigmoid(a2)\n",
    "    d_l2 = a2 - input_y\n",
    "    d_b2 = 1./m * np.sum(d_l2.T, axis=1, keepdims=False)\n",
    "    d_o2 = d_l2\n",
    "\n",
    "    d_w2 = 1./m * (a1.T @ d_o2)\n",
    "    d_a1 = d_o2 @ w2.T\n",
    "    d_l1 = d_sigmoid(a1)\n",
    "    d_b1 = 1./m * np.sum(d_l1.T, axis=1, keepdims=False)\n",
    "    d_o1 = d_l1\n",
    "    d_w1 = 1./m * (input_x.T @ d_o1)\n",
    "\n",
    "    \n",
    "    # Update\n",
    "    new_w1 = w1 - (learning_rate * d_w1)\n",
    "    new_b1 = b1 - (learning_rate * d_b1)\n",
    "    new_w2 = w2 - (learning_rate * d_w2)\n",
    "    new_b2 = b2 - (learning_rate * d_b2)\n",
    "\n",
    "    #=======================================================================#\n",
    "\n",
    "    \n",
    "    if print_ok:\n",
    "        print('\\n\\nResult: Backpropagation')\n",
    "        aprint(w2, new_w2, name_list=['w2', 'new_w2'])\n",
    "        aprint(b2, new_b2, name_list=['b2', 'new_b2'])\n",
    "        aprint(w1, new_w1, name_list=['w1', 'new_w1'])\n",
    "        aprint(b1, new_b1, name_list=['b1', 'new_b1'])\n",
    "\n",
    "    w1 = new_w1\n",
    "    b1 = new_b1\n",
    "    w2 = new_w2\n",
    "    b2 = new_b2\n",
    "\n",
    "\n",
    "    gradient_dict = {\n",
    "        'd_w1': d_w1,\n",
    "        'd_b1': d_b1,\n",
    "        'd_l1': d_l1,\n",
    "        'd_a1': d_a1,\n",
    "        \n",
    "        'd_w2': d_w2,\n",
    "        'd_b2': d_b2,\n",
    "        'd_l2': d_l2,\n",
    "        'd_a2': d_a2,\n",
    "    }\n",
    "\n",
    "    weight_dict['w1'] = new_w1\n",
    "    weight_dict['b1'] = new_b1\n",
    "    \n",
    "    weight_dict['w2'] = new_w2\n",
    "    weight_dict['b2'] = new_b2\n",
    "    \n",
    "    return gradient_dict, weight_dict"
   ]
  },
  {
   "cell_type": "code",
   "execution_count": 94,
   "metadata": {
    "ExecuteTime": {
     "end_time": "2018-11-20T12:13:42.166762Z",
     "start_time": "2018-11-20T12:13:42.156514Z"
    },
    "scrolled": false
   },
   "outputs": [
    {
     "name": "stdout",
     "output_type": "stream",
     "text": [
      "fc1_layer:\t(1, 3) -> (1, 4)\n",
      "sigmoid\n",
      "=========================================================================================\n",
      "|  Raw                           |    Activated                                         |\n",
      "|  (1, 4)                        |    (1, 4)                                            |\n",
      "=========================================================================================\n",
      "|  [[1.817 1.463 1.31  1.051]]   |    [[0.86020576 0.81199109 0.78751316 0.74096688]]   |\n",
      "=========================================================================================\n",
      "fc2_layer:\t(1, 4) -> (1, 2)\n",
      "sigmoid\n",
      "===========================================================\n",
      "|  Raw                   |    Activated                   |\n",
      "|  (1, 2)                |    (1, 2)                      |\n",
      "===========================================================\n",
      "|  [[2.77615 3.87591]]   |    [[0.94137333 0.97968576]]   |\n",
      "===========================================================\n",
      "\n",
      "= Input =\n",
      "[[0.6 0.5 0.1]]\n",
      "\n",
      "= 1 Layer =\n",
      "[[1.817 1.463 1.31  1.051]]\n",
      "[[0.86020576 0.81199109 0.78751316 0.74096688]]\n",
      "\n",
      "= 2 Layer =\n",
      "[[2.77615 3.87591]]\n",
      "\n",
      "= Output =\n",
      "[[0.94137333 0.97968576]]\n",
      "\n",
      "\n",
      "Result: Backpropagation\n",
      "=====================================================\n",
      "|  w2              |    new_w2                      |\n",
      "|  (4, 2)          |    (4, 2)                      |\n",
      "=====================================================\n",
      "|  [[0.55 0.71]    |    [[0.54223846 0.70455654]    |\n",
      "|   [0.29 0.51]    |     [0.28267349 0.50486164]    |\n",
      "|   [0.89 0.9 ]    |     [0.88289436 0.89501654]    |\n",
      "|   [0.13 0.21]]   |     [0.12331434 0.20531109]]   |\n",
      "=====================================================\n",
      "=================================================\n",
      "|  b2            |    new_b2                    |\n",
      "|  (2,)          |    (2,)                      |\n",
      "=================================================\n",
      "|  [0.05 0.44]   |    [0.04097711 0.4336719 ]   |\n",
      "=================================================\n",
      "=====================================================================================\n",
      "|  w1                        |    new_w1                                            |\n",
      "|  (3, 4)                    |    (3, 4)                                            |\n",
      "=====================================================================================\n",
      "|  [[0.97 0.55 0.97 0.71]    |    [[0.96879748 0.54847338 0.96832664 0.70808065]    |\n",
      "|   [0.7  0.22 0.98 0.01]    |     [0.6989979  0.21872782 0.97860553 0.00840054]    |\n",
      "|   [0.25 0.43 0.78 0.2 ]]   |     [0.24979958 0.42974556 0.77972111 0.19968011]]   |\n",
      "=====================================================================================\n",
      "=================================================================================\n",
      "|  b1                      |    new_b1                                          |\n",
      "|  (4,)                    |    (4,)                                            |\n",
      "=================================================================================\n",
      "|  [0.86 0.98 0.16 0.6 ]   |    [0.8579958  0.97745564 0.15721106 0.59680108]   |\n",
      "=================================================================================\n"
     ]
    }
   ],
   "source": [
    "output, w_dict = forward_propagation(arr_x_nonbatch)\n",
    "grad_dict, new_w_dict = backward_propagation_nonchain(arr_x_nonbatch, arr_y_nonbatch, weight_dict=w_dict)"
   ]
  },
  {
   "cell_type": "markdown",
   "metadata": {},
   "source": [
    "#### Optimization\n",
    "\n",
    "<br>\n",
    "<div class=\"alert alert-block alert-warning\">\n",
    "<b>$\\divideontimes$ Optimizer: </b> <b>지름길을 잘 찾는 방법 </b>\n",
    "<br>\n",
    "<br>\n",
    "<font size='3'><center><b> 눈앞의 이득(Local Minima)에 빠지지 않고, 최적의 답(Global Minima)을 잘 찾아야 한다!</b></center></font>\n",
    "\n",
    "</div>\n",
    "<br>\n",
    "<br>\n",
    "\n",
    "함수의 극대값 또는 극소값을 구하기 위해 현재 위치에서 함수값의 변화가 가장 큰 방향으로 이동한다.  \n",
    "함수값의 변화가 가장 큰 방향을 구할 수만 있다면 다양한 문제에 똑같은 개념을 적용할 수 있다.\n",
    "\n",
    "<img src=\"images/gradient_descent_algorithm.gif\" style=\";align:left;\">\n",
    "<img src=\"images/gradient_descent_algorithm2.gif\" style=\";align:left;\">"
   ]
  },
  {
   "cell_type": "markdown",
   "metadata": {},
   "source": [
    "##### SGD (Stochastic Gradient Descent)"
   ]
  },
  {
   "cell_type": "code",
   "execution_count": 96,
   "metadata": {
    "ExecuteTime": {
     "end_time": "2018-11-20T12:14:11.881543Z",
     "start_time": "2018-11-20T12:14:11.877058Z"
    }
   },
   "outputs": [],
   "source": [
    "def sgd(w, dw, param_dict=None):\n",
    "    \"\"\"\n",
    "    - learning_rate: Scalar learning rate.\n",
    "    \"\"\"\n",
    "    learning_rate = param_dict['learning_rate']\n",
    "\n",
    "    \n",
    "    #==== Essential ========================================================#\n",
    "    \n",
    "    new_w = w - (learning_rate * dw)\n",
    "    \n",
    "    #=======================================================================#\n",
    "    \n",
    "    \n",
    "    return new_w, param_dict"
   ]
  },
  {
   "cell_type": "markdown",
   "metadata": {},
   "source": [
    "##### SGD Momentum"
   ]
  },
  {
   "cell_type": "code",
   "execution_count": 97,
   "metadata": {
    "ExecuteTime": {
     "end_time": "2018-11-20T12:14:12.425744Z",
     "start_time": "2018-11-20T12:14:12.420155Z"
    }
   },
   "outputs": [],
   "source": [
    "def sgd_momentum(w, dw, param_dict=None):\n",
    "    \"\"\"\n",
    "    - learning_rate: Scalar learning rate.\n",
    "    - momentum: Scalar between 0 and 1 giving the momentum value.\n",
    "      Setting momentum = 0 reduces to sgd.\n",
    "    - velocity: A numpy array of the same shape as w and dw used to store a moving\n",
    "      average of the gradients.\n",
    "    \"\"\"\n",
    "    learning_rate = param_dict['learning_rate']\n",
    "    momentum = param_dict['momentum'] = 0.9\n",
    "\n",
    "    if 'velocity' not in param_dict:\n",
    "        param_dict['velocity'] = np.zeros_like(w)\n",
    "    velocity = param_dict['velocity']\n",
    "\n",
    "    \n",
    "    #==== Essential ========================================================#\n",
    "    \n",
    "    v = (momentum * velocity) - (learning_rate * dw)\n",
    "    new_w = w + v\n",
    "    param_dict['velocity'] = v\n",
    "    \n",
    "    #=======================================================================#\n",
    "    \n",
    "    \n",
    "    return new_w, param_dict"
   ]
  },
  {
   "cell_type": "markdown",
   "metadata": {},
   "source": [
    "##### Adagrad"
   ]
  },
  {
   "cell_type": "code",
   "execution_count": 98,
   "metadata": {
    "ExecuteTime": {
     "end_time": "2018-11-20T12:14:13.080013Z",
     "start_time": "2018-11-20T12:14:13.074428Z"
    }
   },
   "outputs": [],
   "source": [
    "def adagrad(w, dw, param_dict=None):\n",
    "    \"\"\"\n",
    "    - learning_rate: Scalar learning rate.\n",
    "    - epsilon: Small scalar used for smoothing to avoid dividing by zero.\n",
    "    - cache: Moving average of second moments of gradients.\n",
    "    \"\"\"\n",
    "    learning_rate = param_dict['learning_rate']\n",
    "    decay_rate = param_dict['decay_rate'] = 0.99\n",
    "    epsilon = param_dict['epsilon'] = 1e-8\n",
    "    \n",
    "    if 'cache' not in param_dict:\n",
    "        param_dict['cache'] = np.zeros_like(w)\n",
    "    cache = param_dict['cache']\n",
    "    \n",
    "    \n",
    "    #==== Essential ========================================================#\n",
    "    \n",
    "    cache  = param_dict['cache'] = cache + (dw**2)\n",
    "    new_w = w - ((learning_rate * dw) / (np.sqrt(cache) + epsilon))\n",
    "    param_dict['cache'] = cache\n",
    "    \n",
    "    #=======================================================================#\n",
    "    \n",
    "    \n",
    "    return new_w, param_dict"
   ]
  },
  {
   "cell_type": "markdown",
   "metadata": {},
   "source": [
    "##### RMSProp"
   ]
  },
  {
   "cell_type": "code",
   "execution_count": 99,
   "metadata": {
    "ExecuteTime": {
     "end_time": "2018-11-20T12:14:13.526151Z",
     "start_time": "2018-11-20T12:14:13.520525Z"
    }
   },
   "outputs": [],
   "source": [
    "def rmsprop(w, dw, param_dict=None):\n",
    "    \"\"\"\n",
    "    - learning_rate: Scalar learning rate.\n",
    "    - decay_rate: Scalar between 0 and 1 giving the decay rate for the squared\n",
    "      gradient cache.\n",
    "    - epsilon: Small scalar used for smoothing to avoid dividing by zero.\n",
    "    - cache: Moving average of second moments of gradients.\n",
    "    \"\"\"\n",
    "    learning_rate = param_dict['learning_rate']\n",
    "    decay_rate = param_dict['decay_rate'] = 0.9\n",
    "    epsilon = param_dict['epsilon'] = 1e-8\n",
    "    \n",
    "    if 'cache' not in param_dict:\n",
    "        param_dict['cache'] = np.zeros_like(w)\n",
    "    cache = param_dict['cache']\n",
    "    \n",
    "    \n",
    "    #==== Essential ========================================================#\n",
    "    \n",
    "    cache = param_dict['cache'] = (decay_rate * cache) + ((1 - decay_rate) * (dw**2))\n",
    "    new_w = w - ((learning_rate * dw) / (np.sqrt(cache) + epsilon))\n",
    "    \n",
    "    #=======================================================================#\n",
    "    \n",
    "    \n",
    "    return new_w, param_dict"
   ]
  },
  {
   "cell_type": "markdown",
   "metadata": {},
   "source": [
    "##### Adam\n",
    "RMSProp + Momentum"
   ]
  },
  {
   "cell_type": "markdown",
   "metadata": {},
   "source": [
    "$$lr_t :=   ext{learning\\_rate} * \\sqrt{1 - beta_2^t} / (1 - beta_1^t)$$"
   ]
  },
  {
   "cell_type": "code",
   "execution_count": 100,
   "metadata": {
    "ExecuteTime": {
     "end_time": "2018-11-20T12:14:15.341819Z",
     "start_time": "2018-11-20T12:14:15.337553Z"
    }
   },
   "outputs": [],
   "source": [
    "def adam(w, dw, param_dict=None):\n",
    "    \"\"\"\n",
    "    - learning_rate: Scalar learning rate.\n",
    "    - beta1: Decay rate for moving average of first moment of gradient.\n",
    "    - beta2: Decay rate for moving average of second moment of gradient.\n",
    "    - epsilon: Small scalar used for smoothing to avoid dividing by zero.\n",
    "    - m: Moving average of gradient.\n",
    "    - v: Moving average of squared gradient.\n",
    "    - t: Iteration number.\n",
    "    \"\"\"\n",
    "    learning_rate = param_dict['learning_rate']\n",
    "    beta1 = param_dict['beta1'] = 0.9\n",
    "    beta2 = param_dict['beta2'] = 0.999\n",
    "    epsilon = param_dict['epsilon'] = 1e-8\n",
    "    \n",
    "    if 'm' not in param_dict:\n",
    "        param_dict['m'] = np.zeros_like(w)\n",
    "    \n",
    "    if 'v' not in param_dict:\n",
    "        param_dict['v'] = np.zeros_like(w)\n",
    "\n",
    "    if 't' not in param_dict:\n",
    "        param_dict['t'] = 0\n",
    "    \n",
    "    m = param_dict['m']\n",
    "    v = param_dict['v']\n",
    "    t = param_dict['t']\n",
    "    \n",
    "    \n",
    "    #==== Essential ========================================================#\n",
    "    \n",
    "    learning_rate = learning_rate * (np.sqrt(1 - beta2) / (1 - beta1))\n",
    "    t = param_dict['t'] = 1\n",
    "    m = param_dict['m'] = (beta1 * m) + ((1 - beta1) * dw)\n",
    "    v = param_dict['v'] = (beta2 * v) + ((1 - beta2) * (dw**2))\n",
    "    \n",
    "    mt = m / (1 - (beta1 ** t))\n",
    "    mv = v / (1 - (beta2 ** t))\n",
    "    \n",
    "    new_w = w - ((learning_rate * mt) / (np.sqrt(mv) + epsilon))\n",
    "    param_dict['learning_rate'] = learning_rate\n",
    "    \n",
    "    #=======================================================================#\n",
    "    \n",
    "    return new_w, param_dict"
   ]
  },
  {
   "cell_type": "code",
   "execution_count": 101,
   "metadata": {
    "ExecuteTime": {
     "end_time": "2018-11-20T12:14:16.363163Z",
     "start_time": "2018-11-20T12:14:16.354057Z"
    }
   },
   "outputs": [],
   "source": [
    "def backward_propagation(\n",
    "    input_x,\n",
    "    input_y,\n",
    "    weight_dict=None,\n",
    "    param_dict=None,\n",
    "    loss_func=mean_square_error,\n",
    "    optimizer=sgd,\n",
    "    print_ok=True,\n",
    "    ):\n",
    "\n",
    "    if param_dict is None:\n",
    "        param_dict = {}\n",
    "    learning_rate = param_dict['learning_rate']\n",
    "    step_num = param_dict['step_num']\n",
    "    \n",
    "    m = input_dim = input_x.shape[-1]\n",
    "\n",
    "    w1 = weight_dict['w1']\n",
    "    b1 = weight_dict['b1']\n",
    "    l1 = weight_dict['l1']\n",
    "    a1 = weight_dict['a1']\n",
    "    \n",
    "    w2 = weight_dict['w2']\n",
    "    b2 = weight_dict['b2']\n",
    "    l2 = weight_dict['l2']\n",
    "    a2 = weight_dict['a2']\n",
    "    \n",
    "    #==== Essential 1 ======================================================#\n",
    "\n",
    "    ##### LAYER (Back-propagation) #####\n",
    "\n",
    "    # Calculate Gradients\n",
    "    err = loss_func(a2, input_y)\n",
    "    d_a2 = err / d_sigmoid(a2)\n",
    "    d_l2 = a2 - input_y\n",
    "    d_b2 = 1./m * np.sum(d_l2.T, axis=1, keepdims=False)\n",
    "    d_o2 = d_l2\n",
    "\n",
    "    d_w2 = 1./m * (a1.T @ d_o2)\n",
    "    d_a1 = d_o2 @ w2.T\n",
    "    d_l1 = d_sigmoid(a1)\n",
    "    d_b1 = 1./m * np.sum(d_l1.T, axis=1, keepdims=False)\n",
    "    d_o1 = d_l1\n",
    "    d_w1 = 1./m * (input_x.T @ d_o1)\n",
    "\n",
    "    #=======================================================================#\n",
    "\n",
    "    delta_dict = {\n",
    "        'w2': d_w2,\n",
    "        'b2': d_b2,\n",
    "        'w1': d_w1,\n",
    "        'b1': d_b1,\n",
    "    }\n",
    "\n",
    "    step_num += 1\n",
    "\n",
    "    for w_name in delta_dict:\n",
    "        param_dict[w_name] = {}\n",
    "        param_dict[w_name]['learning_rate'] = learning_rate\n",
    "        param_dict[w_name]['step_num'] = step_num\n",
    "\n",
    "\n",
    "    #==== Essential 2 ======================================================#\n",
    "\n",
    "    # Update\n",
    "    new_w_list = []\n",
    "    for w_name in delta_dict:\n",
    "        w, dw = w_dict[w_name], delta_dict[w_name]\n",
    "\n",
    "        new_w, param_dict[w_name] = optimizer(w, dw, param_dict=param_dict[w_name])\n",
    "        new_w_list += [new_w]\n",
    "\n",
    "    new_w2, new_b2, new_w1, new_b1 = new_w_list\n",
    "\n",
    "    #=======================================================================#\n",
    "    \n",
    "    \n",
    "    if print_ok:\n",
    "        print(f\"\\n\\nResult: Backpropagation {step_num}, Optimizer = '{optimizer.__name__}'\")\n",
    "        aprint(w2, new_w2, name_list=['w2', 'new_w2'])\n",
    "        aprint(b2, new_b2, name_list=['b2', 'new_b2'])\n",
    "        aprint(w1, new_w1, name_list=['w1', 'new_w1'])\n",
    "        aprint(b1, new_b1, name_list=['b1', 'new_b1'])\n",
    "\n",
    "    weight_dict['w1'] = new_w1\n",
    "    weight_dict['b1'] = new_b1\n",
    "    \n",
    "    weight_dict['w2'] = new_w2\n",
    "    weight_dict['b2'] = new_b2\n",
    "    \n",
    "    param_dict['step_num'] = step_num\n",
    "    param_dict['learning_rate'] = learning_rate\n",
    "    \n",
    "\n",
    "    return weight_dict, param_dict"
   ]
  },
  {
   "cell_type": "markdown",
   "metadata": {},
   "source": [
    "##### Training & Backpropagation"
   ]
  },
  {
   "cell_type": "code",
   "execution_count": 102,
   "metadata": {
    "ExecuteTime": {
     "end_time": "2018-11-20T12:14:17.873127Z",
     "start_time": "2018-11-20T12:14:17.846391Z"
    },
    "scrolled": false
   },
   "outputs": [
    {
     "name": "stdout",
     "output_type": "stream",
     "text": [
      "Step_num : 10\n",
      "====================================================================================\n",
      "|  1st OUTPUT                  |    LAST OUTPUT                 |    GROUND TRUTH   |\n",
      "|  (1, 2)                      |    (1, 2)                      |    (1, 2)        |\n",
      "====================================================================================\n",
      "|  [[0.94137333 0.97968576]]   |    [[0.90978274 0.96656726]]   |    [[0.4 0.6]]   |\n",
      "====================================================================================\n",
      "Step_num : 20\n",
      "====================================================================================\n",
      "|  1st OUTPUT                  |    LAST OUTPUT                 |    GROUND TRUTH   |\n",
      "|  (1, 2)                      |    (1, 2)                      |    (1, 2)        |\n",
      "====================================================================================\n",
      "|  [[0.94137333 0.97968576]]   |    [[0.86246725 0.94466711]]   |    [[0.4 0.6]]   |\n",
      "====================================================================================\n",
      "Step_num : 30\n",
      "====================================================================================\n",
      "|  1st OUTPUT                  |    LAST OUTPUT                 |    GROUND TRUTH   |\n",
      "|  (1, 2)                      |    (1, 2)                      |    (1, 2)        |\n",
      "====================================================================================\n",
      "|  [[0.94137333 0.97968576]]   |    [[0.80295795 0.91330829]]   |    [[0.4 0.6]]   |\n",
      "====================================================================================\n",
      "Step_num : 40\n",
      "====================================================================================\n",
      "|  1st OUTPUT                  |    LAST OUTPUT                 |    GROUND TRUTH   |\n",
      "|  (1, 2)                      |    (1, 2)                      |    (1, 2)        |\n",
      "====================================================================================\n",
      "|  [[0.94137333 0.97968576]]   |    [[0.73455071 0.87168784]]   |    [[0.4 0.6]]   |\n",
      "====================================================================================\n",
      "Step_num : 50\n",
      "====================================================================================\n",
      "|  1st OUTPUT                  |    LAST OUTPUT                 |    GROUND TRUTH   |\n",
      "|  (1, 2)                      |    (1, 2)                      |    (1, 2)        |\n",
      "====================================================================================\n",
      "|  [[0.94137333 0.97968576]]   |    [[0.66257383 0.82071738]]   |    [[0.4 0.6]]   |\n",
      "====================================================================================\n",
      "Step_num : 60\n",
      "====================================================================================\n",
      "|  1st OUTPUT                  |    LAST OUTPUT                 |    GROUND TRUTH   |\n",
      "|  (1, 2)                      |    (1, 2)                      |    (1, 2)        |\n",
      "====================================================================================\n",
      "|  [[0.94137333 0.97968576]]   |    [[0.59284409 0.76322913]]   |    [[0.4 0.6]]   |\n",
      "====================================================================================\n",
      "Step_num : 70\n",
      "====================================================================================\n",
      "|  1st OUTPUT                  |    LAST OUTPUT                 |    GROUND TRUTH   |\n",
      "|  (1, 2)                      |    (1, 2)                      |    (1, 2)        |\n",
      "====================================================================================\n",
      "|  [[0.94137333 0.97968576]]   |    [[0.53013475 0.70343633]]   |    [[0.4 0.6]]   |\n",
      "====================================================================================\n",
      "Step_num : 80\n",
      "====================================================================================\n",
      "|  1st OUTPUT                  |    LAST OUTPUT                 |    GROUND TRUTH   |\n",
      "|  (1, 2)                      |    (1, 2)                      |    (1, 2)        |\n",
      "====================================================================================\n",
      "|  [[0.94137333 0.97968576]]   |    [[0.47742418 0.64587716]]   |    [[0.4 0.6]]   |\n",
      "====================================================================================\n",
      "Step_num : 90\n",
      "====================================================================================\n",
      "|  1st OUTPUT                  |    LAST OUTPUT                 |    GROUND TRUTH   |\n",
      "|  (1, 2)                      |    (1, 2)                      |    (1, 2)        |\n",
      "====================================================================================\n",
      "|  [[0.94137333 0.97968576]]   |    [[0.43599934 0.6009596 ]]   |    [[0.4 0.6]]   |\n",
      "====================================================================================\n",
      "Step_num : 100\n",
      "====================================================================================\n",
      "|  1st OUTPUT                  |    LAST OUTPUT                 |    GROUND TRUTH   |\n",
      "|  (1, 2)                      |    (1, 2)                      |    (1, 2)        |\n",
      "====================================================================================\n",
      "|  [[0.94137333 0.97968576]]   |    [[0.40601486 0.59634548]]   |    [[0.4 0.6]]   |\n",
      "====================================================================================\n"
     ]
    }
   ],
   "source": [
    "#--------------------#\n",
    "\n",
    "\"\"\"Parameter Setting.\n",
    "\"\"\"\n",
    "\n",
    "# OPTIMIZER = sgd\n",
    "# OPTIMIZER = sgd_momentum\n",
    "OPTIMIZER = adagrad\n",
    "# OPTIMIZER = rmsprop\n",
    "# OPTIMIZER = adam\n",
    "\n",
    "MAX_STEP = 100\n",
    "LEARNING_RATE = 0.005\n",
    "\n",
    "#--------------------#\n",
    "\n",
    "\n",
    "print_ok = False\n",
    "p_dict = {}\n",
    "p_dict['learning_rate'] = LEARNING_RATE\n",
    "p_dict['step_num'] = 0\n",
    "w_dict = None\n",
    "output_list = []\n",
    "\n",
    "\n",
    "#==== Essential ========================================================#\n",
    "\n",
    "for _ in range(MAX_STEP):\n",
    "    output, w_dict = forward_propagation(\n",
    "        arr_x_nonbatch,\n",
    "        weight_dict=w_dict,\n",
    "        print_ok=print_ok,\n",
    "    )\n",
    "    w_dict, p_dict = backward_propagation(\n",
    "        arr_x_nonbatch,\n",
    "        arr_y_nonbatch,\n",
    "        loss_func=mean_square_error,\n",
    "        weight_dict=w_dict,\n",
    "        param_dict=p_dict,\n",
    "        optimizer=OPTIMIZER,\n",
    "        print_ok=print_ok,\n",
    "    )\n",
    "    output_list += [output]\n",
    "    \n",
    "#=======================================================================#\n",
    "    \n",
    "\n",
    "    if _ % (MAX_STEP // 10) >= 9:\n",
    "        print('Step_num :', p_dict['step_num'])\n",
    "        aprint(\n",
    "            output_list[0],\n",
    "            output,\n",
    "            arr_y_nonbatch,\n",
    "            name_list=['1st OUTPUT', 'LAST OUTPUT', 'GROUND TRUTH'],\n",
    "        )\n",
    "\n",
    "last_output, _ = forward_propagation(\n",
    "    arr_x_nonbatch,\n",
    "    weight_dict=w_dict,\n",
    "    print_ok=False,\n",
    ")"
   ]
  },
  {
   "cell_type": "markdown",
   "metadata": {},
   "source": [
    "## (실습) MLP in `keras`"
   ]
  },
  {
   "cell_type": "markdown",
   "metadata": {},
   "source": [
    "<div class=\"alert alert-block alert-info\">\n",
    "<b>$\\divideontimes$ Unit_num 이란 : </b> \n",
    "\n",
    "딥러닝 Framework에서 흔히 볼 수 있는 `unit_num`은 `output_shape`를 말한다.\n",
    "\n",
    "<br>\n",
    "<br>\n",
    "<font size='5'><center><b><i>\"`unit_num`으로 다음 번 `Hidden Dimension`의 크기를 결정한다.\"</i></b></center></font>\n",
    "<br>\n",
    "<br>\n",
    "<br>\n",
    "$\\cdot$ <font size='3'>Input Dimension : $m = 3$</font>  \n",
    "$\\cdot$ <font size='3'>Output Dimension : $l = 4$</font>  \n",
    "\n",
    "\n",
    "<font size='4'>\n",
    "\\begin{equation}\n",
    "\\begin{bmatrix} n\\times m \\end{bmatrix}\n",
    "\\overbrace{ \\begin{bmatrix} m\\times l \\end{bmatrix} }^{Layer} \n",
    "= \\begin{bmatrix} n\\times l \\end{bmatrix}\n",
    "\\end{equation}\n",
    "</font>\n",
    "\n",
    "$\\space$\n",
    "$\\space$\n",
    "\n",
    "<font size='4'>\n",
    "\\begin{equation}\n",
    "\\left({\\begin{array}{cc}\n",
    "\\color{red}a & \\color{red}b & \\color{red}c \\\\\n",
    "\\color{red}d & \\color{red}e & \\color{red}f \n",
    "\\end{array}}\\right)\n",
    "\\overbrace{\n",
    "\\left( \\begin{array}{cc}\n",
    "    \\color{blue}  A & \\color{blue} D & \\color{blue} G & \\color{blue} J \\\\\n",
    "    \\color{blue} B & \\color{blue} E & \\color{blue} H & \\color{blue} K \\\\\n",
    "    \\color{blue} C & \\color{blue} F & \\color{blue} I & \\color{blue} L \\\\\n",
    "\\end{array} \\right) }^{unit \\_ num \\space = \\space 4}\n",
    "= \\overbrace{\n",
    "\\left(\\begin{array}{cc} \n",
    "    \\color{red}a \\color{blue}A + \\color{red}b \\color{blue}B + \\color{red}c \\color{blue}C & \n",
    "    \\color{red}a \\color{blue}D + \\color{red}b \\color{blue}E + \\color{red}c \\color{blue}F &\n",
    "    \\color{red}a \\color{blue}G + \\color{red}b \\color{blue}H + \\color{red}c \\color{blue}I &\n",
    "    \\color{red}a \\color{blue}J + \\color{red}b \\color{blue}K + \\color{red}c \\color{blue}L\n",
    "    \\\\\n",
    "    \\color{red}d \\color{blue}A + \\color{red}e \\color{blue}B + \\color{red}f \\color{blue}C & \n",
    "    \\color{red}d \\color{blue}D + \\color{red}e \\color{blue}E + \\color{red}f \\color{blue}F & \n",
    "    \\color{red}d \\color{blue}G + \\color{red}e \\color{blue}H + \\color{red}f \\color{blue}I &\n",
    "    \\color{red}d \\color{blue}J + \\color{red}e \\color{blue}K + \\color{red}f \\color{blue}L\n",
    "    \\\\\n",
    "\\end{array}\\right)\n",
    "}^{unit \\_ num \\space = \\space 4}\n",
    "\\end{equation}\n",
    "</font>\n",
    "\n",
    "</div>\n",
    "<br>"
   ]
  },
  {
   "cell_type": "code",
   "execution_count": 29,
   "metadata": {
    "ExecuteTime": {
     "end_time": "2018-11-13T06:29:19.152429Z",
     "start_time": "2018-11-13T06:29:19.148007Z"
    }
   },
   "outputs": [
    {
     "name": "stderr",
     "output_type": "stream",
     "text": [
      "Using TensorFlow backend.\n"
     ]
    }
   ],
   "source": [
    "import keras\n",
    "import keras.backend as K\n",
    "from keras import Model, Sequential\n",
    "from keras.layers import Input, Dense, SimpleRNN, LSTM, GRU, TimeDistributed"
   ]
  },
  {
   "cell_type": "markdown",
   "metadata": {},
   "source": [
    "### MLP Model"
   ]
  },
  {
   "cell_type": "code",
   "execution_count": 30,
   "metadata": {
    "ExecuteTime": {
     "end_time": "2018-11-13T06:29:18.213022Z",
     "start_time": "2018-11-13T06:29:18.173796Z"
    },
    "scrolled": false
   },
   "outputs": [
    {
     "name": "stdout",
     "output_type": "stream",
     "text": [
      "_________________________________________________________________\n",
      "Layer (type)                 Output Shape              Param #   \n",
      "=================================================================\n",
      "dense_1 (Dense)              (None, 4)                 16        \n",
      "_________________________________________________________________\n",
      "dense_2 (Dense)              (None, 2)                 10        \n",
      "=================================================================\n",
      "Total params: 26\n",
      "Trainable params: 26\n",
      "Non-trainable params: 0\n",
      "_________________________________________________________________\n"
     ]
    }
   ],
   "source": [
    "model = Sequential()\n",
    "\n",
    "model.add(Dense(4, input_dim=3, kernel_initializer='zeros', activation='sigmoid'))\n",
    "model.add(Dense(2, kernel_initializer='zeros', activation='sigmoid'))\n",
    "\n",
    "\n",
    "model.summary()\n",
    "model.compile(loss='mean_squared_error', optimizer='adam', metrics=['mae'])"
   ]
  },
  {
   "cell_type": "markdown",
   "metadata": {},
   "source": [
    "### MLP Training"
   ]
  },
  {
   "cell_type": "code",
   "execution_count": 31,
   "metadata": {
    "ExecuteTime": {
     "end_time": "2018-11-13T06:29:18.912681Z",
     "start_time": "2018-11-13T06:29:18.214107Z"
    }
   },
   "outputs": [
    {
     "name": "stdout",
     "output_type": "stream",
     "text": [
      "Epoch 1/10\n",
      " - 1s - loss: 0.0250 - mean_absolute_error: 0.1500\n",
      "Epoch 2/10\n",
      " - 0s - loss: 0.0249 - mean_absolute_error: 0.1500\n",
      "Epoch 3/10\n",
      " - 0s - loss: 0.0249 - mean_absolute_error: 0.1500\n",
      "Epoch 4/10\n",
      " - 0s - loss: 0.0248 - mean_absolute_error: 0.1500\n",
      "Epoch 5/10\n",
      " - 0s - loss: 0.0247 - mean_absolute_error: 0.1500\n",
      "Epoch 6/10\n",
      " - 0s - loss: 0.0247 - mean_absolute_error: 0.1500\n",
      "Epoch 7/10\n",
      " - 0s - loss: 0.0246 - mean_absolute_error: 0.1500\n",
      "Epoch 8/10\n",
      " - 0s - loss: 0.0245 - mean_absolute_error: 0.1500\n",
      "Epoch 9/10\n",
      " - 0s - loss: 0.0245 - mean_absolute_error: 0.1500\n",
      "Epoch 10/10\n",
      " - 0s - loss: 0.0244 - mean_absolute_error: 0.1500\n"
     ]
    },
    {
     "data": {
      "text/plain": [
       "<keras.callbacks.History at 0x7fa4d85a2198>"
      ]
     },
     "execution_count": 31,
     "metadata": {},
     "output_type": "execute_result"
    }
   ],
   "source": [
    "model.fit(\n",
    "    arr_x,\n",
    "    arr_y,\n",
    "    epochs=10,\n",
    "    validation_split=None,\n",
    "    verbose=2,  # 1: progress bar, 2: one line per epoch\n",
    "    shuffle=False,\n",
    ")\n"
   ]
  },
  {
   "cell_type": "markdown",
   "metadata": {},
   "source": [
    "### MLP Prediction"
   ]
  },
  {
   "cell_type": "code",
   "execution_count": 32,
   "metadata": {
    "ExecuteTime": {
     "end_time": "2018-11-13T06:29:18.925488Z",
     "start_time": "2018-11-13T06:29:18.913809Z"
    }
   },
   "outputs": [
    {
     "data": {
      "text/plain": [
       "array([[0.5069799 , 0.49302018],\n",
       "       [0.50699216, 0.49300784]], dtype=float32)"
      ]
     },
     "execution_count": 32,
     "metadata": {},
     "output_type": "execute_result"
    }
   ],
   "source": [
    "model.predict(arr_x)"
   ]
  },
  {
   "cell_type": "code",
   "execution_count": 33,
   "metadata": {
    "ExecuteTime": {
     "end_time": "2018-11-13T06:29:18.928819Z",
     "start_time": "2018-11-13T06:29:18.926510Z"
    }
   },
   "outputs": [
    {
     "data": {
      "text/plain": [
       "array([[0.4, 0.6],\n",
       "       [0.7, 0.3]])"
      ]
     },
     "execution_count": 33,
     "metadata": {},
     "output_type": "execute_result"
    }
   ],
   "source": [
    "arr_y"
   ]
  },
  {
   "cell_type": "markdown",
   "metadata": {},
   "source": [
    "### MLP Evaluation"
   ]
  },
  {
   "cell_type": "code",
   "execution_count": 34,
   "metadata": {
    "ExecuteTime": {
     "end_time": "2018-11-13T06:29:18.952535Z",
     "start_time": "2018-11-13T06:29:18.929884Z"
    }
   },
   "outputs": [
    {
     "name": "stdout",
     "output_type": "stream",
     "text": [
      "\r",
      "2/2 [==============================] - 0s 7ms/step\n"
     ]
    },
    {
     "data": {
      "text/plain": [
       "[0.02434835582971573, 0.14999383687973022]"
      ]
     },
     "execution_count": 34,
     "metadata": {},
     "output_type": "execute_result"
    }
   ],
   "source": [
    "model.evaluate(arr_x, arr_y)"
   ]
  },
  {
   "cell_type": "markdown",
   "metadata": {},
   "source": [
    "## (개념) CNN: Convolutional Neural Networks"
   ]
  },
  {
   "cell_type": "markdown",
   "metadata": {},
   "source": [
    "`CNN(Convolutional Neural Network)`은 기존 `Fully Connected Neural Network`와 비교하여 다음과 같은 차별성을 갖습니다.\n",
    "\n",
    "* 각 Layer의 입출력 데이터의 형상 유지\n",
    "* 이미지의 공간 정보를 유지하면서 인접 이미지와의 특징을 효과적으로 인식\n",
    "* 복수의 필터로 이미지의 특징 추출 및 학습\n",
    "* 추출한 이미지의 특징을 모으고 강화하는 `Pooling Layer`\n",
    "* 필터를 공유 Parameter로 사용하기 때문에, 일반 인공 신경망과 비교하여 학습할 Parameter가 매우 적음"
   ]
  },
  {
   "cell_type": "markdown",
   "metadata": {},
   "source": [
    "__**Convolution without Padding**__\n",
    "\n",
    "<img src=\"images/cnn/conv_1stride.gif\" style=\"width:400px;height:400px;align:left;\">\n",
    "\n",
    "__**Convolution with Zero-padding**__\n",
    "\n",
    "<img src=\"images/cnn/conv_zeropad_1stride.gif\" style=\"width:400px;height:400px;align:left;float:left;\">\n",
    "<img src=\"images/cnn/conv_zeropad_2stride.gif\" style=\"width:400px;height:400px;align:left;\">"
   ]
  },
  {
   "cell_type": "markdown",
   "metadata": {},
   "source": [
    "### Convolution Filter Layer"
   ]
  },
  {
   "cell_type": "markdown",
   "metadata": {},
   "source": [
    "#### Zero-padding"
   ]
  },
  {
   "cell_type": "markdown",
   "metadata": {},
   "source": [
    "* `Convolution Layer`의 출력 데이터가 줄어드는 것을 방지\n",
    "* Edge 부분의 데이터를 충분히 활용하여 Filtering"
   ]
  },
  {
   "cell_type": "code",
   "execution_count": null,
   "metadata": {},
   "outputs": [],
   "source": []
  },
  {
   "cell_type": "markdown",
   "metadata": {},
   "source": [
    "### Pooling Layer"
   ]
  },
  {
   "cell_type": "code",
   "execution_count": null,
   "metadata": {},
   "outputs": [],
   "source": []
  },
  {
   "cell_type": "markdown",
   "metadata": {},
   "source": [
    "####  `Max Pooling` & `Mean Pooling` 차이\n",
    "\n",
    "* `Max Pooling` : `Classification` 처럼 임계치를 넘는 값 또는 큰 값의 존재 여부가 의미있을 경우\n",
    "* `Mean Pooling`: `Regression` 처럼 Input 값을 골고루 반영하는 것이 의미있을 경우"
   ]
  },
  {
   "cell_type": "markdown",
   "metadata": {},
   "source": [
    "## (개념) RNN: Recurrent Neural Networks"
   ]
  },
  {
   "cell_type": "markdown",
   "metadata": {},
   "source": [
    "`Dense Layer`, `Convolution Layer` 모두 일정 시점의 데이터를 Input 으로 활용하며, 시간 $t$ 에 따른 상태 변화를 반영하지는 못함.  \n",
    "이에, $t-1$ 시점의 상태를 $t$ 에 반영하는 신경망인 `Recurrent Neural Network`가 설계됨."
   ]
  },
  {
   "cell_type": "markdown",
   "metadata": {},
   "source": [
    "* __**RNN Input Flow**__\n",
    "\n",
    "Data를 한 번에 바라보지 않고, $t$의 변화에 따라 Sequential하게 받아들임.  \n",
    "이전 시점 $t-1$의 State($h_{t-1}$)를 입력받아 현재 시점 $t$에 Input($x_{t}$)과 State($h_{t-1}$)을 이용하여 Output($\\hat y_{t}$)을 출력하고, 다음 시점 $t+1$에 State($h_{t}$)를 전달하게 됨.\n",
    "\n",
    "\n",
    "$$h_{\\langle t \\rangle} = \\tanh(W^{a} h_{\\langle t-1 \\rangle} + W^{b} x_{\\langle t \\rangle} + b^a)\\tag{RNN Cell}$$\n",
    "\n",
    "<img src=\"images/rnn/rnn_input_flow.gif\" style=\"align:left;float:left;\">"
   ]
  },
  {
   "cell_type": "markdown",
   "metadata": {},
   "source": [
    "* __**RNN Flow**__\n",
    "\n",
    "<img src=\"images/rnn/rnn_flow.gif\" style=\"width:400px;height:250px;align:left;float:right;\">  \n",
    "\n",
    "RNN은 Cell을 여러 개 이어놓은 구조를 말하는 것이 아닌,  \n",
    "한 Cell(weights & biases)에 Input과 State를 계속 입력하는 방식을 말함.\n",
    "\n",
    "$h_{\\langle t \\rangle} = \\tanh(W^{a} h_{\\langle t-1 \\rangle} + W^{b} x_{\\langle t \\rangle} + b^a)$  \n",
    "이 함수가 계속 새로운 $x_t$를 받아 가면서 $h_t$를 변경하는 과정이 RNN이 작동하는 원리."
   ]
  },
  {
   "cell_type": "markdown",
   "metadata": {},
   "source": [
    "* __**RNN Structure**__\n",
    "\n",
    "<img src=\"images/rnn/rnn_structure.jpg\" style=\"align:left;float:left;\">  \n",
    "\n",
    "\n",
    "RNN 구조를 응용하여 다양한 모델링 가능\n",
    "\n",
    "* One to Many:\n",
    "  - Image Captioning\n",
    "\n",
    "* Many to One:\n",
    "  - Sentiment Analysis\n",
    "\n",
    "* Many to Many:\n",
    "  - Neural Machine Translation\n"
   ]
  },
  {
   "cell_type": "markdown",
   "metadata": {},
   "source": [
    "* __**RNN에서 `tanh`의 역할  **__\n",
    "\n",
    "  - without `tanh` : 이전 $t-1$ 상태가 normalize되지 못하고 그대로 반영되어 $t$ 시점의 input값의 크기와 관계없는 결과값 출력.\n",
    "    <img src=\"images/rnn/rnn_without_tanh_output.gif\">  \n",
    "  - with `tanh`: 출력값의 범위를 제한(regularize)하여 $t$ 시점의 state와 input을 골고루 반영. \n",
    "    <img src=\"images/rnn/rnn_with_tanh_output.gif\">  \n",
    "\n"
   ]
  },
  {
   "cell_type": "markdown",
   "metadata": {},
   "source": [
    "### RNN Input"
   ]
  },
  {
   "cell_type": "code",
   "execution_count": 22,
   "metadata": {
    "ExecuteTime": {
     "end_time": "2018-11-21T00:35:02.543773Z",
     "start_time": "2018-11-21T00:35:02.538766Z"
    },
    "scrolled": true
   },
   "outputs": [
    {
     "name": "stdout",
     "output_type": "stream",
     "text": [
      "=============================================\n",
      "|  arr_x             |    arr_x_nonbatch    |\n",
      "|  (2, 3)            |    (1, 3)            |\n",
      "=============================================\n",
      "|  [[0.6 0.5 0.1]    |    [[0.6 0.5 0.1]]   |\n",
      "|   [0.4 0.2 0.8]]   |                      |\n",
      "=============================================\n"
     ]
    }
   ],
   "source": [
    "#==== Essential ========================================================#\n",
    "\n",
    "arr_x = np.array([\n",
    "    [.6, .5, .1],\n",
    "    [.4, .2, .8],\n",
    "])\n",
    "\n",
    "#=======================================================================#\n",
    "\n",
    "arr_x_nonbatch = arr_x[:1]\n",
    "aprint(arr_x, arr_x_nonbatch, name_list=['arr_x', 'arr_x_nonbatch'])"
   ]
  },
  {
   "cell_type": "markdown",
   "metadata": {},
   "source": [
    "### Output"
   ]
  },
  {
   "cell_type": "code",
   "execution_count": 23,
   "metadata": {
    "ExecuteTime": {
     "end_time": "2018-11-21T00:35:03.702053Z",
     "start_time": "2018-11-21T00:35:03.696530Z"
    },
    "scrolled": false
   },
   "outputs": [
    {
     "name": "stdout",
     "output_type": "stream",
     "text": [
      "=============================================\n",
      "|  arr_y             |    arr_y_nonbatch    |\n",
      "|  (2, 2)            |    (1, 2)            |\n",
      "=============================================\n",
      "|  [[0.4 0.6]        |    [[0.4 0.6]]       |\n",
      "|   [0.7 0.3]]       |                      |\n",
      "=============================================\n"
     ]
    }
   ],
   "source": [
    "#==== Essential ========================================================#\n",
    "\n",
    "arr_y = np.array([\n",
    "    [.4, .6],\n",
    "    [.7, .3,],\n",
    "])\n",
    "\n",
    "#=======================================================================#\n",
    "\n",
    "arr_y_nonbatch = arr_y[:1]\n",
    "aprint(arr_y, arr_y_nonbatch, name_list=['arr_y', 'arr_y_nonbatch'], maxlen=15)"
   ]
  },
  {
   "cell_type": "markdown",
   "metadata": {},
   "source": [
    "### Output"
   ]
  },
  {
   "cell_type": "code",
   "execution_count": 364,
   "metadata": {
    "ExecuteTime": {
     "end_time": "2018-11-19T01:51:47.224431Z",
     "start_time": "2018-11-19T01:51:47.218709Z"
    }
   },
   "outputs": [
    {
     "data": {
      "text/plain": [
       "array([[[0.5, 0.3],\n",
       "        [0.8, 0.9],\n",
       "        [0.1, 0.2],\n",
       "        [0.8, 0.8],\n",
       "        [0.3, 0.3]],\n",
       "\n",
       "       [[0.4, 0.5],\n",
       "        [0.1, 0.8],\n",
       "        [0.5, 0.8],\n",
       "        [0.2, 1. ],\n",
       "        [0.8, 0.3]],\n",
       "\n",
       "       [[0.9, 0.7],\n",
       "        [0.8, 0. ],\n",
       "        [0.1, 0.7],\n",
       "        [0.3, 0.5],\n",
       "        [0.2, 1. ]]])"
      ]
     },
     "execution_count": 364,
     "metadata": {},
     "output_type": "execute_result"
    }
   ],
   "source": [
    "np.random.random((3, 5, 2)).round(1)"
   ]
  },
  {
   "cell_type": "code",
   "execution_count": 24,
   "metadata": {
    "ExecuteTime": {
     "end_time": "2018-11-21T00:35:09.940069Z",
     "start_time": "2018-11-21T00:35:09.929830Z"
    }
   },
   "outputs": [
    {
     "name": "stdout",
     "output_type": "stream",
     "text": [
      "===============================================================================\n",
      "|  x               |    x_nonbatch      |    x_1timestep     |    x_1dim      |\n",
      "|  (3, 5, 2)       |    (1, 5, 2)       |    (3, 1, 2)       |    (3, 5, 1)   |\n",
      "===============================================================================\n",
      "|  [[[0.8 0.2]     |    [[[0.8 0.2]     |    [[[0.8 0.2]]    |    [[[0.8]     |\n",
      "|    [0.3 0.7]     |      [0.3 0.7]     |                    |      [0.3]     |\n",
      "|    [0.9 0.3]     |      [0.9 0.3]     |     [[0.2 0.7]]    |      [0.9]     |\n",
      "|    [0.1 0.9]     |      [0.1 0.9]     |                    |      [0.1]     |\n",
      "|    [0.3 0.7]]    |      [0.3 0.7]]]   |     [[0.2 0.9]]]   |      [0.3]]    |\n",
      "|                  |                    |                    |                |\n",
      "|   [[0.2 0.7]     |                    |                    |     [[0.2]     |\n",
      "|    [0.8 0.7]     |                    |                    |      [0.8]     |\n",
      "|    [0.4 0.7]     |                    |                    |      [0.4]     |\n",
      "|    [0.1 0.3]     |                    |                    |      [0.1]     |\n",
      "|    [0.4 0.9]]    |                    |                    |      [0.4]]    |\n",
      "|                  |                    |                    |                |\n",
      "|   [[0.2 0.9]     |                    |                    |     [[0.2]     |\n",
      "|    [0.8 1. ]     |                    |                    |      [0.8]     |\n",
      "|    [0.4 0.2]     |                    |                    |      [0.4]     |\n",
      "|    [0.2 0.8]     |                    |                    |      [0.2]     |\n",
      "|    [1.  0.7]]]   |                    |                    |      [1. ]]]   |\n",
      "===============================================================================\n"
     ]
    }
   ],
   "source": [
    "arr_x_rnn = np.array(\n",
    "    [[[0.8, 0.2],\n",
    "      [0.3, 0.7],\n",
    "      [0.9, 0.3],\n",
    "      [0.1, 0.9],\n",
    "      [0.3, 0.7]],\n",
    "\n",
    "     [[0.2, 0.7],\n",
    "      [0.8, 0.7],\n",
    "      [0.4, 0.7],\n",
    "      [0.1, 0.3],\n",
    "      [0.4, 0.9]],\n",
    "\n",
    "     [[0.2, 0.9],\n",
    "      [0.8, 1. ],\n",
    "      [0.4, 0.2],\n",
    "      [0.2, 0.8],\n",
    "      [1. , 0.7]]]\n",
    ")\n",
    "\n",
    "arr_x_rnn_nonbatch = arr_x_rnn[:1]\n",
    "arr_x_rnn_1timestep = arr_x_rnn[:, :1, :]\n",
    "arr_x_rnn_1dim = arr_x_rnn[:, :, :1]\n",
    "\n",
    "aprint(\n",
    "    arr_x_rnn,\n",
    "    arr_x_rnn_nonbatch,\n",
    "    arr_x_rnn_1timestep,\n",
    "    arr_x_rnn_1dim,\n",
    "    name_list=['x', 'x_nonbatch', 'x_1timestep', 'x_1dim'],\n",
    ")"
   ]
  },
  {
   "cell_type": "code",
   "execution_count": 25,
   "metadata": {
    "ExecuteTime": {
     "end_time": "2018-11-21T00:35:10.589127Z",
     "start_time": "2018-11-21T00:35:10.578877Z"
    },
    "scrolled": false
   },
   "outputs": [
    {
     "name": "stdout",
     "output_type": "stream",
     "text": [
      "===============================================================================\n",
      "|  y               |    y_nonbatch      |    y_1timestep     |    y_1dim      |\n",
      "|  (3, 5, 2)       |    (1, 5, 2)       |    (3, 1, 2)       |    (3, 5, 1)   |\n",
      "===============================================================================\n",
      "|  [[[0.5 0.3]     |    [[[0.5 0.3]     |    [[[0.5 0.3]]    |    [[[0.5]     |\n",
      "|    [0.8 0.9]     |      [0.8 0.9]     |                    |      [0.8]     |\n",
      "|    [0.1 0.2]     |      [0.1 0.2]     |     [[0.4 0.5]]    |      [0.1]     |\n",
      "|    [0.8 0.8]     |      [0.8 0.8]     |                    |      [0.8]     |\n",
      "|    [0.3 0.3]]    |      [0.3 0.3]]]   |     [[0.9 0.7]]]   |      [0.3]]    |\n",
      "|                  |                    |                    |                |\n",
      "|   [[0.4 0.5]     |                    |                    |     [[0.4]     |\n",
      "|    [0.1 0.8]     |                    |                    |      [0.1]     |\n",
      "|    [0.5 0.8]     |                    |                    |      [0.5]     |\n",
      "|    [0.2 1. ]     |                    |                    |      [0.2]     |\n",
      "|    [0.8 0.3]]    |                    |                    |      [0.8]]    |\n",
      "|                  |                    |                    |                |\n",
      "|   [[0.9 0.7]     |                    |                    |     [[0.9]     |\n",
      "|    [0.8 0. ]     |                    |                    |      [0.8]     |\n",
      "|    [0.1 0.7]     |                    |                    |      [0.1]     |\n",
      "|    [0.3 0.5]     |                    |                    |      [0.3]     |\n",
      "|    [0.2 1. ]]]   |                    |                    |      [0.2]]]   |\n",
      "===============================================================================\n"
     ]
    }
   ],
   "source": [
    "arr_y_rnn = np.array(\n",
    "    [[[0.5, 0.3],\n",
    "      [0.8, 0.9],\n",
    "      [0.1, 0.2],\n",
    "      [0.8, 0.8],\n",
    "      [0.3, 0.3]],\n",
    "\n",
    "     [[0.4, 0.5],\n",
    "      [0.1, 0.8],\n",
    "      [0.5, 0.8],\n",
    "      [0.2, 1. ],\n",
    "      [0.8, 0.3]],\n",
    "\n",
    "     [[0.9, 0.7],\n",
    "      [0.8, 0. ],\n",
    "      [0.1, 0.7],\n",
    "      [0.3, 0.5],\n",
    "      [0.2, 1. ]]]\n",
    ")\n",
    "\n",
    "arr_y_rnn_nonbatch = arr_y_rnn[:1]\n",
    "arr_y_rnn_1timestep = arr_y_rnn[:, :1, :]\n",
    "arr_y_rnn_1dim = arr_y_rnn[:, :, :1]\n",
    "\n",
    "aprint(arr_y_rnn,\n",
    "       arr_y_rnn_nonbatch,\n",
    "       arr_y_rnn_1timestep,\n",
    "       arr_y_rnn_1dim,\n",
    "       name_list=['y', 'y_nonbatch', 'y_1timestep', 'y_1dim'],\n",
    ")"
   ]
  },
  {
   "cell_type": "markdown",
   "metadata": {},
   "source": [
    "### `RNNCell`"
   ]
  },
  {
   "cell_type": "code",
   "execution_count": 26,
   "metadata": {
    "ExecuteTime": {
     "end_time": "2018-11-21T00:35:12.120467Z",
     "start_time": "2018-11-21T00:35:12.113763Z"
    }
   },
   "outputs": [],
   "source": [
    "def tanh(x):\n",
    "    return np.tanh(x)"
   ]
  },
  {
   "cell_type": "code",
   "execution_count": 27,
   "metadata": {
    "ExecuteTime": {
     "end_time": "2018-11-21T00:35:12.654457Z",
     "start_time": "2018-11-21T00:35:12.641801Z"
    }
   },
   "outputs": [],
   "source": [
    "def rnn_cell(\n",
    "    input_x,\n",
    "    unit_num=1,\n",
    "    initial_state=None,\n",
    "    activation=tanh,\n",
    "    seed=1,\n",
    "    ):\n",
    "    \n",
    "    input_dim = input_x.shape[-1]\n",
    "    output_dim = unit_num\n",
    "\n",
    "    np.random.seed(seed)\n",
    "\n",
    "\n",
    "    input_w = np.random.random((input_dim, output_dim)).round(2)\n",
    "    state_w = np.random.random((output_dim, output_dim)).round(2)\n",
    "    \n",
    "    if initial_state is None:\n",
    "        initial_state = np.random.random((output_dim,)).round(2)\n",
    "\n",
    "    \n",
    "    #==== Essential ========================================================#\n",
    "\n",
    "    ht_0 = initial_state\n",
    "    xt = input_x\n",
    "    \n",
    "    ht = xt @ input_w\n",
    "    \n",
    "    output = ht + (ht_0 @ state_w)\n",
    "\n",
    "    if activation:\n",
    "        output = activation(output)\n",
    "\n",
    "    #=======================================================================#\n",
    "\n",
    "    \n",
    "    return output, ht"
   ]
  },
  {
   "cell_type": "code",
   "execution_count": 56,
   "metadata": {
    "ExecuteTime": {
     "end_time": "2018-11-21T00:44:02.057602Z",
     "start_time": "2018-11-21T00:44:02.052374Z"
    },
    "scrolled": false
   },
   "outputs": [
    {
     "name": "stdout",
     "output_type": "stream",
     "text": [
      "===========================================\n",
      "|  output           |    hidden_state     |\n",
      "|  (3, 1)           |    (3, 1)           |\n",
      "===========================================\n",
      "|  [[0.63245664]    |    [[0.732]         |\n",
      "|   [0.33059846]    |     [0.33 ]         |\n",
      "|   [0.50313879]]   |     [0.54 ]]        |\n",
      "===========================================\n"
     ]
    }
   ],
   "source": [
    "output, ht = rnn_cell(arr_x_rnn_nonbatch[0])\n",
    "\n",
    "aprint(output, ht, name_list=['output', 'hidden_state'], maxlen=14)"
   ]
  },
  {
   "cell_type": "markdown",
   "metadata": {},
   "source": [
    "### RNN Flow"
   ]
  },
  {
   "cell_type": "code",
   "execution_count": 76,
   "metadata": {
    "ExecuteTime": {
     "end_time": "2018-11-21T06:38:25.354586Z",
     "start_time": "2018-11-21T06:38:25.347637Z"
    }
   },
   "outputs": [],
   "source": [
    "def rnn_flow(\n",
    "    rnn_cell,\n",
    "    input_x,\n",
    "    unit_num=1,\n",
    "    initial_state=None,\n",
    "    activation=tanh,\n",
    "    seed=1,\n",
    "    ):\n",
    "    \n",
    "    output_dim = unit_num\n",
    "    np.random.seed(seed)\n",
    "    hidden_state = np.random.random((output_dim,)).round(2)\n",
    "    \n",
    "    print(f'\\n=== {0} Timestep ===')\n",
    "    aprint(input_x, hidden_state,\n",
    "        name_list=['xt', 'initial_hidden_state'],\n",
    "        maxlen=20,\n",
    "    )\n",
    "\n",
    "    \n",
    "    output_list = []\n",
    "\n",
    "    #=======================================================================#\n",
    "\n",
    "    for i, xt in enumerate(input_x):\n",
    "        output_t, hidden_state = rnn_cell(\n",
    "            xt,\n",
    "            unit_num=unit_num,\n",
    "            initial_state=hidden_state,\n",
    "            activation=tanh,\n",
    "            seed=seed,\n",
    "        )\n",
    "        output_list += [output_t]\n",
    "        outputs = np.stack(output_list)\n",
    "\n",
    "        #===================================================================#\n",
    "        \n",
    "        print(f'\\n=== {i+1} Timestep ===')\n",
    "        aprint(xt, output_t, hidden_state,\n",
    "            name_list=['xt', 'output_t', 'hidden_state'],\n",
    "            maxlen=20,\n",
    "        )\n",
    "\n",
    "    print(f'\\n=== Final Output ===')\n",
    "    aprint(input_x, outputs, output_t, hidden_state,\n",
    "        name_list=['full_inputs', 'full_outputs', 'output_t', 'hidden_state'],\n",
    "        maxlen=20,\n",
    "    )\n",
    "    \n",
    "    return outputs, output_t, hidden_state"
   ]
  },
  {
   "cell_type": "code",
   "execution_count": 77,
   "metadata": {
    "ExecuteTime": {
     "end_time": "2018-11-21T06:38:26.248295Z",
     "start_time": "2018-11-21T06:38:26.238014Z"
    },
    "scrolled": false
   },
   "outputs": [
    {
     "name": "stdout",
     "output_type": "stream",
     "text": [
      "\n",
      "=== 0 Timestep ===\n",
      "=======================================================\n",
      "|  xt                     |    initial_hidden_state   |\n",
      "|  (3, 4)                 |    (1,)                   |\n",
      "=======================================================\n",
      "|  [[0.6 0.5 0.1 0.4]     |    [0.42]                 |\n",
      "|   [0.2 0.3 0.8 0.1]     |                           |\n",
      "|   [0.9 0.1 0.5 0.3]]    |                           |\n",
      "=======================================================\n",
      "\n",
      "=== 1 Timestep ===\n",
      "===================================================================================\n",
      "|  xt                     |    output_t               |    hidden_state           |\n",
      "|  (4,)                   |    (1,)                   |    (1,)                   |\n",
      "===================================================================================\n",
      "|  [0.6 0.5 0.1 0.4]      |    [0.66123221]           |    [0.732]                |\n",
      "===================================================================================\n",
      "\n",
      "=== 2 Timestep ===\n",
      "===================================================================================\n",
      "|  xt                     |    output_t               |    hidden_state           |\n",
      "|  (4,)                   |    (1,)                   |    (1,)                   |\n",
      "===================================================================================\n",
      "|  [0.2 0.3 0.8 0.1]      |    [0.41347865]           |    [0.33]                 |\n",
      "===================================================================================\n",
      "\n",
      "=== 3 Timestep ===\n",
      "===================================================================================\n",
      "|  xt                     |    output_t               |    hidden_state           |\n",
      "|  (4,)                   |    (1,)                   |    (1,)                   |\n",
      "===================================================================================\n",
      "|  [0.9 0.1 0.5 0.3]      |    [0.52953591]           |    [0.54]                 |\n",
      "===================================================================================\n",
      "\n",
      "=== Final Output ===\n",
      "===============================================================================================================\n",
      "|  full_inputs            |    full_outputs           |    output_t               |    hidden_state           |\n",
      "|  (3, 4)                 |    (3, 1)                 |    (1,)                   |    (1,)                   |\n",
      "===============================================================================================================\n",
      "|  [[0.6 0.5 0.1 0.4]     |    [[0.66123221]          |    [0.52953591]           |    [0.54]                 |\n",
      "|   [0.2 0.3 0.8 0.1]     |     [0.41347865]          |                           |                           |\n",
      "|   [0.9 0.1 0.5 0.3]]    |     [0.52953591]]         |                           |                           |\n",
      "===============================================================================================================\n"
     ]
    }
   ],
   "source": [
    "(full_output,\n",
    " last_output,\n",
    " last_hidden_state) = rnn_flow(\n",
    "    rnn_cell,\n",
    "    arr_x_rnn_nonbatch[0],\n",
    "    unit_num=1,\n",
    "    activation=None,\n",
    ")"
   ]
  },
  {
   "cell_type": "markdown",
   "metadata": {},
   "source": [
    "### RNN Batch"
   ]
  },
  {
   "cell_type": "markdown",
   "metadata": {},
   "source": [
    "`TIME_MAJOR`"
   ]
  },
  {
   "cell_type": "code",
   "execution_count": 54,
   "metadata": {
    "ExecuteTime": {
     "end_time": "2018-11-21T00:42:54.649451Z",
     "start_time": "2018-11-21T00:42:54.641010Z"
    },
    "scrolled": false
   },
   "outputs": [
    {
     "name": "stdout",
     "output_type": "stream",
     "text": [
      "=========================================================================================\n",
      "|  arr_x                    |    arr_x_nonbatch           |    arr_x_1dim               |\n",
      "|  (2, 3, 4)                |    (1, 3, 4)                |    (2, 3, 1)                |\n",
      "=========================================================================================\n",
      "|  [[[0.6 0.5 0.1 0.4]      |    [[[0.6 0.5 0.1 0.4]      |    [[[0.6]                  |\n",
      "|    [0.2 0.3 0.8 0.1]      |      [0.2 0.3 0.8 0.1]      |      [0.2]                  |\n",
      "|    [0.9 0.1 0.5 0.3]]     |      [0.9 0.1 0.5 0.3]]]    |      [0.9]]                 |\n",
      "|                           |                             |                             |\n",
      "|   [[0.3 0.7 0.1 0.2]      |                             |     [[0.3]                  |\n",
      "|    [0.4 0.9 0.2 0.6]      |                             |      [0.4]                  |\n",
      "|    [0.8 0.4 0.6 0.7]]]    |                             |      [0.8]]]                |\n",
      "=========================================================================================\n"
     ]
    }
   ],
   "source": [
    "arr_x_rnn = np.array([\n",
    "    [\n",
    "        [.6, .5, .1, .4],\n",
    "        [.2, .3, .8, .1],\n",
    "        [.9, .1, .5, .3],\n",
    "    ],\n",
    "    [\n",
    "        [.3, .7, .1, .2],\n",
    "        [.4, .9, .2, .6],\n",
    "        [.8, .4, .6, .7],\n",
    "    ],\n",
    "])\n",
    "\n",
    "arr_x_rnn_nonbatch = arr_x_rnn[:1]\n",
    "arr_x_rnn_1dim = arr_x_rnn[:, :, :1]\n",
    "\n",
    "aprint(arr_x_rnn, arr_x_rnn_nonbatch, arr_x_rnn_1dim,\n",
    "    name_list=['arr_x', 'arr_x_nonbatch', 'arr_x_1dim'],\n",
    "    maxlen=22,\n",
    ")"
   ]
  },
  {
   "cell_type": "code",
   "execution_count": 52,
   "metadata": {
    "ExecuteTime": {
     "end_time": "2018-11-21T00:42:18.087700Z",
     "start_time": "2018-11-21T00:42:18.079788Z"
    }
   },
   "outputs": [
    {
     "name": "stdout",
     "output_type": "stream",
     "text": [
      "=========================================================================================\n",
      "|  arr_y                    |    arr_y_nonbatch           |    arr_y_1dim               |\n",
      "|  (2, 3, 4)                |    (1, 3, 4)                |    (2, 3, 1)                |\n",
      "=========================================================================================\n",
      "|  [[[0.8 0.2 0.5 0.3]      |    [[[0.8 0.2 0.5 0.3]      |    [[[0.8]                  |\n",
      "|    [0.4 0.8 0.9 0.1]      |      [0.4 0.8 0.9 0.1]      |      [0.4]                  |\n",
      "|    [0.1 0.7 0.6 0.3]]     |      [0.1 0.7 0.6 0.3]]]    |      [0.1]]                 |\n",
      "|                           |                             |                             |\n",
      "|   [[0.3 0.5 0.8 0.5]      |                             |     [[0.3]                  |\n",
      "|    [0.2 0.3 0.7 0.4]      |                             |      [0.2]                  |\n",
      "|    [0.1 0.  0.6 0.9]]]    |                             |      [0.1]]]                |\n",
      "=========================================================================================\n"
     ]
    }
   ],
   "source": [
    "arr_y_rnn = np.array([\n",
    "    [\n",
    "        [.8, .2, .5, .3],\n",
    "        [.4, .8, .9, .1],\n",
    "        [.1, .7, .6, .3],\n",
    "    ],\n",
    "    [\n",
    "        [.3, .5, .8, .5],\n",
    "        [.2, .3, .7, .4],\n",
    "        [.1, .0, .6, .9],\n",
    "    ],\n",
    "])\n",
    "\n",
    "arr_y_rnn_nonbatch = arr_y_rnn[:-1]\n",
    "arr_y_rnn_1dim = arr_y_rnn[:, :, :1]\n",
    "\n",
    "aprint(arr_y_rnn, arr_y_rnn_nonbatch, arr_y_rnn_1dim,\n",
    "    name_list=['arr_y', 'arr_y_nonbatch', 'arr_y_1dim'],\n",
    "    maxlen=22,\n",
    ")"
   ]
  },
  {
   "cell_type": "code",
   "execution_count": 48,
   "metadata": {
    "ExecuteTime": {
     "end_time": "2018-11-21T00:41:14.975451Z",
     "start_time": "2018-11-21T00:41:14.970293Z"
    }
   },
   "outputs": [
    {
     "name": "stdout",
     "output_type": "stream",
     "text": [
      "================\n",
      "|  A           |\n",
      "|  (2, 3, 1)   |\n",
      "================\n",
      "|  [[[0.8]     |\n",
      "|    [0.4]     |\n",
      "|    [0.1]]    |\n",
      "|              |\n",
      "|   [[0.3]     |\n",
      "|    [0.2]     |\n",
      "|    [0.1]]]   |\n",
      "================\n"
     ]
    }
   ],
   "source": [
    "arr_y_rnn_1dim = arr_y_rnn[:, :, :1]\n",
    "\n",
    "aprint(arr_y_rnn_1dim)"
   ]
  },
  {
   "cell_type": "code",
   "execution_count": 106,
   "metadata": {
    "ExecuteTime": {
     "end_time": "2018-11-21T06:54:43.200507Z",
     "start_time": "2018-11-21T06:54:43.192511Z"
    }
   },
   "outputs": [],
   "source": [
    "def rnn_flow(\n",
    "    rnn_cell,\n",
    "    input_x,\n",
    "    unit_num=1,\n",
    "    initial_state=None,\n",
    "    activation=tanh,\n",
    "    seed=1,\n",
    "    time_major=False,\n",
    "    ):\n",
    "    \n",
    "    output_dim = unit_num\n",
    "    \n",
    "    np.random.seed(seed)\n",
    "    hidden_state = np.random.random((output_dim,)).round(2)\n",
    "    output_list = []\n",
    "    \n",
    "    \n",
    "    ##### TIME_MAJOR ####################\n",
    "\n",
    "    if time_major:\n",
    "        input_x_time_major = np.swapaxes(input_x, 0, 1)\n",
    "\n",
    "    #####################################\n",
    "    \n",
    "    aprint(input_x, input_x_time_major, hidden_state,\n",
    "        name_list=['input_x', 'time_major_x', 'initial_hidden_state'],\n",
    "        maxlen=21,\n",
    "    )\n",
    "    \n",
    "    \n",
    "    #==== Essential ========================================================#\n",
    "\n",
    "    for i, xt in enumerate(input_x_time_major):\n",
    "        output_t, hidden_state = rnn_cell(\n",
    "            xt,\n",
    "            unit_num=unit_num,\n",
    "            initial_state=hidden_state,\n",
    "            activation=tanh,\n",
    "            seed=seed,\n",
    "        )\n",
    "        output_list += [output_t]\n",
    "        outputs = np.stack(output_list)\n",
    "\n",
    "        #===================================================================#\n",
    "\n",
    "        print(f'\\n=== {i+1} Timestep ===')\n",
    "        aprint(xt, output_t, hidden_state,\n",
    "            name_list=['xt', 'output_t', 'hidden_state'],\n",
    "            maxlen=21,\n",
    "        )\n",
    "\n",
    "\n",
    "    print(f'\\n=== Final Output (TIME_MAJOR=True)===')\n",
    "    aprint(input_x_time_major, outputs, output_t, hidden_state,\n",
    "        name_list=['full_inputs', 'full_outputs', 'output_t', 'hidden_state'],\n",
    "        maxlen=21,\n",
    "    )\n",
    "    \n",
    "\n",
    "    ##### TIME_MAJOR ####################\n",
    "    \n",
    "    if time_major:\n",
    "        outputs = np.swapaxes(outputs, 1, 0)\n",
    "\n",
    "    #####################################\n",
    "\n",
    "    \n",
    "    print(f'\\n=== Final Output (TIME_MAJOR=False)===')\n",
    "    aprint(input_x, outputs, output_t, hidden_state,\n",
    "        name_list=['full_inputs', 'full_outputs', 'output_t', 'hidden_state'],\n",
    "        maxlen=21,\n",
    "    )\n",
    "    \n",
    "    return outputs, output_t, hidden_state"
   ]
  },
  {
   "cell_type": "code",
   "execution_count": 107,
   "metadata": {
    "ExecuteTime": {
     "end_time": "2018-11-21T06:54:43.814460Z",
     "start_time": "2018-11-21T06:54:43.799213Z"
    },
    "scrolled": false
   },
   "outputs": [
    {
     "name": "stdout",
     "output_type": "stream",
     "text": [
      "======================================================================================\n",
      "|  input_x                 |    time_major_x            |    initial_hidden_state    |\n",
      "|  (2, 3, 4)               |    (3, 2, 4)               |    (1,)                    |\n",
      "======================================================================================\n",
      "|  [[[0.6 0.5 0.1 0.4]     |    [[[0.6 0.5 0.1 0.4]     |    [0.42]                  |\n",
      "|    [0.2 0.3 0.8 0.1]     |      [0.3 0.7 0.1 0.2]]    |                            |\n",
      "|    [0.9 0.1 0.5 0.3]]    |                            |                            |\n",
      "|                          |     [[0.2 0.3 0.8 0.1]     |                            |\n",
      "|   [[0.3 0.7 0.1 0.2]     |      [0.4 0.9 0.2 0.6]]    |                            |\n",
      "|    [0.4 0.9 0.2 0.6]     |                            |                            |\n",
      "|    [0.8 0.4 0.6 0.7]]]   |     [[0.9 0.1 0.5 0.3]     |                            |\n",
      "|                          |      [0.8 0.4 0.6 0.7]]]   |                            |\n",
      "======================================================================================\n",
      "\n",
      "=== 1 Timestep ===\n",
      "======================================================================================\n",
      "|  xt                      |    output_t                |    hidden_state            |\n",
      "|  (2, 4)                  |    (2, 1)                  |    (2, 1)                  |\n",
      "======================================================================================\n",
      "|  [[0.6 0.5 0.1 0.4]      |    [[0.66123221]           |    [[0.732]                |\n",
      "|   [0.3 0.7 0.1 0.2]]     |     [0.6369353 ]]          |     [0.69 ]]               |\n",
      "======================================================================================\n",
      "\n",
      "=== 2 Timestep ===\n",
      "======================================================================================\n",
      "|  xt                      |    output_t                |    hidden_state            |\n",
      "|  (2, 4)                  |    (2, 1)                  |    (2, 1)                  |\n",
      "======================================================================================\n",
      "|  [[0.2 0.3 0.8 0.1]      |    [[0.41347865]           |    [[0.33 ]                |\n",
      "|   [0.4 0.9 0.2 0.6]]     |     [0.80031935]]          |     [0.996]]               |\n",
      "======================================================================================\n",
      "\n",
      "=== 3 Timestep ===\n",
      "======================================================================================\n",
      "|  xt                      |    output_t                |    hidden_state            |\n",
      "|  (2, 4)                  |    (2, 1)                  |    (2, 1)                  |\n",
      "======================================================================================\n",
      "|  [[0.9 0.1 0.5 0.3]      |    [[0.52953591]           |    [[0.54 ]                |\n",
      "|   [0.8 0.4 0.6 0.7]]     |     [0.75453397]]          |     [0.834]]               |\n",
      "======================================================================================\n",
      "\n",
      "=== Final Output (TIME_MAJOR=True)===\n",
      "===================================================================================================================\n",
      "|  full_inputs             |    full_outputs            |    output_t                |    hidden_state            |\n",
      "|  (3, 2, 4)               |    (3, 2, 1)               |    (2, 1)                  |    (2, 1)                  |\n",
      "===================================================================================================================\n",
      "|  [[[0.6 0.5 0.1 0.4]     |    [[[0.66123221]          |    [[0.52953591]           |    [[0.54 ]                |\n",
      "|    [0.3 0.7 0.1 0.2]]    |      [0.6369353 ]]         |     [0.75453397]]          |     [0.834]]               |\n",
      "|                          |                            |                            |                            |\n",
      "|   [[0.2 0.3 0.8 0.1]     |     [[0.41347865]          |                            |                            |\n",
      "|    [0.4 0.9 0.2 0.6]]    |      [0.80031935]]         |                            |                            |\n",
      "|                          |                            |                            |                            |\n",
      "|   [[0.9 0.1 0.5 0.3]     |     [[0.52953591]          |                            |                            |\n",
      "|    [0.8 0.4 0.6 0.7]]]   |      [0.75453397]]]        |                            |                            |\n",
      "===================================================================================================================\n",
      "\n",
      "=== Final Output (TIME_MAJOR=False)===\n",
      "===================================================================================================================\n",
      "|  full_inputs             |    full_outputs            |    output_t                |    hidden_state            |\n",
      "|  (2, 3, 4)               |    (2, 3, 1)               |    (2, 1)                  |    (2, 1)                  |\n",
      "===================================================================================================================\n",
      "|  [[[0.6 0.5 0.1 0.4]     |    [[[0.66123221]          |    [[0.52953591]           |    [[0.54 ]                |\n",
      "|    [0.2 0.3 0.8 0.1]     |      [0.41347865]          |     [0.75453397]]          |     [0.834]]               |\n",
      "|    [0.9 0.1 0.5 0.3]]    |      [0.52953591]]         |                            |                            |\n",
      "|                          |                            |                            |                            |\n",
      "|   [[0.3 0.7 0.1 0.2]     |     [[0.6369353 ]          |                            |                            |\n",
      "|    [0.4 0.9 0.2 0.6]     |      [0.80031935]          |                            |                            |\n",
      "|    [0.8 0.4 0.6 0.7]]]   |      [0.75453397]]]        |                            |                            |\n",
      "===================================================================================================================\n"
     ]
    }
   ],
   "source": [
    "(full_output,\n",
    " last_output,\n",
    " last_hidden_state) = rnn_flow(\n",
    "    rnn_cell,\n",
    "    arr_x_rnn,\n",
    "    unit_num=1,\n",
    "    activation=None,\n",
    "    time_major=True,\n",
    ")"
   ]
  },
  {
   "cell_type": "markdown",
   "metadata": {},
   "source": [
    "## (실습) RNN in `keras`: many to one"
   ]
  },
  {
   "cell_type": "code",
   "execution_count": 46,
   "metadata": {
    "ExecuteTime": {
     "end_time": "2018-11-13T06:29:19.152429Z",
     "start_time": "2018-11-13T06:29:19.148007Z"
    }
   },
   "outputs": [],
   "source": [
    "import keras\n",
    "import keras.backend as K\n",
    "from keras import Model, Sequential\n",
    "from keras.layers import Input, Dense, SimpleRNN, LSTM, GRU, TimeDistributed"
   ]
  },
  {
   "cell_type": "markdown",
   "metadata": {},
   "source": [
    "### RNN Model"
   ]
  },
  {
   "cell_type": "code",
   "execution_count": 47,
   "metadata": {
    "ExecuteTime": {
     "end_time": "2018-11-13T06:29:19.375485Z",
     "start_time": "2018-11-13T06:29:19.262318Z"
    }
   },
   "outputs": [
    {
     "name": "stdout",
     "output_type": "stream",
     "text": [
      "_________________________________________________________________\n",
      "Layer (type)                 Output Shape              Param #   \n",
      "=================================================================\n",
      "input_layer (InputLayer)     (None, 3, 4)              0         \n",
      "_________________________________________________________________\n",
      "rnn_layer (SimpleRNN)        [(None, 3, 1), (None, 1)] 5         \n",
      "_________________________________________________________________\n",
      "dense_layer (TimeDistributed (None, 3, 1)              1         \n",
      "=================================================================\n",
      "Total params: 6\n",
      "Trainable params: 6\n",
      "Non-trainable params: 0\n",
      "_________________________________________________________________\n"
     ]
    }
   ],
   "source": [
    "_, timestep_x, ndim_x = arr_x_rnn.shape\n",
    "\n",
    "HIDDEN_SIZE = 1\n",
    "\n",
    "input_layer = Input(\n",
    "    shape=(timestep_x, ndim_x),\n",
    "    name='input_layer',\n",
    ")\n",
    "\n",
    "rnn_layer = SimpleRNN(\n",
    "    HIDDEN_SIZE,\n",
    "    return_sequences=True,\n",
    "    return_state=True,\n",
    "    kernel_initializer=keras.initializers.Zeros(),\n",
    "    recurrent_initializer='zeros',\n",
    "    use_bias=False,\n",
    "    activation=None,\n",
    "    name='rnn_layer',\n",
    ")\n",
    "\n",
    "output_layer = TimeDistributed(\n",
    "    Dense(\n",
    "        1,\n",
    "        activation='tanh',\n",
    "        use_bias=False\n",
    "    ),\n",
    "    name='dense_layer'\n",
    ")\n",
    "\n",
    "\n",
    "rnn_outputs, rnn_hidden_state = rnn_layer(input_layer)\n",
    "output = output_layer(rnn_outputs)\n",
    "\n",
    "model = Model(inputs=(input_layer), outputs=output)\n",
    "model.summary()\n",
    "\n",
    "model.compile(loss='mean_squared_error', optimizer='adam', metrics=['mae'])"
   ]
  },
  {
   "cell_type": "markdown",
   "metadata": {},
   "source": [
    "### RNN Training"
   ]
  },
  {
   "cell_type": "code",
   "execution_count": 48,
   "metadata": {
    "ExecuteTime": {
     "end_time": "2018-11-13T06:29:19.700820Z",
     "start_time": "2018-11-13T06:29:19.378181Z"
    },
    "scrolled": false
   },
   "outputs": [
    {
     "name": "stdout",
     "output_type": "stream",
     "text": [
      "Epoch 1/10\n",
      " - 0s - loss: 0.1583 - mean_absolute_error: 0.3167\n",
      "Epoch 2/10\n",
      " - 0s - loss: 0.1581 - mean_absolute_error: 0.3162\n",
      "Epoch 3/10\n",
      " - 0s - loss: 0.1577 - mean_absolute_error: 0.3156\n",
      "Epoch 4/10\n",
      " - 0s - loss: 0.1574 - mean_absolute_error: 0.3150\n",
      "Epoch 5/10\n",
      " - 0s - loss: 0.1570 - mean_absolute_error: 0.3144\n",
      "Epoch 6/10\n",
      " - 0s - loss: 0.1567 - mean_absolute_error: 0.3138\n",
      "Epoch 7/10\n",
      " - 0s - loss: 0.1563 - mean_absolute_error: 0.3131\n",
      "Epoch 8/10\n",
      " - 0s - loss: 0.1559 - mean_absolute_error: 0.3125\n",
      "Epoch 9/10\n",
      " - 0s - loss: 0.1556 - mean_absolute_error: 0.3118\n",
      "Epoch 10/10\n",
      " - 0s - loss: 0.1552 - mean_absolute_error: 0.3111\n"
     ]
    },
    {
     "data": {
      "text/plain": [
       "<keras.callbacks.History at 0x7fa4a4076240>"
      ]
     },
     "execution_count": 48,
     "metadata": {},
     "output_type": "execute_result"
    }
   ],
   "source": [
    "model.fit(\n",
    "    arr_x_rnn,\n",
    "    arr_y_rnn_1dim,\n",
    "    epochs=10,\n",
    "    validation_split=None,\n",
    "    verbose=2,  # 1: progress bar, 2: one line per epoch\n",
    "    shuffle=False,\n",
    ")\n"
   ]
  },
  {
   "cell_type": "markdown",
   "metadata": {},
   "source": [
    "### RNN Prediction (Inference)"
   ]
  },
  {
   "cell_type": "code",
   "execution_count": 49,
   "metadata": {
    "ExecuteTime": {
     "end_time": "2018-11-13T06:29:19.734511Z",
     "start_time": "2018-11-13T06:29:19.701898Z"
    }
   },
   "outputs": [
    {
     "data": {
      "text/plain": [
       "array([[[0.00557073],\n",
       "        [0.0049171 ],\n",
       "        [0.00630461]],\n",
       "\n",
       "       [[0.00452643],\n",
       "        [0.00734658],\n",
       "        [0.00876043]]], dtype=float32)"
      ]
     },
     "execution_count": 49,
     "metadata": {},
     "output_type": "execute_result"
    }
   ],
   "source": [
    "model.predict(arr_x_rnn)"
   ]
  },
  {
   "cell_type": "code",
   "execution_count": 50,
   "metadata": {
    "ExecuteTime": {
     "end_time": "2018-11-13T06:29:19.738215Z",
     "start_time": "2018-11-13T06:29:19.735540Z"
    },
    "scrolled": true
   },
   "outputs": [
    {
     "data": {
      "text/plain": [
       "array([[[0.8],\n",
       "        [0.4],\n",
       "        [0.1]],\n",
       "\n",
       "       [[0.3],\n",
       "        [0.2],\n",
       "        [0.1]]])"
      ]
     },
     "execution_count": 50,
     "metadata": {},
     "output_type": "execute_result"
    }
   ],
   "source": [
    "arr_y_rnn_1dim"
   ]
  },
  {
   "cell_type": "markdown",
   "metadata": {},
   "source": [
    "### RNN Evaluation"
   ]
  },
  {
   "cell_type": "code",
   "execution_count": 51,
   "metadata": {
    "ExecuteTime": {
     "end_time": "2018-11-13T06:29:19.782684Z",
     "start_time": "2018-11-13T06:29:19.739350Z"
    }
   },
   "outputs": [
    {
     "name": "stdout",
     "output_type": "stream",
     "text": [
      "\r",
      "2/2 [==============================] - 0s 17ms/step\n"
     ]
    },
    {
     "data": {
      "text/plain": [
       "[0.15478865802288055, 0.31042903661727905]"
      ]
     },
     "execution_count": 51,
     "metadata": {},
     "output_type": "execute_result"
    }
   ],
   "source": [
    "model.evaluate(arr_x_rnn, arr_y_rnn_1dim)"
   ]
  },
  {
   "cell_type": "markdown",
   "metadata": {},
   "source": [
    "## (실습) RNN in `keras`: many to many"
   ]
  },
  {
   "cell_type": "code",
   "execution_count": 46,
   "metadata": {
    "ExecuteTime": {
     "end_time": "2018-11-13T06:29:19.152429Z",
     "start_time": "2018-11-13T06:29:19.148007Z"
    }
   },
   "outputs": [],
   "source": [
    "import keras.backend as K\n",
    "\n",
    "from keras import Model, Sequential\n",
    "\n",
    "from keras.layers import Input, Dense, Activation\n",
    "\n",
    "from keras.layers.activations import sigmoid, tanh, softmax\n",
    "\n",
    "from keras.losses import (mean_squared_error,\n",
    "                          binary_crossentropy,\n",
    "                          categorical_crossentropy)\n",
    "\n",
    "from keras.layers.recurrent import (SimpleRNNCell, LSTMCell, GRUCell\n",
    "                                    SimpleRNN, LSTM, GRU)\n",
    "\n",
    "from keras.layers.wrappers import TimeDistributed, Bidirectional"
   ]
  },
  {
   "cell_type": "markdown",
   "metadata": {},
   "source": [
    "<div class=\"alert alert-block alert-success\">\n",
    "<b>* RNN 에서의 Padding </b>  \n",
    "</n>  \n",
    "고정 길이로 설계할 때, 비어있는 값을 채우는 방식으로 진행\n",
    "</div>"
   ]
  },
  {
   "cell_type": "markdown",
   "metadata": {},
   "source": [
    "### RNN Model"
   ]
  },
  {
   "cell_type": "code",
   "execution_count": 47,
   "metadata": {
    "ExecuteTime": {
     "end_time": "2018-11-13T06:29:19.375485Z",
     "start_time": "2018-11-13T06:29:19.262318Z"
    }
   },
   "outputs": [
    {
     "name": "stdout",
     "output_type": "stream",
     "text": [
      "_________________________________________________________________\n",
      "Layer (type)                 Output Shape              Param #   \n",
      "=================================================================\n",
      "input_layer (InputLayer)     (None, 3, 4)              0         \n",
      "_________________________________________________________________\n",
      "rnn_layer (SimpleRNN)        [(None, 3, 1), (None, 1)] 5         \n",
      "_________________________________________________________________\n",
      "dense_layer (TimeDistributed (None, 3, 1)              1         \n",
      "=================================================================\n",
      "Total params: 6\n",
      "Trainable params: 6\n",
      "Non-trainable params: 0\n",
      "_________________________________________________________________\n"
     ]
    }
   ],
   "source": [
    "_, timestep_x, ndim_x = arr_x_rnn.shape\n",
    "\n",
    "HIDDEN_SIZE = 1\n",
    "\n",
    "input_layer = Input(\n",
    "    shape=(timestep_x, ndim_x),\n",
    "    name='input_layer',\n",
    ")\n",
    "\n",
    "rnn_layer = SimpleRNN(\n",
    "    HIDDEN_SIZE,\n",
    "    return_sequences=True,\n",
    "    return_state=True,\n",
    "    kernel_initializer=keras.initializers.Zeros(),\n",
    "    recurrent_initializer='zeros',\n",
    "    use_bias=False,\n",
    "    activation=None,\n",
    "    name='rnn_layer',\n",
    ")\n",
    "\n",
    "output_layer = TimeDistributed(\n",
    "    Dense(\n",
    "        1,\n",
    "        activation='tanh',\n",
    "        use_bias=False\n",
    "    ),\n",
    "    name='dense_layer'\n",
    ")\n",
    "\n",
    "\n",
    "rnn_outputs, rnn_hidden_state = rnn_layer(input_layer)\n",
    "output = output_layer(rnn_outputs)\n",
    "\n",
    "model = Model(inputs=(input_layer), outputs=output)\n",
    "model.summary()\n",
    "\n",
    "model.compile(loss='mean_squared_error', optimizer='adam', metrics=['mae'])"
   ]
  },
  {
   "cell_type": "markdown",
   "metadata": {},
   "source": [
    "### RNN Training"
   ]
  },
  {
   "cell_type": "code",
   "execution_count": 48,
   "metadata": {
    "ExecuteTime": {
     "end_time": "2018-11-13T06:29:19.700820Z",
     "start_time": "2018-11-13T06:29:19.378181Z"
    },
    "scrolled": false
   },
   "outputs": [
    {
     "name": "stdout",
     "output_type": "stream",
     "text": [
      "Epoch 1/10\n",
      " - 0s - loss: 0.1583 - mean_absolute_error: 0.3167\n",
      "Epoch 2/10\n",
      " - 0s - loss: 0.1581 - mean_absolute_error: 0.3162\n",
      "Epoch 3/10\n",
      " - 0s - loss: 0.1577 - mean_absolute_error: 0.3156\n",
      "Epoch 4/10\n",
      " - 0s - loss: 0.1574 - mean_absolute_error: 0.3150\n",
      "Epoch 5/10\n",
      " - 0s - loss: 0.1570 - mean_absolute_error: 0.3144\n",
      "Epoch 6/10\n",
      " - 0s - loss: 0.1567 - mean_absolute_error: 0.3138\n",
      "Epoch 7/10\n",
      " - 0s - loss: 0.1563 - mean_absolute_error: 0.3131\n",
      "Epoch 8/10\n",
      " - 0s - loss: 0.1559 - mean_absolute_error: 0.3125\n",
      "Epoch 9/10\n",
      " - 0s - loss: 0.1556 - mean_absolute_error: 0.3118\n",
      "Epoch 10/10\n",
      " - 0s - loss: 0.1552 - mean_absolute_error: 0.3111\n"
     ]
    },
    {
     "data": {
      "text/plain": [
       "<keras.callbacks.History at 0x7fa4a4076240>"
      ]
     },
     "execution_count": 48,
     "metadata": {},
     "output_type": "execute_result"
    }
   ],
   "source": [
    "model.fit(\n",
    "    arr_x_rnn,\n",
    "    arr_y_rnn_1dim,\n",
    "    epochs=10,\n",
    "    validation_split=None,\n",
    "    verbose=2,  # 1: progress bar, 2: one line per epoch\n",
    "    shuffle=False,\n",
    ")\n"
   ]
  },
  {
   "cell_type": "markdown",
   "metadata": {},
   "source": [
    "### RNN Prediction (Inference)"
   ]
  },
  {
   "cell_type": "code",
   "execution_count": 49,
   "metadata": {
    "ExecuteTime": {
     "end_time": "2018-11-13T06:29:19.734511Z",
     "start_time": "2018-11-13T06:29:19.701898Z"
    }
   },
   "outputs": [
    {
     "data": {
      "text/plain": [
       "array([[[0.00557073],\n",
       "        [0.0049171 ],\n",
       "        [0.00630461]],\n",
       "\n",
       "       [[0.00452643],\n",
       "        [0.00734658],\n",
       "        [0.00876043]]], dtype=float32)"
      ]
     },
     "execution_count": 49,
     "metadata": {},
     "output_type": "execute_result"
    }
   ],
   "source": [
    "model.predict(arr_x_rnn)"
   ]
  },
  {
   "cell_type": "code",
   "execution_count": 50,
   "metadata": {
    "ExecuteTime": {
     "end_time": "2018-11-13T06:29:19.738215Z",
     "start_time": "2018-11-13T06:29:19.735540Z"
    },
    "scrolled": false
   },
   "outputs": [
    {
     "data": {
      "text/plain": [
       "array([[[0.8],\n",
       "        [0.4],\n",
       "        [0.1]],\n",
       "\n",
       "       [[0.3],\n",
       "        [0.2],\n",
       "        [0.1]]])"
      ]
     },
     "execution_count": 50,
     "metadata": {},
     "output_type": "execute_result"
    }
   ],
   "source": [
    "arr_y_rnn_1dim"
   ]
  },
  {
   "cell_type": "markdown",
   "metadata": {},
   "source": [
    "### RNN Evaluation"
   ]
  },
  {
   "cell_type": "code",
   "execution_count": 51,
   "metadata": {
    "ExecuteTime": {
     "end_time": "2018-11-13T06:29:19.782684Z",
     "start_time": "2018-11-13T06:29:19.739350Z"
    }
   },
   "outputs": [
    {
     "name": "stdout",
     "output_type": "stream",
     "text": [
      "\r",
      "2/2 [==============================] - 0s 17ms/step\n"
     ]
    },
    {
     "data": {
      "text/plain": [
       "[0.15478865802288055, 0.31042903661727905]"
      ]
     },
     "execution_count": 51,
     "metadata": {},
     "output_type": "execute_result"
    }
   ],
   "source": [
    "model.evaluate(arr_x_rnn, arr_y_rnn_1dim)"
   ]
  },
  {
   "cell_type": "markdown",
   "metadata": {},
   "source": [
    "## (Optional) Advanced RNN"
   ]
  },
  {
   "cell_type": "markdown",
   "metadata": {},
   "source": [
    "### Multi Layer RNN"
   ]
  },
  {
   "cell_type": "markdown",
   "metadata": {},
   "source": [
    "- <font size='5'><b> Vanishing Gradient Problem</b> </font>\n",
    "\n",
    "RNN의 입력 데이터는 Sequential한 형태로 구성된다. (<font color='green'>$sequence \\space length$</font>, <font color='brown'>$input \\space dimension$</font>)\n",
    "의 차원을 가지며,  \n",
    "각각 (<font color='green'>$데이터 \\space 길이$</font>, <font color='brown'>$데이터 \\space 크기$</font>)로서 의미를 갖는다.\n",
    "\n",
    " * <font color='green'>seq_length: $t$</font>\n",
    " * <font color='brown'>input_dim : $d$</font>\n",
    "\n",
    "라고 할 때,\n",
    "\n",
    "*__ $t$ 가 커질 수록 (입력 데이터의 길이가 길어질 수록)__*, RNN은 __<font color='red'>예전 정보를 망각하고</font>__ 최근 정보의 영향을 많이 받게 된다.  \n",
    "<br>\n",
    "![vanishing gradient problem](images/rnn/vanishing_gradient_color_arrow_flow.png)"
   ]
  },
  {
   "cell_type": "markdown",
   "metadata": {},
   "source": [
    "### Bi-directional RNN\n",
    "\n",
    "<br>\n",
    "\n",
    "먼 과거의 정보를 잊어버리는 현상을 막기 위해, `순방향`과 `역방향`으로 데이터를 탐색하여 과거의 정보를 보존하는 효과를 얻는다. \n",
    "\n",
    "![bidirectional flow](images/rnn/vanishing_gradient_color_arrow_bidirectional.png)"
   ]
  },
  {
   "cell_type": "markdown",
   "metadata": {},
   "source": [
    "### Cell Type"
   ]
  },
  {
   "cell_type": "markdown",
   "metadata": {},
   "source": [
    "#### SimpleRNN"
   ]
  },
  {
   "cell_type": "markdown",
   "metadata": {},
   "source": [
    "* RNN Flow  \n",
    "\n",
    "<img src=\"images/rnn/rnn_basic_flow.gif\">  \n"
   ]
  },
  {
   "cell_type": "markdown",
   "metadata": {},
   "source": [
    "#### LSTM"
   ]
  },
  {
   "cell_type": "markdown",
   "metadata": {},
   "source": [
    "`Long-Short Term Memory`는 장기기억 메모리와 단기기억 메모리를 가지는 구조의 RNN.  \n",
    "Hidden State를 `Cell State`, `Hidden State` 2개로 구분하여  \n",
    "Input을 얼마나 받아들일 지, 이전 정보를 얼마나 활용할 지(잊어버릴 지) 를 선택하게 됨.  \n",
    "Cell 간의 정보를 주고 받는 Architecture로 인해 기억을 길게 유지하는 효과를 누릴 수 있음."
   ]
  },
  {
   "cell_type": "markdown",
   "metadata": {},
   "source": [
    "<figure>\n",
    "    <img src=\"images/rnn/lstm_gates.png\" alt=\"LSTM Gates\">\n",
    "    <figcaption align=\"right\"></figcaption>\n",
    "</figure>"
   ]
  },
  {
   "cell_type": "markdown",
   "metadata": {},
   "source": [
    "<div class=\"alert alert-block alert-info\">\n",
    "<b>Forget Gate</b> \n",
    "<font color='black'>\n",
    "$$f_t = \\sigma (W_f \\cdot [h_{t-1}, x_t] + b_f) $$\n",
    "</div>\n",
    "\n",
    "\n",
    "<div class=\"alert alert-block alert-info\">\n",
    "<b>Input Gate</b> \n",
    "<font color='black'>\n",
    "$$i_t = \\sigma (W_i \\cdot [h_{t-1}, x_t] + b_i) $$\n",
    "</div>\n",
    "\n",
    "\n",
    "<div class=\"alert alert-block alert-info\">\n",
    "<b>Cell Gate</b> \n",
    "<font color='black'>\n",
    "$$\\tilde c_t = \\tanh (W_c \\cdot [h_{t-1}, x_t] + b_c) $$\n",
    "* Cell State : $ c_t = f_t \\ast c_{t-1} + i_t \\ast \\tilde c_t $  \n",
    "</div>\n",
    "\n",
    "\n",
    "<div class=\"alert alert-block alert-info\">\n",
    "<b>Output Gate</b> \n",
    "<font color='black'>\n",
    "$$o_t = \\sigma (W_o \\cdot [h_{t-1}, x_t] + b_o) $$\n",
    "* Hidden State : $ h_t = o_t \\ast tanh(c_t) $\n",
    "</div>\n",
    "\n",
    "---"
   ]
  },
  {
   "cell_type": "markdown",
   "metadata": {},
   "source": [
    "##### Forget Gate\n",
    "\n",
    "<figure>\n",
    "    <img src=\"images/rnn/lstm_forget_gate_flow.gif\" alt=\"Forget Gate\">\n",
    "    <figcaption align=\"right\"></figcaption>\n",
    "</figure>\n",
    "\n",
    "$$f_t = \\sigma (W_f \\cdot [h_{t-1}, x_t] + b_f) $$\n",
    "\n",
    "---"
   ]
  },
  {
   "cell_type": "markdown",
   "metadata": {},
   "source": [
    "##### Input Gate\n",
    "\n",
    "<figure>\n",
    "    <img src=\"images/rnn/lstm_input_gate_flow.gif\" alt=\"Input Gate\">\n",
    "    <figcaption align=\"right\"></figcaption>\n",
    "</figure>\n",
    "\n",
    "\n",
    "$$i_t = \\sigma (W_i \\cdot [h_{t-1}, x_t] + b_i) $$\n",
    "\n",
    "\n",
    "---"
   ]
  },
  {
   "cell_type": "markdown",
   "metadata": {},
   "source": [
    "##### Cell Gate (Cell State)\n",
    "\n",
    "<figure>\n",
    "    <img src=\"images/rnn/lstm_cstate_flow.gif\" alt=\"Cell State\">\n",
    "    <figcaption align=\"right\"></figcaption>\n",
    "</figure>\n",
    "\n",
    "$$\\tilde c_t = \\tanh (W_c \\cdot [h_{t-1}, x_t] + b_c) $$\n",
    "* Cell State : $ c_t = f_t \\ast c_{t-1} + i_t \\ast \\tilde c_t $  \n",
    "---"
   ]
  },
  {
   "cell_type": "markdown",
   "metadata": {},
   "source": [
    "##### Output Gate (Hidden State)\n",
    "\n",
    "<figure>\n",
    "    <img src=\"images/rnn/lstm_hstate_flow.gif\" alt=\"Hidden State\">\n",
    "    <figcaption align=\"right\"></figcaption>\n",
    "</figure>\n",
    "\n",
    "\n",
    "$$o_t = \\sigma (W_o \\cdot [h_{t-1}, x_t] + b_o) $$\n",
    "* Hidden State : $ h_t = o_t \\ast tanh(c_t) $\n",
    "\n",
    "\n",
    "---"
   ]
  },
  {
   "cell_type": "markdown",
   "metadata": {},
   "source": [
    "#### GRU"
   ]
  },
  {
   "cell_type": "markdown",
   "metadata": {},
   "source": [
    "`Gated Recurrent Unit`은 LSTM에서 Input Gate와 Output Gate를 간소화한 형태임.  \n",
    "Input Gate $i_t$ 를 계산하는 대신 Forget Gate의 여분을 활용하여 계산.\n",
    "Cell State와 Hidden State\n"
   ]
  },
  {
   "cell_type": "markdown",
   "metadata": {},
   "source": [
    "* ~~Cell State in `LSTM`~~ : $ c_t = f_t \\ast c_{t-1} + i_t \\ast \\tilde c_t $\n",
    "* Cell State in `GRU` : $ c_t = f_t \\ast c_{t-1} + (1-f_t) \\ast \\tilde c_t $"
   ]
  },
  {
   "cell_type": "markdown",
   "metadata": {},
   "source": [
    "##### Reset Gate & Update Gate\n",
    "\n",
    "<figure>\n",
    "    <img src=\"images/rnn/gru_cell_and_gate.png\" , width=\"800px\" , alt=\"GRU Cell\" >\n",
    "    <figcaption align=\"right\"></figcaption>\n",
    "</figure>"
   ]
  },
  {
   "cell_type": "markdown",
   "metadata": {},
   "source": [
    "<div class=\"alert alert-block alert-info\">\n",
    "<b>Reset Gate</b> \n",
    "<font color='black'>\n",
    "$$ z_t = \\sigma (W_z \\cdot [h_{t-1}, x_t] + b_z) $$\n",
    "</div>\n",
    "\n",
    "\n",
    "<div class=\"alert alert-block alert-info\">\n",
    "<b>Update Gate</b> \n",
    "<font color='black'>\n",
    "$$ r_t = \\sigma (W_r \\cdot [h_{t-1}, x_t] + b_r) $$\n",
    "</div>\n",
    "\n",
    "\n",
    "<div class=\"alert alert-block alert-info\">\n",
    "<b>Cell Gate</b> \n",
    "<font color='black'>\n",
    "$$ \\tilde h = tanh(W_h \\cdot [r_t \\ast h_{t-1}, x_t] ) $$\n",
    "* Hidden State : $ h_t = ( 1 - z_t ) \\ast h_{t-1} + z_t \\ast \\tilde h_t $\n",
    "</div>\n",
    "\n",
    "---"
   ]
  },
  {
   "cell_type": "markdown",
   "metadata": {},
   "source": [
    "## (실습) LSTM in `keras`"
   ]
  },
  {
   "cell_type": "markdown",
   "metadata": {},
   "source": [
    "### RNN Model"
   ]
  },
  {
   "cell_type": "code",
   "execution_count": 163,
   "metadata": {
    "ExecuteTime": {
     "end_time": "2018-11-16T08:36:48.432670Z",
     "start_time": "2018-11-16T08:36:48.308692Z"
    }
   },
   "outputs": [
    {
     "name": "stdout",
     "output_type": "stream",
     "text": [
      "_________________________________________________________________\n",
      "Layer (type)                 Output Shape              Param #   \n",
      "=================================================================\n",
      "input_layer (InputLayer)     (None, 3, 4)              0         \n",
      "_________________________________________________________________\n",
      "lstm_layer (LSTM)            [(None, 3, 1), (None, 1), 20        \n",
      "_________________________________________________________________\n",
      "dense_layer (TimeDistributed (None, 3, 1)              1         \n",
      "=================================================================\n",
      "Total params: 21\n",
      "Trainable params: 21\n",
      "Non-trainable params: 0\n",
      "_________________________________________________________________\n"
     ]
    }
   ],
   "source": [
    "_, timestep_x, ndim_x = arr_x_rnn.shape\n",
    "\n",
    "HIDDEN_SIZE = 1\n",
    "\n",
    "input_layer = Input(\n",
    "    shape=(timestep_x, ndim_x),\n",
    "    name='input_layer',\n",
    ")\n",
    "\n",
    "rnn_layer = LSTM(\n",
    "    HIDDEN_SIZE,\n",
    "    return_sequences=True,\n",
    "    return_state=True,\n",
    "    kernel_initializer=keras.initializers.Zeros(),\n",
    "    recurrent_initializer='zeros',\n",
    "    use_bias=False,\n",
    "    activation=None,\n",
    "    name='lstm_layer',\n",
    ")\n",
    "\n",
    "output_layer = TimeDistributed(\n",
    "    Dense(\n",
    "        1,\n",
    "        activation='tanh',\n",
    "        use_bias=False\n",
    "    ),\n",
    "    name='dense_layer'\n",
    ")\n",
    "\n",
    "\n",
    "rnn_outputs, rnn_hidden_state, rnn_cell_state = rnn_layer(input_layer)\n",
    "output = output_layer(rnn_outputs)\n",
    "\n",
    "model = Model(inputs=(input_layer), outputs=output)\n",
    "model.summary()\n",
    "\n",
    "model.compile(loss='mean_squared_error', optimizer='adam', metrics=['mae'])"
   ]
  },
  {
   "cell_type": "markdown",
   "metadata": {},
   "source": [
    "### RNN Training"
   ]
  },
  {
   "cell_type": "code",
   "execution_count": 48,
   "metadata": {
    "ExecuteTime": {
     "end_time": "2018-11-13T06:29:19.700820Z",
     "start_time": "2018-11-13T06:29:19.378181Z"
    },
    "scrolled": false
   },
   "outputs": [
    {
     "name": "stdout",
     "output_type": "stream",
     "text": [
      "Epoch 1/10\n",
      " - 0s - loss: 0.1583 - mean_absolute_error: 0.3167\n",
      "Epoch 2/10\n",
      " - 0s - loss: 0.1581 - mean_absolute_error: 0.3162\n",
      "Epoch 3/10\n",
      " - 0s - loss: 0.1577 - mean_absolute_error: 0.3156\n",
      "Epoch 4/10\n",
      " - 0s - loss: 0.1574 - mean_absolute_error: 0.3150\n",
      "Epoch 5/10\n",
      " - 0s - loss: 0.1570 - mean_absolute_error: 0.3144\n",
      "Epoch 6/10\n",
      " - 0s - loss: 0.1567 - mean_absolute_error: 0.3138\n",
      "Epoch 7/10\n",
      " - 0s - loss: 0.1563 - mean_absolute_error: 0.3131\n",
      "Epoch 8/10\n",
      " - 0s - loss: 0.1559 - mean_absolute_error: 0.3125\n",
      "Epoch 9/10\n",
      " - 0s - loss: 0.1556 - mean_absolute_error: 0.3118\n",
      "Epoch 10/10\n",
      " - 0s - loss: 0.1552 - mean_absolute_error: 0.3111\n"
     ]
    },
    {
     "data": {
      "text/plain": [
       "<keras.callbacks.History at 0x7fa4a4076240>"
      ]
     },
     "execution_count": 48,
     "metadata": {},
     "output_type": "execute_result"
    }
   ],
   "source": [
    "model.fit(\n",
    "    arr_x_rnn,\n",
    "    arr_y_rnn_1dim,\n",
    "    epochs=10,\n",
    "    validation_split=None,\n",
    "    verbose=2,  # 1: progress bar, 2: one line per epoch\n",
    "    shuffle=False,\n",
    ")\n"
   ]
  },
  {
   "cell_type": "markdown",
   "metadata": {},
   "source": [
    "### RNN Prediction (Inference)"
   ]
  },
  {
   "cell_type": "code",
   "execution_count": 49,
   "metadata": {
    "ExecuteTime": {
     "end_time": "2018-11-13T06:29:19.734511Z",
     "start_time": "2018-11-13T06:29:19.701898Z"
    }
   },
   "outputs": [
    {
     "data": {
      "text/plain": [
       "array([[[0.00557073],\n",
       "        [0.0049171 ],\n",
       "        [0.00630461]],\n",
       "\n",
       "       [[0.00452643],\n",
       "        [0.00734658],\n",
       "        [0.00876043]]], dtype=float32)"
      ]
     },
     "execution_count": 49,
     "metadata": {},
     "output_type": "execute_result"
    }
   ],
   "source": [
    "model.predict(arr_x_rnn)"
   ]
  },
  {
   "cell_type": "code",
   "execution_count": 50,
   "metadata": {
    "ExecuteTime": {
     "end_time": "2018-11-13T06:29:19.738215Z",
     "start_time": "2018-11-13T06:29:19.735540Z"
    },
    "scrolled": true
   },
   "outputs": [
    {
     "data": {
      "text/plain": [
       "array([[[0.8],\n",
       "        [0.4],\n",
       "        [0.1]],\n",
       "\n",
       "       [[0.3],\n",
       "        [0.2],\n",
       "        [0.1]]])"
      ]
     },
     "execution_count": 50,
     "metadata": {},
     "output_type": "execute_result"
    }
   ],
   "source": [
    "arr_y_rnn_1dim"
   ]
  },
  {
   "cell_type": "markdown",
   "metadata": {},
   "source": [
    "### RNN Evaluation"
   ]
  },
  {
   "cell_type": "code",
   "execution_count": 51,
   "metadata": {
    "ExecuteTime": {
     "end_time": "2018-11-13T06:29:19.782684Z",
     "start_time": "2018-11-13T06:29:19.739350Z"
    }
   },
   "outputs": [
    {
     "name": "stdout",
     "output_type": "stream",
     "text": [
      "\r",
      "2/2 [==============================] - 0s 17ms/step\n"
     ]
    },
    {
     "data": {
      "text/plain": [
       "[0.15478865802288055, 0.31042903661727905]"
      ]
     },
     "execution_count": 51,
     "metadata": {},
     "output_type": "execute_result"
    }
   ],
   "source": [
    "model.evaluate(arr_x_rnn, arr_y_rnn_1dim)"
   ]
  },
  {
   "cell_type": "markdown",
   "metadata": {},
   "source": [
    "## (실습) Bidirectional in `keras`"
   ]
  },
  {
   "cell_type": "markdown",
   "metadata": {},
   "source": [
    "## Tensorflow"
   ]
  },
  {
   "cell_type": "markdown",
   "metadata": {},
   "source": [
    "### Tensorflow 의 작동원리\n",
    "##### Tensor, Variable, Graph, Node, Feed Dict, Initializer, Session, "
   ]
  },
  {
   "cell_type": "markdown",
   "metadata": {},
   "source": [
    "#### Tensor"
   ]
  },
  {
   "cell_type": "markdown",
   "metadata": {},
   "source": [
    "#### Session과 Graph"
   ]
  },
  {
   "cell_type": "markdown",
   "metadata": {},
   "source": [
    "### MLP 구현"
   ]
  },
  {
   "cell_type": "markdown",
   "metadata": {},
   "source": [
    "### RNN 구현"
   ]
  },
  {
   "cell_type": "markdown",
   "metadata": {},
   "source": [
    "### Advanced RNN 구현 - Bi-LSTM"
   ]
  },
  {
   "cell_type": "markdown",
   "metadata": {},
   "source": [
    "# References\n",
    "\n",
    "https://wiseodd.github.io/techblog/2016/06/22/nn-optimization/  \n",
    "https://towardsdatascience.com/illustrated-guide-to-lstms-and-gru-s-a-step-by-step-explanation-44e9eb85bf21"
   ]
  },
  {
   "cell_type": "code",
   "execution_count": null,
   "metadata": {},
   "outputs": [],
   "source": []
  }
 ],
 "metadata": {
  "kernelspec": {
   "display_name": "Tensorflow: Python3.6 (conda env)",
   "language": "python",
   "name": "tf-py36"
  },
  "language_info": {
   "codemirror_mode": {
    "name": "ipython",
    "version": 3
   },
   "file_extension": ".py",
   "mimetype": "text/x-python",
   "name": "python",
   "nbconvert_exporter": "python",
   "pygments_lexer": "ipython3",
   "version": "3.6.1"
  },
  "toc": {
   "base_numbering": 1,
   "nav_menu": {
    "height": "638px",
    "width": "488px"
   },
   "number_sections": true,
   "sideBar": true,
   "skip_h1_title": false,
   "title_cell": "Table of Contents",
   "title_sidebar": "Contents",
   "toc_cell": false,
   "toc_position": {
    "height": "1169px",
    "left": "40px",
    "top": "110px",
    "width": "313px"
   },
   "toc_section_display": true,
   "toc_window_display": true
  },
  "varInspector": {
   "cols": {
    "lenName": 16,
    "lenType": 16,
    "lenVar": 40
   },
   "kernels_config": {
    "python": {
     "delete_cmd_postfix": "",
     "delete_cmd_prefix": "del ",
     "library": "var_list.py",
     "varRefreshCmd": "print(var_dic_list())"
    },
    "r": {
     "delete_cmd_postfix": ") ",
     "delete_cmd_prefix": "rm(",
     "library": "var_list.r",
     "varRefreshCmd": "cat(var_dic_list()) "
    }
   },
   "types_to_exclude": [
    "module",
    "function",
    "builtin_function_or_method",
    "instance",
    "_Feature"
   ],
   "window_display": false
  }
 },
 "nbformat": 4,
 "nbformat_minor": 2
}
