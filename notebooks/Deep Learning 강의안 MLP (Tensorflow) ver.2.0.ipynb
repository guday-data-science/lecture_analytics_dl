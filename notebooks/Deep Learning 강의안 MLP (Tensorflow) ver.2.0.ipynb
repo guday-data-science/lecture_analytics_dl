{
 "cells": [
  {
   "cell_type": "markdown",
   "metadata": {},
   "source": [
    "# Analysis 과정 - Deep Learning"
   ]
  },
  {
   "cell_type": "markdown",
   "metadata": {},
   "source": [
    "## Tensorflow 개요"
   ]
  },
  {
   "cell_type": "markdown",
   "metadata": {},
   "source": [
    "### `tensorflow` 란?\n",
    "\n",
    "_**Tensor**_ + _**Flow**_\n",
    "\n",
    "* _**Tensor**_ (점)  \n",
    ": 데이터를 저장, 운반하기 위한 `class`.\n",
    "\n",
    "\n",
    "* _**Flow**_ (선)  \n",
    ": 데이터를 처리하는 동작.\n",
    "\n",
    "점과 선이 모여 그래프를 만들듯이, `tensorflow`에서도 _**Tensor**_와 _**Flow**_가 모여 `tf.Graph`를 만들게 된다.  \n",
    "그래서 `tensorflow`를 Graph 기반의 딥러닝 Framework라고 한다.\n",
    "<br>\n",
    "\n",
    "<img src='images/mlp_tf/tensorflow_graph_and_session.png' width='80%' align='center'>\n",
    "\n",
    "<br>\n"
   ]
  },
  {
   "cell_type": "code",
   "execution_count": 52,
   "metadata": {
    "ExecuteTime": {
     "end_time": "2018-12-12T01:51:45.933911Z",
     "start_time": "2018-12-12T01:51:45.929094Z"
    }
   },
   "outputs": [],
   "source": [
    "import tensorflow as tf\n",
    "import numpy as np\n",
    "import unipy as up\n",
    "from pprint import pprint\n",
    "import random\n",
    "import matplotlib.pyplot as plt"
   ]
  },
  {
   "cell_type": "markdown",
   "metadata": {},
   "source": [
    "### Tensor : `tf.Tensor`\n",
    "\n",
    "<br>\n",
    "\n",
    "`tf.Tensor`는 `tensorflow` 내에서 데이터를 저장, 운반하기 위해 정의된 `class`이다.  \n",
    "자주 쓰이는 method로는 `eval`, `get_shape` 등이 있다.\n",
    "\n",
    "Tensor라는 이름은 __다차원 행렬을 뜻하는 수학용어__에서 차용했으며, 말 그대로 고차원 행렬이다.  \n",
    "`np.ndarray`와 유사한 개념으로 이해할 수 있다.\n",
    "\n",
    "* `tf.Tensor`를 생성하기 위한 `tf.Operation`\n",
    "  - `tf.constant()` : __고정값__ 행렬 생성\n",
    "  - `tf.Variable()` : 점점 __업데이트 되는(학습 되는)__ 행렬 생성\n",
    "  - `tf.placeholder()` : 데이터 변수를 받아들이기 위한 __비어 있는__ 행렬 생성\n",
    "  \n",
    "<br>\n",
    "\n",
    "일단, 하나씩 실습해 보자."
   ]
  },
  {
   "cell_type": "code",
   "execution_count": 54,
   "metadata": {
    "ExecuteTime": {
     "end_time": "2018-12-12T01:51:59.346658Z",
     "start_time": "2018-12-12T01:51:59.334842Z"
    }
   },
   "outputs": [
    {
     "data": {
      "text/plain": [
       "<tf.Tensor 'Const_1:0' shape=(2, 3) dtype=int32>"
      ]
     },
     "execution_count": 54,
     "metadata": {},
     "output_type": "execute_result"
    }
   ],
   "source": [
    "constant_t = tf.constant([[1, 2, 3],\n",
    "                        [4, 5, 6]])\n",
    "constant_t"
   ]
  },
  {
   "cell_type": "code",
   "execution_count": 55,
   "metadata": {
    "ExecuteTime": {
     "end_time": "2018-12-12T01:52:01.343323Z",
     "start_time": "2018-12-12T01:52:01.334613Z"
    }
   },
   "outputs": [
    {
     "data": {
      "text/plain": [
       "TensorShape([Dimension(2), Dimension(3)])"
      ]
     },
     "execution_count": 55,
     "metadata": {},
     "output_type": "execute_result"
    }
   ],
   "source": [
    "constant_t.get_shape()"
   ]
  },
  {
   "cell_type": "code",
   "execution_count": 56,
   "metadata": {
    "ExecuteTime": {
     "end_time": "2018-12-12T01:52:03.111358Z",
     "start_time": "2018-12-12T01:52:03.099529Z"
    }
   },
   "outputs": [
    {
     "data": {
      "text/plain": [
       "<tf.Variable 'Variable:0' shape=(2,) dtype=int32_ref>"
      ]
     },
     "execution_count": 56,
     "metadata": {},
     "output_type": "execute_result"
    }
   ],
   "source": [
    "variable_t = tf.Variable([1,2])\n",
    "variable_t"
   ]
  },
  {
   "cell_type": "code",
   "execution_count": 57,
   "metadata": {
    "ExecuteTime": {
     "end_time": "2018-12-12T01:52:04.860765Z",
     "start_time": "2018-12-12T01:52:04.854803Z"
    }
   },
   "outputs": [
    {
     "data": {
      "text/plain": [
       "TensorShape([Dimension(2)])"
      ]
     },
     "execution_count": 57,
     "metadata": {},
     "output_type": "execute_result"
    }
   ],
   "source": [
    "variable_t.shape"
   ]
  },
  {
   "cell_type": "code",
   "execution_count": 58,
   "metadata": {
    "ExecuteTime": {
     "end_time": "2018-12-12T01:52:06.641420Z",
     "start_time": "2018-12-12T01:52:06.629760Z"
    }
   },
   "outputs": [
    {
     "data": {
      "text/plain": [
       "<tf.Tensor 'Placeholder:0' shape=(1,) dtype=float32>"
      ]
     },
     "execution_count": 58,
     "metadata": {},
     "output_type": "execute_result"
    }
   ],
   "source": [
    "placeholder_t = tf.placeholder(dtype=tf.float32, shape=(1,))\n",
    "placeholder_t"
   ]
  },
  {
   "cell_type": "code",
   "execution_count": 59,
   "metadata": {
    "ExecuteTime": {
     "end_time": "2018-12-12T01:52:08.393181Z",
     "start_time": "2018-12-12T01:52:08.389449Z"
    }
   },
   "outputs": [],
   "source": [
    "a = placeholder_t.get_shape()"
   ]
  },
  {
   "cell_type": "code",
   "execution_count": 60,
   "metadata": {
    "ExecuteTime": {
     "end_time": "2018-12-12T01:52:10.159618Z",
     "start_time": "2018-12-12T01:52:10.153984Z"
    }
   },
   "outputs": [
    {
     "data": {
      "text/plain": [
       "[1]"
      ]
     },
     "execution_count": 60,
     "metadata": {},
     "output_type": "execute_result"
    }
   ],
   "source": [
    "a.as_list()"
   ]
  },
  {
   "cell_type": "markdown",
   "metadata": {},
   "source": [
    "### Flow : `tf.Operation`\n",
    "\n",
    "<br>\n",
    "\n",
    "`tf.Tensor`를 만들었지만, 이상하게도 아직 거기에 데이터가 담겨 있지는 않다.  \n",
    "일단 __*Tensor*__ 부분을 작업했으니, 우선 __*Flow*__도 한번 만들어 보자.  \n",
    "\n",
    "\n",
    "간단하게 행렬곱을 계산하는 Flow를 구현해 보자.\n",
    "\n",
    "<img src=\"images/mlp_tf/graph_concept_new.png\" width=500 height=500 align=\"center\">\n",
    "\n"
   ]
  },
  {
   "cell_type": "markdown",
   "metadata": {},
   "source": [
    "* 행렬값 만들기"
   ]
  },
  {
   "cell_type": "code",
   "execution_count": 61,
   "metadata": {
    "ExecuteTime": {
     "end_time": "2018-12-12T01:55:15.214501Z",
     "start_time": "2018-12-12T01:55:15.207446Z"
    }
   },
   "outputs": [
    {
     "name": "stdout",
     "output_type": "stream",
     "text": [
      "array([[5, 0, 3],\n",
      "       [3, 7, 9]])\n",
      "array([[3],\n",
      "       [5],\n",
      "       [2]])\n"
     ]
    }
   ],
   "source": [
    "np.random.seed(0)\n",
    "arr_a = np.random.randint(10, size=(2, 3))\n",
    "arr_b = np.random.randint(10, size=(3, 1))\n",
    "\n",
    "\n",
    "pprint(arr_a)\n",
    "pprint(arr_b)"
   ]
  },
  {
   "cell_type": "markdown",
   "metadata": {},
   "source": [
    "* 행렬값으로 `tf.Tensor` 만들기"
   ]
  },
  {
   "cell_type": "code",
   "execution_count": 62,
   "metadata": {
    "ExecuteTime": {
     "end_time": "2018-12-12T01:55:17.159185Z",
     "start_time": "2018-12-12T01:55:17.150615Z"
    }
   },
   "outputs": [
    {
     "name": "stdout",
     "output_type": "stream",
     "text": [
      "tensor_a shape : (2, 3)\n",
      "tensor_b shape : (3, 1)\n"
     ]
    }
   ],
   "source": [
    "tensor_a = tf.constant(arr_a, dtype=tf.int32)\n",
    "tensor_b = tf.constant(arr_b, dtype=tf.int32)\n",
    "\n",
    "print(\n",
    "    f'tensor_a shape : {tensor_a.get_shape()}',\n",
    "    f'tensor_b shape : {tensor_b.get_shape()}',\n",
    "    sep='\\n',\n",
    ")"
   ]
  },
  {
   "cell_type": "markdown",
   "metadata": {},
   "source": [
    "* 행렬곱 계산하기 (`op: operation`)"
   ]
  },
  {
   "cell_type": "code",
   "execution_count": 63,
   "metadata": {
    "ExecuteTime": {
     "end_time": "2018-12-12T01:55:18.901187Z",
     "start_time": "2018-12-12T01:55:18.892910Z"
    }
   },
   "outputs": [
    {
     "data": {
      "text/plain": [
       "<tf.Tensor 'MatMul:0' shape=(2, 1) dtype=int32>"
      ]
     },
     "execution_count": 63,
     "metadata": {},
     "output_type": "execute_result"
    }
   ],
   "source": [
    "matmul_op = tf.matmul(tensor_a, tensor_b)\n",
    "\n",
    "matmul_op"
   ]
  },
  {
   "cell_type": "markdown",
   "metadata": {},
   "source": [
    "### `tf.Session` &  `tf.Graph`\n",
    "\n",
    "__*Tensor*__와 __*Flow*__를 만들었지만, 아직 결과값을 얻지는 못했다.  \n",
    "이는 `tensorflow`가 기본적으로 __*lazy evaluation*__ 방식으로 실행되기 때문이다.\n",
    "\n",
    "`tensorflow`는 다음과 같은 순서로 코드를 빌드하고, 실행한다.\n",
    "\n",
    "\n",
    "<div class=\"alert alert-block alert-warning\">\n",
    "<b>$\\divideontimes$ Tensorflow 동작 순서  </b>\n",
    "\n",
    "<br>\n",
    "\n",
    "1. Tensor와 Flow로 `tf.Graph`를 만든다.\n",
    "2. `tf.Session`으로 Graph 실행을 위한 세션을 시작하고, 그래프를 세션에 올린다.\n",
    "3. (`tf.Variable`이 있을 경우, 초기값으로 설정해 준다.)\n",
    "4. `tf.Session.run`으로 Flow를 실행해서, 결과값을 받는다.\n",
    "\n",
    "</div>  \n",
    "\n",
    "\n",
    "우선 `tf.constant`만 사용했으니, 3번을 생략하고 계산해 보자."
   ]
  },
  {
   "cell_type": "code",
   "execution_count": 64,
   "metadata": {
    "ExecuteTime": {
     "end_time": "2018-12-12T01:56:32.549178Z",
     "start_time": "2018-12-12T01:56:32.532271Z"
    }
   },
   "outputs": [
    {
     "data": {
      "text/plain": [
       "array([[21],\n",
       "       [62]], dtype=int32)"
      ]
     },
     "execution_count": 64,
     "metadata": {},
     "output_type": "execute_result"
    }
   ],
   "source": [
    "#=== Session Start =========================#\n",
    "sess = tf.Session()\n",
    "\n",
    "result = sess.run(matmul_op)\n",
    "\n",
    "sess.close()\n",
    "#=== Session Close =========================#\n",
    "\n",
    "result"
   ]
  },
  {
   "cell_type": "markdown",
   "metadata": {},
   "source": [
    "<div class=\"alert alert-block alert-success\">\n",
    "<b>$\\divideontimes$ Session 실행 시 주의점 </b>\n",
    "\n",
    "<br>\n",
    "\n",
    "`sess = tf.Session()`로 세션을 열었다면, Operation 수행 후에는 꼭 `sess.close()`로 열린 세션을 닫아 주어야 한다.  \n",
    "그렇지 않을 경우, 컴퓨터는 아직 작업이 끝나지 않았다고 생각해 세션이 활성화된 상태로 GPU 메모리 상에 그래프를 계속 올려놓게 된다.\n",
    "\n",
    "이런 번거로움을 방지하기 위해, python에서는 `with` 구문을 활용하여 다음과 같이 구현한다.\n",
    "\n",
    "```py\n",
    "with tf.Session() as sess:\n",
    "    result = sess.run(matmul_op)\n",
    "\n",
    "print(result)\n",
    "\n",
    "```\n",
    "\n",
    "\n",
    "</div>"
   ]
  },
  {
   "cell_type": "markdown",
   "metadata": {},
   "source": [
    "이번에는 `tf.Variable`을 사용할 경우를 알아보자.\n",
    "\n",
    "`tf.Variable`은, 학습을 위해 업데이트할 수 있는 기능을 가진 특수한 Tensor이다.  \n",
    "여기에 값을 부여하는 경우, 처음 시작할 때 초기값으로만 활용되고  \n",
    "Optimizer로 Backpropagation을 수행하면서 <font color='#318CE7'> <b><i>값이 점차 바뀌게 된다.</i></b></font>\n",
    "\n",
    "그래서 *__초기값을 부여하기 위한 추가 Operation이 필요하다.__*"
   ]
  },
  {
   "cell_type": "markdown",
   "metadata": {},
   "source": [
    "* 초기값 만들기"
   ]
  },
  {
   "cell_type": "code",
   "execution_count": 65,
   "metadata": {
    "ExecuteTime": {
     "end_time": "2018-12-12T01:57:24.850866Z",
     "start_time": "2018-12-12T01:57:24.842431Z"
    }
   },
   "outputs": [
    {
     "name": "stdout",
     "output_type": "stream",
     "text": [
      "array([[5, 0, 3],\n",
      "       [3, 7, 9]])\n",
      "array([[3],\n",
      "       [5],\n",
      "       [2]])\n"
     ]
    }
   ],
   "source": [
    "np.random.seed(0)\n",
    "arr_a = np.random.randint(10, size=(2, 3))\n",
    "arr_v = np.random.randint(10, size=(3, 1))\n",
    "\n",
    "pprint(arr_a)\n",
    "pprint(arr_v)"
   ]
  },
  {
   "cell_type": "markdown",
   "metadata": {},
   "source": [
    "* 초기값으로 `tf.Variable` 만들기"
   ]
  },
  {
   "cell_type": "code",
   "execution_count": 66,
   "metadata": {
    "ExecuteTime": {
     "end_time": "2018-12-12T01:57:26.875203Z",
     "start_time": "2018-12-12T01:57:26.861033Z"
    }
   },
   "outputs": [
    {
     "data": {
      "text/plain": [
       "<tf.Variable 'Variable_1:0' shape=(3, 1) dtype=int32_ref>"
      ]
     },
     "execution_count": 66,
     "metadata": {},
     "output_type": "execute_result"
    }
   ],
   "source": [
    "tensor_a = tf.constant(arr_a, dtype=tf.int32)\n",
    "\n",
    "tensor_v = tf.Variable(arr_v, dtype=tf.int32)  # 연산을 위해 type 맞추기\n",
    "tensor_v"
   ]
  },
  {
   "cell_type": "markdown",
   "metadata": {},
   "source": [
    "* `matmul_v_op`로 행렬곱 계산하기"
   ]
  },
  {
   "cell_type": "code",
   "execution_count": 67,
   "metadata": {
    "ExecuteTime": {
     "end_time": "2018-12-12T01:57:28.641893Z",
     "start_time": "2018-12-12T01:57:28.634195Z"
    }
   },
   "outputs": [
    {
     "data": {
      "text/plain": [
       "<tf.Tensor 'variable_matmul_op:0' shape=(2, 1) dtype=int32>"
      ]
     },
     "execution_count": 67,
     "metadata": {},
     "output_type": "execute_result"
    }
   ],
   "source": [
    "matmul_v_op = tf.matmul(tensor_a, tensor_v, name='variable_matmul_op')\n",
    "\n",
    "matmul_v_op"
   ]
  },
  {
   "cell_type": "markdown",
   "metadata": {},
   "source": [
    "* `tf.Session`으로 실행하기"
   ]
  },
  {
   "cell_type": "code",
   "execution_count": 68,
   "metadata": {
    "ExecuteTime": {
     "end_time": "2018-12-12T01:57:30.749898Z",
     "start_time": "2018-12-12T01:57:30.656672Z"
    }
   },
   "outputs": [
    {
     "data": {
      "text/plain": [
       "array([[21],\n",
       "       [62]], dtype=int32)"
      ]
     },
     "execution_count": 68,
     "metadata": {},
     "output_type": "execute_result"
    }
   ],
   "source": [
    "init_op = tf.global_variables_initializer()\n",
    "\n",
    "#=== Session Start =========================#\n",
    "with tf.Session() as sess:\n",
    "    \n",
    "    sess.run(init_op)\n",
    "    result = sess.run(matmul_op)\n",
    "\n",
    "#=== Session Close =========================#\n",
    "\n",
    "result"
   ]
  },
  {
   "cell_type": "markdown",
   "metadata": {},
   "source": [
    "### __Scope__\n",
    "\n",
    "기본적으로 Graph의 모든 Operation들은 `name`을 지정해서 관리한다.  \n",
    "이 `name`은 Tensor 값을 확인하거나 debugging할 때, tf.Variable을 선택해서 업데이트할 때 등 많은 경우에 필수적이다.\n",
    "\n",
    "하지만 그래프가 복잡해질 경우, 일일이 name을 지정해서 관리하기 쉽지 않다.  \n",
    "그래프 관리를 위해 계층 구조로 묶게 되는데, 이 묶음의 단위가 __scope__이다.  \n",
    "\n",
    "프로그래밍 언어의 namespace 개념과 비슷하다. 모든 node는 __scope__에 종속된다.  \n",
    "이 때 종속된다는 뜻은, <font color='#318CE7' size='4'><b><i>한 scope에는 한 name만 가능하다는 뜻이다.</i></b></font>\n",
    "\n",
    "\n",
    "<img src='images/mlp_tf/tensorflow_scope.png'>\n",
    "\n"
   ]
  },
  {
   "cell_type": "markdown",
   "metadata": {},
   "source": [
    "#### `tf.name_scope`\n",
    "\n",
    "`Variable`을 제외한 모든 Operation을 종속시킨다.  \n",
    "__만약 이름이 중복되면, suffix로 번호를 매겨 추가해 버린다.__\n",
    "\n",
    "`name_scope`의 이름이 중복될 경우에도 추가한다.  \n",
    "즉, <font color='#318CE7' size='4'><b><i>`name_scope`는 처음 정의하는 것으로 역할을 다한다.</i></b></font>"
   ]
  },
  {
   "cell_type": "code",
   "execution_count": 69,
   "metadata": {
    "ExecuteTime": {
     "end_time": "2018-12-12T02:07:27.604767Z",
     "start_time": "2018-12-12T02:07:27.583652Z"
    }
   },
   "outputs": [
    {
     "name": "stdout",
     "output_type": "stream",
     "text": [
      "test_name_scope/constant_a:0  ->  ()\n",
      "test_name_scope/constant_a_1:0  ->  (2,)\n",
      "test_name_scope/variable_a:0  ->  ()\n",
      "test_name_scope/variable_a_1:0  ->  (2,)\n"
     ]
    }
   ],
   "source": [
    "with tf.name_scope('test_name_scope') as scope:\n",
    "    \n",
    "    tensor_a0 = tf.constant(9, dtype=tf.int32, name='constant_a')\n",
    "    tensor_a1 = tf.constant([1, 2], dtype=tf.int32, name='constant_a')\n",
    "    tensor_b0 = tf.Variable(7, dtype=tf.int32, name='variable_a')\n",
    "    tensor_b1 = tf.Variable([2, 3], dtype=tf.int32, name='variable_a')\n",
    "\n",
    "\n",
    "print(\n",
    "    f'{tensor_a0.name}  ->  {tensor_a0.shape}',\n",
    "    f'{tensor_a1.name}  ->  {tensor_a1.shape}',\n",
    "    f'{tensor_b0.name}  ->  {tensor_b0.shape}',\n",
    "    f'{tensor_b1.name}  ->  {tensor_b1.shape}',\n",
    "    sep='\\n',\n",
    ")"
   ]
  },
  {
   "cell_type": "markdown",
   "metadata": {},
   "source": [
    "* `tf.name_scope`는 다시 호출할 수 없으며, scope 및 변수 재사용은 불가능하다."
   ]
  },
  {
   "cell_type": "code",
   "execution_count": 70,
   "metadata": {
    "ExecuteTime": {
     "end_time": "2018-12-12T02:07:31.387536Z",
     "start_time": "2018-12-12T02:07:31.373654Z"
    }
   },
   "outputs": [
    {
     "name": "stdout",
     "output_type": "stream",
     "text": [
      "test_name_scope_1/constant_a:0  ->  (3,)\n",
      "test_name_scope_1/variable_a:0  ->  (3,)\n"
     ]
    }
   ],
   "source": [
    "with tf.name_scope('test_name_scope') as scope:\n",
    "    \n",
    "    tensor_a2 = tf.constant([9, 1, 3], dtype=tf.int32, name='constant_a')\n",
    "    tensor_b2 = tf.Variable([6, 7, 8], dtype=tf.int32, name='variable_a')\n",
    "\n",
    "\n",
    "print(\n",
    "    f'{tensor_a2.name}  ->  {tensor_a2.shape}',\n",
    "    f'{tensor_b2.name}  ->  {tensor_b2.shape}',\n",
    "    sep='\\n',\n",
    ")"
   ]
  },
  {
   "cell_type": "markdown",
   "metadata": {},
   "source": [
    "#### `tf.variable_scope`\n",
    "\n",
    "`Variable`과 Operation 모두를 종속시키며,  \n",
    "__재사용이 가능하므로 정의한 후 다시 호출할 수 있다.__\n",
    "\n",
    "__만약 이름이 중복되면, `ValueError`를 발생시킨다.__\n",
    "\n",
    "`variable_scope`의 이름을 다시 사용하면 해당 scope를 재사용한다는 뜻이다.  \n",
    "`name_scope`에서 suffix가 붙은 것과는 다르게 동작한다.  \n",
    "즉, <font color='#318CE7' size='4'><b><i>`variable_scope`로 Layer를 자유롭게 재사용할 수 있다.</i></b></font>\n"
   ]
  },
  {
   "cell_type": "code",
   "execution_count": 71,
   "metadata": {
    "ExecuteTime": {
     "end_time": "2018-12-12T02:09:14.232734Z",
     "start_time": "2018-12-12T02:09:14.218935Z"
    }
   },
   "outputs": [
    {
     "name": "stdout",
     "output_type": "stream",
     "text": [
      "test_variable_scope/constant_a:0  ->  ()\n",
      "test_variable_scope/variable_a:0  ->  ()\n"
     ]
    }
   ],
   "source": [
    "with tf.variable_scope('test_variable_scope', reuse=tf.AUTO_REUSE) as scope:\n",
    "    \n",
    "    tensor_a0 = tf.constant(9, dtype=tf.int32, name='constant_a')\n",
    "    tensor_b0 = tf.Variable(7, dtype=tf.int32, name='variable_a')\n",
    "\n",
    "\n",
    "print(\n",
    "    f'{tensor_a0.name}  ->  {tensor_a0.shape}',\n",
    "    f'{tensor_b0.name}  ->  {tensor_b0.shape}',\n",
    "    sep='\\n',\n",
    ")"
   ]
  },
  {
   "cell_type": "code",
   "execution_count": 72,
   "metadata": {
    "ExecuteTime": {
     "end_time": "2018-12-12T02:09:16.179253Z",
     "start_time": "2018-12-12T02:09:16.164687Z"
    }
   },
   "outputs": [
    {
     "name": "stdout",
     "output_type": "stream",
     "text": [
      "test_variable_scope_1/constant_a:0  ->  (2,)\n",
      "test_variable_scope_1/variable_a:0  ->  (2,)\n"
     ]
    }
   ],
   "source": [
    "with tf.variable_scope('test_variable_scope', reuse=True) as scope:\n",
    "    \n",
    "    tensor_a1 = tf.constant([1, 2], dtype=tf.int32, name='constant_a')\n",
    "    tensor_b1 = tf.Variable([2, 3], dtype=tf.int32, name='variable_a')\n",
    "\n",
    "\n",
    "print(\n",
    "    f'{tensor_a1.name}  ->  {tensor_a1.shape}',\n",
    "    f'{tensor_b1.name}  ->  {tensor_b1.shape}',\n",
    "    sep='\\n',\n",
    ")"
   ]
  },
  {
   "cell_type": "markdown",
   "metadata": {},
   "source": [
    "* `variable_scope` 내에서도 `tf.Variable`은 같은 이름이 번호가 매겨지며 계속 선언된다.  \n",
    "그래서 다시 호출할 때, 원하는 이름의 Variable을 선택하기 힘들어진다.\n",
    "\n",
    "Variable을 한 번에 하나의 이름만 사용하기 위해, <font color='#318CE7' size='4'><b><i>`tf.get_variable`을 사용한다.</i></b></font>"
   ]
  },
  {
   "cell_type": "code",
   "execution_count": 73,
   "metadata": {
    "ExecuteTime": {
     "end_time": "2018-12-12T02:10:40.073106Z",
     "start_time": "2018-12-12T02:10:40.042596Z"
    }
   },
   "outputs": [
    {
     "name": "stdout",
     "output_type": "stream",
     "text": [
      "test_error_variable_scope/constant_a:0  ->  ()\n",
      "test_error_variable_scope/constant_a_1:0  ->  (2,)\n",
      "test_error_variable_scope/variable_a:0  ->  ()\n",
      "test_error_variable_scope/variable_a_1:0  ->  (2,)\n",
      "test_error_variable_scope_1/constant_a:0  ->  (3,)\n",
      "test_error_variable_scope_1/variable_a:0  ->  (3,)\n"
     ]
    }
   ],
   "source": [
    "with tf.variable_scope('test_error_variable_scope', reuse=tf.AUTO_REUSE) as scope:\n",
    "    \n",
    "    tensor_a0 = tf.constant(9, dtype=tf.int32, name='constant_a')\n",
    "    tensor_a1 = tf.constant([1, 2], dtype=tf.int32, name='constant_a')\n",
    "    tensor_b0 = tf.Variable(7, dtype=tf.int32, name='variable_a')\n",
    "    tensor_b1 = tf.Variable([2, 3], dtype=tf.int32, name='variable_a')\n",
    "\n",
    "\n",
    "with tf.variable_scope('test_error_variable_scope', reuse=tf.AUTO_REUSE) as scope:\n",
    "    \n",
    "    tensor_a2 = tf.constant([9, 1, 3], dtype=tf.int32, name='constant_a')\n",
    "    tensor_b2 = tf.Variable([6, 7, 8], dtype=tf.int32, name='variable_a')\n",
    "\n",
    "\n",
    "print(\n",
    "    f'{tensor_a0.name}  ->  {tensor_a0.shape}',\n",
    "    f'{tensor_a1.name}  ->  {tensor_a1.shape}',\n",
    "    f'{tensor_b0.name}  ->  {tensor_b0.shape}',\n",
    "    f'{tensor_b1.name}  ->  {tensor_b1.shape}',\n",
    "    f'{tensor_a2.name}  ->  {tensor_a2.shape}',\n",
    "    f'{tensor_b2.name}  ->  {tensor_b2.shape}',\n",
    "    sep='\\n',\n",
    ")"
   ]
  },
  {
   "cell_type": "code",
   "execution_count": 78,
   "metadata": {
    "ExecuteTime": {
     "end_time": "2018-12-12T02:15:03.908509Z",
     "start_time": "2018-12-12T02:15:03.885913Z"
    }
   },
   "outputs": [
    {
     "name": "stdout",
     "output_type": "stream",
     "text": [
      "Variable Mismatch.\n"
     ]
    }
   ],
   "source": [
    "tf.reset_default_graph()\n",
    "\n",
    "try:\n",
    "\n",
    "    with tf.variable_scope('test_error_variable_scope', reuse=tf.AUTO_REUSE) as scope:\n",
    "\n",
    "        tensor_a0 = tf.constant(9, dtype=tf.int32, name='constant_a')\n",
    "        tensor_a1 = tf.constant([1, 2], dtype=tf.int32, name='constant_a')\n",
    "        tensor_b0 = tf.get_variable(\n",
    "            'variable_a',\n",
    "             shape=(1, ),\n",
    "             dtype=tf.int32,\n",
    "             initializer=tf.constant_initializer(7),\n",
    "        )\n",
    "        tensor_b1 = tf.get_variable(\n",
    "            'variable_a',\n",
    "             shape=(2, ),\n",
    "             dtype=tf.int32,\n",
    "             initializer=tf.constant_initializer([2, 3]),\n",
    "        )\n",
    "\n",
    "\n",
    "    with tf.variable_scope('test_error_variable_scope', reuse=tf.AUTO_REUSE) as scope:\n",
    "\n",
    "        tensor_a2 = tf.constant([9, 1, 3], dtype=tf.int32, name='constant_a')\n",
    "        tensor_b2 = tf.Variable([6, 7, 8], dtype=tf.int32, name='variable_a')\n",
    "\n",
    "\n",
    "    print(\n",
    "        f'{tensor_a0.name}  ->  {tensor_a0.shape}',\n",
    "        f'{tensor_a1.name}  ->  {tensor_a1.shape}',\n",
    "        f'{tensor_b0.name}  ->  {tensor_b0.shape}',\n",
    "        f'{tensor_b1.name}  ->  {tensor_b1.shape}',\n",
    "        f'{tensor_a2.name}  ->  {tensor_a2.shape}',\n",
    "        f'{tensor_b2.name}  ->  {tensor_b2.shape}',\n",
    "        sep='\\n',\n",
    "    )\n",
    "\n",
    "except ValueError as err:\n",
    "\n",
    "    print('Variable Mismatch.')"
   ]
  },
  {
   "cell_type": "code",
   "execution_count": 79,
   "metadata": {
    "ExecuteTime": {
     "end_time": "2018-12-12T02:15:29.269842Z",
     "start_time": "2018-12-12T02:15:29.236293Z"
    }
   },
   "outputs": [
    {
     "name": "stdout",
     "output_type": "stream",
     "text": [
      "test_error_variable_scope/constant_a:0  ->  ()\n",
      "test_error_variable_scope/constant_a_1:0  ->  (2,)\n",
      "test_error_variable_scope/variable_a:0  ->  (1,)\n",
      "test_error_variable_scope/variable_b:0  ->  (2,)\n",
      "test_error_variable_scope_1/constant_a:0  ->  (3,)\n",
      "test_error_variable_scope_1/variable_b:0  ->  (3,)\n"
     ]
    }
   ],
   "source": [
    "tf.reset_default_graph()\n",
    "\n",
    "\n",
    "with tf.variable_scope('test_error_variable_scope', reuse=tf.AUTO_REUSE) as scope:\n",
    "\n",
    "    tensor_a0 = tf.constant(9, dtype=tf.int32, name='constant_a')\n",
    "    tensor_a1 = tf.constant([1, 2], dtype=tf.int32, name='constant_a')\n",
    "    tensor_b0 = tf.get_variable(\n",
    "        'variable_a',\n",
    "         shape=(1, ),\n",
    "         dtype=tf.int32,\n",
    "         initializer=tf.constant_initializer(7),\n",
    "    )\n",
    "    tensor_b1 = tf.get_variable(\n",
    "        'variable_b',\n",
    "         shape=(2, ),\n",
    "         dtype=tf.int32,\n",
    "         initializer=tf.constant_initializer([2, 3]),\n",
    "    )\n",
    "\n",
    "\n",
    "with tf.variable_scope('test_error_variable_scope', reuse=tf.AUTO_REUSE) as scope:\n",
    "\n",
    "    tensor_a2 = tf.constant([9, 1, 3], dtype=tf.int32, name='constant_a')\n",
    "    tensor_b2 = tf.Variable([6, 7, 8], dtype=tf.int32, name='variable_b')\n",
    "\n",
    "\n",
    "print(\n",
    "    f'{tensor_a0.name}  ->  {tensor_a0.shape}',\n",
    "    f'{tensor_a1.name}  ->  {tensor_a1.shape}',\n",
    "    f'{tensor_b0.name}  ->  {tensor_b0.shape}',\n",
    "    f'{tensor_b1.name}  ->  {tensor_b1.shape}',\n",
    "    f'{tensor_a2.name}  ->  {tensor_a2.shape}',\n",
    "    f'{tensor_b2.name}  ->  {tensor_b2.shape}',\n",
    "    sep='\\n',\n",
    ")\n"
   ]
  },
  {
   "cell_type": "markdown",
   "metadata": {},
   "source": [
    "#### scope 사용 예시"
   ]
  },
  {
   "cell_type": "markdown",
   "metadata": {},
   "source": [
    "* Dense Layer"
   ]
  },
  {
   "cell_type": "code",
   "execution_count": 23,
   "metadata": {
    "ExecuteTime": {
     "end_time": "2018-12-11T17:01:12.936866Z",
     "start_time": "2018-12-11T17:01:12.929935Z"
    }
   },
   "outputs": [],
   "source": [
    "def dense_layer(\n",
    "    input_x,\n",
    "    output_dim,\n",
    "    activation=tf.nn.sigmoid,\n",
    "    is_training=True,\n",
    "    reuse=tf.AUTO_REUSE,\n",
    "    name='dense',\n",
    "    ):\n",
    "    \n",
    "    with tf.variable_scope(name, reuse=reuse):\n",
    "        densed = tf.layers.dense(\n",
    "            input_x,\n",
    "            units=output_dim,\n",
    "            activation=activation,\n",
    "            kernel_initializer=tf.random_normal_initializer(),\n",
    "            name=name,\n",
    "        )\n",
    "\n",
    "    print(name, densed.get_shape())\n",
    "\n",
    "    return densed"
   ]
  },
  {
   "cell_type": "markdown",
   "metadata": {},
   "source": [
    "##### 모델 구현\n",
    "\n",
    "* $y = (w_{1}x_{1} + w_{2}x_{2} + b) + (w_{a} + w_{b})$"
   ]
  },
  {
   "cell_type": "code",
   "execution_count": 80,
   "metadata": {
    "ExecuteTime": {
     "end_time": "2018-12-12T02:18:02.347386Z",
     "start_time": "2018-12-12T02:18:02.256671Z"
    },
    "scrolled": false
   },
   "outputs": [
    {
     "name": "stdout",
     "output_type": "stream",
     "text": [
      "======================================================================\n",
      "input_layer/input_x_1:0  ->  ()\n",
      "input_layer/input_x_2:0  ->  ()\n",
      "======================================================================\n",
      "multiply_layer/multiply_weight_1:0  ->  (1,)\n",
      "multiply_layer/multiply_weight_2:0  ->  (1,)\n",
      "multiply_layer/mul:0  ->  (1,)\n",
      "multiply_layer/mul_1:0  ->  (1,)\n",
      "======================================================================\n",
      "add_layer/add:0  ->  (1,)\n",
      "======================================================================\n",
      "multiply_layer/multiply_weight_1:0  ->  (1,)\n",
      "multiply_layer/multiply_weight_2:0  ->  (1,)\n",
      "multiply_layer_1/sub:0  ->  (1,)\n",
      "======================================================================\n",
      "output_layer/add:0  ->  (1,)\n",
      "======================================================================\n"
     ]
    }
   ],
   "source": [
    "tf.reset_default_graph()\n",
    "\n",
    "with tf.name_scope('input_layer'):\n",
    "    \n",
    "    #x_1 = tf.placeholder(tf.float32, shape=(1,), name='input_x_1')\n",
    "    #x_2 = tf.placeholder(tf.float32, shape=(1,), name='input_x_2')\n",
    "    \n",
    "    x_1 = tf.constant(9., dtype=tf.float32, name='input_x_1')\n",
    "    x_2 = tf.constant(4., dtype=tf.float32, name='input_x_2')\n",
    "\n",
    "    \n",
    "with tf.variable_scope('multiply_layer', reuse=tf.AUTO_REUSE):\n",
    "\n",
    "    weight_1 = tf.get_variable('multiply_weight_1', shape=(1,), dtype=tf.float32, initializer=tf.random_normal_initializer())\n",
    "    weight_2 = tf.get_variable('multiply_weight_2', shape=(1,), dtype=tf.float32, initializer=tf.random_normal_initializer())\n",
    "\n",
    "    multiply_op_1 = weight_1 * x_1\n",
    "    multiply_op_2 = weight_2 * x_2\n",
    "\n",
    "with tf.variable_scope('add_layer', reuse=tf.AUTO_REUSE):\n",
    "    \n",
    "    add_op = multiply_op_1 + multiply_op_2\n",
    "\n",
    "\n",
    "with tf.variable_scope('multiply_layer', reuse=True):\n",
    "    \n",
    "    reuse_weight_1 = tf.get_variable('multiply_weight_1', dtype=tf.float32)\n",
    "    reuse_weight_2 = tf.get_variable('multiply_weight_2', dtype=tf.float32)\n",
    "\n",
    "    subtract_weight_op = reuse_weight_1 - reuse_weight_2\n",
    "\n",
    "\n",
    "with tf.name_scope('output_layer'):\n",
    "    \n",
    "    result_op = add_op + subtract_weight_op\n",
    "\n",
    "    \n",
    "print(\n",
    "    '=' * 70,\n",
    "    f'{x_1.name}  ->  {x_1.shape}',\n",
    "    f'{x_2.name}  ->  {x_2.shape}',\n",
    "    '=' * 70,\n",
    "    f'{weight_1.name}  ->  {weight_1.shape}',\n",
    "    f'{weight_2.name}  ->  {weight_2.shape}',\n",
    "    f'{multiply_op_1.name}  ->  {multiply_op_1.shape}',\n",
    "    f'{multiply_op_2.name}  ->  {multiply_op_2.shape}',\n",
    "    '=' * 70,\n",
    "    f'{add_op.name}  ->  {add_op.shape}',\n",
    "    '=' * 70,\n",
    "    f'{reuse_weight_1.name}  ->  {reuse_weight_1.shape}',\n",
    "    f'{reuse_weight_2.name}  ->  {reuse_weight_2.shape}',\n",
    "    f'{subtract_weight_op.name}  ->  {subtract_weight_op.shape}',\n",
    "    '=' * 70,\n",
    "    f'{result_op.name}  ->  {result_op.shape}',\n",
    "    '=' * 70,\n",
    "    sep='\\n',\n",
    ")"
   ]
  },
  {
   "cell_type": "markdown",
   "metadata": {},
   "source": [
    "* Tensorboard"
   ]
  },
  {
   "cell_type": "code",
   "execution_count": 81,
   "metadata": {
    "ExecuteTime": {
     "end_time": "2018-12-12T02:18:07.749813Z",
     "start_time": "2018-12-12T02:18:07.701996Z"
    },
    "scrolled": false
   },
   "outputs": [
    {
     "data": {
      "text/plain": [
       "[array([17.812145], dtype=float32),\n",
       " array([0.18236613], dtype=float32),\n",
       " array([17.99451], dtype=float32)]"
      ]
     },
     "execution_count": 81,
     "metadata": {},
     "output_type": "execute_result"
    }
   ],
   "source": [
    "init_op = tf.global_variables_initializer()\n",
    "\n",
    "with tf.Session() as sess:\n",
    "    tf.summary.FileWriter('tensorboard_examples/example1', sess.graph)\n",
    "    \n",
    "    sess.run(init_op)\n",
    "    results = sess.run([add_op, subtract_weight_op, result_op])\n",
    "\n",
    "results"
   ]
  },
  {
   "cell_type": "raw",
   "metadata": {
    "ExecuteTime": {
     "end_time": "2018-12-11T13:41:43.144372Z",
     "start_time": "2018-12-11T13:41:43.021761Z"
    }
   },
   "source": [
    "!pwd"
   ]
  },
  {
   "cell_type": "raw",
   "metadata": {
    "ExecuteTime": {
     "end_time": "2018-12-11T13:42:14.825364Z",
     "start_time": "2018-12-11T13:41:43.871944Z"
    }
   },
   "source": [
    " !tensorboard --logdir=tensorboard_examples --port=6007"
   ]
  },
  {
   "cell_type": "markdown",
   "metadata": {},
   "source": [
    "### `feed_dict`\n",
    "\n",
    "지금까지 `tf.constant`로 고정값을 Input으로 삼아 모델 그래프를 그려보았다.  \n",
    "하지만 진짜 모델이라면 함수처럼 외부 값을 받아서 Output을 출력해야 한다.\n",
    "\n",
    "__이제는 Graph에 값을 전달할 차례다.__ `tf.placeholder`를 이용해 보자.\n",
    "\n",
    "`tf.Session` class는 `run`이라는 method를 지원한다.\n",
    "지금까지 이 method로 <font color='#318CE7' size='3'><b><i>수도꼭지를 틀듯이</i></b></font> 계산작업을 실행해 왔다.\n",
    "\n",
    "`tf.Session.run()` 에서는 주로 2개의 변수를 사용한다.\n",
    "\n",
    "* fetches\n",
    "* feed_dict\n",
    "\n",
    "`fetches`는 지금까지 해왔던 대로 실행하고 싶은 `tf.Operation`을 1개만, 또는 list에 담아서 전달한다.  \n",
    "`feed_dict`는 뭘까?\n",
    "\n",
    "<div class=\"alert alert-block alert-warning\">\n",
    "<b>$\\divideontimes$ feed_dict 사용법  </b>\n",
    "    \n",
    "`feed_dict`는 dictionary의 형태로 `tf.placeholder`와 Input을 매핑하여 전달한다.\n",
    "\n",
    "<br>\n",
    "\n",
    "\n",
    "```py\n",
    "with tf.Session() as sess:\n",
    "    sess.run(init_op)\n",
    "    \n",
    "    result_val = sess.run(\n",
    "        result_op,\n",
    "        feed_dict={x_1: input_x1, x_2: input_x2},\n",
    "    )\n",
    "\n",
    "\n",
    "```\n",
    "\n",
    "<br>\n",
    "이 때 주의할 점은, dictionary처럼 생겼지만 <font color='#318CE7' size='3'><b><i>key로 `str`이 아니라 사전에 정의한 `tf.placeholder`를 작성해 준다는 점이다.</i></b></font>\n",
    "\n",
    "</div>  \n"
   ]
  },
  {
   "cell_type": "markdown",
   "metadata": {},
   "source": [
    "##### 모델 구현\n",
    "\n",
    "* $y = (w_{1}x_{1} + w_{2}x_{2} + b) + (w_{a} + w_{b})$"
   ]
  },
  {
   "cell_type": "code",
   "execution_count": 82,
   "metadata": {
    "ExecuteTime": {
     "end_time": "2018-12-12T02:22:42.967121Z",
     "start_time": "2018-12-12T02:22:42.916458Z"
    },
    "scrolled": false
   },
   "outputs": [
    {
     "name": "stdout",
     "output_type": "stream",
     "text": [
      "======================================================================\n",
      "input_layer/input_x_1:0  ->  <unknown>\n",
      "input_layer/input_x_2:0  ->  <unknown>\n",
      "======================================================================\n",
      "multiply_layer/multiply_weight_1:0  ->  (1,)\n",
      "multiply_layer/multiply_weight_2:0  ->  (1,)\n",
      "multiply_layer/mul:0  ->  <unknown>\n",
      "multiply_layer/mul_1:0  ->  <unknown>\n",
      "======================================================================\n",
      "add_layer/add:0  ->  <unknown>\n",
      "======================================================================\n",
      "multiply_layer/multiply_weight_1:0  ->  (1,)\n",
      "multiply_layer/multiply_weight_2:0  ->  (1,)\n",
      "multiply_layer_1/sub:0  ->  (1,)\n",
      "======================================================================\n",
      "output_layer/add:0  ->  <unknown>\n",
      "======================================================================\n"
     ]
    }
   ],
   "source": [
    "tf.reset_default_graph()\n",
    "\n",
    "with tf.name_scope('input_layer'):\n",
    "    \n",
    "    x_1 = tf.placeholder(tf.float32, shape=(None), name='input_x_1')\n",
    "    x_2 = tf.placeholder(tf.float32, shape=(None), name='input_x_2')\n",
    "    \n",
    "\n",
    "with tf.variable_scope('multiply_layer', reuse=tf.AUTO_REUSE):\n",
    "\n",
    "    weight_1 = tf.get_variable('multiply_weight_1', shape=(1,), dtype=tf.float32, initializer=tf.random_normal_initializer())\n",
    "    weight_2 = tf.get_variable('multiply_weight_2', shape=(1,), dtype=tf.float32, initializer=tf.random_normal_initializer())\n",
    "\n",
    "    multiply_op_1 = weight_1 * x_1\n",
    "    multiply_op_2 = weight_2 * x_2\n",
    "\n",
    "with tf.variable_scope('add_layer', reuse=tf.AUTO_REUSE):\n",
    "    \n",
    "    add_op = multiply_op_1 + multiply_op_2\n",
    "\n",
    "\n",
    "with tf.variable_scope('multiply_layer', reuse=True):\n",
    "    \n",
    "    reuse_weight_1 = tf.get_variable('multiply_weight_1', dtype=tf.float32)\n",
    "    reuse_weight_2 = tf.get_variable('multiply_weight_2', dtype=tf.float32)\n",
    "\n",
    "    subtract_weight_op = reuse_weight_1 - reuse_weight_2\n",
    "\n",
    "\n",
    "with tf.name_scope('output_layer'):\n",
    "    \n",
    "    result_op = add_op + subtract_weight_op\n",
    "\n",
    "    \n",
    "print(\n",
    "    '=' * 70,\n",
    "    f'{x_1.name}  ->  {x_1.shape}',\n",
    "    f'{x_2.name}  ->  {x_2.shape}',\n",
    "    '=' * 70,\n",
    "    f'{weight_1.name}  ->  {weight_1.shape}',\n",
    "    f'{weight_2.name}  ->  {weight_2.shape}',\n",
    "    f'{multiply_op_1.name}  ->  {multiply_op_1.shape}',\n",
    "    f'{multiply_op_2.name}  ->  {multiply_op_2.shape}',\n",
    "    '=' * 70,\n",
    "    f'{add_op.name}  ->  {add_op.shape}',\n",
    "    '=' * 70,\n",
    "    f'{reuse_weight_1.name}  ->  {reuse_weight_1.shape}',\n",
    "    f'{reuse_weight_2.name}  ->  {reuse_weight_2.shape}',\n",
    "    f'{subtract_weight_op.name}  ->  {subtract_weight_op.shape}',\n",
    "    '=' * 70,\n",
    "    f'{result_op.name}  ->  {result_op.shape}',\n",
    "    '=' * 70,\n",
    "    sep='\\n',\n",
    ")"
   ]
  },
  {
   "cell_type": "markdown",
   "metadata": {},
   "source": [
    "* Tensorboard"
   ]
  },
  {
   "cell_type": "code",
   "execution_count": 27,
   "metadata": {
    "ExecuteTime": {
     "end_time": "2018-12-11T17:01:13.102561Z",
     "start_time": "2018-12-11T17:01:13.073474Z"
    },
    "scrolled": false
   },
   "outputs": [
    {
     "data": {
      "text/plain": [
       "[array([5.342087], dtype=float32),\n",
       " array([0.5322961], dtype=float32),\n",
       " array([5.874383], dtype=float32)]"
      ]
     },
     "execution_count": 27,
     "metadata": {},
     "output_type": "execute_result"
    }
   ],
   "source": [
    "input_x1 = 8.\n",
    "input_x2 = 7.\n",
    "\n",
    "\n",
    "init_op = tf.global_variables_initializer()\n",
    "\n",
    "with tf.Session() as sess:\n",
    "    tf.summary.FileWriter('tensorboard_examples/example2', sess.graph)\n",
    "    \n",
    "    sess.run(init_op)\n",
    "    results = sess.run(\n",
    "        [add_op, subtract_weight_op, result_op],\n",
    "        feed_dict={x_1: input_x1, x_2: input_x2},\n",
    "    )\n",
    "\n",
    "results"
   ]
  },
  {
   "cell_type": "raw",
   "metadata": {
    "ExecuteTime": {
     "end_time": "2018-12-11T14:18:15.874936Z",
     "start_time": "2018-12-11T14:18:15.755946Z"
    }
   },
   "source": [
    "!pwd"
   ]
  },
  {
   "cell_type": "raw",
   "metadata": {
    "ExecuteTime": {
     "start_time": "2018-12-11T14:18:51.574Z"
    },
    "scrolled": false
   },
   "source": [
    "!tensorboard --logdir=tensorboard_examples --port=6007"
   ]
  },
  {
   "cell_type": "markdown",
   "metadata": {},
   "source": [
    "이제, 다시 한번 그림을 보고 복습해 보자.\n",
    "<br>\n",
    "\n",
    "<img src='images/mlp_tf/tensorflow_graph_and_session.png' width='80%' align='center'>"
   ]
  },
  {
   "cell_type": "markdown",
   "metadata": {},
   "source": [
    "### Eager Execution을 향해\n",
    "\n",
    "개발자 입장에서 Tensorflow의 가장 큰 단점은 코드의 결과값을 항상 `tf.Session.run`에서만 확인할 수 있다는 점이다.  \n",
    "`Python`이라는 Interactive 환경과 이런 개발 단계에서의 불편함을 해소하기 위해  \n",
    "`sess = tf.InteractiveSession()`과 같은 기능을 지원했지만 예제 이외에서는 잘 쓰이지 않았다.\n",
    "\n",
    "`PyTorch` 같은 다른 라이브러리들이 Interactive 환경을 기본 골격으로 하는 데 비해 직관적이지 않아 개발이 힘들었다.  \n",
    "그러던 중, 1.5.0 버전부터 Eager Execution을 공식적으로 지원하기 시작했다.  \n",
    "Tensorflow의 최대 단점이었던 __*Define-and-Run*__ 방식을 __*Define-by-Run*__ 방식으로 사용할 수 있게 된 것이다.\n",
    "\n",
    "`tf.enable_eager_execution()`으로 사용 가능하며, 바로바로 값을 확인하며 debugging할 수 있다.  \n",
    "단, _**startup 단계에서 설정해 주어야 사용 가능하다.**_"
   ]
  },
  {
   "cell_type": "raw",
   "metadata": {
    "ExecuteTime": {
     "end_time": "2018-12-11T14:53:33.981984Z",
     "start_time": "2018-12-11T14:53:33.219910Z"
    }
   },
   "source": [
    "import tensorflow as tf\n",
    "\n",
    "\n",
    "tf.enable_eager_execution()\n",
    "\n",
    "\n",
    "print(tf.add(1, 2))\n",
    "print(tf.add([1, 2], [3, 4]))\n",
    "print(tf.square(5))\n",
    "print(tf.reduce_sum([1, 2, 3]))\n",
    "\n",
    "a = tf.add(1, 2)\n",
    "a.numpy()"
   ]
  },
  {
   "cell_type": "markdown",
   "metadata": {},
   "source": [
    "## MLP in `tensorflow`\n",
    "\n",
    "<br>\n",
    "<img src='images/mlp/mlp_full_propagation.png' width='50%' align='left'>\n",
    "<img src='images/mlp/mlp_compute_flow.gif' width='50%' align='right'>\n",
    "<br>"
   ]
  },
  {
   "cell_type": "markdown",
   "metadata": {},
   "source": [
    "### Input\n",
    "\n",
    "<br>\n",
    "<font size='4'> <b> $\\cdot$ Case 2:</b> 한 시점의 KPI 여러 개로 다음 KPI 예측하기</font>\n",
    "<br>\n",
    "<br>\n",
    "<img src=\"images/mlp/mlp_graphset02.png\">\n",
    "\n",
    "<br>\n",
    "<font size='4'> <b> $\\cdot$ 데이터 구조</b></font>\n",
    "<br>\n",
    "\n",
    "<img src=\"images/sliding_windows_mlp.png\" >\n",
    "<img src=\"images/sliding_windows_mlp_reshaping.png\" >\n"
   ]
  },
  {
   "cell_type": "code",
   "execution_count": 83,
   "metadata": {
    "ExecuteTime": {
     "end_time": "2018-12-12T02:28:30.109768Z",
     "start_time": "2018-12-12T02:28:30.098670Z"
    }
   },
   "outputs": [],
   "source": [
    "# 같은 랜덤값 생성\n",
    "tf.set_random_seed(1)\n",
    "\n",
    "# 훈련 데이터 로딩\n",
    "train_x_mlp = np.load('data/train_x_mlp.npy')\n",
    "train_y_mlp = np.load('data/train_y_mlp.npy')\n",
    "\n",
    "# 테스트 데이터 로딩\n",
    "test_x_mlp = np.load('data/test_x_mlp.npy')\n",
    "test_y_mlp = np.load('data/test_y_mlp.npy')"
   ]
  },
  {
   "cell_type": "code",
   "execution_count": 84,
   "metadata": {
    "ExecuteTime": {
     "end_time": "2018-12-12T02:28:31.961290Z",
     "start_time": "2018-12-12T02:28:31.955229Z"
    }
   },
   "outputs": [
    {
     "data": {
      "text/plain": [
       "(4000, 3)"
      ]
     },
     "execution_count": 84,
     "metadata": {},
     "output_type": "execute_result"
    }
   ],
   "source": [
    "# 훈련 데이터 형태 확인\n",
    "train_x_mlp.shape"
   ]
  },
  {
   "cell_type": "code",
   "execution_count": 85,
   "metadata": {
    "ExecuteTime": {
     "end_time": "2018-12-12T02:28:33.770810Z",
     "start_time": "2018-12-12T02:28:33.765039Z"
    }
   },
   "outputs": [
    {
     "data": {
      "text/plain": [
       "(4000, 2)"
      ]
     },
     "execution_count": 85,
     "metadata": {},
     "output_type": "execute_result"
    }
   ],
   "source": [
    "train_y_mlp.shape"
   ]
  },
  {
   "cell_type": "code",
   "execution_count": 86,
   "metadata": {
    "ExecuteTime": {
     "end_time": "2018-12-12T02:28:35.647404Z",
     "start_time": "2018-12-12T02:28:35.643081Z"
    }
   },
   "outputs": [],
   "source": [
    "from unipy import aprint, lprint\n",
    "from src.load_data import load_data"
   ]
  },
  {
   "cell_type": "code",
   "execution_count": 87,
   "metadata": {
    "ExecuteTime": {
     "end_time": "2018-12-12T02:28:37.485805Z",
     "start_time": "2018-12-12T02:28:37.472967Z"
    }
   },
   "outputs": [
    {
     "name": "stdout",
     "output_type": "stream",
     "text": [
      "Loading Data...\n",
      "train_x_mlp : (4000, 3)\n",
      "train_y_mlp : (4000, 2)\n",
      "train_x_rnn : (4000, 5, 3)\n",
      "train_y_rnn : (4000, 2, 2)\n",
      "test_x_mlp : (289, 3)\n",
      "test_y_mlp : (289, 2)\n",
      "test_x_rnn : (284, 5, 3)\n",
      "test_y_rnn : (284, 2, 2)\n",
      "Complete.\n"
     ]
    }
   ],
   "source": [
    "data_dict = load_data()"
   ]
  },
  {
   "cell_type": "code",
   "execution_count": 88,
   "metadata": {
    "ExecuteTime": {
     "end_time": "2018-12-12T02:29:11.927225Z",
     "start_time": "2018-12-12T02:29:11.922223Z"
    }
   },
   "outputs": [],
   "source": [
    "train_x_mlp = data_dict['train_x_mlp']\n",
    "train_y_mlp = data_dict['train_y_mlp']\n",
    "\n",
    "test_x_mlp = data_dict['test_x_mlp']\n",
    "test_y_mlp = data_dict['test_y_mlp']"
   ]
  },
  {
   "cell_type": "code",
   "execution_count": 90,
   "metadata": {
    "ExecuteTime": {
     "end_time": "2018-12-12T02:29:43.910731Z",
     "start_time": "2018-12-12T02:29:43.903626Z"
    }
   },
   "outputs": [
    {
     "name": "stdout",
     "output_type": "stream",
     "text": [
      "=========================================================================\n",
      "|  X                                     |   Y                          |\n",
      "|  (6, 3)                                |   (6, 2)                     |\n",
      "=========================================================================\n",
      "|  [[0.93266666 0.6545673  0.02738333]   |   [[0.93322223 0.5649359 ]   |\n",
      "|   [0.93322223 0.5649359  0.02481667]   |    [0.94       0.615     ]   |\n",
      "|   [0.94       0.615      0.03475   ]   |    [0.9254444  0.68875   ]   |\n",
      "|   [0.9254444  0.68875    0.03291667]   |    [0.8882222  0.7223611 ]   |\n",
      "|   [0.8882222  0.7223611  0.04091667]   |    [0.92422223 0.6176961 ]   |\n",
      "|   [0.92422223 0.6176961  0.03393333]]  |    [0.8743333  0.61658657]]  |\n",
      "=========================================================================\n"
     ]
    }
   ],
   "source": [
    "aprint(train_x_mlp[:6], train_y_mlp[:6], name_list=['X', 'Y'])"
   ]
  },
  {
   "cell_type": "markdown",
   "metadata": {},
   "source": [
    "### Output"
   ]
  },
  {
   "cell_type": "code",
   "execution_count": 91,
   "metadata": {
    "ExecuteTime": {
     "end_time": "2018-12-12T02:29:56.170409Z",
     "start_time": "2018-12-12T02:29:56.163161Z"
    }
   },
   "outputs": [
    {
     "name": "stdout",
     "output_type": "stream",
     "text": [
      "=========================================================================\n",
      "|  X                                     |   Y                          |\n",
      "|  (5, 3)                                |   (5, 2)                     |\n",
      "=========================================================================\n",
      "|  [[0.8298889  0.65433335 0.2101    ]   |   [[0.8277778  0.6791667 ]   |\n",
      "|   [0.8277778  0.6791667  0.19303334]   |    [0.8387778  0.6594167 ]   |\n",
      "|   [0.8387778  0.6594167  0.14441666]   |    [0.8143333  0.683625  ]   |\n",
      "|   [0.8143333  0.683625   0.18081667]   |    [0.7651111  0.6902083 ]   |\n",
      "|   [0.7651111  0.6902083  0.29873332]]  |    [0.83588886 0.6701667 ]]  |\n",
      "=========================================================================\n"
     ]
    }
   ],
   "source": [
    "aprint(test_x_mlp[:5], test_y_mlp[:5], name_list=['X', 'Y'])"
   ]
  },
  {
   "cell_type": "markdown",
   "metadata": {},
   "source": [
    "### Layers\n",
    "\n",
    "<img src=\"images/mlp/mlp_batch.png\" width='80%' align='center'>"
   ]
  },
  {
   "cell_type": "code",
   "execution_count": 92,
   "metadata": {
    "ExecuteTime": {
     "end_time": "2018-12-12T02:30:09.927505Z",
     "start_time": "2018-12-12T02:30:09.922434Z"
    }
   },
   "outputs": [],
   "source": [
    "input_dim  = train_x_mlp.shape[1]  # 3\n",
    "output_dim = train_y_mlp.shape[1]  # 2\n",
    "\n",
    "unit_num_1 = 4\n",
    "unit_num_2 = 2"
   ]
  },
  {
   "cell_type": "markdown",
   "metadata": {},
   "source": [
    "* Input Layer"
   ]
  },
  {
   "cell_type": "code",
   "execution_count": 93,
   "metadata": {
    "ExecuteTime": {
     "end_time": "2018-12-12T02:30:11.737054Z",
     "start_time": "2018-12-12T02:30:11.729715Z"
    }
   },
   "outputs": [],
   "source": [
    "input_x_placeholder = tf.placeholder(tf.float32, shape=(None, input_dim))\n",
    "input_y_placeholder = tf.placeholder(tf.float32, shape=(None, output_dim))"
   ]
  },
  {
   "cell_type": "markdown",
   "metadata": {},
   "source": [
    "* Dense Layer"
   ]
  },
  {
   "cell_type": "code",
   "execution_count": 94,
   "metadata": {
    "ExecuteTime": {
     "end_time": "2018-12-12T02:30:15.176135Z",
     "start_time": "2018-12-12T02:30:15.124753Z"
    }
   },
   "outputs": [],
   "source": [
    "weight_1 = tf.Variable(tf.random_normal(shape=(input_dim, unit_num_1)))\n",
    "biases_1 = tf.Variable(tf.random_normal(shape=(unit_num_1, )))\n",
    "layer_1 = (input_x_placeholder @ weight_1) + biases_1\n",
    "activation_1 = tf.sigmoid(layer_1)\n",
    "\n",
    "\n",
    "weight_2 = tf.Variable(tf.random_normal(shape=(unit_num_1, unit_num_2)))\n",
    "biases_2 = tf.Variable(tf.random_normal(shape=(unit_num_2, )))\n",
    "layer_2 = (activation_1 @ weight_2) + biases_2\n",
    "activation_2 = tf.sigmoid(layer_2)\n",
    "\n",
    "logits = activation_2"
   ]
  },
  {
   "cell_type": "markdown",
   "metadata": {},
   "source": [
    "### Optimizer\n",
    "\n",
    "\n",
    "- **실제 결과와 함수에서 예측한 결과의 차이를 확인 (loss)**\n",
    "    *  `tf.losses.mean_squared_error(labels=실제값, predictions=예측값)`\n",
    "     <br><br>\n",
    "\n",
    "-  **loss를 최소화하는 방향으로 모델 훈련 (`AdamOptimizer` 사용)**\n",
    "    * `tf.train.AdamOptimizer(learning_rate).minimize(loss)`"
   ]
  },
  {
   "cell_type": "code",
   "execution_count": 95,
   "metadata": {
    "ExecuteTime": {
     "end_time": "2018-12-12T02:30:17.897920Z",
     "start_time": "2018-12-12T02:30:17.648585Z"
    }
   },
   "outputs": [],
   "source": [
    "loss = tf.losses.mean_squared_error(labels=input_y_placeholder, predictions=logits)\n",
    "train_op = tf.train.AdamOptimizer(learning_rate=0.005).minimize(loss)"
   ]
  },
  {
   "cell_type": "markdown",
   "metadata": {},
   "source": [
    "### Batch\n",
    "\n",
    "<img src=\"images/mlp/mlp_batch_full.png\" style=\"width:80%\">\n",
    "<br>\n",
    "<font size=\"3\">Batch는 한번 학습에 이용하는 샘플 단위를 말한다.</font><br>\n",
    "<br>\n",
    "전체 Input의 개수가 10이고 `batch_size`가 2일 경우, $\\space\\space$<font size='4'><b> $\\leftarrow$ input_size: 10, batch_size: 2</b></font><br>\n",
    "부분집합인 2개씩을 꺼내어 1번 학습에 활용하게 되고 $\\space\\space$<font size='4'><b> $\\leftarrow$ step_num: 1 (누적학습횟수)</b></font><br> \n",
    "총 5번 학습하면 전체 Input을 다 학습하게 된다. $\\space\\space$<font size='4'><b> $\\leftarrow$ batch_nu: 5 (학습횟수)</b></font><br>\n",
    "이렇게 Input을 한번 다 보는 경우를 1 epoch이라 하며, $\\space\\space$<font size='4'><b> $\\leftarrow$ epoch_num: 1</b></font><br>\n",
    "<br>\n",
    "\n",
    "<font size=\"3\">10 epoch로 학습하는 경우  \n",
    "`batch_num`은 5, `step_num`은 50이 된다.</font>\n",
    "\n",
    "<br>\n",
    "<br>\n",
    "$\\space$\n",
    "$\\space 1 \\space Epoch,$\n",
    "\\begin{equation}\n",
    "\\begin{bmatrix} 1st \\space Batch \\times \\color{red}3 \\end{bmatrix}\n",
    "\\overbrace{ \\begin{bmatrix} \\color{red}3 \\times \\color{blue}4 \\end{bmatrix} }^{1st Layer}\n",
    "\\overbrace{ \\begin{bmatrix} \\color{blue}4 \\times 2 \\end{bmatrix} }^{2nd Layer}\n",
    "= \\begin{bmatrix} 1st \\space Batch \\times 2 \\end{bmatrix}\n",
    "\\Rightarrow 1st \\space Backpropagation\n",
    "\\end{equation}  \n",
    "\\begin{equation}\n",
    "\\begin{bmatrix} 2nd \\space Batch \\times \\color{red}3 \\end{bmatrix}\n",
    "\\overbrace{ \\begin{bmatrix} \\color{red}3 \\times \\color{blue}4 \\end{bmatrix} }^{1st Layer}\n",
    "\\overbrace{ \\begin{bmatrix} \\color{blue}4 \\times 2 \\end{bmatrix} }^{2nd Layer}\n",
    "= \\begin{bmatrix} 2nd \\space Batch \\times 2 \\end{bmatrix}\n",
    "\\Rightarrow 2nd \\space Backpropagation\n",
    "\\end{equation}  \n",
    "$$\\vdots$$\n",
    "\\begin{equation}\n",
    "\\begin{bmatrix} 5th \\space Batch \\times \\color{red}3 \\end{bmatrix}\n",
    "\\overbrace{ \\begin{bmatrix} \\color{red}3 \\times \\color{blue}4 \\end{bmatrix} }^{1st Layer}\n",
    "\\overbrace{ \\begin{bmatrix} \\color{blue}4 \\times 2 \\end{bmatrix} }^{2nd Layer}\n",
    "= \\begin{bmatrix} 5th \\space Batch \\times 2 \\end{bmatrix}\n",
    "\\Rightarrow 5th \\space Backpropagation\n",
    "\\end{equation} \n",
    "$\\space$\n",
    "\n",
    "<br>\n",
    "<br>\n",
    "\n",
    "학습할 때는 주어진 `input_size`에 대해 `batch_size`와 `epoch_num`을 지정한다.<br>\n",
    "<font size='3'>이제, <font color='#318CE7'> <b><i> 딥러닝 모델이 Input을 어떻게 읽어들이는 지 알 수 있다.</i></b></font></font>\n",
    "<br>\n",
    "\n",
    "<div class=\"alert alert-block alert-warning\">\n",
    "<b>$\\divideontimes$ Batch란:  </b> <b>1번 학습에 활용하는 Input의 부분집합 단위</b>\n",
    "\n",
    "<br>\n",
    "<br>\n",
    "$$Batch \\space num = \\frac {Input \\space size}{Batch \\space size}$$  \n",
    "\n",
    "$$1 \\space Epoch = Batch \\space size \\times Batch \\space num$$  \n",
    "\n",
    "$$ Step \\space num = Epoch \\space num \\times Batch \\space num$$  \n",
    "<br>\n",
    "</div>  "
   ]
  },
  {
   "cell_type": "code",
   "execution_count": 96,
   "metadata": {
    "ExecuteTime": {
     "end_time": "2018-12-12T02:30:48.644526Z",
     "start_time": "2018-12-12T02:30:48.636880Z"
    }
   },
   "outputs": [],
   "source": [
    "?up.splitter"
   ]
  },
  {
   "cell_type": "code",
   "execution_count": 97,
   "metadata": {
    "ExecuteTime": {
     "end_time": "2018-12-12T02:31:01.860809Z",
     "start_time": "2018-12-12T02:31:01.852883Z"
    }
   },
   "outputs": [],
   "source": [
    "def batch_data(input_x, input_y, batch_size=1):\n",
    "    \n",
    "    splitted_x = up.splitter(input_x, how='remaining', size=batch_size)\n",
    "    splitted_y = up.splitter(input_y, how='remaining', size=batch_size)\n",
    "    \n",
    "    batched_x = [np.stack(batch) for batch in splitted_x]\n",
    "    batched_y = [np.stack(batch) for batch in splitted_y]\n",
    "    \n",
    "    return batched_x, batched_y"
   ]
  },
  {
   "cell_type": "code",
   "execution_count": 98,
   "metadata": {
    "ExecuteTime": {
     "end_time": "2018-12-12T02:31:23.169917Z",
     "start_time": "2018-12-12T02:31:23.083092Z"
    }
   },
   "outputs": [
    {
     "name": "stdout",
     "output_type": "stream",
     "text": [
      "Raw     : (4000, 3)\n",
      "Batched : (250, (16, 3))\n"
     ]
    }
   ],
   "source": [
    "batched_x, batched_y = batch_data(train_x_mlp, train_y_mlp, batch_size=16)\n",
    "\n",
    "print(\n",
    "    f'Raw     : {train_x_mlp.shape}',\n",
    "    f'Batched : {(len(batched_x), batched_x[0].shape)}',\n",
    "    sep='\\n',\n",
    ")"
   ]
  },
  {
   "cell_type": "markdown",
   "metadata": {},
   "source": [
    "### Run \n",
    "\n",
    "1. `tf.global_variable_initializer()` 정의\n",
    "\n",
    "\n",
    "2. `tf.Session` 실행\n",
    "\n",
    "\n",
    "3. 변수(`tf.Variable`) 초기화\n",
    "\n",
    "\n",
    "4. `EPOCH_NUM` 정의\n",
    "\n",
    "\n",
    "5. 학습 for loop\n",
    "  - epoch 별\n",
    "    - batch shuffle\n",
    "    - batch 별\n",
    "      - `sess.run(train_op, feed_dict={x: train_x_batch, y: train_y_batch})`\n",
    "      - `loss_list += [loss_val]`\n",
    "\n",
    "\n",
    "6. 모델 평가\n",
    "  - `evaluate_val = sess.run(loss, feed_dict={x: test_x_batch, y: test_y_batch}`\n"
   ]
  },
  {
   "cell_type": "code",
   "execution_count": 99,
   "metadata": {
    "ExecuteTime": {
     "end_time": "2018-12-12T02:32:04.182642Z",
     "start_time": "2018-12-12T02:32:04.177883Z"
    }
   },
   "outputs": [],
   "source": [
    "def batch_shuffle(*iterables):\n",
    "\n",
    "    zipped = list(zip(*iterables))\n",
    "    random.shuffle(zipped)\n",
    "    \n",
    "    return zip(*zipped)"
   ]
  },
  {
   "cell_type": "code",
   "execution_count": 100,
   "metadata": {
    "ExecuteTime": {
     "end_time": "2018-12-12T02:32:06.682972Z",
     "start_time": "2018-12-12T02:32:06.677783Z"
    }
   },
   "outputs": [],
   "source": [
    "shuffled_x, shuffled_y = batch_shuffle(batched_x, batched_y)"
   ]
  },
  {
   "cell_type": "code",
   "execution_count": 101,
   "metadata": {
    "ExecuteTime": {
     "end_time": "2018-12-12T02:32:46.672993Z",
     "start_time": "2018-12-12T02:32:40.243230Z"
    }
   },
   "outputs": [
    {
     "name": "stdout",
     "output_type": "stream",
     "text": [
      "Training...\n",
      "\n",
      "Epoch: 1  loss=0.0016262\n",
      "Epoch: 4  loss=0.0020938\n",
      "Epoch: 7  loss=0.0044075\n",
      "Epoch: 10  loss=0.0010244\n",
      "Epoch: 13  loss=0.0013032\n",
      "Epoch: 16  loss=0.0006034\n",
      "Epoch: 19  loss=0.0042554\n",
      "Epoch: 22  loss=0.0048122\n",
      "Epoch: 25  loss=0.0013645\n",
      "Epoch: 28  loss=0.0013917\n",
      "\n",
      "Training Finished.\n",
      "\n",
      "==========================\n",
      "| Evaluation : 0.0019862 |\n",
      "==========================\n"
     ]
    },
    {
     "data": {
      "text/plain": [
       "[<matplotlib.lines.Line2D at 0x7f13b025eb70>]"
      ]
     },
     "execution_count": 101,
     "metadata": {},
     "output_type": "execute_result"
    },
    {
     "data": {
      "image/png": "[encoded data removed]",
      "text/plain": [
       "<Figure size 432x288 with 1 Axes>"
      ]
     },
     "metadata": {
      "needs_background": "light"
     },
     "output_type": "display_data"
    }
   ],
   "source": [
    "#==== Essential ========================================================#\n",
    "\n",
    "EPOCH_NUM = 30\n",
    "\n",
    "print('Training...\\n')\n",
    "\n",
    "init_op = tf.global_variables_initializer()\n",
    "with tf.Session() as sess:\n",
    "\n",
    "    tf.summary.FileWriter('tensorboard_examples/mlp_global', sess.graph)\n",
    "\n",
    "    sess.run(init_op)\n",
    "\n",
    "    loss_list = []\n",
    "    for epoch in range(EPOCH_NUM):\n",
    "\n",
    "        shuffled_x, shuffled_y = batch_shuffle(batched_x, batched_y)\n",
    "        shuffled = batch_shuffle(batched_x, batched_y)\n",
    "\n",
    "        for batch_x, batch_y in zip(shuffled_x, shuffled_y):\n",
    "\n",
    "            loss_val, _ = sess.run(\n",
    "                [loss, train_op],\n",
    "                feed_dict={\n",
    "                    input_x_placeholder: batch_x,\n",
    "                    input_y_placeholder: batch_y,\n",
    "                },\n",
    "            )\n",
    "            loss_list += [loss_val]\n",
    "\n",
    "        print_num = EPOCH_NUM / 10\n",
    "        if epoch % print_num == 0:\n",
    "            print(f'Epoch: {epoch + 1}  loss={loss_val:.7f}')\n",
    "\n",
    "    print('\\nTraining Finished.')\n",
    "    \n",
    "    evaluate_val = sess.run(\n",
    "        loss,\n",
    "        feed_dict={\n",
    "            input_x_placeholder: test_x_mlp,\n",
    "            input_y_placeholder: test_y_mlp,\n",
    "        },\n",
    "    )\n",
    "    predictions = sess.run(\n",
    "        logits,\n",
    "        feed_dict={\n",
    "            input_x_placeholder: test_x_mlp,\n",
    "        },\n",
    "    )\n",
    "\n",
    "#=======================================================================#\n",
    "\n",
    "print(f'\\n{\"=\" * 26}\\n| Evaluation : {np.mean(evaluate_val):.7f} |\\n{\"=\" * 26}')\n",
    "plt.plot(loss_list, label=['loss'])"
   ]
  },
  {
   "cell_type": "markdown",
   "metadata": {},
   "source": [
    "## MLP with `tf.variable_scope`"
   ]
  },
  {
   "cell_type": "code",
   "execution_count": 102,
   "metadata": {
    "ExecuteTime": {
     "end_time": "2018-12-12T02:34:01.753402Z",
     "start_time": "2018-12-12T02:34:01.749144Z"
    }
   },
   "outputs": [],
   "source": [
    "input_dim  = train_x_mlp.shape[1]  # 3\n",
    "output_dim = train_y_mlp.shape[1]  # 2\n",
    "\n",
    "unit_num_1 = 4\n",
    "unit_num_2 = 2"
   ]
  },
  {
   "cell_type": "code",
   "execution_count": 103,
   "metadata": {
    "ExecuteTime": {
     "end_time": "2018-12-12T02:34:20.120954Z",
     "start_time": "2018-12-12T02:34:19.718846Z"
    }
   },
   "outputs": [],
   "source": [
    "tf.reset_default_graph()\n",
    "\n",
    "\n",
    "with tf.variable_scope('Model', reuse=tf.AUTO_REUSE):\n",
    "\n",
    "\n",
    "    with tf.name_scope('Input_Layer'):\n",
    "        input_x_placeholder = tf.placeholder(tf.float32, shape=(None, input_dim), name='X')\n",
    "        input_y_placeholder = tf.placeholder(tf.float32, shape=(None, output_dim), name='Y')\n",
    "\n",
    "\n",
    "    with tf.variable_scope('Dense_Layer_1', reuse=tf.AUTO_REUSE):\n",
    "        weight_1 = tf.get_variable(\n",
    "            'w1',\n",
    "            shape=(input_dim, unit_num_1),\n",
    "            dtype=tf.float32,\n",
    "            initializer=tf.random_normal_initializer(),\n",
    "        )\n",
    "        biases_1 = tf.get_variable(\n",
    "            'b1',\n",
    "            shape=(unit_num_1, ),\n",
    "            dtype=tf.float32,\n",
    "            initializer=tf.random_normal_initializer(),\n",
    "        )\n",
    "        layer_1 = (input_x_placeholder @ weight_1) + biases_1\n",
    "        activation_1 = tf.sigmoid(layer_1)\n",
    "\n",
    "\n",
    "    with tf.variable_scope('Dense_Layer_2', reuse=tf.AUTO_REUSE):\n",
    "        weight_2 = tf.get_variable(\n",
    "            'w2',\n",
    "            shape=(unit_num_1, unit_num_2),\n",
    "            dtype=tf.float32,\n",
    "            initializer=tf.random_normal_initializer(),\n",
    "        )\n",
    "        biases_2 = tf.get_variable(\n",
    "            'b2',\n",
    "            shape=(unit_num_2, ),\n",
    "            dtype=tf.float32,\n",
    "            initializer=tf.random_normal_initializer(),\n",
    "        )\n",
    "        layer_2 = (activation_1 @ weight_2) + biases_2\n",
    "        activation_2 = tf.sigmoid(layer_2)\n",
    "    \n",
    "\n",
    "    logits = activation_2\n",
    "\n",
    "\n",
    "with tf.variable_scope('Optimization'):\n",
    "    loss = tf.losses.mean_squared_error(\n",
    "        labels=input_y_placeholder,\n",
    "        predictions=logits,\n",
    "    )\n",
    "    train_op = tf.train.AdamOptimizer(learning_rate=0.005).minimize(loss)"
   ]
  },
  {
   "cell_type": "code",
   "execution_count": 104,
   "metadata": {
    "ExecuteTime": {
     "end_time": "2018-12-12T02:34:28.559697Z",
     "start_time": "2018-12-12T02:34:21.916701Z"
    }
   },
   "outputs": [
    {
     "name": "stdout",
     "output_type": "stream",
     "text": [
      "Training...\n",
      "\n",
      "Epoch: 1  loss=0.0019961\n",
      "Epoch: 4  loss=0.0011309\n",
      "Epoch: 7  loss=0.0018993\n",
      "Epoch: 10  loss=0.0012472\n",
      "Epoch: 13  loss=0.0012941\n",
      "Epoch: 16  loss=0.0005928\n",
      "Epoch: 19  loss=0.0043274\n",
      "Epoch: 22  loss=0.0076786\n",
      "Epoch: 25  loss=0.0006071\n",
      "Epoch: 28  loss=0.0006880\n",
      "\n",
      "Training Finished.\n",
      "\n",
      "==========================\n",
      "| Evaluation : 0.0033011 |\n",
      "==========================\n"
     ]
    },
    {
     "data": {
      "text/plain": [
       "[<matplotlib.lines.Line2D at 0x7f13b02edd30>]"
      ]
     },
     "execution_count": 104,
     "metadata": {},
     "output_type": "execute_result"
    },
    {
     "data": {
      "image/png": "[encoded data removed]",
      "text/plain": [
       "<Figure size 432x288 with 1 Axes>"
      ]
     },
     "metadata": {
      "needs_background": "light"
     },
     "output_type": "display_data"
    }
   ],
   "source": [
    "#==== Essential ========================================================#\n",
    "\n",
    "EPOCH_NUM = 30\n",
    "\n",
    "print('Training...\\n')\n",
    "\n",
    "init_op = tf.global_variables_initializer()\n",
    "with tf.Session() as sess:\n",
    "\n",
    "    tf.summary.FileWriter('tensorboard_examples/mlp_scope', sess.graph)\n",
    "\n",
    "    sess.run(init_op)\n",
    "\n",
    "    loss_list = []\n",
    "    for epoch in range(EPOCH_NUM):\n",
    "\n",
    "        shuffled_x, shuffled_y = batch_shuffle(batched_x, batched_y)\n",
    "        shuffled = batch_shuffle(batched_x, batched_y)\n",
    "\n",
    "        for batch_x, batch_y in zip(shuffled_x, shuffled_y):\n",
    "\n",
    "            loss_val, _ = sess.run(\n",
    "                [loss, train_op],\n",
    "                feed_dict={\n",
    "                    input_x_placeholder: batch_x,\n",
    "                    input_y_placeholder: batch_y,\n",
    "                },\n",
    "            )\n",
    "            loss_list += [loss_val]\n",
    "\n",
    "        print_num = EPOCH_NUM / 10\n",
    "        if epoch % print_num == 0:\n",
    "            print(f'Epoch: {epoch + 1}  loss={loss_val:.7f}')\n",
    "\n",
    "    print('\\nTraining Finished.')\n",
    "    \n",
    "    evaluate_val = sess.run(\n",
    "        loss,\n",
    "        feed_dict={\n",
    "            input_x_placeholder: test_x_mlp,\n",
    "            input_y_placeholder: test_y_mlp,\n",
    "        },\n",
    "    )\n",
    "    predictions = sess.run(\n",
    "        logits,\n",
    "        feed_dict={\n",
    "            input_x_placeholder: test_x_mlp,\n",
    "        },\n",
    "    )\n",
    "\n",
    "#=======================================================================#\n",
    "\n",
    "print(f'\\n{\"=\" * 26}\\n| Evaluation : {np.mean(evaluate_val):.7f} |\\n{\"=\" * 26}')\n",
    "plt.plot(loss_list, label=['loss'])"
   ]
  },
  {
   "cell_type": "markdown",
   "metadata": {},
   "source": [
    "## MLP with `tf.layers`\n",
    "\n",
    "<br>\n",
    "<img src='images/mlp_tf/tensorflow_programming_environment.png' width='80%'>\n",
    "<br>"
   ]
  },
  {
   "cell_type": "code",
   "execution_count": 49,
   "metadata": {
    "ExecuteTime": {
     "end_time": "2018-12-11T17:01:27.113668Z",
     "start_time": "2018-12-11T17:01:27.106664Z"
    }
   },
   "outputs": [],
   "source": [
    "def dense_layer(\n",
    "    input_x,\n",
    "    output_dim,\n",
    "    activation=tf.nn.sigmoid,\n",
    "    is_training=True,\n",
    "    reuse=tf.AUTO_REUSE,\n",
    "    name='dense',\n",
    "    ):\n",
    "    \n",
    "    with tf.variable_scope(name, reuse=reuse):\n",
    "        densed = tf.layers.dense(\n",
    "            input_x,\n",
    "            units=output_dim,\n",
    "            activation=activation,\n",
    "            kernel_initializer=tf.random_normal_initializer(),\n",
    "            name=name,\n",
    "        )\n",
    "\n",
    "    print(name, densed.get_shape())\n",
    "\n",
    "    return densed"
   ]
  },
  {
   "cell_type": "code",
   "execution_count": 105,
   "metadata": {
    "ExecuteTime": {
     "end_time": "2018-12-12T02:37:18.176179Z",
     "start_time": "2018-12-12T02:37:17.903748Z"
    },
    "scrolled": false
   },
   "outputs": [
    {
     "name": "stdout",
     "output_type": "stream",
     "text": [
      "Dense_Layer_1 (?, 4)\n",
      "Dense_Layer_2 (?, 2)\n"
     ]
    }
   ],
   "source": [
    "tf.reset_default_graph()\n",
    "\n",
    "\n",
    "with tf.variable_scope('Model', reuse=tf.AUTO_REUSE):\n",
    "\n",
    "\n",
    "    with tf.name_scope('Input_Layer'):\n",
    "        input_x_placeholder = tf.placeholder(tf.float32, shape=(None, input_dim), name='X')\n",
    "        input_y_placeholder = tf.placeholder(tf.float32, shape=(None, output_dim), name='Y')\n",
    "\n",
    "\n",
    "    #==== Essential ========================================================#\n",
    "\n",
    "    dense_1 = dense_layer(\n",
    "        input_x_placeholder,\n",
    "        output_dim=unit_num_1,\n",
    "        activation=tf.nn.sigmoid,\n",
    "        name='Dense_Layer_1',\n",
    "    )\n",
    "    dense_2 = dense_layer(\n",
    "        dense_1,\n",
    "        output_dim=unit_num_2,\n",
    "        activation=tf.nn.sigmoid,\n",
    "        name='Dense_Layer_2',\n",
    "    )    \n",
    "    logits = dense_2\n",
    "    \n",
    "    #=======================================================================#\n",
    "\n",
    "\n",
    "with tf.variable_scope('Optimization'):\n",
    "    loss = tf.losses.mean_squared_error(\n",
    "        labels=input_y_placeholder,\n",
    "        predictions=logits,\n",
    "    )\n",
    "    train_op = tf.train.AdamOptimizer(learning_rate=0.005).minimize(loss)"
   ]
  },
  {
   "cell_type": "code",
   "execution_count": 106,
   "metadata": {
    "ExecuteTime": {
     "end_time": "2018-12-12T02:37:26.217895Z",
     "start_time": "2018-12-12T02:37:19.966701Z"
    }
   },
   "outputs": [
    {
     "name": "stdout",
     "output_type": "stream",
     "text": [
      "Training...\n",
      "\n",
      "Epoch: 1  loss=0.0009679\n",
      "Epoch: 4  loss=0.0084020\n",
      "Epoch: 7  loss=0.0029842\n",
      "Epoch: 10  loss=0.0011518\n",
      "Epoch: 13  loss=0.0026667\n",
      "Epoch: 16  loss=0.0024033\n",
      "Epoch: 19  loss=0.0023306\n",
      "Epoch: 22  loss=0.0019045\n",
      "Epoch: 25  loss=0.0012633\n",
      "Epoch: 28  loss=0.0008637\n",
      "\n",
      "Training Finished.\n",
      "\n",
      "==========================\n",
      "| Evaluation : 0.0033331 |\n",
      "==========================\n"
     ]
    },
    {
     "data": {
      "text/plain": [
       "[<matplotlib.lines.Line2D at 0x7f13b039e5c0>]"
      ]
     },
     "execution_count": 106,
     "metadata": {},
     "output_type": "execute_result"
    },
    {
     "data": {
      "image/png": "[encoded data removed]",
      "text/plain": [
       "<Figure size 432x288 with 1 Axes>"
      ]
     },
     "metadata": {
      "needs_background": "light"
     },
     "output_type": "display_data"
    }
   ],
   "source": [
    "#==== Essential ========================================================#\n",
    "\n",
    "EPOCH_NUM = 30\n",
    "\n",
    "print('Training...\\n')\n",
    "\n",
    "init_op = tf.global_variables_initializer()\n",
    "with tf.Session() as sess:\n",
    "\n",
    "    tf.summary.FileWriter('tensorboard_examples/mlp_layers', sess.graph)\n",
    "\n",
    "    sess.run(init_op)\n",
    "\n",
    "    loss_list = []\n",
    "    for epoch in range(EPOCH_NUM):\n",
    "\n",
    "        shuffled_x, shuffled_y = batch_shuffle(batched_x, batched_y)\n",
    "        shuffled = batch_shuffle(batched_x, batched_y)\n",
    "\n",
    "        for batch_x, batch_y in zip(shuffled_x, shuffled_y):\n",
    "\n",
    "            loss_val, _ = sess.run(\n",
    "                [loss, train_op],\n",
    "                feed_dict={\n",
    "                    input_x_placeholder: batch_x,\n",
    "                    input_y_placeholder: batch_y,\n",
    "                },\n",
    "            )\n",
    "            loss_list += [loss_val]\n",
    "\n",
    "        print_num = EPOCH_NUM / 10\n",
    "        if epoch % print_num == 0:\n",
    "            print(f'Epoch: {epoch + 1}  loss={loss_val:.7f}')\n",
    "\n",
    "    print('\\nTraining Finished.')\n",
    "    \n",
    "    evaluate_val = sess.run(\n",
    "        loss,\n",
    "        feed_dict={\n",
    "            input_x_placeholder: test_x_mlp,\n",
    "            input_y_placeholder: test_y_mlp,\n",
    "        },\n",
    "    )\n",
    "    predictions = sess.run(\n",
    "        logits,\n",
    "        feed_dict={\n",
    "            input_x_placeholder: test_x_mlp,\n",
    "        },\n",
    "    )\n",
    "\n",
    "#=======================================================================#\n",
    "\n",
    "print(f'\\n{\"=\" * 26}\\n| Evaluation : {np.mean(evaluate_val):.7f} |\\n{\"=\" * 26}')\n",
    "plt.plot(loss_list, label=['loss'])"
   ]
  },
  {
   "cell_type": "markdown",
   "metadata": {},
   "source": [
    "End of Document."
   ]
  }
 ],
 "metadata": {
  "kernelspec": {
   "display_name": "Tensorflow Python3.6 (conda env)",
   "language": "python",
   "name": "tf-py36"
  },
  "language_info": {
   "codemirror_mode": {
    "name": "ipython",
    "version": 3
   },
   "file_extension": ".py",
   "mimetype": "text/x-python",
   "name": "python",
   "nbconvert_exporter": "python",
   "pygments_lexer": "ipython3",
   "version": "3.6.7"
  },
  "latex_envs": {
   "LaTeX_envs_menu_present": true,
   "autoclose": false,
   "autocomplete": true,
   "bibliofile": "biblio.bib",
   "cite_by": "apalike",
   "current_citInitial": 1,
   "eqLabelWithNumbers": true,
   "eqNumInitial": 1,
   "hotkeys": {
    "equation": "Ctrl-E",
    "itemize": "Ctrl-I"
   },
   "labels_anchors": false,
   "latex_user_defs": false,
   "report_style_numbering": false,
   "user_envs_cfg": false
  },
  "toc": {
   "base_numbering": 1,
   "nav_menu": {},
   "number_sections": true,
   "sideBar": true,
   "skip_h1_title": false,
   "title_cell": "Table of Contents",
   "title_sidebar": "Contents",
   "toc_cell": false,
   "toc_position": {
    "height": "calc(100% - 180px)",
    "left": "10px",
    "top": "150px",
    "width": "288px"
   },
   "toc_section_display": true,
   "toc_window_display": true
  },
  "varInspector": {
   "cols": {
    "lenName": 16,
    "lenType": 16,
    "lenVar": 40
   },
   "kernels_config": {
    "python": {
     "delete_cmd_postfix": "",
     "delete_cmd_prefix": "del ",
     "library": "var_list.py",
     "varRefreshCmd": "print(var_dic_list())"
    },
    "r": {
     "delete_cmd_postfix": ") ",
     "delete_cmd_prefix": "rm(",
     "library": "var_list.r",
     "varRefreshCmd": "cat(var_dic_list()) "
    }
   },
   "types_to_exclude": [
    "module",
    "function",
    "builtin_function_or_method",
    "instance",
    "_Feature"
   ],
   "window_display": false
  }
 },
 "nbformat": 4,
 "nbformat_minor": 2
}
