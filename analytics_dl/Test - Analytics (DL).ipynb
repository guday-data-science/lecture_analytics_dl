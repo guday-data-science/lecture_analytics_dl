{
 "cells": [
  {
   "cell_type": "markdown",
   "metadata": {},
   "source": [
    "# Analytics DL 테스트"
   ]
  },
  {
   "cell_type": "code",
   "execution_count": null,
   "metadata": {
    "ExecuteTime": {
     "end_time": "2018-12-09T16:47:50.954217Z",
     "start_time": "2018-12-09T16:47:48.693528Z"
    }
   },
   "outputs": [],
   "source": [
    "import numpy as np\n",
    "import tensorflow as tf"
   ]
  },
  {
   "cell_type": "markdown",
   "metadata": {},
   "source": [
    "## Dense Layer 만들기\n",
    "\n",
    "`input_x`와 `output_dim`을 인자로 받는 Dense Layer Function을 만들어 보자.  \n",
    "`bias`가 있어야 한다.\n",
    "\n",
    "\n",
    "<div class=\"alert alert-block alert-info\"  markdown=\"1\">\n",
    "<b>$\\divideontimes$ 설명 </b> \n",
    "<br>\n",
    "\n",
    "* Argument\n",
    "  - `input_x` : `numpy.ndarray`\n",
    "  - `output_dim` : `int`\n",
    "  - `seed` : `1`\n",
    "\n",
    "\n",
    "* Return\n",
    "  - `output`: `numpy.ndarray`\n",
    "  - `weight` : `numpy.ndarray`\n",
    "  - `bias` : `numpy.ndarray`\n",
    "\n",
    "\n",
    "</div>"
   ]
  },
  {
   "cell_type": "code",
   "execution_count": null,
   "metadata": {
    "nbgrader": {
     "grade": false,
     "grade_id": "01_dense_code",
     "locked": false,
     "schema_version": 1,
     "solution": true
    }
   },
   "outputs": [],
   "source": [
    "def dense_layer(\n",
    "    input_x,\n",
    "    output_dim=None,\n",
    "    seed=1,\n",
    "    ):\n",
    "    input_dim = input_x.shape[-1]\n",
    "    np.random.seed(seed)\n",
    "    \n",
    "    \"\"\"\n",
    "    Hint: np.random.random((dim, dim)) 을 사용하자.\n",
    "    \n",
    "    \"\"\"\n",
    "\n",
    "    ### BEGIN SOLUTION\n",
    "\n",
    "    weight = np.random.random((input_dim, output_dim))\n",
    "    bias = np.random.random((output_dim, ))\n",
    "\n",
    "    output = input_x @ weight + bias\n",
    "     \n",
    "    ### END SOLUTION\n",
    "\n",
    "    return output, weight, bias"
   ]
  },
  {
   "cell_type": "code",
   "execution_count": null,
   "metadata": {},
   "outputs": [],
   "source": [
    "\"\"\"테스트용 셀\"\"\""
   ]
  },
  {
   "cell_type": "code",
   "execution_count": null,
   "metadata": {
    "ExecuteTime": {
     "start_time": "2018-12-09T13:29:20.369Z"
    },
    "nbgrader": {
     "grade": true,
     "grade_id": "01_dense_test",
     "locked": true,
     "points": 10,
     "schema_version": 1,
     "solution": false
    }
   },
   "outputs": [],
   "source": [
    "\"\"\"채점용 셀(삭제금지)\"\"\"\n",
    "dense_layer\n",
    "### BEGIN HIDDEN TESTS\n",
    "input_a = np.random.random((2, 3)).astype(np.float32)\n",
    "input_b = np.random.random((7, 5)).astype(np.float32)\n",
    "\n",
    "oa, wa, ba = dense_layer(input_a, output_dim=5)\n",
    "ob, wb, bb = dense_layer(input_b, output_dim=2)\n",
    "assert np.array_equal(oa, input_a @ wa + ba)\n",
    "assert np.array_equal(ob, input_b @ wb + bb)\n",
    "### END HIDDEN TESTS"
   ]
  },
  {
   "cell_type": "markdown",
   "metadata": {},
   "source": [
    "## Activation Function\n",
    "\n",
    "`activation function`은 딥러닝 모델에 비선형성을 부여하고,  \n",
    "값을 일정 범위 내로 bound시켜 학습을 용이하게 하는 기능도 있다.\n",
    "\n",
    "많은 `activation function` 중  \n",
    "`sigmoid`와 `tanh` 의 값의 범위를 각각 복습해 보자."
   ]
  },
  {
   "cell_type": "code",
   "execution_count": null,
   "metadata": {
    "ExecuteTime": {
     "end_time": "2018-12-09T14:45:04.693094Z",
     "start_time": "2018-12-09T14:45:04.686792Z"
    },
    "nbgrader": {
     "grade": false,
     "grade_id": "02_activation_code",
     "locked": false,
     "schema_version": 1,
     "solution": true
    }
   },
   "outputs": [],
   "source": [
    "def q_activation():\n",
    "    \"\"\"\n",
    "    Return\n",
    "      sigmoid_range = (min, max)\n",
    "      tanh_range = (min, max)\n",
    "    \n",
    "    \"\"\"\n",
    "    ### BEGIN SOLUTION\n",
    "    \n",
    "    sigmoid_range = (0, 1)\n",
    "    tanh_range = (-1, 1)\n",
    "\n",
    "    ### END SOLUTION\n",
    "    \n",
    "    return sigmoid_range, tanh_range"
   ]
  },
  {
   "cell_type": "code",
   "execution_count": null,
   "metadata": {},
   "outputs": [],
   "source": [
    "\"\"\"테스트용 셀\"\"\""
   ]
  },
  {
   "cell_type": "code",
   "execution_count": null,
   "metadata": {
    "ExecuteTime": {
     "end_time": "2018-12-09T14:45:06.196602Z",
     "start_time": "2018-12-09T14:45:06.189002Z"
    },
    "nbgrader": {
     "grade": true,
     "grade_id": "02_activation_test",
     "locked": true,
     "points": 10,
     "schema_version": 1,
     "solution": false
    }
   },
   "outputs": [],
   "source": [
    "\"\"\"채점용 셀(삭제금지)\"\"\"\n",
    "q_activation\n",
    "### BEGIN HIDDEN TESTS\n",
    "sigmoid_range, tanh_range = q_activation()\n",
    "assert all(map(lambda x: len(x) == 2, [sigmoid_range, tanh_range]))\n",
    "assert (min(sigmoid_range) == 0) and (max(sigmoid_range) == 1)\n",
    "assert (min(tanh_range) == -1) and (max(tanh_range) == 1)\n",
    "### END HIDDEN TESTS"
   ]
  },
  {
   "cell_type": "markdown",
   "metadata": {},
   "source": [
    "## Tensorflow Session\n",
    "\n",
    "`tensorflow`는 Graph와 Flow의 개념을 합쳐 만들어진 Framework이다.  \n",
    "Flow를 실행하기 위한 `tf.Session` 사용법을 다시 확인해 보자."
   ]
  },
  {
   "cell_type": "code",
   "execution_count": null,
   "metadata": {
    "ExecuteTime": {
     "end_time": "2018-12-09T16:47:43.536736Z",
     "start_time": "2018-12-09T16:47:43.525513Z"
    },
    "nbgrader": {
     "grade": false,
     "grade_id": "03_tfsession_code",
     "locked": false,
     "schema_version": 1,
     "solution": true
    }
   },
   "outputs": [],
   "source": [
    "np.random.seed(1)\n",
    "arr_a = np.random.random((4, 3)).astype(np.float32)\n",
    "arr_b = np.random.random((3, 5)).astype(np.float32)\n",
    "\n",
    "\n",
    "def q_tfsession(a, b):\n",
    "    \"\"\"\n",
    "    a, b 행렬을 받아서 행렬곱을 수행하는 함수를 Tensorflow로 만들어 보자.\n",
    "    \"\"\"\n",
    "    tf.reset_default_graph()\n",
    "    \n",
    "    tf_a = tf.constant(a, dtype=tf.float32)\n",
    "    tf_b = tf.constant(b, dtype=tf.float32)\n",
    "    \n",
    "    matmal_op = tf_a @ tf_b  # tf.matmul(tf_a, tf_b)\n",
    "\n",
    "    ### BEGIN SOLUTION\n",
    "    \n",
    "    with tf.Session() as sess:\n",
    "        \n",
    "        answer = sess.run(matmal_op)\n",
    "    \n",
    "    ### END SOLUTION\n",
    "\n",
    "    return answer"
   ]
  },
  {
   "cell_type": "code",
   "execution_count": null,
   "metadata": {
    "ExecuteTime": {
     "end_time": "2018-12-09T16:02:16.168105Z",
     "start_time": "2018-12-09T16:02:16.115532Z"
    }
   },
   "outputs": [],
   "source": [
    "\"\"\"테스트용 셀\"\"\""
   ]
  },
  {
   "cell_type": "code",
   "execution_count": null,
   "metadata": {
    "ExecuteTime": {
     "end_time": "2018-12-09T16:47:55.041744Z",
     "start_time": "2018-12-09T16:47:54.528664Z"
    },
    "nbgrader": {
     "grade": true,
     "grade_id": "03_tfsession_test",
     "locked": true,
     "points": 10,
     "schema_version": 1,
     "solution": false
    }
   },
   "outputs": [],
   "source": [
    "\"\"\"채점용 셀(삭제금지)\"\"\"\n",
    "#q_tfsession\n",
    "### BEGIN HIDDEN TESTS\n",
    "for _ in range(5):\n",
    "\n",
    "    np.random.seed(1)\n",
    "    test_arr_a = np.random.random((_ + 17, _ + 13)).astype(np.float32)\n",
    "    test_arr_b = np.random.random((_ + 13, _ + 29)).astype(np.float32)\n",
    "\n",
    "    test_answer = q_tfsession(test_arr_a, test_arr_b)\n",
    "    assert test_answer.shape == (test_arr_a @ test_arr_b).shape\n",
    "### END HIDDEN TESTS"
   ]
  },
  {
   "cell_type": "markdown",
   "metadata": {},
   "source": [
    "## Tensorflow Graph & Batch\n",
    "\n",
    "Tensorflow Graph에서는 외부 변수를 받을 수 있도록 `tf.placeholder`를 사용한다.  \n",
    "또한 학습을 위해 `batch`라는 개념을 활용하여 데이터를 조금씩 학습해 나간다.\n",
    "\n",
    "`tf.placeholder`와 `batch`를 활용하는 함수를 작성해 보자.\n",
    "편의상 input 전체 사이즈는 짝수로 한정한다.\n"
   ]
  },
  {
   "cell_type": "code",
   "execution_count": null,
   "metadata": {
    "ExecuteTime": {
     "end_time": "2018-12-09T16:56:27.450020Z",
     "start_time": "2018-12-09T16:56:27.435411Z"
    },
    "nbgrader": {
     "grade": false,
     "grade_id": "04_tfgraphbatch_code",
     "locked": false,
     "schema_version": 1,
     "solution": true
    }
   },
   "outputs": [],
   "source": [
    "np.random.seed(1)\n",
    "input_a = np.random.random((8, 3)).astype(np.float32)\n",
    "input_b = np.random.random((8, 3)).astype(np.float32)\n",
    "\n",
    "def q_tfgraph_and_batch(a, b, batch_size=2):\n",
    "    \n",
    "    tf.reset_default_graph()\n",
    "    \n",
    "    batch_num = int(a.shape[0] / batch_size)\n",
    "    a_for_batch = np.split(a, batch_num)\n",
    "    b_for_batch = np.split(b, batch_num)\n",
    "    \n",
    "    \"\"\"\n",
    "    Hint : tf.placeholder(dtype=tf.float32, shape=(None, ))\n",
    "\n",
    "    \"\"\"\n",
    "    ### BEGIN SOLUTION\n",
    "    \n",
    "    tf_a = tf.placeholder(tf.float32, shape=(None, a.shape[1]))\n",
    "    tf_b = tf.placeholder(tf.float32, shape=(None, b.shape[1]))\n",
    "\n",
    "    ### END SOLUTION\n",
    "    \n",
    "    add_op = tf_a + tf_b  # tf.matmul(tf_a, tf_b)\n",
    "    \n",
    "    \n",
    "    \"\"\"\n",
    "    Hint : Batch로 나온 결과를 answer_list에 담자.\n",
    "\n",
    "    \"\"\"\n",
    "    answer_list = []\n",
    "    ### BEGIN SOLUTION\n",
    "    with tf.Session() as sess:\n",
    "        \n",
    "        for batch_a, batch_b in zip(a_for_batch, b_for_batch):\n",
    "            answer = sess.run(add_op, feed_dict={tf_a: batch_a, tf_b: batch_b})\n",
    "            answer_list += [answer]\n",
    "\n",
    "    ### END SOLUTION\n",
    "    \n",
    "    concat_answer = np.concatenate(answer_list)\n",
    "\n",
    "    return concat_answer"
   ]
  },
  {
   "cell_type": "code",
   "execution_count": null,
   "metadata": {
    "ExecuteTime": {
     "end_time": "2018-12-09T16:56:27.694918Z",
     "start_time": "2018-12-09T16:56:27.690125Z"
    }
   },
   "outputs": [],
   "source": [
    "\"\"\"테스트용 셀\"\"\""
   ]
  },
  {
   "cell_type": "code",
   "execution_count": null,
   "metadata": {
    "ExecuteTime": {
     "end_time": "2018-12-09T16:56:28.304151Z",
     "start_time": "2018-12-09T16:56:28.213020Z"
    },
    "nbgrader": {
     "grade": true,
     "grade_id": "04_tfgraphbatch_test",
     "locked": true,
     "points": 10,
     "schema_version": 1,
     "solution": false
    }
   },
   "outputs": [],
   "source": [
    "\"\"\"채점용 셀(삭제금지)\"\"\"\n",
    "q_tfgraph_and_batch\n",
    "### BEGIN HIDDEN TESTS\n",
    "for _ in range(1, 6):\n",
    "\n",
    "    np.random.seed(1)\n",
    "    test_arr_a = np.random.random((_ * 10, _ + 13)).astype(np.float32)\n",
    "    test_arr_b = np.random.random((_ * 10, _ + 13)).astype(np.float32)\n",
    "\n",
    "    test_answer = q_tfgraph_and_batch(test_arr_a, test_arr_b)\n",
    "    assert test_answer[_].shape == (test_arr_a[_] + test_arr_b[_]).shape\n",
    "### END HIDDEN TESTS"
   ]
  },
  {
   "cell_type": "markdown",
   "metadata": {},
   "source": [
    "## Tensorflow RNN\n",
    "\n",
    "`Bidirectional RNN`은 `RNN`의 발전된 형태이다.  \n",
    "이 구조를 기반으로 `RNN`을 역으로 구현해 보자."
   ]
  },
  {
   "cell_type": "code",
   "execution_count": null,
   "metadata": {
    "nbgrader": {
     "grade": false,
     "grade_id": "05_tfrnn_code",
     "locked": false,
     "schema_version": 1,
     "solution": true
    }
   },
   "outputs": [],
   "source": [
    "def rnn_fn(\n",
    "    num_units,\n",
    "    input_x,\n",
    "    output_dim,\n",
    "    \n",
    "    ):\n",
    "    \n",
    "    tf.reset_default_graph()\n",
    "    \"\"\"BIRNN EXAMPLE\n",
    "    \n",
    "    1. Cell 생성\n",
    "    rnn_forward_cell = tf.nn.rnn_cell.BasicRNNCell(\n",
    "        num_units,\n",
    "    )\n",
    "    rnn_backward_cell = tf.nn.rnn_cell.BasicRNNCell(\n",
    "        num_units,\n",
    "    )\n",
    "    \n",
    "    \n",
    "    2. biRNN Flow 생성\n",
    "    (outputs_fw, outputs_bw), _state = tf.nn.bidirectional_dynamic_rnn(\n",
    "        cell_fw=rnn_forward_cell,\n",
    "        cell_bw=rnn_backward_cell,\n",
    "        inputs=input_x,\n",
    "        dtype=tf.float32,\n",
    "    )\n",
    "    rnn_outputs = outputs_fw + outputs_bw\n",
    "    \n",
    "    \n",
    "    3. 예측값 생성\n",
    "    predict = tf.layers.dense(\n",
    "        rnn_outputs,\n",
    "        units=output_dim,\n",
    "        activation=tf.nn.tanh,\n",
    "    )\n",
    "    \n",
    "    \"\"\"\n",
    "    \n",
    "    # 1. RNN Cell 생성\n",
    "    \n",
    "    ### BEGIN SOLUTION\n",
    "    rnn_cell = tf.nn.rnn_cell.BasicRNNCell(\n",
    "        num_units,\n",
    "    )\n",
    "    ### END SOLUTION\n",
    "\n",
    "    \n",
    "    # 2. Bidirectional RNN Flow 생성\n",
    "    \n",
    "    ### BEGIN SOLUTION\n",
    "    rnn_outputs, _state = tf.nn.dynamic_rnn(\n",
    "        rnn_cell,\n",
    "        inputs=input_x,\n",
    "        dtype=tf.float32,\n",
    "    )\n",
    "    ### END SOLUTION\n",
    "\n",
    "\n",
    "    # 3. 예측값 생성 \n",
    "    predict_y = tf.layers.dense(\n",
    "        inputs=rnn_outputs[:, -2:, :],\n",
    "        units=output_dim,\n",
    "        activation=tf.nn.tanh,\n",
    "    )\n",
    "    \n",
    "    \n",
    "    # return 예측값 \n",
    "    return predict_y, rnn_outputs, _state"
   ]
  },
  {
   "cell_type": "code",
   "execution_count": null,
   "metadata": {},
   "outputs": [],
   "source": [
    "\"\"\"테스트용 셀\"\"\""
   ]
  },
  {
   "cell_type": "code",
   "execution_count": null,
   "metadata": {
    "nbgrader": {
     "grade": true,
     "grade_id": "05_tfrnn_test",
     "locked": true,
     "points": 10,
     "schema_version": 1,
     "solution": false
    }
   },
   "outputs": [],
   "source": [
    "\"\"\"채점용 셀(삭제금지)\"\"\"\n",
    "rnn_fn\n",
    "### BEGIN HIDDEN TESTS\n",
    "\n",
    "\n",
    "for _ in range(1, 6):\n",
    "\n",
    "    np.random.seed(1)\n",
    "    x = np.array(np.random.random((12 * _, 5, 3)), dtype=np.float32)\n",
    "    y = np.array(np.random.random((12 * _, 2, 2)), dtype=np.float32)\n",
    "    rnn_y = np.array(np.random.random((12 * _, 5, 4)), dtype=np.float32)\n",
    "\n",
    "    test_predict_y, test_rnn_outputs, test_state = rnn_fn(\n",
    "        num_units=4,\n",
    "        input_x=x,\n",
    "        output_dim=2,\n",
    "    )\n",
    "\n",
    "    assert test_predict_y.shape == (12 * _, 2, 2)\n",
    "    assert test_rnn_outputs.shape == (12 * _, 5, 4)\n",
    "\n",
    "### END HIDDEN TESTS"
   ]
  },
  {
   "cell_type": "markdown",
   "metadata": {},
   "source": [
    "End of Document."
   ]
  }
 ],
 "metadata": {
  "celltoolbar": "Create Assignment",
  "kernelspec": {
   "display_name": "Tensorflow Python3.6 (conda env)",
   "language": "python",
   "name": "tf-py36"
  },
  "language_info": {
   "codemirror_mode": {
    "name": "ipython",
    "version": 3
   },
   "file_extension": ".py",
   "mimetype": "text/x-python",
   "name": "python",
   "nbconvert_exporter": "python",
   "pygments_lexer": "ipython3",
   "version": "3.6.7"
  },
  "latex_envs": {
   "LaTeX_envs_menu_present": true,
   "autoclose": false,
   "autocomplete": true,
   "bibliofile": "biblio.bib",
   "cite_by": "apalike",
   "current_citInitial": 1,
   "eqLabelWithNumbers": true,
   "eqNumInitial": 1,
   "hotkeys": {
    "equation": "Ctrl-E",
    "itemize": "Ctrl-I"
   },
   "labels_anchors": false,
   "latex_user_defs": false,
   "report_style_numbering": false,
   "user_envs_cfg": false
  },
  "toc": {
   "base_numbering": 1,
   "nav_menu": {},
   "number_sections": true,
   "sideBar": true,
   "skip_h1_title": false,
   "title_cell": "Table of Contents",
   "title_sidebar": "Contents",
   "toc_cell": false,
   "toc_position": {},
   "toc_section_display": true,
   "toc_window_display": true
  },
  "varInspector": {
   "cols": {
    "lenName": 16,
    "lenType": 16,
    "lenVar": 40
   },
   "kernels_config": {
    "python": {
     "delete_cmd_postfix": "",
     "delete_cmd_prefix": "del ",
     "library": "var_list.py",
     "varRefreshCmd": "print(var_dic_list())"
    },
    "r": {
     "delete_cmd_postfix": ") ",
     "delete_cmd_prefix": "rm(",
     "library": "var_list.r",
     "varRefreshCmd": "cat(var_dic_list()) "
    }
   },
   "types_to_exclude": [
    "module",
    "function",
    "builtin_function_or_method",
    "instance",
    "_Feature"
   ],
   "window_display": false
  }
 },
 "nbformat": 4,
 "nbformat_minor": 2
}
